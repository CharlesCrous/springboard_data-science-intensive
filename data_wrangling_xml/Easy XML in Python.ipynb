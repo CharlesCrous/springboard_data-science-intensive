{
 "cells": [
  {
   "cell_type": "markdown",
   "metadata": {},
   "source": [
    "# Easy XML in Python Tutorial \n",
    "### Creating an XML and then exploring it; source: http://luisartola.com/software/2010/easy-xml-in-python/"
   ]
  },
  {
   "cell_type": "code",
   "execution_count": 2,
   "metadata": {
    "collapsed": true
   },
   "outputs": [],
   "source": [
    "# Build the XML tree from scratch\n",
    "from xml.etree import ElementTree\n",
    "from xml.etree.ElementTree import Element\n",
    "from xml.etree.ElementTree import SubElement\n",
    "\n",
    "# <membership/>\n",
    "membership = Element( 'membership' )\n",
    "\n",
    "# <membership><users/>\n",
    "users = SubElement( membership, 'users' )\n",
    "\n",
    "# <membership><users><user/>\n",
    "SubElement( users, 'user', name='john' )\n",
    "SubElement( users, 'user', name='charles' )\n",
    "SubElement( users, 'user', name='peter' )\n",
    "\n",
    "# <membership><groups/>\n",
    "groups = SubElement( membership, 'groups' )\n",
    "\n",
    "# <membership><groups><group/>\n",
    "group = SubElement( groups, 'group', name='users' )\n",
    "\n",
    "# <membership><groups><group><user/>\n",
    "SubElement( group, 'user', name='john' )\n",
    "SubElement( group, 'user', name='charles' )\n",
    "\n",
    "# <membership><groups><group/>\n",
    "group = SubElement( groups, 'group', name='administrators' )\n",
    "\n",
    "# <membership><groups><group><user/>\n",
    "SubElement( group, 'user', name='peter' )\n",
    "\n",
    "output_file = open( 'data/membership.xml', 'w' )\n",
    "output_file.write( '<?xml version=\"1.0\"?>' )\n",
    "output_file.write( ElementTree.tostring( membership ) )\n",
    "output_file.close()"
   ]
  },
  {
   "cell_type": "code",
   "execution_count": 3,
   "metadata": {
    "collapsed": false
   },
   "outputs": [],
   "source": [
    "from xml.etree import ElementTree\n",
    "\n",
    "document = ElementTree.parse( 'data/membership.xml' )\n",
    "membership = document.getroot()\n",
    "users = membership.find( 'users' )"
   ]
  },
  {
   "cell_type": "code",
   "execution_count": 4,
   "metadata": {
    "collapsed": false
   },
   "outputs": [
    {
     "name": "stdout",
     "output_type": "stream",
     "text": [
      "john\n",
      "charles\n",
      "peter\n"
     ]
    }
   ],
   "source": [
    "for user in document.findall( 'users/user' ):\n",
    "    print user.attrib[ 'name' ]"
   ]
  },
  {
   "cell_type": "code",
   "execution_count": 5,
   "metadata": {
    "collapsed": false
   },
   "outputs": [
    {
     "name": "stdout",
     "output_type": "stream",
     "text": [
      "users\n",
      "administrators\n"
     ]
    }
   ],
   "source": [
    "for group in document.findall( 'groups/group' ):\n",
    "    print group.attrib[ 'name' ]"
   ]
  },
  {
   "cell_type": "code",
   "execution_count": 6,
   "metadata": {
    "collapsed": false
   },
   "outputs": [
    {
     "name": "stdout",
     "output_type": "stream",
     "text": [
      "Group: users\n",
      "Users:\n",
      "- john\n",
      "- charles\n",
      "Group: administrators\n",
      "Users:\n",
      "- peter\n"
     ]
    }
   ],
   "source": [
    "for group in document.findall( 'groups/group' ):\n",
    "    print 'Group:', group.attrib[ 'name' ]\n",
    "    print 'Users:'\n",
    "    for node in list(group):\n",
    "        if node.tag == 'user':\n",
    "            print '-', node.attrib[ 'name' ]"
   ]
  },
  {
   "cell_type": "code",
   "execution_count": 7,
   "metadata": {
    "collapsed": false
   },
   "outputs": [
    {
     "name": "stdout",
     "output_type": "stream",
     "text": [
      "users {} None None\n",
      "user {'name': 'john'} None None\n",
      "user {'name': 'charles'} None None\n",
      "user {'name': 'peter'} None None\n"
     ]
    }
   ],
   "source": [
    "users = document.find( 'users' )\n",
    "for node in users.getiterator():\n",
    "    print node.tag, node.attrib, node.text, node.tail"
   ]
  },
  {
   "cell_type": "code",
   "execution_count": 8,
   "metadata": {
    "collapsed": false
   },
   "outputs": [
    {
     "name": "stdout",
     "output_type": "stream",
     "text": [
      "user {'name': 'john'} None None\n",
      "user {'name': 'charles'} None None\n",
      "user {'name': 'peter'} None None\n"
     ]
    }
   ],
   "source": [
    "users = document.find( 'users' )\n",
    "for node in list(users):\n",
    "    print node.tag, node.attrib, node.text, node.tail"
   ]
  },
  {
   "cell_type": "code",
   "execution_count": null,
   "metadata": {
    "collapsed": true
   },
   "outputs": [],
   "source": []
  },
  {
   "cell_type": "code",
   "execution_count": null,
   "metadata": {
    "collapsed": true
   },
   "outputs": [],
   "source": []
  },
  {
   "cell_type": "code",
   "execution_count": null,
   "metadata": {
    "collapsed": true
   },
   "outputs": [],
   "source": []
  },
  {
   "cell_type": "code",
   "execution_count": null,
   "metadata": {
    "collapsed": true
   },
   "outputs": [],
   "source": []
  },
  {
   "cell_type": "code",
   "execution_count": null,
   "metadata": {
    "collapsed": true
   },
   "outputs": [],
   "source": []
  },
  {
   "cell_type": "code",
   "execution_count": null,
   "metadata": {
    "collapsed": true
   },
   "outputs": [],
   "source": []
  },
  {
   "cell_type": "code",
   "execution_count": null,
   "metadata": {
    "collapsed": true
   },
   "outputs": [],
   "source": []
  },
  {
   "cell_type": "code",
   "execution_count": null,
   "metadata": {
    "collapsed": true
   },
   "outputs": [],
   "source": []
  },
  {
   "cell_type": "code",
   "execution_count": null,
   "metadata": {
    "collapsed": true
   },
   "outputs": [],
   "source": []
  },
  {
   "cell_type": "code",
   "execution_count": null,
   "metadata": {
    "collapsed": true
   },
   "outputs": [],
   "source": []
  }
 ],
 "metadata": {
  "kernelspec": {
   "display_name": "Python 2",
   "language": "python",
   "name": "python2"
  },
  "language_info": {
   "codemirror_mode": {
    "name": "ipython",
    "version": 2
   },
   "file_extension": ".py",
   "mimetype": "text/x-python",
   "name": "python",
   "nbconvert_exporter": "python",
   "pygments_lexer": "ipython2",
   "version": "2.7.11"
  }
 },
 "nbformat": 4,
 "nbformat_minor": 0
}
