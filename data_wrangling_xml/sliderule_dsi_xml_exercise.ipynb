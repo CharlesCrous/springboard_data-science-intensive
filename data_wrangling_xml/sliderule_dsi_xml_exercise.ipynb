{
 "cells": [
  {
   "cell_type": "markdown",
   "metadata": {},
   "source": [
    "# XML example and exercise\n",
    "****\n",
    "+ study examples of accessing nodes in XML tree structure  \n",
    "+ work on exercise to be completed and submitted\n",
    "****\n",
    "+ reference: https://docs.python.org/2.7/library/xml.etree.elementtree.html\n",
    "+ data source: http://www.dbis.informatik.uni-goettingen.de/Mondial\n",
    "****"
   ]
  },
  {
   "cell_type": "code",
   "execution_count": 248,
   "metadata": {
    "collapsed": true
   },
   "outputs": [],
   "source": [
    "from xml.etree import ElementTree as ET"
   ]
  },
  {
   "cell_type": "markdown",
   "metadata": {},
   "source": [
    "## XML example\n",
    "\n",
    "+ for details about tree traversal and iterators, see https://docs.python.org/2.7/library/xml.etree.elementtree.html"
   ]
  },
  {
   "cell_type": "code",
   "execution_count": 249,
   "metadata": {
    "collapsed": false
   },
   "outputs": [],
   "source": [
    "document_tree = ET.parse( './data/mondial_database_less.xml' )"
   ]
  },
  {
   "cell_type": "code",
   "execution_count": 250,
   "metadata": {
    "collapsed": false
   },
   "outputs": [
    {
     "name": "stdout",
     "output_type": "stream",
     "text": [
      "Albania\n",
      "Greece\n",
      "Macedonia\n",
      "Serbia\n",
      "Montenegro\n",
      "Kosovo\n",
      "Andorra\n"
     ]
    }
   ],
   "source": [
    "# print names of all countries\n",
    "for child in document_tree.getroot():\n",
    "    print child.find('name').text"
   ]
  },
  {
   "cell_type": "code",
   "execution_count": 251,
   "metadata": {
    "collapsed": false
   },
   "outputs": [
    {
     "name": "stdout",
     "output_type": "stream",
     "text": [
      "* Albania: Tirana, Shkodër, Durrës, Vlorë, Elbasan, Korçë\n",
      "* Greece: Komotini, Kavala, Athina, Peiraias, Peristeri, Acharnes, Patra, Kozani, Kerkyra, Ioannina, Thessaloniki, Iraklio, Chania, Ermoupoli, Rhodes, Tripoli, Lamia, Chalkida, Larissa, Volos, Mytilini, Karyes\n",
      "* Macedonia: Skopje, Kumanovo\n",
      "* Serbia: Beograd, Novi Sad, Niš\n",
      "* Montenegro: Podgorica\n",
      "* Kosovo: Prishtine\n",
      "* Andorra: Andorra la Vella\n"
     ]
    }
   ],
   "source": [
    "# print names of all countries and their cities\n",
    "for element in document_tree.iterfind('country'):\n",
    "    print '* ' + element.find('name').text + ':',\n",
    "    capitals_string = ''\n",
    "    for subelement in element.getiterator('city'):\n",
    "        capitals_string += subelement.find('name').text + ', '\n",
    "    print capitals_string[:-2]"
   ]
  },
  {
   "cell_type": "markdown",
   "metadata": {},
   "source": [
    "****\n",
    "## XML exercise\n",
    "\n",
    "Using data in 'data/mondial_database.xml', the examples above, and refering to https://docs.python.org/2.7/library/xml.etree.elementtree.html, find\n",
    "\n",
    "1. 10 countries with the lowest infant mortality rates\n",
    "2. 10 cities with the largest population\n",
    "3. 10 ethnic groups with the largest overall populations (sum of best/latest estimates over all countries)\n",
    "4. name and country of a) longest river, b) largest lake and c) airport at highest elevation"
   ]
  },
  {
   "cell_type": "code",
   "execution_count": 2,
   "metadata": {
    "collapsed": false
   },
   "outputs": [],
   "source": [
    "# load libraries\n",
    "from xml.etree import ElementTree as ET\n",
    "import pandas as pd\n",
    "\n",
    "# load data\n",
    "document = ET.parse( './data/mondial_database.xml' )"
   ]
  },
  {
   "cell_type": "markdown",
   "metadata": {},
   "source": [
    "***\n",
    "### QUESTION 1: 10 countries with the lowest infant mortality rates"
   ]
  },
  {
   "cell_type": "code",
   "execution_count": 2,
   "metadata": {
    "collapsed": false
   },
   "outputs": [],
   "source": [
    "# scrape names of all countries and their (where available) infant mortality rates\n",
    "data = []\n",
    "\n",
    "for country in document.iterfind('country'):\n",
    "    co = country.find('name').text\n",
    "    infant_mortality = country.find('infant_mortality')\n",
    "    # deal with missing values for infant mortality and append each countries' data\n",
    "    if infant_mortality != None:\n",
    "        inf = float(infant_mortality.text)\n",
    "        data.append({'country': co, 'infant_mortality': inf})\n",
    "\n",
    "df = pd.DataFrame(data) "
   ]
  },
  {
   "cell_type": "code",
   "execution_count": 3,
   "metadata": {
    "collapsed": false
   },
   "outputs": [
    {
     "data": {
      "text/html": [
       "<div>\n",
       "<table border=\"1\" class=\"dataframe\">\n",
       "  <thead>\n",
       "    <tr style=\"text-align: right;\">\n",
       "      <th></th>\n",
       "      <th>country</th>\n",
       "      <th>infant_mortality</th>\n",
       "    </tr>\n",
       "  </thead>\n",
       "  <tbody>\n",
       "    <tr>\n",
       "      <th>0</th>\n",
       "      <td>Monaco</td>\n",
       "      <td>1.81</td>\n",
       "    </tr>\n",
       "    <tr>\n",
       "      <th>1</th>\n",
       "      <td>Japan</td>\n",
       "      <td>2.13</td>\n",
       "    </tr>\n",
       "    <tr>\n",
       "      <th>2</th>\n",
       "      <td>Bermuda</td>\n",
       "      <td>2.48</td>\n",
       "    </tr>\n",
       "    <tr>\n",
       "      <th>3</th>\n",
       "      <td>Norway</td>\n",
       "      <td>2.48</td>\n",
       "    </tr>\n",
       "    <tr>\n",
       "      <th>4</th>\n",
       "      <td>Singapore</td>\n",
       "      <td>2.53</td>\n",
       "    </tr>\n",
       "    <tr>\n",
       "      <th>5</th>\n",
       "      <td>Sweden</td>\n",
       "      <td>2.60</td>\n",
       "    </tr>\n",
       "    <tr>\n",
       "      <th>6</th>\n",
       "      <td>Czech Republic</td>\n",
       "      <td>2.63</td>\n",
       "    </tr>\n",
       "    <tr>\n",
       "      <th>7</th>\n",
       "      <td>Hong Kong</td>\n",
       "      <td>2.73</td>\n",
       "    </tr>\n",
       "    <tr>\n",
       "      <th>8</th>\n",
       "      <td>Macao</td>\n",
       "      <td>3.13</td>\n",
       "    </tr>\n",
       "    <tr>\n",
       "      <th>9</th>\n",
       "      <td>Iceland</td>\n",
       "      <td>3.15</td>\n",
       "    </tr>\n",
       "  </tbody>\n",
       "</table>\n",
       "</div>"
      ],
      "text/plain": [
       "          country  infant_mortality\n",
       "0          Monaco              1.81\n",
       "1           Japan              2.13\n",
       "2         Bermuda              2.48\n",
       "3          Norway              2.48\n",
       "4       Singapore              2.53\n",
       "5          Sweden              2.60\n",
       "6  Czech Republic              2.63\n",
       "7       Hong Kong              2.73\n",
       "8           Macao              3.13\n",
       "9         Iceland              3.15"
      ]
     },
     "execution_count": 3,
     "metadata": {},
     "output_type": "execute_result"
    }
   ],
   "source": [
    "# generate rank ordered list of lowest 10 countries\n",
    "df.set_index('country').sort_values('infant_mortality').head(10).reset_index()"
   ]
  },
  {
   "cell_type": "markdown",
   "metadata": {},
   "source": [
    "***\n",
    "### QUESTION 2: 10 cities with the largest population"
   ]
  },
  {
   "cell_type": "code",
   "execution_count": 4,
   "metadata": {
    "collapsed": false
   },
   "outputs": [],
   "source": [
    "# generate cities and their populations\n",
    "data = []\n",
    "\n",
    "for country in document.iterfind('country'):\n",
    "    co = country.find('name').text\n",
    "    for city in country.iter('city'):\n",
    "        # including country name for instances where the city name is the same \n",
    "        # but located in a different countries\n",
    "        ci = city.find('name').text + ', ' + co \n",
    "        for population in city.iter('population'):\n",
    "            pop = '{:15,.0f}'.format(int(population.text))\n",
    "            yr = population.attrib['year']\n",
    "        \n",
    "        # there are have mulitple years of population numbers for most cities\n",
    "        # appending the data as part of the city for loop ensures that only \n",
    "        # the latest available figures are used\n",
    "        data.append({'cities': ci, 'population': pop, 'year': yr})   \n",
    "\n",
    "df = pd.DataFrame(data)"
   ]
  },
  {
   "cell_type": "code",
   "execution_count": 5,
   "metadata": {
    "collapsed": false
   },
   "outputs": [
    {
     "data": {
      "text/html": [
       "<div>\n",
       "<table border=\"1\" class=\"dataframe\">\n",
       "  <thead>\n",
       "    <tr style=\"text-align: right;\">\n",
       "      <th></th>\n",
       "      <th>cities</th>\n",
       "      <th>population</th>\n",
       "      <th>year</th>\n",
       "    </tr>\n",
       "  </thead>\n",
       "  <tbody>\n",
       "    <tr>\n",
       "      <th>0</th>\n",
       "      <td>Shanghai, China</td>\n",
       "      <td>22,315,474</td>\n",
       "      <td>2010</td>\n",
       "    </tr>\n",
       "    <tr>\n",
       "      <th>1</th>\n",
       "      <td>Istanbul, Turkey</td>\n",
       "      <td>13,710,512</td>\n",
       "      <td>2012</td>\n",
       "    </tr>\n",
       "    <tr>\n",
       "      <th>2</th>\n",
       "      <td>Mumbai, India</td>\n",
       "      <td>12,442,373</td>\n",
       "      <td>2011</td>\n",
       "    </tr>\n",
       "    <tr>\n",
       "      <th>3</th>\n",
       "      <td>Moskva, Russia</td>\n",
       "      <td>11,979,529</td>\n",
       "      <td>2013</td>\n",
       "    </tr>\n",
       "    <tr>\n",
       "      <th>4</th>\n",
       "      <td>Beijing, China</td>\n",
       "      <td>11,716,620</td>\n",
       "      <td>2010</td>\n",
       "    </tr>\n",
       "    <tr>\n",
       "      <th>5</th>\n",
       "      <td>São Paulo, Brazil</td>\n",
       "      <td>11,152,344</td>\n",
       "      <td>2010</td>\n",
       "    </tr>\n",
       "    <tr>\n",
       "      <th>6</th>\n",
       "      <td>Tianjin, China</td>\n",
       "      <td>11,090,314</td>\n",
       "      <td>2010</td>\n",
       "    </tr>\n",
       "    <tr>\n",
       "      <th>7</th>\n",
       "      <td>Guangzhou, China</td>\n",
       "      <td>11,071,424</td>\n",
       "      <td>2010</td>\n",
       "    </tr>\n",
       "    <tr>\n",
       "      <th>8</th>\n",
       "      <td>Delhi, India</td>\n",
       "      <td>11,034,555</td>\n",
       "      <td>2011</td>\n",
       "    </tr>\n",
       "    <tr>\n",
       "      <th>9</th>\n",
       "      <td>Shenzhen, China</td>\n",
       "      <td>10,358,381</td>\n",
       "      <td>2010</td>\n",
       "    </tr>\n",
       "  </tbody>\n",
       "</table>\n",
       "</div>"
      ],
      "text/plain": [
       "              cities       population  year\n",
       "0    Shanghai, China       22,315,474  2010\n",
       "1   Istanbul, Turkey       13,710,512  2012\n",
       "2      Mumbai, India       12,442,373  2011\n",
       "3     Moskva, Russia       11,979,529  2013\n",
       "4     Beijing, China       11,716,620  2010\n",
       "5  São Paulo, Brazil       11,152,344  2010\n",
       "6     Tianjin, China       11,090,314  2010\n",
       "7   Guangzhou, China       11,071,424  2010\n",
       "8       Delhi, India       11,034,555  2011\n",
       "9    Shenzhen, China       10,358,381  2010"
      ]
     },
     "execution_count": 5,
     "metadata": {},
     "output_type": "execute_result"
    }
   ],
   "source": [
    "# sort in descending order the top 10 cities by population for latest avialable census data or estimate\n",
    "df.set_index('cities').sort_values('population', ascending=False).head(10).reset_index()"
   ]
  },
  {
   "cell_type": "markdown",
   "metadata": {},
   "source": [
    "***\n",
    "### QUESTION 3: 10 ethnic groups with the largest overall populations (sum of best/latest estimates over all countries)"
   ]
  },
  {
   "cell_type": "code",
   "execution_count": 13,
   "metadata": {
    "collapsed": false
   },
   "outputs": [],
   "source": [
    "# generate cities and their populations\n",
    "data = [] \n",
    "\n",
    "for country in document.findall('country'):\n",
    "    for node in list(country):\n",
    "        if node.tag == 'name':\n",
    "            co = node.text\n",
    "        elif node.tag == 'population':\n",
    "            # the last listed population statistic is used\n",
    "            pop = int(node.text)\n",
    "            #meas = node.attrib['measured'] --leads to an error, potentially unpopulated at times\n",
    "            yr = int(node.attrib['year'])\n",
    "        elif node.tag == 'ethnicgroup':\n",
    "            eth = node.text\n",
    "            perc = float(node.attrib['percentage'])\n",
    "            epop = int(pop * perc / 100.)\n",
    "            \n",
    "            data.append({'countries':co, 'country_pop':pop, 'year':yr,\n",
    "                        'ethnicity':eth, 'country_percentage':perc, 'population':epop})\n",
    "    \n",
    "df = pd.DataFrame(data)"
   ]
  },
  {
   "cell_type": "code",
   "execution_count": 14,
   "metadata": {
    "collapsed": false
   },
   "outputs": [
    {
     "data": {
      "text/html": [
       "<div>\n",
       "<table border=\"1\" class=\"dataframe\">\n",
       "  <thead>\n",
       "    <tr style=\"text-align: right;\">\n",
       "      <th></th>\n",
       "      <th>countries</th>\n",
       "      <th>country_percentage</th>\n",
       "      <th>country_pop</th>\n",
       "      <th>ethnicity</th>\n",
       "      <th>population</th>\n",
       "      <th>year</th>\n",
       "    </tr>\n",
       "  </thead>\n",
       "  <tbody>\n",
       "    <tr>\n",
       "      <th>0</th>\n",
       "      <td>Albania</td>\n",
       "      <td>95.0</td>\n",
       "      <td>2800138</td>\n",
       "      <td>Albanian</td>\n",
       "      <td>2660131</td>\n",
       "      <td>2011</td>\n",
       "    </tr>\n",
       "    <tr>\n",
       "      <th>1</th>\n",
       "      <td>Albania</td>\n",
       "      <td>3.0</td>\n",
       "      <td>2800138</td>\n",
       "      <td>Greek</td>\n",
       "      <td>84004</td>\n",
       "      <td>2011</td>\n",
       "    </tr>\n",
       "    <tr>\n",
       "      <th>2</th>\n",
       "      <td>Greece</td>\n",
       "      <td>93.0</td>\n",
       "      <td>10816286</td>\n",
       "      <td>Greek</td>\n",
       "      <td>10059145</td>\n",
       "      <td>2011</td>\n",
       "    </tr>\n",
       "    <tr>\n",
       "      <th>3</th>\n",
       "      <td>Macedonia</td>\n",
       "      <td>64.2</td>\n",
       "      <td>2059794</td>\n",
       "      <td>Macedonian</td>\n",
       "      <td>1322387</td>\n",
       "      <td>2011</td>\n",
       "    </tr>\n",
       "    <tr>\n",
       "      <th>4</th>\n",
       "      <td>Macedonia</td>\n",
       "      <td>25.2</td>\n",
       "      <td>2059794</td>\n",
       "      <td>Albanian</td>\n",
       "      <td>519068</td>\n",
       "      <td>2011</td>\n",
       "    </tr>\n",
       "    <tr>\n",
       "      <th>5</th>\n",
       "      <td>Macedonia</td>\n",
       "      <td>3.9</td>\n",
       "      <td>2059794</td>\n",
       "      <td>Turkish</td>\n",
       "      <td>80331</td>\n",
       "      <td>2011</td>\n",
       "    </tr>\n",
       "    <tr>\n",
       "      <th>6</th>\n",
       "      <td>Macedonia</td>\n",
       "      <td>2.7</td>\n",
       "      <td>2059794</td>\n",
       "      <td>Gypsy</td>\n",
       "      <td>55614</td>\n",
       "      <td>2011</td>\n",
       "    </tr>\n",
       "    <tr>\n",
       "      <th>7</th>\n",
       "      <td>Macedonia</td>\n",
       "      <td>1.8</td>\n",
       "      <td>2059794</td>\n",
       "      <td>Serb</td>\n",
       "      <td>37076</td>\n",
       "      <td>2011</td>\n",
       "    </tr>\n",
       "    <tr>\n",
       "      <th>8</th>\n",
       "      <td>Serbia</td>\n",
       "      <td>82.9</td>\n",
       "      <td>7120666</td>\n",
       "      <td>Serb</td>\n",
       "      <td>5903032</td>\n",
       "      <td>2011</td>\n",
       "    </tr>\n",
       "    <tr>\n",
       "      <th>9</th>\n",
       "      <td>Serbia</td>\n",
       "      <td>0.9</td>\n",
       "      <td>7120666</td>\n",
       "      <td>Montenegrin</td>\n",
       "      <td>64085</td>\n",
       "      <td>2011</td>\n",
       "    </tr>\n",
       "  </tbody>\n",
       "</table>\n",
       "</div>"
      ],
      "text/plain": [
       "   countries  country_percentage  country_pop    ethnicity  population  year\n",
       "0    Albania                95.0      2800138     Albanian     2660131  2011\n",
       "1    Albania                 3.0      2800138        Greek       84004  2011\n",
       "2     Greece                93.0     10816286        Greek    10059145  2011\n",
       "3  Macedonia                64.2      2059794   Macedonian     1322387  2011\n",
       "4  Macedonia                25.2      2059794     Albanian      519068  2011\n",
       "5  Macedonia                 3.9      2059794      Turkish       80331  2011\n",
       "6  Macedonia                 2.7      2059794        Gypsy       55614  2011\n",
       "7  Macedonia                 1.8      2059794         Serb       37076  2011\n",
       "8     Serbia                82.9      7120666         Serb     5903032  2011\n",
       "9     Serbia                 0.9      7120666  Montenegrin       64085  2011"
      ]
     },
     "execution_count": 14,
     "metadata": {},
     "output_type": "execute_result"
    }
   ],
   "source": [
    "df.head(10)"
   ]
  },
  {
   "cell_type": "code",
   "execution_count": 15,
   "metadata": {
    "collapsed": false
   },
   "outputs": [
    {
     "data": {
      "text/html": [
       "<div>\n",
       "<table border=\"1\" class=\"dataframe\">\n",
       "  <thead>\n",
       "    <tr style=\"text-align: right;\">\n",
       "      <th></th>\n",
       "      <th>ethnicity</th>\n",
       "      <th>population</th>\n",
       "    </tr>\n",
       "  </thead>\n",
       "  <tbody>\n",
       "    <tr>\n",
       "      <th>0</th>\n",
       "      <td>Han Chinese</td>\n",
       "      <td>1245058800</td>\n",
       "    </tr>\n",
       "    <tr>\n",
       "      <th>1</th>\n",
       "      <td>Indo-Aryan</td>\n",
       "      <td>871815583</td>\n",
       "    </tr>\n",
       "    <tr>\n",
       "      <th>2</th>\n",
       "      <td>European</td>\n",
       "      <td>494872201</td>\n",
       "    </tr>\n",
       "    <tr>\n",
       "      <th>3</th>\n",
       "      <td>African</td>\n",
       "      <td>318325104</td>\n",
       "    </tr>\n",
       "    <tr>\n",
       "      <th>4</th>\n",
       "      <td>Dravidian</td>\n",
       "      <td>302713744</td>\n",
       "    </tr>\n",
       "    <tr>\n",
       "      <th>5</th>\n",
       "      <td>Mestizo</td>\n",
       "      <td>157734349</td>\n",
       "    </tr>\n",
       "    <tr>\n",
       "      <th>6</th>\n",
       "      <td>Bengali</td>\n",
       "      <td>146776916</td>\n",
       "    </tr>\n",
       "    <tr>\n",
       "      <th>7</th>\n",
       "      <td>Russian</td>\n",
       "      <td>131856989</td>\n",
       "    </tr>\n",
       "    <tr>\n",
       "      <th>8</th>\n",
       "      <td>Japanese</td>\n",
       "      <td>126534212</td>\n",
       "    </tr>\n",
       "    <tr>\n",
       "      <th>9</th>\n",
       "      <td>Malay</td>\n",
       "      <td>121993548</td>\n",
       "    </tr>\n",
       "  </tbody>\n",
       "</table>\n",
       "</div>"
      ],
      "text/plain": [
       "     ethnicity  population\n",
       "0  Han Chinese  1245058800\n",
       "1   Indo-Aryan   871815583\n",
       "2     European   494872201\n",
       "3      African   318325104\n",
       "4    Dravidian   302713744\n",
       "5      Mestizo   157734349\n",
       "6      Bengali   146776916\n",
       "7      Russian   131856989\n",
       "8     Japanese   126534212\n",
       "9        Malay   121993548"
      ]
     },
     "execution_count": 15,
     "metadata": {},
     "output_type": "execute_result"
    }
   ],
   "source": [
    "df.groupby('ethnicity').population.sum().sort_values(ascending=False).head(10).reset_index()"
   ]
  },
  {
   "cell_type": "markdown",
   "metadata": {},
   "source": [
    "***\n",
    "### QUESTION 4: name and country of a) longest river, b) largest lake and c) airport at highest elevation"
   ]
  },
  {
   "cell_type": "code",
   "execution_count": 3,
   "metadata": {
    "collapsed": false
   },
   "outputs": [
    {
     "data": {
      "text/plain": [
       "'mondial'"
      ]
     },
     "execution_count": 3,
     "metadata": {},
     "output_type": "execute_result"
    }
   ],
   "source": [
    "root = document.getroot()\n",
    "root.tag"
   ]
  },
  {
   "cell_type": "code",
   "execution_count": 4,
   "metadata": {
    "collapsed": false
   },
   "outputs": [
    {
     "data": {
      "text/plain": [
       "['mountain',\n",
       " 'country',\n",
       " 'lake',\n",
       " 'desert',\n",
       " 'airport',\n",
       " 'sea',\n",
       " 'island',\n",
       " 'organization',\n",
       " 'river',\n",
       " 'continent']"
      ]
     },
     "execution_count": 4,
     "metadata": {},
     "output_type": "execute_result"
    }
   ],
   "source": [
    "# generate a unique list of nodes to understand what is available and where \n",
    "node_list = []\n",
    "for node in list(root):\n",
    "    node_list.append(node.tag)\n",
    "{node:1 for node in node_list}.keys()"
   ]
  },
  {
   "cell_type": "code",
   "execution_count": 75,
   "metadata": {
    "collapsed": false
   },
   "outputs": [
    {
     "data": {
      "text/html": [
       "<div>\n",
       "<table border=\"1\" class=\"dataframe\">\n",
       "  <thead>\n",
       "    <tr style=\"text-align: right;\">\n",
       "      <th></th>\n",
       "      <th>code</th>\n",
       "      <th>country</th>\n",
       "    </tr>\n",
       "  </thead>\n",
       "  <tbody>\n",
       "    <tr>\n",
       "      <th>0</th>\n",
       "      <td>AL</td>\n",
       "      <td>Albania</td>\n",
       "    </tr>\n",
       "    <tr>\n",
       "      <th>1</th>\n",
       "      <td>GR</td>\n",
       "      <td>Greece</td>\n",
       "    </tr>\n",
       "    <tr>\n",
       "      <th>2</th>\n",
       "      <td>MK</td>\n",
       "      <td>Macedonia</td>\n",
       "    </tr>\n",
       "    <tr>\n",
       "      <th>3</th>\n",
       "      <td>SRB</td>\n",
       "      <td>Serbia</td>\n",
       "    </tr>\n",
       "    <tr>\n",
       "      <th>4</th>\n",
       "      <td>MNE</td>\n",
       "      <td>Montenegro</td>\n",
       "    </tr>\n",
       "    <tr>\n",
       "      <th>5</th>\n",
       "      <td>KOS</td>\n",
       "      <td>Kosovo</td>\n",
       "    </tr>\n",
       "    <tr>\n",
       "      <th>6</th>\n",
       "      <td>AND</td>\n",
       "      <td>Andorra</td>\n",
       "    </tr>\n",
       "    <tr>\n",
       "      <th>7</th>\n",
       "      <td>F</td>\n",
       "      <td>France</td>\n",
       "    </tr>\n",
       "    <tr>\n",
       "      <th>8</th>\n",
       "      <td>E</td>\n",
       "      <td>Spain</td>\n",
       "    </tr>\n",
       "    <tr>\n",
       "      <th>9</th>\n",
       "      <td>A</td>\n",
       "      <td>Austria</td>\n",
       "    </tr>\n",
       "  </tbody>\n",
       "</table>\n",
       "</div>"
      ],
      "text/plain": [
       "  code     country\n",
       "0   AL     Albania\n",
       "1   GR      Greece\n",
       "2   MK   Macedonia\n",
       "3  SRB      Serbia\n",
       "4  MNE  Montenegro\n",
       "5  KOS      Kosovo\n",
       "6  AND     Andorra\n",
       "7    F      France\n",
       "8    E       Spain\n",
       "9    A     Austria"
      ]
     },
     "execution_count": 75,
     "metadata": {},
     "output_type": "execute_result"
    }
   ],
   "source": [
    "# create a shared lookup table for country codes\n",
    "country_lookup = []\n",
    "\n",
    "for country in document.findall('country'):\n",
    "    for node in list(country):\n",
    "        if node.tag == 'name':   \n",
    "            co = node.text\n",
    "            code = country.attrib['car_code']\n",
    "            \n",
    "    country_lookup.append({'code':code, 'country':co}) \n",
    "        \n",
    "countries = pd.DataFrame(country_lookup)\n",
    "countries.head(10)"
   ]
  },
  {
   "cell_type": "code",
   "execution_count": 59,
   "metadata": {
    "collapsed": false
   },
   "outputs": [
    {
     "data": {
      "text/plain": [
       "{'S': 'S', 'e': 'Y'}"
      ]
     },
     "execution_count": 59,
     "metadata": {},
     "output_type": "execute_result"
    }
   ],
   "source": [
    "# create a shared lookup table for country codes --can't get this working\n",
    "import itertools\n",
    "\n",
    "for country in document.findall('country'):\n",
    "    for node in list(country):\n",
    "        if node.tag == 'name':   \n",
    "            code = node.text\n",
    "            country = country.attrib['car_code']\n",
    "        dictionary = {k: v for k, v in itertools.izip(code, country)}\n",
    "dictionary"
   ]
  },
  {
   "cell_type": "markdown",
   "metadata": {},
   "source": [
    "#### QUESTION 4.a)  name and country of longest river"
   ]
  },
  {
   "cell_type": "code",
   "execution_count": 12,
   "metadata": {
    "collapsed": false
   },
   "outputs": [
    {
     "data": {
      "text/plain": [
       "['located', 'name', 'estuary', 'to', 'area', 'source', 'length', 'through']"
      ]
     },
     "execution_count": 12,
     "metadata": {},
     "output_type": "execute_result"
    }
   ],
   "source": [
    "# explore the features available\n",
    "node_list = []\n",
    "for element in document.findall('river'):\n",
    "    for node in list(element):\n",
    "        node_list.append(node.tag)\n",
    "{node:1 for node in node_list}.keys()"
   ]
  },
  {
   "cell_type": "code",
   "execution_count": 143,
   "metadata": {
    "collapsed": false
   },
   "outputs": [
    {
     "data": {
      "text/html": [
       "<div>\n",
       "<table border=\"1\" class=\"dataframe\">\n",
       "  <thead>\n",
       "    <tr style=\"text-align: right;\">\n",
       "      <th></th>\n",
       "      <th>country_code</th>\n",
       "      <th>length</th>\n",
       "      <th>river</th>\n",
       "    </tr>\n",
       "  </thead>\n",
       "  <tbody>\n",
       "    <tr>\n",
       "      <th>0</th>\n",
       "      <td>IS</td>\n",
       "      <td>230</td>\n",
       "      <td>Thjorsa</td>\n",
       "    </tr>\n",
       "    <tr>\n",
       "      <th>1</th>\n",
       "      <td>IS</td>\n",
       "      <td>206</td>\n",
       "      <td>Joekulsa a Fjoellum</td>\n",
       "    </tr>\n",
       "    <tr>\n",
       "      <th>2</th>\n",
       "      <td>N</td>\n",
       "      <td>604</td>\n",
       "      <td>Glomma</td>\n",
       "    </tr>\n",
       "    <tr>\n",
       "      <th>3</th>\n",
       "      <td>N</td>\n",
       "      <td>322</td>\n",
       "      <td>Lagen</td>\n",
       "    </tr>\n",
       "    <tr>\n",
       "      <th>4</th>\n",
       "      <td>S</td>\n",
       "      <td>93</td>\n",
       "      <td>Goetaaelv</td>\n",
       "    </tr>\n",
       "  </tbody>\n",
       "</table>\n",
       "</div>"
      ],
      "text/plain": [
       "  country_code  length                river\n",
       "0           IS     230              Thjorsa\n",
       "1           IS     206  Joekulsa a Fjoellum\n",
       "2            N     604               Glomma\n",
       "3            N     322                Lagen\n",
       "4            S      93            Goetaaelv"
      ]
     },
     "execution_count": 143,
     "metadata": {},
     "output_type": "execute_result"
    }
   ],
   "source": [
    "# generate list of rivers and their lengths\n",
    "data = [] \n",
    "\n",
    "for element in document.findall('river'):\n",
    "    # first listed country used since the river can run though multiple countries\n",
    "    code = element.attrib['country'].split(' ')[0]\n",
    "    for node in list(element):\n",
    "        if node.tag == 'name':\n",
    "            river = node.text\n",
    "        elif node.tag == 'length':\n",
    "            length = float(node.text)\n",
    "\n",
    "            data.append({'country_code': code, 'river':river, 'length':length})\n",
    "    \n",
    "rivers = pd.DataFrame(data)\n",
    "\n",
    "rivers.head()"
   ]
  },
  {
   "cell_type": "code",
   "execution_count": 144,
   "metadata": {
    "collapsed": false
   },
   "outputs": [
    {
     "data": {
      "text/html": [
       "<div>\n",
       "<table border=\"1\" class=\"dataframe\">\n",
       "  <thead>\n",
       "    <tr style=\"text-align: right;\">\n",
       "      <th></th>\n",
       "      <th>country_code</th>\n",
       "      <th>length</th>\n",
       "      <th>river</th>\n",
       "      <th>code</th>\n",
       "      <th>country</th>\n",
       "    </tr>\n",
       "  </thead>\n",
       "  <tbody>\n",
       "    <tr>\n",
       "      <th>174</th>\n",
       "      <td>CO</td>\n",
       "      <td>6448</td>\n",
       "      <td>Amazonas</td>\n",
       "      <td>CO</td>\n",
       "      <td>Colombia</td>\n",
       "    </tr>\n",
       "    <tr>\n",
       "      <th>137</th>\n",
       "      <td>CN</td>\n",
       "      <td>6380</td>\n",
       "      <td>Jangtse</td>\n",
       "      <td>CN</td>\n",
       "      <td>China</td>\n",
       "    </tr>\n",
       "    <tr>\n",
       "      <th>136</th>\n",
       "      <td>CN</td>\n",
       "      <td>4845</td>\n",
       "      <td>Hwangho</td>\n",
       "      <td>CN</td>\n",
       "      <td>China</td>\n",
       "    </tr>\n",
       "    <tr>\n",
       "      <th>123</th>\n",
       "      <td>R</td>\n",
       "      <td>4400</td>\n",
       "      <td>Lena</td>\n",
       "      <td>R</td>\n",
       "      <td>Russia</td>\n",
       "    </tr>\n",
       "    <tr>\n",
       "      <th>201</th>\n",
       "      <td>RCB</td>\n",
       "      <td>4374</td>\n",
       "      <td>Zaire</td>\n",
       "      <td>RCB</td>\n",
       "      <td>Congo</td>\n",
       "    </tr>\n",
       "  </tbody>\n",
       "</table>\n",
       "</div>"
      ],
      "text/plain": [
       "    country_code  length     river code   country\n",
       "174           CO    6448  Amazonas   CO  Colombia\n",
       "137           CN    6380   Jangtse   CN     China\n",
       "136           CN    4845   Hwangho   CN     China\n",
       "123            R    4400      Lena    R    Russia\n",
       "201          RCB    4374     Zaire  RCB     Congo"
      ]
     },
     "execution_count": 144,
     "metadata": {},
     "output_type": "execute_result"
    }
   ],
   "source": [
    "# bring in country names\n",
    "df = pd.merge(rivers, countries, how='left', left_on='country_code', right_on='code')\n",
    "df.sort_values('length', ascending=False).head()"
   ]
  },
  {
   "cell_type": "code",
   "execution_count": 145,
   "metadata": {
    "collapsed": false
   },
   "outputs": [
    {
     "name": "stdout",
     "output_type": "stream",
     "text": [
      "The longest river in the world is the Amazonas and crosses Colombia with a length of 6,448 kilometers\n"
     ]
    }
   ],
   "source": [
    "# The longest river\n",
    "longest = df.groupby(['country', 'river']).length.max().sort_values(ascending=False).head(1).reset_index()\n",
    "\n",
    "print('The longest river in the world is the ' + longest['river'][0] +\n",
    "      ' and crosses ' + longest['country'][0] +\n",
    "      ' with a length of ' + str('{:5,.0f}'.format(int(longest['length'][0]))) + ' kilometers')"
   ]
  },
  {
   "cell_type": "markdown",
   "metadata": {
    "collapsed": true
   },
   "source": [
    "#### QUESTION 4.b) name and country of largest lake"
   ]
  },
  {
   "cell_type": "code",
   "execution_count": 105,
   "metadata": {
    "collapsed": false
   },
   "outputs": [
    {
     "data": {
      "text/plain": [
       "['elevation',\n",
       " 'name',\n",
       " 'area',\n",
       " 'longitude',\n",
       " 'located',\n",
       " 'depth',\n",
       " 'latitude',\n",
       " 'to']"
      ]
     },
     "execution_count": 105,
     "metadata": {},
     "output_type": "execute_result"
    }
   ],
   "source": [
    "# explore the features available\n",
    "node_list = []\n",
    "for element in document.findall('lake'):\n",
    "    for node in list(element):\n",
    "        node_list.append(node.tag)\n",
    "{node:1 for node in node_list}.keys()"
   ]
  },
  {
   "cell_type": "code",
   "execution_count": 152,
   "metadata": {
    "collapsed": false
   },
   "outputs": [
    {
     "data": {
      "text/html": [
       "<div>\n",
       "<table border=\"1\" class=\"dataframe\">\n",
       "  <thead>\n",
       "    <tr style=\"text-align: right;\">\n",
       "      <th></th>\n",
       "      <th>area</th>\n",
       "      <th>country_code</th>\n",
       "      <th>lake</th>\n",
       "    </tr>\n",
       "  </thead>\n",
       "  <tbody>\n",
       "    <tr>\n",
       "      <th>0</th>\n",
       "      <td>1040</td>\n",
       "      <td>SF</td>\n",
       "      <td>Inari</td>\n",
       "    </tr>\n",
       "    <tr>\n",
       "      <th>1</th>\n",
       "      <td>928</td>\n",
       "      <td>SF</td>\n",
       "      <td>Oulujaervi</td>\n",
       "    </tr>\n",
       "    <tr>\n",
       "      <th>2</th>\n",
       "      <td>472</td>\n",
       "      <td>SF</td>\n",
       "      <td>Kallavesi</td>\n",
       "    </tr>\n",
       "    <tr>\n",
       "      <th>3</th>\n",
       "      <td>4370</td>\n",
       "      <td>SF</td>\n",
       "      <td>Saimaa</td>\n",
       "    </tr>\n",
       "    <tr>\n",
       "      <th>4</th>\n",
       "      <td>1118</td>\n",
       "      <td>SF</td>\n",
       "      <td>Paeijaenne</td>\n",
       "    </tr>\n",
       "  </tbody>\n",
       "</table>\n",
       "</div>"
      ],
      "text/plain": [
       "   area country_code        lake\n",
       "0  1040           SF       Inari\n",
       "1   928           SF  Oulujaervi\n",
       "2   472           SF   Kallavesi\n",
       "3  4370           SF      Saimaa\n",
       "4  1118           SF  Paeijaenne"
      ]
     },
     "execution_count": 152,
     "metadata": {},
     "output_type": "execute_result"
    }
   ],
   "source": [
    "# generate list of lakes and their areas\n",
    "data = [] \n",
    "\n",
    "for element in document.findall('lake'):\n",
    "    # first listed country used since the river can run though multiple countries\n",
    "    code = element.attrib['country'].split(' ')[0]\n",
    "    for node in list(element):\n",
    "        if node.tag == 'name':\n",
    "            lake = node.text\n",
    "        elif node.tag == 'area':\n",
    "            area = float(node.text)\n",
    "\n",
    "            data.append({'country_code': code, 'lake':lake, 'area':area})\n",
    "    \n",
    "lakes = pd.DataFrame(data)\n",
    "\n",
    "lakes.head()"
   ]
  },
  {
   "cell_type": "code",
   "execution_count": 153,
   "metadata": {
    "collapsed": false
   },
   "outputs": [
    {
     "data": {
      "text/html": [
       "<div>\n",
       "<table border=\"1\" class=\"dataframe\">\n",
       "  <thead>\n",
       "    <tr style=\"text-align: right;\">\n",
       "      <th></th>\n",
       "      <th>area</th>\n",
       "      <th>country_code</th>\n",
       "      <th>lake</th>\n",
       "      <th>code</th>\n",
       "      <th>country</th>\n",
       "    </tr>\n",
       "  </thead>\n",
       "  <tbody>\n",
       "    <tr>\n",
       "      <th>54</th>\n",
       "      <td>386400</td>\n",
       "      <td>R</td>\n",
       "      <td>Caspian Sea</td>\n",
       "      <td>R</td>\n",
       "      <td>Russia</td>\n",
       "    </tr>\n",
       "    <tr>\n",
       "      <th>107</th>\n",
       "      <td>82103</td>\n",
       "      <td>CDN</td>\n",
       "      <td>Lake Superior</td>\n",
       "      <td>CDN</td>\n",
       "      <td>Canada</td>\n",
       "    </tr>\n",
       "    <tr>\n",
       "      <th>79</th>\n",
       "      <td>68870</td>\n",
       "      <td>EAT</td>\n",
       "      <td>Lake Victoria</td>\n",
       "      <td>EAT</td>\n",
       "      <td>Tanzania</td>\n",
       "    </tr>\n",
       "    <tr>\n",
       "      <th>104</th>\n",
       "      <td>59600</td>\n",
       "      <td>CDN</td>\n",
       "      <td>Lake Huron</td>\n",
       "      <td>CDN</td>\n",
       "      <td>Canada</td>\n",
       "    </tr>\n",
       "    <tr>\n",
       "      <th>106</th>\n",
       "      <td>57800</td>\n",
       "      <td>USA</td>\n",
       "      <td>Lake Michigan</td>\n",
       "      <td>USA</td>\n",
       "      <td>United States</td>\n",
       "    </tr>\n",
       "  </tbody>\n",
       "</table>\n",
       "</div>"
      ],
      "text/plain": [
       "       area country_code           lake code        country\n",
       "54   386400            R    Caspian Sea    R         Russia\n",
       "107   82103          CDN  Lake Superior  CDN         Canada\n",
       "79    68870          EAT  Lake Victoria  EAT       Tanzania\n",
       "104   59600          CDN     Lake Huron  CDN         Canada\n",
       "106   57800          USA  Lake Michigan  USA  United States"
      ]
     },
     "execution_count": 153,
     "metadata": {},
     "output_type": "execute_result"
    }
   ],
   "source": [
    "# bring in country names\n",
    "df = pd.merge(lakes, countries, how='left', left_on='country_code', right_on='code')\n",
    "df.sort_values('area', ascending=False).head()"
   ]
  },
  {
   "cell_type": "code",
   "execution_count": 151,
   "metadata": {
    "collapsed": false
   },
   "outputs": [
    {
     "name": "stdout",
     "output_type": "stream",
     "text": [
      "The largest lake in the world by surface area is the Caspian Sea (Russia) with a length of 386,400 square kilometers\n"
     ]
    }
   ],
   "source": [
    "# The largest lake\n",
    "largest = df.groupby(['country', 'lake']).area.max().sort_values(ascending=False).head(1).reset_index()\n",
    "\n",
    "print('The largest lake in the world by surface area is the ' + largest['lake'][0] +\n",
    "      ' (' + largest['country'][0] +\n",
    "      ') with a length of ' + str('{:5,.0f}'.format(int(largest['area'][0]))) + ' square kilometers')"
   ]
  },
  {
   "cell_type": "markdown",
   "metadata": {
    "collapsed": true
   },
   "source": [
    "#### QUESTION 4.c) name and country of the airport at highest elevation"
   ]
  },
  {
   "cell_type": "code",
   "execution_count": 154,
   "metadata": {
    "collapsed": false
   },
   "outputs": [
    {
     "data": {
      "text/plain": [
       "['elevation', 'name', 'located_on', 'longitude', 'latitude', 'gmtOffset']"
      ]
     },
     "execution_count": 154,
     "metadata": {},
     "output_type": "execute_result"
    }
   ],
   "source": [
    "# explore the features available\n",
    "node_list = []\n",
    "for element in document.findall('airport'):\n",
    "    for node in list(element):\n",
    "        node_list.append(node.tag)\n",
    "{node:1 for node in node_list}.keys()"
   ]
  },
  {
   "cell_type": "code",
   "execution_count": 163,
   "metadata": {
    "collapsed": false
   },
   "outputs": [
    {
     "data": {
      "text/html": [
       "<div>\n",
       "<table border=\"1\" class=\"dataframe\">\n",
       "  <thead>\n",
       "    <tr style=\"text-align: right;\">\n",
       "      <th></th>\n",
       "      <th>airport</th>\n",
       "      <th>country_code</th>\n",
       "      <th>elevation</th>\n",
       "    </tr>\n",
       "  </thead>\n",
       "  <tbody>\n",
       "    <tr>\n",
       "      <th>0</th>\n",
       "      <td>Herat</td>\n",
       "      <td>AFG</td>\n",
       "      <td>977</td>\n",
       "    </tr>\n",
       "    <tr>\n",
       "      <th>1</th>\n",
       "      <td>Kabul Intl</td>\n",
       "      <td>AFG</td>\n",
       "      <td>1792</td>\n",
       "    </tr>\n",
       "    <tr>\n",
       "      <th>2</th>\n",
       "      <td>Tirana Rinas</td>\n",
       "      <td>AL</td>\n",
       "      <td>38</td>\n",
       "    </tr>\n",
       "    <tr>\n",
       "      <th>3</th>\n",
       "      <td>Cheikh Larbi Tebessi</td>\n",
       "      <td>DZ</td>\n",
       "      <td>811</td>\n",
       "    </tr>\n",
       "    <tr>\n",
       "      <th>4</th>\n",
       "      <td>Batna Airport</td>\n",
       "      <td>DZ</td>\n",
       "      <td>822</td>\n",
       "    </tr>\n",
       "  </tbody>\n",
       "</table>\n",
       "</div>"
      ],
      "text/plain": [
       "                airport country_code  elevation\n",
       "0                 Herat          AFG        977\n",
       "1            Kabul Intl          AFG       1792\n",
       "2          Tirana Rinas           AL         38\n",
       "3  Cheikh Larbi Tebessi           DZ        811\n",
       "4         Batna Airport           DZ        822"
      ]
     },
     "execution_count": 163,
     "metadata": {},
     "output_type": "execute_result"
    }
   ],
   "source": [
    "# generate list of airports and their elevation\n",
    "data = [] \n",
    "\n",
    "for element in document.findall('airport'):\n",
    "    # first listed country used since the river can run though multiple countries\n",
    "    code = element.attrib['country'].split(' ')[0]\n",
    "    for node in list(element):\n",
    "        if node.tag == 'name':\n",
    "            airport = node.text\n",
    "        elif node.tag == 'elevation':\n",
    "            if node.text is not None:\n",
    "                elevation = int(node.text)\n",
    "\n",
    "            data.append({'country_code': code, 'airport':airport, 'elevation':elevation})\n",
    "    \n",
    "airports = pd.DataFrame(data)\n",
    "\n",
    "airports.head()"
   ]
  },
  {
   "cell_type": "code",
   "execution_count": 164,
   "metadata": {
    "collapsed": false
   },
   "outputs": [
    {
     "data": {
      "text/html": [
       "<div>\n",
       "<table border=\"1\" class=\"dataframe\">\n",
       "  <thead>\n",
       "    <tr style=\"text-align: right;\">\n",
       "      <th></th>\n",
       "      <th>airport</th>\n",
       "      <th>country_code</th>\n",
       "      <th>elevation</th>\n",
       "      <th>code</th>\n",
       "      <th>country</th>\n",
       "    </tr>\n",
       "  </thead>\n",
       "  <tbody>\n",
       "    <tr>\n",
       "      <th>80</th>\n",
       "      <td>El Alto Intl</td>\n",
       "      <td>BOL</td>\n",
       "      <td>4063</td>\n",
       "      <td>BOL</td>\n",
       "      <td>Bolivia</td>\n",
       "    </tr>\n",
       "    <tr>\n",
       "      <th>219</th>\n",
       "      <td>Lhasa-Gonggar</td>\n",
       "      <td>CN</td>\n",
       "      <td>4005</td>\n",
       "      <td>CN</td>\n",
       "      <td>China</td>\n",
       "    </tr>\n",
       "    <tr>\n",
       "      <th>241</th>\n",
       "      <td>Yushu Batang</td>\n",
       "      <td>CN</td>\n",
       "      <td>3963</td>\n",
       "      <td>CN</td>\n",
       "      <td>China</td>\n",
       "    </tr>\n",
       "    <tr>\n",
       "      <th>242</th>\n",
       "      <td>Anqing Airport</td>\n",
       "      <td>CN</td>\n",
       "      <td>3963</td>\n",
       "      <td>CN</td>\n",
       "      <td>China</td>\n",
       "    </tr>\n",
       "    <tr>\n",
       "      <th>243</th>\n",
       "      <td>Changde Airport</td>\n",
       "      <td>CN</td>\n",
       "      <td>3963</td>\n",
       "      <td>CN</td>\n",
       "      <td>China</td>\n",
       "    </tr>\n",
       "  </tbody>\n",
       "</table>\n",
       "</div>"
      ],
      "text/plain": [
       "             airport country_code  elevation code  country\n",
       "80      El Alto Intl          BOL       4063  BOL  Bolivia\n",
       "219    Lhasa-Gonggar           CN       4005   CN    China\n",
       "241     Yushu Batang           CN       3963   CN    China\n",
       "242   Anqing Airport           CN       3963   CN    China\n",
       "243  Changde Airport           CN       3963   CN    China"
      ]
     },
     "execution_count": 164,
     "metadata": {},
     "output_type": "execute_result"
    }
   ],
   "source": [
    "# bring in country names\n",
    "df = pd.merge(airports, countries, how='left', left_on='country_code', right_on='code')\n",
    "df.sort_values('elevation', ascending=False).head()"
   ]
  },
  {
   "cell_type": "code",
   "execution_count": 167,
   "metadata": {
    "collapsed": false
   },
   "outputs": [
    {
     "name": "stdout",
     "output_type": "stream",
     "text": [
      "The most elevated airport in the world is the El Alto Intl in Bolivia with a height of 4,063 meters\n"
     ]
    }
   ],
   "source": [
    "# The most evelated airport\n",
    "highest = df.groupby(['country', 'airport']).elevation.max().sort_values(ascending=False).head(1).reset_index()\n",
    "\n",
    "print('The most elevated airport in the world is the ' + highest['airport'][0] +\n",
    "      ' in ' + highest['country'][0] +\n",
    "      ' with a height of ' + str('{:5,.0f}'.format(int(highest['elevation'][0]))) + ' meters')"
   ]
  }
 ],
 "metadata": {
  "kernelspec": {
   "display_name": "Python 2",
   "language": "python",
   "name": "python2"
  },
  "language_info": {
   "codemirror_mode": {
    "name": "ipython",
    "version": 2
   },
   "file_extension": ".py",
   "mimetype": "text/x-python",
   "name": "python",
   "nbconvert_exporter": "python",
   "pygments_lexer": "ipython2",
   "version": "2.7.11"
  }
 },
 "nbformat": 4,
 "nbformat_minor": 0
}
