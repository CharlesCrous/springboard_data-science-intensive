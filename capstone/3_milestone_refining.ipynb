{
 "cells": [
  {
   "cell_type": "markdown",
   "metadata": {},
   "source": [
    "# Which country will first-time airbnb users choose?\n",
    "\n",
    "***\n",
    "### Brief\n",
    "New users on Airbnb can book a place to stay in 34,000+ cities across 190+ countries. By accurately predicting where a new user will book their first travel experience, Airbnb can share more personalized content with their community, decrease the average time to first booking, and better forecast demand.\n",
    "\n",
    "Airbnb wants to predict in which destination country a new user from the USA will make his or her first booking:\n",
    "1. United States of America\n",
    "2. France\n",
    "3. Canada\n",
    "4. Great Britain\n",
    "5. Estonia\n",
    "6. Italy\n",
    "7. Portugal\n",
    "8. Netherlands\n",
    "9. Germany\n",
    "10. Australia  \n",
    "11. No Destination Found (NDF) \n",
    "12. Other\n",
    "\n",
    "***\n",
    "### The Data\n",
    "The data has been provided by airbnb and downloaded from Kaggle. And the [data](https://www.kaggle.com/c/airbnb-recruiting-new-user-bookings/data) contains a rich set of demographics, web session records, and some summary statistics data on about 275,562 (train + test) users from the USA. For context, I've also explored the [international](http://travel.trade.gov/view/m-2015-O-001/index.html) and [domestic](http://www.statista.com/statistics/207103/forecasted-number-of-domestic-trips-in-the-us/) travel data for US Citizens for 2015.\n",
    "\n",
    "***\n",
    "### Evaluation Metric\n",
    "\n",
    "The evaluation metric for this competition is [NDCG (Normalized discounted cumulative gain)](https://www.kaggle.com/wiki/NormalizedDiscountedCumulativeGain) @k where k=5. NDCG is calculated as:\n",
    "\n",
    "$$DCG_k=\\sum_{i=1}^k\\frac{2^{rel_i}-1}{\\log_2{\\left(i+1\\right)}},$$\n",
    "\n",
    "$IDCG_k$ is the maximum possible (ideal) $DCG$ for a given set of queries, documents, and relevances. All NDCG calculations are relative values on the interval 0.0 to 1.0.\n",
    "\n",
    "$$nDCG_k=\\frac{DCG_k}{IDCG_k},$$\n",
    "\n",
    "For each new user, you are to make a maximum of 5 predictions on the country of the first booking. The ground truth country is marked with relevance = 1, while the rest have relevance = 0.\n",
    "\n",
    "For example, if for a particular user the destination is FR, then the predictions become:\n",
    "\n",
    "[ FR ]  gives a $NDCG=\\frac{2^{1}-1}{log_{2}(1+1)}=1.0$\n",
    "\n",
    "[ US, FR ] gives a $DCG=\\frac{2^{0}-1}{log_{2}(1+1)}+\\frac{2^{1}-1}{log_{2}(2+1)}=\\frac{1}{1.58496}=0.6309$\n",
    "\n",
    "***\n",
    "### Limitations\n",
    "1. before early 2013 users could make bookings without creating an account\n",
    "2. where date_fisrt_booking is populated with nana the destination country is also given as NDF\n",
    "3. missing data or data munging that need to be done?\n",
    "4. outliers?\n",
    "5. unbalanced dataset, skewed to NDF\n",
    "3. What are the similarities/differences in the destination countries?\n",
    "4. Demographic differences that could point to preferences?\n",
    "5. Investigate the impact that user interaction with the website has on destination selection."
   ]
  },
  {
   "cell_type": "markdown",
   "metadata": {},
   "source": [
    "***\n",
    "# Data Exploration\n",
    "\n",
    "Going in, *my hunch* is that *he majority of first time US airbnb users will choose destinations within the USA and then tend to favour Canada and European countries to Australia. \n",
    "\n",
    "This is based on data for [international travel](http://travel.trade.gov/view/m-2015-O-001/index.html) by U.S. citizens for the first 10 months of 2015, where all of Europe saw 11,067,879 U.S. citizens (18% of 61,322,698), just above the Canadian figure (11,008,848 citizens; 18%), but still half of number going to Mexico (22,641,533; 36.9% of total). Oceania (used as proxy for Australia in this example) saw 0.8% (511,563) of U.S. citizens visit their shores. In terms of [domestic travel](http://www.statista.com/statistics/207103/forecasted-number-of-domestic-trips-in-the-us/), U.S. citizens took 458.3 million business trips and 1,692.8 million leisure trips in 2015.\n",
    "\n",
    "What I will be exploring:\n",
    "1. data integrity:\n",
    "  * the level of missing data \n",
    "  * impact of outliers \n",
    "  * the amount of data cleaning that will be required before anlaysis can be done\n",
    "\n",
    "2. testing feature characteristics that could point to country preferences:\n",
    "  * demographic (age, language, gender)\n",
    "  * how the user come to the website initially (affiliate_channel, affiliate_provider, first_affiliate_tracked)\n",
    "  * how the user interacts with the website (first_browser,first_device_type)\n",
    "  * impact of signup process (signup_app, signup_flow, signup_method) on whether the person ends up making a booking or not.\n",
    "  * after creating an account (date_account_created), what is the delay in searching for places to stay (timestamp_first_active)? And post account creation, how long does it take to finalize the booking (date_first_booking)? And what kind of prediction accuracy do these indicators have?\n",
    "\n",
    "3. external influencers about the destination countries themselves that could be attractive to certain users\"\n",
    " * the distance to the destination (distance_km)\n",
    " * how big the country is could potentially point to there being more to explore (destination_km2)\n",
    " * foreign, but familiar. Whether english is widely-spoken in the destination country has an impact on it's desirability (destination_language, language_levenshtein_distance)\n",
    " "
   ]
  },
  {
   "cell_type": "code",
   "execution_count": 1,
   "metadata": {
    "collapsed": false
   },
   "outputs": [
    {
     "name": "stderr",
     "output_type": "stream",
     "text": [
      "C:\\Miniconda\\lib\\site-packages\\matplotlib\\__init__.py:872: UserWarning: axes.color_cycle is deprecated and replaced with axes.prop_cycle; please use the latter.\n",
      "  warnings.warn(self.msg_depr % (key, alt_key))\n"
     ]
    }
   ],
   "source": [
    "# load libraries that will be used\n",
    "%matplotlib inline\n",
    "\n",
    "import zipfile\n",
    "import numpy as np\n",
    "import pandas as pd\n",
    "import matplotlib.pyplot as plt\n",
    "import scipy.stats as stats\n",
    "import seaborn as sns\n",
    "\n",
    "from mpl_toolkits.basemap import Basemap\n",
    "\n",
    "# make figures better:\n",
    "font = {'weight':'normal','size':20}\n",
    "plt.rc('font', **font)\n",
    "plt.rc('figure', figsize=(9.0, 6.0))\n",
    "plt.rc('xtick.major', pad=10) # xticks too close to border!\n",
    "plt.style.use('ggplot')\n",
    "#print(plt.style.available)"
   ]
  },
  {
   "cell_type": "code",
   "execution_count": 2,
   "metadata": {
    "collapsed": true
   },
   "outputs": [],
   "source": [
    "# unzip and read data\n",
    "\n",
    "# Dataset #1: Countries to visit\n",
    "zf = zipfile.ZipFile('data/countries.csv.zip')\n",
    "countries = pd.read_csv(zf.open('countries.csv'))\n",
    "\n",
    "# Dataset #2: Compare demographic distributions within destination countries\n",
    "zf = zipfile.ZipFile('data/age_gender_bkts.csv.zip')\n",
    "country_demographics = pd.read_csv(zf.open('age_gender_bkts.csv'))\n",
    "\n",
    "# Dataset #3: User interactions on airbnb website\n",
    "zf = zipfile.ZipFile('data/sessions.csv.zip')\n",
    "user_sessions = pd.read_csv(zf.open('sessions.csv'))\n",
    "\n",
    "# Dataset #4: Comparing test and training data to what has been provided as user data for 2015\n",
    "# train\n",
    "zf = zipfile.ZipFile('data/train_users_2.csv.zip')\n",
    "train = pd.read_csv(zf.open('train_users_2.csv'))\n",
    "\n",
    "# test\n",
    "zf = zipfile.ZipFile('data/test_users.csv.zip')\n",
    "test = pd.read_csv(zf.open('test_users.csv'))\n",
    "\n",
    "# concatenate train- and test users together for total sample\n",
    "users = pd.concat((train, test), axis=0, ignore_index=True)"
   ]
  },
  {
   "cell_type": "markdown",
   "metadata": {
    "collapsed": true
   },
   "source": [
    "\n",
    "## Who are these first-time users?"
   ]
  },
  {
   "cell_type": "code",
   "execution_count": 20,
   "metadata": {
    "collapsed": false
   },
   "outputs": [
    {
     "name": "stdout",
     "output_type": "stream",
     "text": [
      "Number of users in the training set: 213451; Number of users in the test set: 62096\n",
      "Full Set Rows: 275547; -Columns: 16\n"
     ]
    },
    {
     "data": {
      "text/html": [
       "<div>\n",
       "<table border=\"1\" class=\"dataframe\">\n",
       "  <thead>\n",
       "    <tr style=\"text-align: right;\">\n",
       "      <th></th>\n",
       "      <th>affiliate_channel</th>\n",
       "      <th>affiliate_provider</th>\n",
       "      <th>age</th>\n",
       "      <th>country_destination</th>\n",
       "      <th>date_account_created</th>\n",
       "      <th>date_first_booking</th>\n",
       "      <th>first_affiliate_tracked</th>\n",
       "      <th>first_browser</th>\n",
       "      <th>first_device_type</th>\n",
       "      <th>gender</th>\n",
       "      <th>id</th>\n",
       "      <th>language</th>\n",
       "      <th>signup_app</th>\n",
       "      <th>signup_flow</th>\n",
       "      <th>signup_method</th>\n",
       "      <th>timestamp_first_active</th>\n",
       "    </tr>\n",
       "  </thead>\n",
       "  <tbody>\n",
       "    <tr>\n",
       "      <th>0</th>\n",
       "      <td>direct</td>\n",
       "      <td>direct</td>\n",
       "      <td>NaN</td>\n",
       "      <td>NDF</td>\n",
       "      <td>2010-06-28</td>\n",
       "      <td>NaN</td>\n",
       "      <td>untracked</td>\n",
       "      <td>Chrome</td>\n",
       "      <td>Mac Desktop</td>\n",
       "      <td>-unknown-</td>\n",
       "      <td>gxn3p5htnn</td>\n",
       "      <td>en</td>\n",
       "      <td>Web</td>\n",
       "      <td>0</td>\n",
       "      <td>facebook</td>\n",
       "      <td>20090319043255</td>\n",
       "    </tr>\n",
       "    <tr>\n",
       "      <th>1</th>\n",
       "      <td>seo</td>\n",
       "      <td>google</td>\n",
       "      <td>38</td>\n",
       "      <td>NDF</td>\n",
       "      <td>2011-05-25</td>\n",
       "      <td>NaN</td>\n",
       "      <td>untracked</td>\n",
       "      <td>Chrome</td>\n",
       "      <td>Mac Desktop</td>\n",
       "      <td>MALE</td>\n",
       "      <td>820tgsjxq7</td>\n",
       "      <td>en</td>\n",
       "      <td>Web</td>\n",
       "      <td>0</td>\n",
       "      <td>facebook</td>\n",
       "      <td>20090523174809</td>\n",
       "    </tr>\n",
       "    <tr>\n",
       "      <th>2</th>\n",
       "      <td>direct</td>\n",
       "      <td>direct</td>\n",
       "      <td>56</td>\n",
       "      <td>US</td>\n",
       "      <td>2010-09-28</td>\n",
       "      <td>2010-08-02</td>\n",
       "      <td>untracked</td>\n",
       "      <td>IE</td>\n",
       "      <td>Windows Desktop</td>\n",
       "      <td>FEMALE</td>\n",
       "      <td>4ft3gnwmtx</td>\n",
       "      <td>en</td>\n",
       "      <td>Web</td>\n",
       "      <td>3</td>\n",
       "      <td>basic</td>\n",
       "      <td>20090609231247</td>\n",
       "    </tr>\n",
       "    <tr>\n",
       "      <th>3</th>\n",
       "      <td>direct</td>\n",
       "      <td>direct</td>\n",
       "      <td>42</td>\n",
       "      <td>other</td>\n",
       "      <td>2011-12-05</td>\n",
       "      <td>2012-09-08</td>\n",
       "      <td>untracked</td>\n",
       "      <td>Firefox</td>\n",
       "      <td>Mac Desktop</td>\n",
       "      <td>FEMALE</td>\n",
       "      <td>bjjt8pjhuk</td>\n",
       "      <td>en</td>\n",
       "      <td>Web</td>\n",
       "      <td>0</td>\n",
       "      <td>facebook</td>\n",
       "      <td>20091031060129</td>\n",
       "    </tr>\n",
       "    <tr>\n",
       "      <th>4</th>\n",
       "      <td>direct</td>\n",
       "      <td>direct</td>\n",
       "      <td>41</td>\n",
       "      <td>US</td>\n",
       "      <td>2010-09-14</td>\n",
       "      <td>2010-02-18</td>\n",
       "      <td>untracked</td>\n",
       "      <td>Chrome</td>\n",
       "      <td>Mac Desktop</td>\n",
       "      <td>-unknown-</td>\n",
       "      <td>87mebub9p4</td>\n",
       "      <td>en</td>\n",
       "      <td>Web</td>\n",
       "      <td>0</td>\n",
       "      <td>basic</td>\n",
       "      <td>20091208061105</td>\n",
       "    </tr>\n",
       "    <tr>\n",
       "      <th>5</th>\n",
       "      <td>other</td>\n",
       "      <td>other</td>\n",
       "      <td>NaN</td>\n",
       "      <td>US</td>\n",
       "      <td>2010-01-01</td>\n",
       "      <td>2010-01-02</td>\n",
       "      <td>omg</td>\n",
       "      <td>Chrome</td>\n",
       "      <td>Mac Desktop</td>\n",
       "      <td>-unknown-</td>\n",
       "      <td>osr2jwljor</td>\n",
       "      <td>en</td>\n",
       "      <td>Web</td>\n",
       "      <td>0</td>\n",
       "      <td>basic</td>\n",
       "      <td>20100101215619</td>\n",
       "    </tr>\n",
       "    <tr>\n",
       "      <th>6</th>\n",
       "      <td>other</td>\n",
       "      <td>craigslist</td>\n",
       "      <td>46</td>\n",
       "      <td>US</td>\n",
       "      <td>2010-01-02</td>\n",
       "      <td>2010-01-05</td>\n",
       "      <td>untracked</td>\n",
       "      <td>Safari</td>\n",
       "      <td>Mac Desktop</td>\n",
       "      <td>FEMALE</td>\n",
       "      <td>lsw9q7uk0j</td>\n",
       "      <td>en</td>\n",
       "      <td>Web</td>\n",
       "      <td>0</td>\n",
       "      <td>basic</td>\n",
       "      <td>20100102012558</td>\n",
       "    </tr>\n",
       "    <tr>\n",
       "      <th>7</th>\n",
       "      <td>direct</td>\n",
       "      <td>direct</td>\n",
       "      <td>47</td>\n",
       "      <td>US</td>\n",
       "      <td>2010-01-03</td>\n",
       "      <td>2010-01-13</td>\n",
       "      <td>omg</td>\n",
       "      <td>Safari</td>\n",
       "      <td>Mac Desktop</td>\n",
       "      <td>FEMALE</td>\n",
       "      <td>0d01nltbrs</td>\n",
       "      <td>en</td>\n",
       "      <td>Web</td>\n",
       "      <td>0</td>\n",
       "      <td>basic</td>\n",
       "      <td>20100103191905</td>\n",
       "    </tr>\n",
       "    <tr>\n",
       "      <th>8</th>\n",
       "      <td>other</td>\n",
       "      <td>craigslist</td>\n",
       "      <td>50</td>\n",
       "      <td>US</td>\n",
       "      <td>2010-01-04</td>\n",
       "      <td>2010-07-29</td>\n",
       "      <td>untracked</td>\n",
       "      <td>Safari</td>\n",
       "      <td>Mac Desktop</td>\n",
       "      <td>FEMALE</td>\n",
       "      <td>a1vcnhxeij</td>\n",
       "      <td>en</td>\n",
       "      <td>Web</td>\n",
       "      <td>0</td>\n",
       "      <td>basic</td>\n",
       "      <td>20100104004211</td>\n",
       "    </tr>\n",
       "    <tr>\n",
       "      <th>9</th>\n",
       "      <td>other</td>\n",
       "      <td>craigslist</td>\n",
       "      <td>46</td>\n",
       "      <td>US</td>\n",
       "      <td>2010-01-04</td>\n",
       "      <td>2010-01-04</td>\n",
       "      <td>omg</td>\n",
       "      <td>Firefox</td>\n",
       "      <td>Mac Desktop</td>\n",
       "      <td>-unknown-</td>\n",
       "      <td>6uh8zyj2gn</td>\n",
       "      <td>en</td>\n",
       "      <td>Web</td>\n",
       "      <td>0</td>\n",
       "      <td>basic</td>\n",
       "      <td>20100104023758</td>\n",
       "    </tr>\n",
       "  </tbody>\n",
       "</table>\n",
       "</div>"
      ],
      "text/plain": [
       "  affiliate_channel affiliate_provider  age country_destination  \\\n",
       "0            direct             direct  NaN                 NDF   \n",
       "1               seo             google   38                 NDF   \n",
       "2            direct             direct   56                  US   \n",
       "3            direct             direct   42               other   \n",
       "4            direct             direct   41                  US   \n",
       "5             other              other  NaN                  US   \n",
       "6             other         craigslist   46                  US   \n",
       "7            direct             direct   47                  US   \n",
       "8             other         craigslist   50                  US   \n",
       "9             other         craigslist   46                  US   \n",
       "\n",
       "  date_account_created date_first_booking first_affiliate_tracked  \\\n",
       "0           2010-06-28                NaN               untracked   \n",
       "1           2011-05-25                NaN               untracked   \n",
       "2           2010-09-28         2010-08-02               untracked   \n",
       "3           2011-12-05         2012-09-08               untracked   \n",
       "4           2010-09-14         2010-02-18               untracked   \n",
       "5           2010-01-01         2010-01-02                     omg   \n",
       "6           2010-01-02         2010-01-05               untracked   \n",
       "7           2010-01-03         2010-01-13                     omg   \n",
       "8           2010-01-04         2010-07-29               untracked   \n",
       "9           2010-01-04         2010-01-04                     omg   \n",
       "\n",
       "  first_browser first_device_type     gender          id language signup_app  \\\n",
       "0        Chrome       Mac Desktop  -unknown-  gxn3p5htnn       en        Web   \n",
       "1        Chrome       Mac Desktop       MALE  820tgsjxq7       en        Web   \n",
       "2            IE   Windows Desktop     FEMALE  4ft3gnwmtx       en        Web   \n",
       "3       Firefox       Mac Desktop     FEMALE  bjjt8pjhuk       en        Web   \n",
       "4        Chrome       Mac Desktop  -unknown-  87mebub9p4       en        Web   \n",
       "5        Chrome       Mac Desktop  -unknown-  osr2jwljor       en        Web   \n",
       "6        Safari       Mac Desktop     FEMALE  lsw9q7uk0j       en        Web   \n",
       "7        Safari       Mac Desktop     FEMALE  0d01nltbrs       en        Web   \n",
       "8        Safari       Mac Desktop     FEMALE  a1vcnhxeij       en        Web   \n",
       "9       Firefox       Mac Desktop  -unknown-  6uh8zyj2gn       en        Web   \n",
       "\n",
       "   signup_flow signup_method  timestamp_first_active  \n",
       "0            0      facebook          20090319043255  \n",
       "1            0      facebook          20090523174809  \n",
       "2            3         basic          20090609231247  \n",
       "3            0      facebook          20091031060129  \n",
       "4            0         basic          20091208061105  \n",
       "5            0         basic          20100101215619  \n",
       "6            0         basic          20100102012558  \n",
       "7            0         basic          20100103191905  \n",
       "8            0         basic          20100104004211  \n",
       "9            0         basic          20100104023758  "
      ]
     },
     "execution_count": 20,
     "metadata": {},
     "output_type": "execute_result"
    }
   ],
   "source": [
    "print(\"Number of users in the training set: %0.0f; \\\n",
    "Number of users in the test set: %0.0f\" % (np.shape(train)[0], np.shape(test)[0]))\n",
    "print(\"Full Set Rows: %0.0f; -Columns: %0.0f\" % np.shape(users))\n",
    "users.head(10)"
   ]
  },
  {
   "cell_type": "markdown",
   "metadata": {
    "collapsed": true
   },
   "source": [
    "# Preliminary Findings\n",
    "\n",
    "There are a lot of categorical variable so this chart is a bit crowded. Below are some quick comments about each.\n",
    "* Starting with gender, it appears users with 'unknown' gender book less frequently than those with a known one while users with gender 'other' book more frequently\n",
    "* Users with the 'google' signup_method book less frequently than 'basic' or 'facebook'\n",
    "* Users with signup_flow 3 book more frequently than any other category while several have nearly 100% 'NDF'\n",
    "* Users with affiliate_channel 'content' book less frequently than other categories\n",
    "* Users with affiliate_provider 'craigslist', direct', and 'google' book more frequently than other categories (this begs the question as to why the google affiliate channel is more effective than the google sign up method)\n",
    "* Users with first_affiliate_tracked 'local ops' book less frequently than other categories\n",
    "* Users with signup_app 'Web' booked the most frequently, while those with 'Android' booked the least\n",
    "* Users with first_device_type 'Mac_Desktop' booked the most frequently, while those with 'Android Phone' booked the least\n",
    "The chart on first_browser highlights the large number used above all else; it is difficult to glean any meaningful insights beyond that some obscure browsers that are not likely widely used have very high or very low booking frequencies.\n",
    "The chart on language is somewhat surprising given that all the users we"
   ]
  },
  {
   "cell_type": "markdown",
   "metadata": {
    "collapsed": true
   },
   "source": [
    "# Test my Hyphotheses\n",
    "Any preliminary exploration you’ve performed and your initial findings. Test the hypotheses one at a time. Often, the data story emerges as a result of a sequence of testing hypothesis e.g. You first tested if X was true, and because it wasn't, you tried Y, which turned out to be true."
   ]
  },
  {
   "cell_type": "code",
   "execution_count": null,
   "metadata": {
    "collapsed": true
   },
   "outputs": [],
   "source": []
  },
  {
   "cell_type": "code",
   "execution_count": null,
   "metadata": {
    "collapsed": true
   },
   "outputs": [],
   "source": []
  },
  {
   "cell_type": "code",
   "execution_count": null,
   "metadata": {
    "collapsed": true
   },
   "outputs": [],
   "source": []
  },
  {
   "cell_type": "code",
   "execution_count": null,
   "metadata": {
    "collapsed": true
   },
   "outputs": [],
   "source": []
  },
  {
   "cell_type": "code",
   "execution_count": null,
   "metadata": {
    "collapsed": true
   },
   "outputs": [],
   "source": []
  },
  {
   "cell_type": "markdown",
   "metadata": {
    "collapsed": true
   },
   "source": [
    "# Course of Action\n",
    "Based on these findings, what approach are you going to take? How has your approach changed from what you initially proposed, if applicable?"
   ]
  },
  {
   "cell_type": "code",
   "execution_count": null,
   "metadata": {
    "collapsed": true
   },
   "outputs": [],
   "source": []
  },
  {
   "cell_type": "code",
   "execution_count": null,
   "metadata": {
    "collapsed": true
   },
   "outputs": [],
   "source": []
  },
  {
   "cell_type": "code",
   "execution_count": null,
   "metadata": {
    "collapsed": true
   },
   "outputs": [],
   "source": []
  },
  {
   "cell_type": "markdown",
   "metadata": {
    "collapsed": true
   },
   "source": [
    "# Source Additional Data\n",
    "Are there other datasets you can find, use and combine with, to answer the questions that matter?"
   ]
  },
  {
   "cell_type": "markdown",
   "metadata": {},
   "source": [
    "### Dataset #3: User Sessions "
   ]
  },
  {
   "cell_type": "code",
   "execution_count": 9,
   "metadata": {
    "collapsed": false
   },
   "outputs": [
    {
     "name": "stdout",
     "output_type": "stream",
     "text": [
      "Rows: 10567737; Columns: 6\n"
     ]
    },
    {
     "data": {
      "text/html": [
       "<div>\n",
       "<table border=\"1\" class=\"dataframe\">\n",
       "  <thead>\n",
       "    <tr style=\"text-align: right;\">\n",
       "      <th></th>\n",
       "      <th>user_id</th>\n",
       "      <th>action</th>\n",
       "      <th>action_type</th>\n",
       "      <th>action_detail</th>\n",
       "      <th>device_type</th>\n",
       "      <th>secs_elapsed</th>\n",
       "    </tr>\n",
       "  </thead>\n",
       "  <tbody>\n",
       "    <tr>\n",
       "      <th>10567732</th>\n",
       "      <td>9uqfg8txu3</td>\n",
       "      <td>dashboard</td>\n",
       "      <td>view</td>\n",
       "      <td>dashboard</td>\n",
       "      <td>Windows Desktop</td>\n",
       "      <td>556</td>\n",
       "    </tr>\n",
       "    <tr>\n",
       "      <th>10567733</th>\n",
       "      <td>9uqfg8txu3</td>\n",
       "      <td>edit</td>\n",
       "      <td>view</td>\n",
       "      <td>edit_profile</td>\n",
       "      <td>Windows Desktop</td>\n",
       "      <td>6624</td>\n",
       "    </tr>\n",
       "    <tr>\n",
       "      <th>10567734</th>\n",
       "      <td>9uqfg8txu3</td>\n",
       "      <td>webcam_upload</td>\n",
       "      <td>-unknown-</td>\n",
       "      <td>-unknown-</td>\n",
       "      <td>Windows Desktop</td>\n",
       "      <td>200125</td>\n",
       "    </tr>\n",
       "    <tr>\n",
       "      <th>10567735</th>\n",
       "      <td>9uqfg8txu3</td>\n",
       "      <td>active</td>\n",
       "      <td>-unknown-</td>\n",
       "      <td>-unknown-</td>\n",
       "      <td>-unknown-</td>\n",
       "      <td>17624</td>\n",
       "    </tr>\n",
       "    <tr>\n",
       "      <th>10567736</th>\n",
       "      <td>9uqfg8txu3</td>\n",
       "      <td>show_personalize</td>\n",
       "      <td>data</td>\n",
       "      <td>user_profile_content_update</td>\n",
       "      <td>Windows Desktop</td>\n",
       "      <td>1221</td>\n",
       "    </tr>\n",
       "  </tbody>\n",
       "</table>\n",
       "</div>"
      ],
      "text/plain": [
       "             user_id            action action_type  \\\n",
       "10567732  9uqfg8txu3         dashboard        view   \n",
       "10567733  9uqfg8txu3              edit        view   \n",
       "10567734  9uqfg8txu3     webcam_upload   -unknown-   \n",
       "10567735  9uqfg8txu3            active   -unknown-   \n",
       "10567736  9uqfg8txu3  show_personalize        data   \n",
       "\n",
       "                        action_detail      device_type  secs_elapsed  \n",
       "10567732                    dashboard  Windows Desktop           556  \n",
       "10567733                 edit_profile  Windows Desktop          6624  \n",
       "10567734                    -unknown-  Windows Desktop        200125  \n",
       "10567735                    -unknown-        -unknown-         17624  \n",
       "10567736  user_profile_content_update  Windows Desktop          1221  "
      ]
     },
     "execution_count": 9,
     "metadata": {},
     "output_type": "execute_result"
    }
   ],
   "source": [
    "print(\"Rows: %0.0f; Columns: %0.0f\" % np.shape(user_sessions))\n",
    "user_sessions.tail()"
   ]
  },
  {
   "cell_type": "code",
   "execution_count": 10,
   "metadata": {
    "collapsed": false
   },
   "outputs": [
    {
     "data": {
      "text/html": [
       "<div>\n",
       "<table border=\"1\" class=\"dataframe\">\n",
       "  <thead>\n",
       "    <tr style=\"text-align: right;\">\n",
       "      <th></th>\n",
       "      <th></th>\n",
       "      <th></th>\n",
       "      <th></th>\n",
       "      <th>device_type</th>\n",
       "      <th>secs_elapsed</th>\n",
       "    </tr>\n",
       "    <tr>\n",
       "      <th>user_id</th>\n",
       "      <th>action</th>\n",
       "      <th>action_type</th>\n",
       "      <th>action_detail</th>\n",
       "      <th></th>\n",
       "      <th></th>\n",
       "    </tr>\n",
       "  </thead>\n",
       "  <tbody>\n",
       "    <tr>\n",
       "      <th rowspan=\"11\" valign=\"top\">9uqfg8txu3</th>\n",
       "      <th>active</th>\n",
       "      <th>-unknown-</th>\n",
       "      <th>-unknown-</th>\n",
       "      <td>2</td>\n",
       "      <td>2</td>\n",
       "    </tr>\n",
       "    <tr>\n",
       "      <th>callback</th>\n",
       "      <th>partner_callback</th>\n",
       "      <th>oauth_response</th>\n",
       "      <td>1</td>\n",
       "      <td>0</td>\n",
       "    </tr>\n",
       "    <tr>\n",
       "      <th>create</th>\n",
       "      <th>submit</th>\n",
       "      <th>create_phone_numbers</th>\n",
       "      <td>2</td>\n",
       "      <td>2</td>\n",
       "    </tr>\n",
       "    <tr>\n",
       "      <th>dashboard</th>\n",
       "      <th>view</th>\n",
       "      <th>dashboard</th>\n",
       "      <td>1</td>\n",
       "      <td>1</td>\n",
       "    </tr>\n",
       "    <tr>\n",
       "      <th>edit</th>\n",
       "      <th>view</th>\n",
       "      <th>edit_profile</th>\n",
       "      <td>4</td>\n",
       "      <td>4</td>\n",
       "    </tr>\n",
       "    <tr>\n",
       "      <th>header_userpic</th>\n",
       "      <th>data</th>\n",
       "      <th>header_userpic</th>\n",
       "      <td>1</td>\n",
       "      <td>1</td>\n",
       "    </tr>\n",
       "    <tr>\n",
       "      <th>languages_multiselect</th>\n",
       "      <th>-unknown-</th>\n",
       "      <th>-unknown-</th>\n",
       "      <td>1</td>\n",
       "      <td>1</td>\n",
       "    </tr>\n",
       "    <tr>\n",
       "      <th>show</th>\n",
       "      <th>view</th>\n",
       "      <th>user_profile</th>\n",
       "      <td>1</td>\n",
       "      <td>1</td>\n",
       "    </tr>\n",
       "    <tr>\n",
       "      <th>show_personalize</th>\n",
       "      <th>data</th>\n",
       "      <th>user_profile_content_update</th>\n",
       "      <td>1</td>\n",
       "      <td>1</td>\n",
       "    </tr>\n",
       "    <tr>\n",
       "      <th>update</th>\n",
       "      <th>submit</th>\n",
       "      <th>update_user_profile</th>\n",
       "      <td>1</td>\n",
       "      <td>1</td>\n",
       "    </tr>\n",
       "    <tr>\n",
       "      <th>webcam_upload</th>\n",
       "      <th>-unknown-</th>\n",
       "      <th>-unknown-</th>\n",
       "      <td>1</td>\n",
       "      <td>1</td>\n",
       "    </tr>\n",
       "    <tr>\n",
       "      <th rowspan=\"15\" valign=\"top\">d1mm9tcy42</th>\n",
       "      <th>active</th>\n",
       "      <th>-unknown-</th>\n",
       "      <th>-unknown-</th>\n",
       "      <td>1</td>\n",
       "      <td>1</td>\n",
       "    </tr>\n",
       "    <tr>\n",
       "      <th>ajax_refresh_subtotal</th>\n",
       "      <th>click</th>\n",
       "      <th>change_trip_characteristics</th>\n",
       "      <td>8</td>\n",
       "      <td>8</td>\n",
       "    </tr>\n",
       "    <tr>\n",
       "      <th>ask_question</th>\n",
       "      <th>submit</th>\n",
       "      <th>contact_host</th>\n",
       "      <td>1</td>\n",
       "      <td>1</td>\n",
       "    </tr>\n",
       "    <tr>\n",
       "      <th>decision_tree</th>\n",
       "      <th>-unknown-</th>\n",
       "      <th>-unknown-</th>\n",
       "      <td>1</td>\n",
       "      <td>1</td>\n",
       "    </tr>\n",
       "    <tr>\n",
       "      <th>faq_experiment_ids</th>\n",
       "      <th>-unknown-</th>\n",
       "      <th>-unknown-</th>\n",
       "      <td>1</td>\n",
       "      <td>1</td>\n",
       "    </tr>\n",
       "    <tr>\n",
       "      <th>header_userpic</th>\n",
       "      <th>data</th>\n",
       "      <th>header_userpic</th>\n",
       "      <td>1</td>\n",
       "      <td>1</td>\n",
       "    </tr>\n",
       "    <tr>\n",
       "      <th>hosting_social_proof</th>\n",
       "      <th>-unknown-</th>\n",
       "      <th>-unknown-</th>\n",
       "      <td>2</td>\n",
       "      <td>2</td>\n",
       "    </tr>\n",
       "    <tr>\n",
       "      <th>index</th>\n",
       "      <th>view</th>\n",
       "      <th>view_search_results</th>\n",
       "      <td>11</td>\n",
       "      <td>11</td>\n",
       "    </tr>\n",
       "    <tr>\n",
       "      <th>multi</th>\n",
       "      <th>-unknown-</th>\n",
       "      <th>-unknown-</th>\n",
       "      <td>1</td>\n",
       "      <td>1</td>\n",
       "    </tr>\n",
       "    <tr>\n",
       "      <th>other_hosting_reviews_first</th>\n",
       "      <th>-unknown-</th>\n",
       "      <th>-unknown-</th>\n",
       "      <td>1</td>\n",
       "      <td>1</td>\n",
       "    </tr>\n",
       "    <tr>\n",
       "      <th>personalize</th>\n",
       "      <th>data</th>\n",
       "      <th>wishlist_content_update</th>\n",
       "      <td>25</td>\n",
       "      <td>25</td>\n",
       "    </tr>\n",
       "    <tr>\n",
       "      <th>recent_reservations</th>\n",
       "      <th>-unknown-</th>\n",
       "      <th>-unknown-</th>\n",
       "      <td>1</td>\n",
       "      <td>1</td>\n",
       "    </tr>\n",
       "    <tr>\n",
       "      <th>search_results</th>\n",
       "      <th>click</th>\n",
       "      <th>view_search_results</th>\n",
       "      <td>12</td>\n",
       "      <td>12</td>\n",
       "    </tr>\n",
       "    <tr>\n",
       "      <th>show</th>\n",
       "      <th>view</th>\n",
       "      <th>p3</th>\n",
       "      <td>14</td>\n",
       "      <td>14</td>\n",
       "    </tr>\n",
       "    <tr>\n",
       "      <th>similar_listings</th>\n",
       "      <th>data</th>\n",
       "      <th>similar_listings</th>\n",
       "      <td>9</td>\n",
       "      <td>9</td>\n",
       "    </tr>\n",
       "  </tbody>\n",
       "</table>\n",
       "</div>"
      ],
      "text/plain": [
       "                                                                                     device_type  \\\n",
       "user_id    action                      action_type      action_detail                              \n",
       "9uqfg8txu3 active                      -unknown-        -unknown-                              2   \n",
       "           callback                    partner_callback oauth_response                         1   \n",
       "           create                      submit           create_phone_numbers                   2   \n",
       "           dashboard                   view             dashboard                              1   \n",
       "           edit                        view             edit_profile                           4   \n",
       "           header_userpic              data             header_userpic                         1   \n",
       "           languages_multiselect       -unknown-        -unknown-                              1   \n",
       "           show                        view             user_profile                           1   \n",
       "           show_personalize            data             user_profile_content_update            1   \n",
       "           update                      submit           update_user_profile                    1   \n",
       "           webcam_upload               -unknown-        -unknown-                              1   \n",
       "d1mm9tcy42 active                      -unknown-        -unknown-                              1   \n",
       "           ajax_refresh_subtotal       click            change_trip_characteristics            8   \n",
       "           ask_question                submit           contact_host                           1   \n",
       "           decision_tree               -unknown-        -unknown-                              1   \n",
       "           faq_experiment_ids          -unknown-        -unknown-                              1   \n",
       "           header_userpic              data             header_userpic                         1   \n",
       "           hosting_social_proof        -unknown-        -unknown-                              2   \n",
       "           index                       view             view_search_results                   11   \n",
       "           multi                       -unknown-        -unknown-                              1   \n",
       "           other_hosting_reviews_first -unknown-        -unknown-                              1   \n",
       "           personalize                 data             wishlist_content_update               25   \n",
       "           recent_reservations         -unknown-        -unknown-                              1   \n",
       "           search_results              click            view_search_results                   12   \n",
       "           show                        view             p3                                    14   \n",
       "           similar_listings            data             similar_listings                       9   \n",
       "\n",
       "                                                                                     secs_elapsed  \n",
       "user_id    action                      action_type      action_detail                              \n",
       "9uqfg8txu3 active                      -unknown-        -unknown-                               2  \n",
       "           callback                    partner_callback oauth_response                          0  \n",
       "           create                      submit           create_phone_numbers                    2  \n",
       "           dashboard                   view             dashboard                               1  \n",
       "           edit                        view             edit_profile                            4  \n",
       "           header_userpic              data             header_userpic                          1  \n",
       "           languages_multiselect       -unknown-        -unknown-                               1  \n",
       "           show                        view             user_profile                            1  \n",
       "           show_personalize            data             user_profile_content_update             1  \n",
       "           update                      submit           update_user_profile                     1  \n",
       "           webcam_upload               -unknown-        -unknown-                               1  \n",
       "d1mm9tcy42 active                      -unknown-        -unknown-                               1  \n",
       "           ajax_refresh_subtotal       click            change_trip_characteristics             8  \n",
       "           ask_question                submit           contact_host                            1  \n",
       "           decision_tree               -unknown-        -unknown-                               1  \n",
       "           faq_experiment_ids          -unknown-        -unknown-                               1  \n",
       "           header_userpic              data             header_userpic                          1  \n",
       "           hosting_social_proof        -unknown-        -unknown-                               2  \n",
       "           index                       view             view_search_results                    11  \n",
       "           multi                       -unknown-        -unknown-                               1  \n",
       "           other_hosting_reviews_first -unknown-        -unknown-                               1  \n",
       "           personalize                 data             wishlist_content_update                25  \n",
       "           recent_reservations         -unknown-        -unknown-                               1  \n",
       "           search_results              click            view_search_results                    12  \n",
       "           show                        view             p3                                     14  \n",
       "           similar_listings            data             similar_listings                        9  "
      ]
     },
     "execution_count": 10,
     "metadata": {},
     "output_type": "execute_result"
    }
   ],
   "source": [
    "top_tail = user_sessions[user_sessions.user_id.isin(['d1mm9tcy42','9uqfg8txu3'])].sort_values('action')\n",
    "top_tail.groupby(['user_id','action','action_type','action_detail']).count()"
   ]
  },
  {
   "cell_type": "code",
   "execution_count": 12,
   "metadata": {
    "collapsed": false
   },
   "outputs": [
    {
     "name": "stdout",
     "output_type": "stream",
     "text": [
      "Number  of rows with missing values\n",
      "-------------------------------------\n",
      "action_type      2157374\n",
      "action_detail    2157345\n",
      "device_type       211279\n",
      "secs_elapsed      136031\n",
      "action             79626\n",
      "user_id            34496\n",
      "dtype: int64\n",
      "% of rows with missing values\n",
      "-------------------------------------\n",
      "action_type      20.414721\n",
      "action_detail    20.414446\n",
      "device_type       1.999283\n",
      "secs_elapsed      1.287229\n",
      "action            0.753482\n",
      "user_id           0.326428\n",
      "dtype: float64\n"
     ]
    }
   ],
   "source": [
    "sessions_nan = user_sessions.replace('-unknown-', np.nan)\n",
    "sessions_nan_counts = sessions_nan.isnull().sum().sort_values(ascending=False)\n",
    "sessions_nan_summary = (sessions_nan_counts / sessions_nan.shape[0]) * 100\n",
    "\n",
    "print('Number  of rows with missing values')\n",
    "print('-------------------------------------')\n",
    "print(sessions_nan_counts)\n",
    "\n",
    "print('% of rows with missing values')\n",
    "print('-------------------------------------')\n",
    "print(sessions_nan_summary)"
   ]
  },
  {
   "cell_type": "markdown",
   "metadata": {},
   "source": [
    "The session data seems to hold a rich variety of metrics, but the aren't really well populated for action type and action detail. And it would seems like unknowns in action type would also mean unknwons in actiona detail. But do I care about these fields?"
   ]
  },
  {
   "cell_type": "code",
   "execution_count": 13,
   "metadata": {
    "collapsed": false
   },
   "outputs": [
    {
     "data": {
      "text/plain": [
       "view                33.695975\n",
       "data                19.907479\n",
       "click               18.889408\n",
       "-unknown-            9.757718\n",
       "submit               5.898680\n",
       "message_post         0.824235\n",
       "partner_callback     0.181042\n",
       "booking_request      0.177644\n",
       "modify               0.010778\n",
       "booking_response     0.000038\n",
       "Name: action_type, dtype: float64"
      ]
     },
     "execution_count": 13,
     "metadata": {},
     "output_type": "execute_result"
    }
   ],
   "source": [
    "# What values do action types tend to hold?\n",
    "sessions_action_types = (user_sessions.action_type.value_counts() / user_sessions.shape[0]) * 100 \n",
    "sessions_action_types"
   ]
  },
  {
   "cell_type": "code",
   "execution_count": 14,
   "metadata": {
    "collapsed": false
   },
   "outputs": [
    {
     "data": {
      "text/plain": [
       "view_search_results            16.814243\n",
       "p3                             13.025968\n",
       "-unknown-                       9.757444\n",
       "wishlist_content_update         6.688509\n",
       "user_profile                    6.215512\n",
       "change_trip_characteristics     4.615406\n",
       "similar_listings                3.450351\n",
       "user_social_connections         3.187049\n",
       "update_listing                  2.552855\n",
       "listing_reviews                 2.545682\n",
       "dashboard                       1.447349\n",
       "user_wishlists                  1.444699\n",
       "header_userpic                  1.342104\n",
       "message_thread                  1.252823\n",
       "edit_profile                    1.028470\n",
       "message_post                    0.824235\n",
       "contact_host                    0.766872\n",
       "unavailable_dates               0.736156\n",
       "confirm_email_link              0.552834\n",
       "create_user                     0.519298\n",
       "Name: action_detail, dtype: float64"
      ]
     },
     "execution_count": 14,
     "metadata": {},
     "output_type": "execute_result"
    }
   ],
   "source": [
    "# top 20 action details\n",
    "sessions_action_details = (user_sessions.action_detail.value_counts() / user_sessions.shape[0]) * 100 \n",
    "sessions_action_details.head(20)"
   ]
  },
  {
   "cell_type": "markdown",
   "metadata": {},
   "source": [
    "As the name suggests, there is more detail under the Action Detail field about the action performed but very little other than the occurance of reservation as a description pops out as relevant. Action Type looks like it should be the most promising of the 3 action related fields, because of the direct mention of booking request and booking response. So let's take a closer look."
   ]
  },
  {
   "cell_type": "code",
   "execution_count": 15,
   "metadata": {
    "collapsed": false
   },
   "outputs": [
    {
     "data": {
      "text/html": [
       "<div>\n",
       "<table border=\"1\" class=\"dataframe\">\n",
       "  <thead>\n",
       "    <tr style=\"text-align: right;\">\n",
       "      <th></th>\n",
       "      <th></th>\n",
       "      <th></th>\n",
       "      <th>user_id</th>\n",
       "      <th>device_type</th>\n",
       "      <th>secs_elapsed</th>\n",
       "    </tr>\n",
       "    <tr>\n",
       "      <th>action_type</th>\n",
       "      <th>action</th>\n",
       "      <th>action_detail</th>\n",
       "      <th></th>\n",
       "      <th></th>\n",
       "      <th></th>\n",
       "    </tr>\n",
       "  </thead>\n",
       "  <tbody>\n",
       "    <tr>\n",
       "      <th rowspan=\"2\" valign=\"top\">booking_request</th>\n",
       "      <th>at_checkpoint</th>\n",
       "      <th>at_checkpoint</th>\n",
       "      <td>5166</td>\n",
       "      <td>5170</td>\n",
       "      <td>5128</td>\n",
       "    </tr>\n",
       "    <tr>\n",
       "      <th>pending</th>\n",
       "      <th>pending</th>\n",
       "      <td>13596</td>\n",
       "      <td>13603</td>\n",
       "      <td>13521</td>\n",
       "    </tr>\n",
       "    <tr>\n",
       "      <th>booking_response</th>\n",
       "      <th>booking</th>\n",
       "      <th>booking</th>\n",
       "      <td>4</td>\n",
       "      <td>4</td>\n",
       "      <td>4</td>\n",
       "    </tr>\n",
       "  </tbody>\n",
       "</table>\n",
       "</div>"
      ],
      "text/plain": [
       "                                              user_id  device_type  \\\n",
       "action_type      action        action_detail                         \n",
       "booking_request  at_checkpoint at_checkpoint     5166         5170   \n",
       "                 pending       pending          13596        13603   \n",
       "booking_response booking       booking              4            4   \n",
       "\n",
       "                                              secs_elapsed  \n",
       "action_type      action        action_detail                \n",
       "booking_request  at_checkpoint at_checkpoint          5128  \n",
       "                 pending       pending               13521  \n",
       "booking_response booking       booking                   4  "
      ]
     },
     "execution_count": 15,
     "metadata": {},
     "output_type": "execute_result"
    }
   ],
   "source": [
    "user_sessions[user_sessions.action_type.isin(['booking_request','booking_response'])] \\\n",
    ".groupby(['action_type','action','action_detail']).count()"
   ]
  },
  {
   "cell_type": "markdown",
   "metadata": {},
   "source": [
    "It seems action and action details both hold the same information for these two booking related action types. When I looked at whether I can used the occurance of checkpoint, pending and booking as field values in the relatively complete action field (0.75% missing records), in the hopes of filling in action type and action detail statuses I came up short unfortunately as 2,391 is only a drop in the bucket compared to the total unknown values of 2,157,374 (please see below)."
   ]
  },
  {
   "cell_type": "code",
   "execution_count": 16,
   "metadata": {
    "collapsed": false
   },
   "outputs": [
    {
     "data": {
      "text/html": [
       "<div>\n",
       "<table border=\"1\" class=\"dataframe\">\n",
       "  <thead>\n",
       "    <tr style=\"text-align: right;\">\n",
       "      <th></th>\n",
       "      <th></th>\n",
       "      <th></th>\n",
       "      <th>user_id</th>\n",
       "      <th>device_type</th>\n",
       "      <th>secs_elapsed</th>\n",
       "    </tr>\n",
       "    <tr>\n",
       "      <th>action_type</th>\n",
       "      <th>action</th>\n",
       "      <th>action_detail</th>\n",
       "      <th></th>\n",
       "      <th></th>\n",
       "      <th></th>\n",
       "    </tr>\n",
       "  </thead>\n",
       "  <tbody>\n",
       "    <tr>\n",
       "      <th>-unknown-</th>\n",
       "      <th>pending</th>\n",
       "      <th>-unknown-</th>\n",
       "      <td>2391</td>\n",
       "      <td>2397</td>\n",
       "      <td>2397</td>\n",
       "    </tr>\n",
       "    <tr>\n",
       "      <th rowspan=\"2\" valign=\"top\">booking_request</th>\n",
       "      <th>at_checkpoint</th>\n",
       "      <th>at_checkpoint</th>\n",
       "      <td>5166</td>\n",
       "      <td>5170</td>\n",
       "      <td>5128</td>\n",
       "    </tr>\n",
       "    <tr>\n",
       "      <th>pending</th>\n",
       "      <th>pending</th>\n",
       "      <td>13596</td>\n",
       "      <td>13603</td>\n",
       "      <td>13521</td>\n",
       "    </tr>\n",
       "    <tr>\n",
       "      <th>booking_response</th>\n",
       "      <th>booking</th>\n",
       "      <th>booking</th>\n",
       "      <td>4</td>\n",
       "      <td>4</td>\n",
       "      <td>4</td>\n",
       "    </tr>\n",
       "  </tbody>\n",
       "</table>\n",
       "</div>"
      ],
      "text/plain": [
       "                                              user_id  device_type  \\\n",
       "action_type      action        action_detail                         \n",
       "-unknown-        pending       -unknown-         2391         2397   \n",
       "booking_request  at_checkpoint at_checkpoint     5166         5170   \n",
       "                 pending       pending          13596        13603   \n",
       "booking_response booking       booking              4            4   \n",
       "\n",
       "                                              secs_elapsed  \n",
       "action_type      action        action_detail                \n",
       "-unknown-        pending       -unknown-              2397  \n",
       "booking_request  at_checkpoint at_checkpoint          5128  \n",
       "                 pending       pending               13521  \n",
       "booking_response booking       booking                   4  "
      ]
     },
     "execution_count": 16,
     "metadata": {},
     "output_type": "execute_result"
    }
   ],
   "source": [
    "user_sessions[user_sessions.action.isin(['at_checkpoint','pending','booking'])] \\\n",
    ".groupby(['action_type','action','action_detail']).count()"
   ]
  },
  {
   "cell_type": "markdown",
   "metadata": {},
   "source": [
    "I feature that is populated quite well is the type of device that was used to interact with the airbnb platform, and shows that the majority, 59.43% of users tended to use their desktop. "
   ]
  },
  {
   "cell_type": "code",
   "execution_count": 18,
   "metadata": {
    "collapsed": false
   },
   "outputs": [
    {
     "data": {
      "text/plain": [
       "device_type\n",
       "Mac Desktop                         34.011880\n",
       "Windows Desktop                     25.157127\n",
       "iPhone                              19.919411\n",
       "Android Phone                        7.945287\n",
       "iPad Tablet                          6.466985\n",
       "Android App Unknown Phone/Tablet     2.589504\n",
       "-unknown-                            1.999283\n",
       "Tablet                               1.323708\n",
       "Linux Desktop                        0.268487\n",
       "Chromebook                           0.211474\n",
       "iPodtouch                            0.077576\n",
       "Windows Phone                        0.019370\n",
       "Blackberry                           0.009264\n",
       "Opera Phone                          0.000643\n",
       "dtype: float64"
      ]
     },
     "execution_count": 18,
     "metadata": {},
     "output_type": "execute_result"
    }
   ],
   "source": [
    "user_sessions.groupby('device_type').size().sort_values(ascending=False) / user_sessions.shape[0] *100"
   ]
  },
  {
   "cell_type": "code",
   "execution_count": 19,
   "metadata": {
    "collapsed": false
   },
   "outputs": [
    {
     "data": {
      "text/html": [
       "<div>\n",
       "<table border=\"1\" class=\"dataframe\">\n",
       "  <thead>\n",
       "    <tr style=\"text-align: right;\">\n",
       "      <th></th>\n",
       "      <th>min</th>\n",
       "      <th>mean</th>\n",
       "      <th>median</th>\n",
       "      <th>max</th>\n",
       "    </tr>\n",
       "    <tr>\n",
       "      <th>device_type</th>\n",
       "      <th></th>\n",
       "      <th></th>\n",
       "      <th></th>\n",
       "      <th></th>\n",
       "    </tr>\n",
       "  </thead>\n",
       "  <tbody>\n",
       "    <tr>\n",
       "      <th>Blackberry</th>\n",
       "      <td>0.000000</td>\n",
       "      <td>897.149771</td>\n",
       "      <td>69.658333</td>\n",
       "      <td>28251.233333</td>\n",
       "    </tr>\n",
       "    <tr>\n",
       "      <th>Windows Phone</th>\n",
       "      <td>0.000000</td>\n",
       "      <td>700.293252</td>\n",
       "      <td>64.583333</td>\n",
       "      <td>28407.400000</td>\n",
       "    </tr>\n",
       "    <tr>\n",
       "      <th>-unknown-</th>\n",
       "      <td>0.000000</td>\n",
       "      <td>426.720023</td>\n",
       "      <td>64.433333</td>\n",
       "      <td>29875.583333</td>\n",
       "    </tr>\n",
       "    <tr>\n",
       "      <th>iPad Tablet</th>\n",
       "      <td>0.000000</td>\n",
       "      <td>351.012478</td>\n",
       "      <td>30.133333</td>\n",
       "      <td>29986.500000</td>\n",
       "    </tr>\n",
       "    <tr>\n",
       "      <th>Chromebook</th>\n",
       "      <td>0.000000</td>\n",
       "      <td>393.214455</td>\n",
       "      <td>29.633333</td>\n",
       "      <td>29916.816667</td>\n",
       "    </tr>\n",
       "    <tr>\n",
       "      <th>Linux Desktop</th>\n",
       "      <td>0.000000</td>\n",
       "      <td>420.764027</td>\n",
       "      <td>27.391667</td>\n",
       "      <td>29579.366667</td>\n",
       "    </tr>\n",
       "    <tr>\n",
       "      <th>Windows Desktop</th>\n",
       "      <td>0.000000</td>\n",
       "      <td>367.968227</td>\n",
       "      <td>21.933333</td>\n",
       "      <td>29990.800000</td>\n",
       "    </tr>\n",
       "    <tr>\n",
       "      <th>Tablet</th>\n",
       "      <td>0.000000</td>\n",
       "      <td>274.878099</td>\n",
       "      <td>21.750000</td>\n",
       "      <td>29881.400000</td>\n",
       "    </tr>\n",
       "    <tr>\n",
       "      <th>Mac Desktop</th>\n",
       "      <td>0.000000</td>\n",
       "      <td>331.945146</td>\n",
       "      <td>19.883333</td>\n",
       "      <td>29999.616667</td>\n",
       "    </tr>\n",
       "    <tr>\n",
       "      <th>Android Phone</th>\n",
       "      <td>0.000000</td>\n",
       "      <td>207.257217</td>\n",
       "      <td>17.383333</td>\n",
       "      <td>29974.466667</td>\n",
       "    </tr>\n",
       "    <tr>\n",
       "      <th>Android App Unknown Phone/Tablet</th>\n",
       "      <td>0.000000</td>\n",
       "      <td>222.375241</td>\n",
       "      <td>15.350000</td>\n",
       "      <td>29988.766667</td>\n",
       "    </tr>\n",
       "    <tr>\n",
       "      <th>iPodtouch</th>\n",
       "      <td>0.000000</td>\n",
       "      <td>241.095130</td>\n",
       "      <td>12.975000</td>\n",
       "      <td>29813.033333</td>\n",
       "    </tr>\n",
       "    <tr>\n",
       "      <th>iPhone</th>\n",
       "      <td>0.000000</td>\n",
       "      <td>294.031331</td>\n",
       "      <td>9.733333</td>\n",
       "      <td>29999.150000</td>\n",
       "    </tr>\n",
       "    <tr>\n",
       "      <th>Opera Phone</th>\n",
       "      <td>0.066667</td>\n",
       "      <td>250.648485</td>\n",
       "      <td>9.083333</td>\n",
       "      <td>4764.733333</td>\n",
       "    </tr>\n",
       "  </tbody>\n",
       "</table>\n",
       "</div>"
      ],
      "text/plain": [
       "                                       min        mean     median  \\\n",
       "device_type                                                         \n",
       "Blackberry                        0.000000  897.149771  69.658333   \n",
       "Windows Phone                     0.000000  700.293252  64.583333   \n",
       "-unknown-                         0.000000  426.720023  64.433333   \n",
       "iPad Tablet                       0.000000  351.012478  30.133333   \n",
       "Chromebook                        0.000000  393.214455  29.633333   \n",
       "Linux Desktop                     0.000000  420.764027  27.391667   \n",
       "Windows Desktop                   0.000000  367.968227  21.933333   \n",
       "Tablet                            0.000000  274.878099  21.750000   \n",
       "Mac Desktop                       0.000000  331.945146  19.883333   \n",
       "Android Phone                     0.000000  207.257217  17.383333   \n",
       "Android App Unknown Phone/Tablet  0.000000  222.375241  15.350000   \n",
       "iPodtouch                         0.000000  241.095130  12.975000   \n",
       "iPhone                            0.000000  294.031331   9.733333   \n",
       "Opera Phone                       0.066667  250.648485   9.083333   \n",
       "\n",
       "                                           max  \n",
       "device_type                                     \n",
       "Blackberry                        28251.233333  \n",
       "Windows Phone                     28407.400000  \n",
       "-unknown-                         29875.583333  \n",
       "iPad Tablet                       29986.500000  \n",
       "Chromebook                        29916.816667  \n",
       "Linux Desktop                     29579.366667  \n",
       "Windows Desktop                   29990.800000  \n",
       "Tablet                            29881.400000  \n",
       "Mac Desktop                       29999.616667  \n",
       "Android Phone                     29974.466667  \n",
       "Android App Unknown Phone/Tablet  29988.766667  \n",
       "iPodtouch                         29813.033333  \n",
       "iPhone                            29999.150000  \n",
       "Opera Phone                        4764.733333  "
      ]
     },
     "execution_count": 19,
     "metadata": {},
     "output_type": "execute_result"
    }
   ],
   "source": [
    "user_sessions.groupby('device_type')['secs_elapsed'].agg(['min','mean','median','max'])\\\n",
    ".sort_values('median',ascending=False) / 60"
   ]
  },
  {
   "cell_type": "code",
   "execution_count": null,
   "metadata": {
    "collapsed": true
   },
   "outputs": [],
   "source": []
  },
  {
   "cell_type": "code",
   "execution_count": null,
   "metadata": {
    "collapsed": true
   },
   "outputs": [],
   "source": []
  },
  {
   "cell_type": "code",
   "execution_count": null,
   "metadata": {
    "collapsed": true
   },
   "outputs": [],
   "source": []
  },
  {
   "cell_type": "code",
   "execution_count": null,
   "metadata": {
    "collapsed": true
   },
   "outputs": [],
   "source": []
  },
  {
   "cell_type": "code",
   "execution_count": null,
   "metadata": {
    "collapsed": true
   },
   "outputs": [],
   "source": []
  },
  {
   "cell_type": "code",
   "execution_count": null,
   "metadata": {
    "collapsed": true
   },
   "outputs": [],
   "source": []
  },
  {
   "cell_type": "code",
   "execution_count": null,
   "metadata": {
    "collapsed": true
   },
   "outputs": [],
   "source": []
  },
  {
   "cell_type": "code",
   "execution_count": null,
   "metadata": {
    "collapsed": true
   },
   "outputs": [],
   "source": []
  },
  {
   "cell_type": "markdown",
   "metadata": {
    "collapsed": true
   },
   "source": [
    "# Recommendations\n",
    "A final paper explaining the problem, your approach and your findings in complete technical detail. Include ideas for further research, as well as up to 3 concrete recommendations for your client on how to use your findings."
   ]
  },
  {
   "cell_type": "markdown",
   "metadata": {
    "collapsed": true
   },
   "source": [
    "# Further Research\n",
    "\n",
    "Include ideas for further research, as well as up to 3 concrete recommendations for your client on how to use your findings."
   ]
  },
  {
   "cell_type": "code",
   "execution_count": 6,
   "metadata": {
    "collapsed": false
   },
   "outputs": [
    {
     "data": {
      "application/json": {
       "Software versions": [
        {
         "module": "Python",
         "version": "2.7.11 64bit [MSC v.1500 64 bit (AMD64)]"
        },
        {
         "module": "IPython",
         "version": "4.0.2"
        },
        {
         "module": "OS",
         "version": "Windows 7 6.1.7601 SP1"
        },
        {
         "module": "numpy",
         "version": "1.10.1"
        },
        {
         "module": "scipy",
         "version": "0.16.0"
        },
        {
         "module": "matplotlib",
         "version": "1.5.1"
        }
       ]
      },
      "text/html": [
       "<table><tr><th>Software</th><th>Version</th></tr><tr><td>Python</td><td>2.7.11 64bit [MSC v.1500 64 bit (AMD64)]</td></tr><tr><td>IPython</td><td>4.0.2</td></tr><tr><td>OS</td><td>Windows 7 6.1.7601 SP1</td></tr><tr><td>numpy</td><td>1.10.1</td></tr><tr><td>scipy</td><td>0.16.0</td></tr><tr><td>matplotlib</td><td>1.5.1</td></tr><tr><td colspan='2'>Sun Jan 31 13:23:58 2016 South Africa Standard Time</td></tr></table>"
      ],
      "text/latex": [
       "\\begin{tabular}{|l|l|}\\hline\n",
       "{\\bf Software} & {\\bf Version} \\\\ \\hline\\hline\n",
       "Python & 2.7.11 64bit [MSC v.1500 64 bit (AMD64)] \\\\ \\hline\n",
       "IPython & 4.0.2 \\\\ \\hline\n",
       "OS & Windows 7 6.1.7601 SP1 \\\\ \\hline\n",
       "numpy & 1.10.1 \\\\ \\hline\n",
       "scipy & 0.16.0 \\\\ \\hline\n",
       "matplotlib & 1.5.1 \\\\ \\hline\n",
       "\\hline \\multicolumn{2}{|l|}{Sun Jan 31 13:23:58 2016 South Africa Standard Time} \\\\ \\hline\n",
       "\\end{tabular}\n"
      ],
      "text/plain": [
       "Software versions\n",
       "Python 2.7.11 64bit [MSC v.1500 64 bit (AMD64)]\n",
       "IPython 4.0.2\n",
       "OS Windows 7 6.1.7601 SP1\n",
       "numpy 1.10.1\n",
       "scipy 0.16.0\n",
       "matplotlib 1.5.1\n",
       "Sun Jan 31 13:23:58 2016 South Africa Standard Time"
      ]
     },
     "execution_count": 6,
     "metadata": {},
     "output_type": "execute_result"
    }
   ],
   "source": [
    "#%install_ext http://raw.github.com/jrjohansson/version_information/master/version_information.py\n",
    "# you need to run the line above only once\n",
    "%load_ext version_information\n",
    "#%reload_ext version_information\n",
    "\n",
    "%version_information numpy, scipy, matplotlib"
   ]
  },
  {
   "cell_type": "markdown",
   "metadata": {
    "collapsed": true
   },
   "source": [
    "# Acknowledgements\n",
    "I have learnt a lot from the work of my fellow Kagglers, and would like to acknowlegde their influence on my work:\n",
    "* David Gasquez's https://www.kaggle.com/davidgasquez/airbnb-recruiting-new-user-bookings/user-data-exploration/notebook\n",
    "* Kevin Wu https://www.kaggle.com/kevinwu06/airbnb-recruiting-new-user-bookings/airbnb-exploratory-analysis/notebook"
   ]
  }
 ],
 "metadata": {
  "kernelspec": {
   "display_name": "Python 2",
   "language": "python",
   "name": "python2"
  },
  "language_info": {
   "codemirror_mode": {
    "name": "ipython",
    "version": 2
   },
   "file_extension": ".py",
   "mimetype": "text/x-python",
   "name": "python",
   "nbconvert_exporter": "python",
   "pygments_lexer": "ipython2",
   "version": "2.7.11"
  }
 },
 "nbformat": 4,
 "nbformat_minor": 0
}
