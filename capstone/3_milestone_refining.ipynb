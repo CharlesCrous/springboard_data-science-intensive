{
 "cells": [
  {
   "cell_type": "markdown",
   "metadata": {},
   "source": [
    "# Which country will first-time airbnb users choose?\n",
    "\n",
    "***\n",
    "### Brief\n",
    "New users on Airbnb can book a place to stay in 34,000+ cities across 190+ countries. By accurately predicting where a new user will book their first travel experience, Airbnb can share more personalized content with their community, decrease the average time to first booking, and better forecast demand.\n",
    "\n",
    "Airbnb wants to predict in which destination country a new user from the USA will make his or her first booking:\n",
    "1. United States of America\n",
    "2. France\n",
    "3. Canada\n",
    "4. Great Britain\n",
    "5. Estonia\n",
    "6. Italy\n",
    "7. Portugal\n",
    "8. Netherlands\n",
    "9. Germany\n",
    "10. Australia  \n",
    "11. No Destination Found (NDF) \n",
    "12. Other\n",
    "\n",
    "***\n",
    "### The Data\n",
    "The data has been provided by airbnb and downloaded from Kaggle. And the [data](https://www.kaggle.com/c/airbnb-recruiting-new-user-bookings/data) contains a rich set of demographics, web session records, and some summary statistics data on about 275,562 (train + test) users from the USA. For context, I've also explored the [international](http://travel.trade.gov/view/m-2015-O-001/index.html) and [domestic](http://www.statista.com/statistics/207103/forecasted-number-of-domestic-trips-in-the-us/) travel data for US Citizens for 2015.\n",
    "\n",
    "***\n",
    "### Evaluation Metric\n",
    "\n",
    "The evaluation metric for this competition is [NDCG (Normalized discounted cumulative gain)](https://www.kaggle.com/wiki/NormalizedDiscountedCumulativeGain) @k where k=5. NDCG is calculated as:\n",
    "\n",
    "$$DCG_k=\\sum_{i=1}^k\\frac{2^{rel_i}-1}{\\log_2{\\left(i+1\\right)}},$$\n",
    "\n",
    "$IDCG_k$ is the maximum possible (ideal) $DCG$ for a given set of queries, documents, and relevances. All NDCG calculations are relative values on the interval 0.0 to 1.0.\n",
    "\n",
    "$$nDCG_k=\\frac{DCG_k}{IDCG_k},$$\n",
    "\n",
    "For each new user, you are to make a maximum of 5 predictions on the country of the first booking. The ground truth country is marked with relevance = 1, while the rest have relevance = 0.\n",
    "\n",
    "For example, if for a particular user the destination is FR, then the predictions become:\n",
    "\n",
    "[ FR ]  gives a $NDCG=\\frac{2^{1}-1}{log_{2}(1+1)}=1.0$\n",
    "\n",
    "[ US, FR ] gives a $DCG=\\frac{2^{0}-1}{log_{2}(1+1)}+\\frac{2^{1}-1}{log_{2}(2+1)}=\\frac{1}{1.58496}=0.6309$\n",
    "\n",
    "***\n",
    "### Limitations\n",
    "1. before early 2013 users could make bookings without creating an account\n",
    "2. where date_fisrt_booking is populated with nana the destination country is also given as NDF\n",
    "3. missing data or data munging that need to be done?\n",
    "4. outliers?\n",
    "5. unbalanced dataset, skewed to NDF\n",
    "3. What are the similarities/differences in the destination countries?\n",
    "4. Demographic differences that could point to preferences?\n",
    "5. Investigate the impact that user interaction with the website has on destination selection."
   ]
  },
  {
   "cell_type": "markdown",
   "metadata": {},
   "source": [
    "***\n",
    "# Data Exploration\n",
    "\n",
    "Going in, *my hunch* is that the majority of first time US airbnb users will choose destinations within the USA and then tend to favour Canada and European countries to Australia. \n",
    "\n",
    "This is based on data for [international travel](http://travel.trade.gov/view/m-2015-O-001/index.html) by U.S. citizens for the first 10 months of 2015, where all of Europe saw 11,067,879 U.S. citizens (18% of 61,322,698), just above the Canadian figure (11,008,848 citizens; 18%), but still half of number going to Mexico (22,641,533; 36.9% of total). Oceania (used as proxy for Australia in this example) saw 0.8% (511,563) of U.S. citizens visit their shores. In terms of [domestic travel](http://www.statista.com/statistics/207103/forecasted-number-of-domestic-trips-in-the-us/), U.S. citizens took 458.3 million business trips and 1,692.8 million leisure trips in 2015.\n",
    "\n",
    "What I will be exploring:\n",
    "* data integrity:\n",
    "  * the level of missing data \n",
    "  * impact of outliers \n",
    "  * the amount of data cleaning that will be required before anlaysis can be done\n",
    "\n",
    "\n",
    "* testing feature characteristics that could point to country preferences:\n",
    "  * demographic (age, language, gender)\n",
    "  * how the user come to the website initially (affiliate_channel, affiliate_provider, first_affiliate_tracked)\n",
    "  * how the user interacts with the website (first_browser,first_device_type)\n",
    "  * impact of signup process (signup_app, signup_flow, signup_method) on whether the person ends up making a booking or not.\n",
    "  * after creating an account (date_account_created), what is the delay in searching for places to stay (timestamp_first_active)? And post account creation, how long does it take to finalize the booking (date_first_booking)? And what kind of prediction accuracy do these indicators have?\n",
    "  \n",
    "\n",
    "* external influencers about the destination countries themselves that could be attractive to certain users:\n",
    " * the distance to the destination (distance_km)\n",
    " * how big the country is could potentially point to there being more to explore (destination_km2)\n",
    " * foreign, but familiar. Whether english is widely-spoken in the destination country has an impact on it's desirability (destination_language, language_levenshtein_distance)\n",
    " "
   ]
  },
  {
   "cell_type": "code",
   "execution_count": 2,
   "metadata": {
    "collapsed": false
   },
   "outputs": [
    {
     "name": "stderr",
     "output_type": "stream",
     "text": [
      "C:\\Miniconda\\lib\\site-packages\\matplotlib\\__init__.py:872: UserWarning: axes.color_cycle is deprecated and replaced with axes.prop_cycle; please use the latter.\n",
      "  warnings.warn(self.msg_depr % (key, alt_key))\n"
     ]
    }
   ],
   "source": [
    "# load libraries that will be used\n",
    "%matplotlib inline\n",
    "\n",
    "import zipfile\n",
    "import numpy as np\n",
    "import pandas as pd\n",
    "import matplotlib.pyplot as plt\n",
    "import scipy.stats as stats\n",
    "import seaborn as sns\n",
    "\n",
    "from mpl_toolkits.basemap import Basemap\n",
    "\n",
    "# make figures better:\n",
    "font = {'weight':'normal','size':20}\n",
    "plt.rc('font', **font)\n",
    "plt.rc('figure', figsize=(9.0, 6.0))\n",
    "plt.rc('xtick.major', pad=10) # xticks too close to border!\n",
    "plt.style.use('ggplot')\n",
    "#print(plt.style.available)"
   ]
  },
  {
   "cell_type": "code",
   "execution_count": 3,
   "metadata": {
    "collapsed": true
   },
   "outputs": [],
   "source": [
    "# unzip and read data\n",
    "\n",
    "# Dataset #1: Countries to visit\n",
    "zf = zipfile.ZipFile('data/countries.csv.zip')\n",
    "countries = pd.read_csv(zf.open('countries.csv'))\n",
    "\n",
    "# Dataset #2: Compare demographic distributions within destination countries\n",
    "zf = zipfile.ZipFile('data/age_gender_bkts.csv.zip')\n",
    "country_demographics = pd.read_csv(zf.open('age_gender_bkts.csv'))\n",
    "\n",
    "# Dataset #3: User interactions on airbnb website\n",
    "zf = zipfile.ZipFile('data/sessions.csv.zip')\n",
    "user_sessions = pd.read_csv(zf.open('sessions.csv'))\n",
    "\n",
    "# Dataset #4: Comparing test and training data to what has been provided as user data for 2015\n",
    "# train\n",
    "zf = zipfile.ZipFile('data/train_users_2.csv.zip')\n",
    "train = pd.read_csv(zf.open('train_users_2.csv'))\n",
    "\n",
    "# test\n",
    "zf = zipfile.ZipFile('data/test_users.csv.zip')\n",
    "test = pd.read_csv(zf.open('test_users.csv'))\n",
    "\n",
    "# concatenate train- and test users together for total sample\n",
    "users = pd.concat((train, test), axis=0, ignore_index=True)"
   ]
  },
  {
   "cell_type": "markdown",
   "metadata": {
    "collapsed": true
   },
   "source": [
    "\n",
    "## Who are these first-time users?\n",
    "\n",
    "I've combined the train and test data to get a better handle on the over completeness of the sample since an algorthim that performs well on the training data will only do well if the test data is as rich as the training data."
   ]
  },
  {
   "cell_type": "code",
   "execution_count": 20,
   "metadata": {
    "collapsed": false
   },
   "outputs": [
    {
     "name": "stdout",
     "output_type": "stream",
     "text": [
      "Number of users in the training set: 213451; Number of users in the test set: 62096\n",
      "Full Set Rows: 275547; -Columns: 16\n"
     ]
    }
   ],
   "source": [
    "print(\"Number of users in the training set: %0.0f; \\\n",
    "Number of users in the test set: %0.0f\" % (np.shape(train)[0], np.shape(test)[0]))\n",
    "print(\"Full Set Rows: %0.0f; -Columns: %0.0f\" % np.shape(users))"
   ]
  },
  {
   "cell_type": "markdown",
   "metadata": {},
   "source": [
    "The training data represents just over three-quarters of the total sample, but it seems like both data sets have the same poorly populated fields: "
   ]
  },
  {
   "cell_type": "code",
   "execution_count": 30,
   "metadata": {
    "collapsed": false
   },
   "outputs": [
    {
     "name": "stdout",
     "output_type": "stream",
     "text": [
      "% of rows with missing values for the testing data\n",
      "--------------------------------------------------\n",
      "date_first_booking         58.347349\n",
      "gender                     44.829024\n",
      "age                        41.222576\n",
      "first_browser              12.773892\n",
      "first_affiliate_tracked     2.841402\n",
      "dtype: float64\n"
     ]
    }
   ],
   "source": [
    "users_nan = users.replace('-unknown-', np.nan)\n",
    "users_nan_counts = users_nan.isnull().sum().sort_values(ascending=False)\n",
    "users_nan_summary = (users_nan_counts / users_nan.shape[0]) * 100\n",
    "users_nan_notzero = users_nan_summary[users_nan_summary > 0]\n",
    "\n",
    "print('% of rows with missing values for the testing data')\n",
    "print('--------------------------------------------------')\n",
    "print(train_nan_notzero)"
   ]
  },
  {
   "cell_type": "code",
   "execution_count": 71,
   "metadata": {
    "collapsed": false
   },
   "outputs": [
    {
     "data": {
      "image/png": "[encoded data removed]",
      "text/plain": [
       "<matplotlib.figure.Figure at 0x3187ed68>"
      ]
     },
     "metadata": {},
     "output_type": "display_data"
    }
   ],
   "source": [
    "train_nan = train.replace('-unknown-', np.nan)\n",
    "train_nan_counts = train_nan.isnull().sum().sort_values(ascending=False)\n",
    "train_nan_summary = (train_nan_counts / train_nan.shape[0]) * 100\n",
    "train_nan_notzero = train_nan_summary[train_nan_summary > 0]\n",
    "\n",
    "test_nan = test.replace('-unknown-', np.nan)\n",
    "test_nan_counts = test_nan.isnull().sum().sort_values(ascending=False)\n",
    "test_nan_summary = (test_nan_counts / test_nan.shape[0]) * 100\n",
    "test_nan_notzero = test_nan_summary[test_nan_summary > 0]\n",
    "\n",
    "nan_comparison = pd.concat([train_nan_notzero,test_nan_notzero], axis=1, names=['train','test'])\n",
    "nan_comparison.columns = ['train','test']\n",
    "nan_comparison.sort_values('test', ascending=True).plot(kind='barh')\n",
    "plt.title('% unpopulated for fields with missing values', fontsize=20);"
   ]
  },
  {
   "cell_type": "markdown",
   "metadata": {},
   "source": [
    "Taking a closer look at the content of the different fields, it becomes clear that age is not only poorly populated, but there also seems to be a lack of field validation being applied."
   ]
  },
  {
   "cell_type": "code",
   "execution_count": 5,
   "metadata": {
    "collapsed": false
   },
   "outputs": [
    {
     "name": "stdout",
     "output_type": "stream",
     "text": [
      "(['affiliate_channel'], array(['direct', 'seo', 'other', 'sem-non-brand', 'content', 'sem-brand',\n",
      "       'remarketing', 'api'], dtype=object))\n",
      "(['affiliate_provider'], array(['direct', 'google', 'other', 'craigslist', 'facebook', 'vast',\n",
      "       'bing', 'meetup', 'facebook-open-graph', 'email-marketing', 'yahoo',\n",
      "       'padmapper', 'gsp', 'wayn', 'naver', 'baidu', 'yandex', 'daum'], dtype=object))\n",
      "(['age'], array([             nan,   3.80000000e+01,   5.60000000e+01,\n",
      "         4.20000000e+01,   4.10000000e+01,   4.60000000e+01,\n",
      "         4.70000000e+01,   5.00000000e+01,   3.60000000e+01,\n",
      "         3.70000000e+01,   3.30000000e+01,   3.10000000e+01,\n",
      "         2.90000000e+01,   3.00000000e+01,   4.00000000e+01,\n",
      "         2.60000000e+01,   3.20000000e+01,   3.50000000e+01,\n",
      "         5.90000000e+01,   4.90000000e+01,   4.40000000e+01,\n",
      "         3.40000000e+01,   2.80000000e+01,   1.90000000e+01,\n",
      "         5.30000000e+01,   5.20000000e+01,   3.90000000e+01,\n",
      "         5.70000000e+01,   2.50000000e+01,   5.40000000e+01,\n",
      "         6.90000000e+01,   6.30000000e+01,   4.30000000e+01,\n",
      "         5.50000000e+01,   6.50000000e+01,   5.80000000e+01,\n",
      "         6.10000000e+01,   1.80000000e+01,   5.00000000e+00,\n",
      "         2.70000000e+01,   4.50000000e+01,   6.00000000e+01,\n",
      "         4.80000000e+01,   5.10000000e+01,   6.40000000e+01,\n",
      "         7.20000000e+01,   7.00000000e+01,   6.70000000e+01,\n",
      "         7.30000000e+01,   2.01400000e+03,   1.04000000e+02,\n",
      "         6.60000000e+01,   1.05000000e+02,   6.80000000e+01,\n",
      "         9.50000000e+01,   2.40000000e+01,   9.40000000e+01,\n",
      "         7.50000000e+01,   7.90000000e+01,   6.20000000e+01,\n",
      "         2.01300000e+03,   1.60000000e+01,   4.00000000e+00,\n",
      "         2.30000000e+01,   1.01000000e+02,   9.80000000e+01,\n",
      "         7.60000000e+01,   7.40000000e+01,   8.70000000e+01,\n",
      "         9.20000000e+01,   1.15000000e+02,   7.10000000e+01,\n",
      "         8.40000000e+01,   1.07000000e+02,   7.80000000e+01,\n",
      "         9.90000000e+01,   1.10000000e+02,   1.02000000e+02,\n",
      "         8.20000000e+01,   7.70000000e+01,   2.20000000e+01,\n",
      "         8.90000000e+01,   2.10000000e+01,   1.50000000e+01,\n",
      "         2.00000000e+01,   1.03000000e+02,   2.00000000e+00,\n",
      "         1.70000000e+01,   8.60000000e+01,   9.70000000e+01,\n",
      "         8.10000000e+01,   9.00000000e+01,   8.80000000e+01,\n",
      "         8.00000000e+01,   1.00000000e+02,   9.10000000e+01,\n",
      "         1.06000000e+02,   8.30000000e+01,   8.50000000e+01,\n",
      "         1.08000000e+02,   1.13000000e+02,   1.09000000e+02,\n",
      "         9.30000000e+01,   9.60000000e+01,   1.94900000e+03,\n",
      "         1.11000000e+02,   1.93100000e+03,   1.93200000e+03,\n",
      "         1.12000000e+02,   1.92800000e+03,   1.00000000e+00,\n",
      "         1.93600000e+03,   1.93300000e+03,   1.93500000e+03,\n",
      "         1.92500000e+03,   1.95200000e+03,   1.50000000e+02,\n",
      "         1.92700000e+03,   1.32000000e+02,   1.95300000e+03,\n",
      "         1.94200000e+03,   1.99500000e+03,   2.00800000e+03,\n",
      "         1.92400000e+03,   1.92900000e+03,   1.94700000e+03,\n",
      "         1.93800000e+03,   1.92600000e+03,   1.93700000e+03,\n",
      "         1.93400000e+03,   1.92200000e+03,   1.94400000e+03,\n",
      "         1.95400000e+03,   1.94000000e+03,   1.94500000e+03,\n",
      "         2.00000000e+03,   2.00100000e+03,   1.93000000e+03,\n",
      "         1.96800000e+03,   1.93900000e+03,   1.95100000e+03,\n",
      "         1.92000000e+03,   1.92300000e+03,   1.94800000e+03,\n",
      "         2.00200000e+03,   1.94100000e+03]))\n",
      "(['country_destination'], array(['NDF', 'US', 'other', 'FR', 'CA', 'GB', 'ES', 'IT', 'PT', 'NL',\n",
      "       'DE', 'AU', nan], dtype=object))\n",
      "(['date_account_created'], array(['2010-06-28', '2011-05-25', '2010-09-28', ..., '2014-09-28',\n",
      "       '2014-09-29', '2014-09-30'], dtype=object))\n",
      "(['date_first_booking'], array([nan, '2010-08-02', '2012-09-08', ..., '2015-06-25', '2015-06-29',\n",
      "       '2015-06-28'], dtype=object))\n",
      "(['first_affiliate_tracked'], array(['untracked', 'omg', nan, 'linked', 'tracked-other', 'product',\n",
      "       'marketing', 'local ops'], dtype=object))\n",
      "(['first_browser'], array(['Chrome', 'IE', 'Firefox', 'Safari', '-unknown-', 'Mobile Safari',\n",
      "       'Chrome Mobile', 'RockMelt', 'Chromium', 'Android Browser',\n",
      "       'AOL Explorer', 'Palm Pre web browser', 'Mobile Firefox', 'Opera',\n",
      "       'TenFourFox', 'IE Mobile', 'Apple Mail', 'Silk', 'Camino', 'Arora',\n",
      "       'BlackBerry Browser', 'SeaMonkey', 'Iron', 'Sogou Explorer',\n",
      "       'IceWeasel', 'Opera Mini', 'SiteKiosk', 'Maxthon', 'Kindle Browser',\n",
      "       'CoolNovo', 'Conkeror', 'wOSBrowser', 'Google Earth',\n",
      "       'Crazy Browser', 'Mozilla', 'OmniWeb', 'PS Vita browser',\n",
      "       'NetNewsWire', 'CometBird', 'Comodo Dragon', 'Flock', 'Pale Moon',\n",
      "       'Avant Browser', 'Opera Mobile', 'Yandex.Browser',\n",
      "       'TheWorld Browser', 'SlimBrowser', 'Epic', 'Stainless', 'Googlebot',\n",
      "       'Outlook 2007', 'IceDragon', 'IBrowse', 'Nintendo Browser',\n",
      "       'UC Browser'], dtype=object))\n",
      "(['first_device_type'], array(['Mac Desktop', 'Windows Desktop', 'iPhone', 'Other/Unknown',\n",
      "       'Desktop (Other)', 'Android Tablet', 'iPad', 'Android Phone',\n",
      "       'SmartPhone (Other)'], dtype=object))\n",
      "(['gender'], array(['-unknown-', 'MALE', 'FEMALE', 'OTHER'], dtype=object))\n",
      "(['id'], array(['gxn3p5htnn', '820tgsjxq7', '4ft3gnwmtx', ..., 'fa6260ziny',\n",
      "       '87k0fy4ugm', '9uqfg8txu3'], dtype=object))\n",
      "(['language'], array(['en', 'fr', 'de', 'es', 'it', 'pt', 'zh', 'ko', 'ja', 'ru', 'pl',\n",
      "       'el', 'sv', 'nl', 'hu', 'da', 'id', 'fi', 'no', 'tr', 'th', 'cs',\n",
      "       'hr', 'ca', 'is', '-unknown-'], dtype=object))\n",
      "(['signup_app'], array(['Web', 'Moweb', 'iOS', 'Android'], dtype=object))\n",
      "(['signup_flow'], array([ 0,  3,  2,  1, 24,  8,  6,  5, 10, 25, 12,  4, 16, 15, 20, 21, 23,\n",
      "       14], dtype=int64))\n",
      "(['signup_method'], array(['facebook', 'basic', 'google', 'weibo'], dtype=object))\n",
      "(['timestamp_first_active'], array([20090319043255, 20090523174809, 20090609231247, ..., 20140930235408,\n",
      "       20140930235430, 20140930235901], dtype=int64))\n"
     ]
    }
   ],
   "source": [
    "for column in users:\n",
    "    print([column], users[column].unique())"
   ]
  },
  {
   "cell_type": "code",
   "execution_count": 72,
   "metadata": {
    "collapsed": false
   },
   "outputs": [
    {
     "name": "stdout",
     "output_type": "stream",
     "text": [
      "count    158681.000000\n",
      "mean         47.145310\n",
      "std         142.629468\n",
      "min           1.000000\n",
      "25%          28.000000\n",
      "50%          33.000000\n",
      "75%          42.000000\n",
      "max        2014.000000\n",
      "Name: age, dtype: float64\n",
      "\n",
      "2690\n",
      "188\n"
     ]
    }
   ],
   "source": [
    "print users.age.describe()\n",
    "print\n",
    "print sum(users.age>100)\n",
    "print sum(users.age<18)"
   ]
  },
  {
   "cell_type": "code",
   "execution_count": null,
   "metadata": {
    "collapsed": false
   },
   "outputs": [],
   "source": []
  },
  {
   "cell_type": "code",
   "execution_count": null,
   "metadata": {
    "collapsed": true
   },
   "outputs": [],
   "source": []
  },
  {
   "cell_type": "code",
   "execution_count": null,
   "metadata": {
    "collapsed": true
   },
   "outputs": [],
   "source": []
  },
  {
   "cell_type": "code",
   "execution_count": null,
   "metadata": {
    "collapsed": true
   },
   "outputs": [],
   "source": []
  },
  {
   "cell_type": "code",
   "execution_count": null,
   "metadata": {
    "collapsed": true
   },
   "outputs": [],
   "source": []
  },
  {
   "cell_type": "code",
   "execution_count": null,
   "metadata": {
    "collapsed": true
   },
   "outputs": [],
   "source": []
  },
  {
   "cell_type": "markdown",
   "metadata": {
    "collapsed": true
   },
   "source": [
    "# Preliminary Findings\n",
    "\n",
    "There are a lot of categorical variable so this chart is a bit crowded. Below are some quick comments about each.\n",
    "* Starting with gender, it appears users with 'unknown' gender book less frequently than those with a known one while users with gender 'other' book more frequently\n",
    "* Users with the 'google' signup_method book less frequently than 'basic' or 'facebook'\n",
    "* Users with signup_flow 3 book more frequently than any other category while several have nearly 100% 'NDF'\n",
    "* Users with affiliate_channel 'content' book less frequently than other categories\n",
    "* Users with affiliate_provider 'craigslist', direct', and 'google' book more frequently than other categories (this begs the question as to why the google affiliate channel is more effective than the google sign up method)\n",
    "* Users with first_affiliate_tracked 'local ops' book less frequently than other categories\n",
    "* Users with signup_app 'Web' booked the most frequently, while those with 'Android' booked the least\n",
    "* Users with first_device_type 'Mac_Desktop' booked the most frequently, while those with 'Android Phone' booked the least\n",
    "The chart on first_browser highlights the large number used above all else; it is difficult to glean any meaningful insights beyond that some obscure browsers that are not likely widely used have very high or very low booking frequencies.\n",
    "The chart on language is somewhat surprising given that all the users we"
   ]
  },
  {
   "cell_type": "markdown",
   "metadata": {
    "collapsed": true
   },
   "source": [
    "# Test my Hyphotheses\n",
    "Any preliminary exploration you’ve performed and your initial findings. Test the hypotheses one at a time. Often, the data story emerges as a result of a sequence of testing hypothesis e.g. You first tested if X was true, and because it wasn't, you tried Y, which turned out to be true."
   ]
  },
  {
   "cell_type": "code",
   "execution_count": null,
   "metadata": {
    "collapsed": true
   },
   "outputs": [],
   "source": []
  },
  {
   "cell_type": "code",
   "execution_count": null,
   "metadata": {
    "collapsed": true
   },
   "outputs": [],
   "source": []
  },
  {
   "cell_type": "code",
   "execution_count": null,
   "metadata": {
    "collapsed": true
   },
   "outputs": [],
   "source": []
  },
  {
   "cell_type": "code",
   "execution_count": null,
   "metadata": {
    "collapsed": true
   },
   "outputs": [],
   "source": []
  },
  {
   "cell_type": "code",
   "execution_count": null,
   "metadata": {
    "collapsed": true
   },
   "outputs": [],
   "source": []
  },
  {
   "cell_type": "markdown",
   "metadata": {
    "collapsed": true
   },
   "source": [
    "# Course of Action\n",
    "Based on these findings, what approach are you going to take? How has your approach changed from what you initially proposed, if applicable?"
   ]
  },
  {
   "cell_type": "code",
   "execution_count": null,
   "metadata": {
    "collapsed": true
   },
   "outputs": [],
   "source": []
  },
  {
   "cell_type": "code",
   "execution_count": null,
   "metadata": {
    "collapsed": true
   },
   "outputs": [],
   "source": []
  },
  {
   "cell_type": "code",
   "execution_count": null,
   "metadata": {
    "collapsed": true
   },
   "outputs": [],
   "source": []
  },
  {
   "cell_type": "markdown",
   "metadata": {
    "collapsed": true
   },
   "source": [
    "# Source Additional Data\n",
    "Are there other datasets you can find, use and combine with, to answer the questions that matter?"
   ]
  },
  {
   "cell_type": "markdown",
   "metadata": {},
   "source": [
    "### Dataset #3: User Sessions "
   ]
  },
  {
   "cell_type": "code",
   "execution_count": 6,
   "metadata": {
    "collapsed": false
   },
   "outputs": [
    {
     "name": "stdout",
     "output_type": "stream",
     "text": [
      "Rows: 10567737; Columns: 6\n"
     ]
    },
    {
     "data": {
      "text/html": [
       "<div>\n",
       "<table border=\"1\" class=\"dataframe\">\n",
       "  <thead>\n",
       "    <tr style=\"text-align: right;\">\n",
       "      <th></th>\n",
       "      <th>user_id</th>\n",
       "      <th>action</th>\n",
       "      <th>action_type</th>\n",
       "      <th>action_detail</th>\n",
       "      <th>device_type</th>\n",
       "      <th>secs_elapsed</th>\n",
       "    </tr>\n",
       "  </thead>\n",
       "  <tbody>\n",
       "    <tr>\n",
       "      <th>10567732</th>\n",
       "      <td>9uqfg8txu3</td>\n",
       "      <td>dashboard</td>\n",
       "      <td>view</td>\n",
       "      <td>dashboard</td>\n",
       "      <td>Windows Desktop</td>\n",
       "      <td>556</td>\n",
       "    </tr>\n",
       "    <tr>\n",
       "      <th>10567733</th>\n",
       "      <td>9uqfg8txu3</td>\n",
       "      <td>edit</td>\n",
       "      <td>view</td>\n",
       "      <td>edit_profile</td>\n",
       "      <td>Windows Desktop</td>\n",
       "      <td>6624</td>\n",
       "    </tr>\n",
       "    <tr>\n",
       "      <th>10567734</th>\n",
       "      <td>9uqfg8txu3</td>\n",
       "      <td>webcam_upload</td>\n",
       "      <td>-unknown-</td>\n",
       "      <td>-unknown-</td>\n",
       "      <td>Windows Desktop</td>\n",
       "      <td>200125</td>\n",
       "    </tr>\n",
       "    <tr>\n",
       "      <th>10567735</th>\n",
       "      <td>9uqfg8txu3</td>\n",
       "      <td>active</td>\n",
       "      <td>-unknown-</td>\n",
       "      <td>-unknown-</td>\n",
       "      <td>-unknown-</td>\n",
       "      <td>17624</td>\n",
       "    </tr>\n",
       "    <tr>\n",
       "      <th>10567736</th>\n",
       "      <td>9uqfg8txu3</td>\n",
       "      <td>show_personalize</td>\n",
       "      <td>data</td>\n",
       "      <td>user_profile_content_update</td>\n",
       "      <td>Windows Desktop</td>\n",
       "      <td>1221</td>\n",
       "    </tr>\n",
       "  </tbody>\n",
       "</table>\n",
       "</div>"
      ],
      "text/plain": [
       "             user_id            action action_type  \\\n",
       "10567732  9uqfg8txu3         dashboard        view   \n",
       "10567733  9uqfg8txu3              edit        view   \n",
       "10567734  9uqfg8txu3     webcam_upload   -unknown-   \n",
       "10567735  9uqfg8txu3            active   -unknown-   \n",
       "10567736  9uqfg8txu3  show_personalize        data   \n",
       "\n",
       "                        action_detail      device_type  secs_elapsed  \n",
       "10567732                    dashboard  Windows Desktop           556  \n",
       "10567733                 edit_profile  Windows Desktop          6624  \n",
       "10567734                    -unknown-  Windows Desktop        200125  \n",
       "10567735                    -unknown-        -unknown-         17624  \n",
       "10567736  user_profile_content_update  Windows Desktop          1221  "
      ]
     },
     "execution_count": 6,
     "metadata": {},
     "output_type": "execute_result"
    }
   ],
   "source": [
    "print(\"Rows: %0.0f; Columns: %0.0f\" % np.shape(user_sessions))\n",
    "user_sessions.tail()"
   ]
  },
  {
   "cell_type": "code",
   "execution_count": 7,
   "metadata": {
    "collapsed": false
   },
   "outputs": [
    {
     "data": {
      "text/html": [
       "<div>\n",
       "<table border=\"1\" class=\"dataframe\">\n",
       "  <thead>\n",
       "    <tr style=\"text-align: right;\">\n",
       "      <th></th>\n",
       "      <th></th>\n",
       "      <th></th>\n",
       "      <th></th>\n",
       "      <th>device_type</th>\n",
       "      <th>secs_elapsed</th>\n",
       "    </tr>\n",
       "    <tr>\n",
       "      <th>user_id</th>\n",
       "      <th>action</th>\n",
       "      <th>action_type</th>\n",
       "      <th>action_detail</th>\n",
       "      <th></th>\n",
       "      <th></th>\n",
       "    </tr>\n",
       "  </thead>\n",
       "  <tbody>\n",
       "    <tr>\n",
       "      <th rowspan=\"11\" valign=\"top\">9uqfg8txu3</th>\n",
       "      <th>active</th>\n",
       "      <th>-unknown-</th>\n",
       "      <th>-unknown-</th>\n",
       "      <td>2</td>\n",
       "      <td>2</td>\n",
       "    </tr>\n",
       "    <tr>\n",
       "      <th>callback</th>\n",
       "      <th>partner_callback</th>\n",
       "      <th>oauth_response</th>\n",
       "      <td>1</td>\n",
       "      <td>0</td>\n",
       "    </tr>\n",
       "    <tr>\n",
       "      <th>create</th>\n",
       "      <th>submit</th>\n",
       "      <th>create_phone_numbers</th>\n",
       "      <td>2</td>\n",
       "      <td>2</td>\n",
       "    </tr>\n",
       "    <tr>\n",
       "      <th>dashboard</th>\n",
       "      <th>view</th>\n",
       "      <th>dashboard</th>\n",
       "      <td>1</td>\n",
       "      <td>1</td>\n",
       "    </tr>\n",
       "    <tr>\n",
       "      <th>edit</th>\n",
       "      <th>view</th>\n",
       "      <th>edit_profile</th>\n",
       "      <td>4</td>\n",
       "      <td>4</td>\n",
       "    </tr>\n",
       "    <tr>\n",
       "      <th>header_userpic</th>\n",
       "      <th>data</th>\n",
       "      <th>header_userpic</th>\n",
       "      <td>1</td>\n",
       "      <td>1</td>\n",
       "    </tr>\n",
       "    <tr>\n",
       "      <th>languages_multiselect</th>\n",
       "      <th>-unknown-</th>\n",
       "      <th>-unknown-</th>\n",
       "      <td>1</td>\n",
       "      <td>1</td>\n",
       "    </tr>\n",
       "    <tr>\n",
       "      <th>show</th>\n",
       "      <th>view</th>\n",
       "      <th>user_profile</th>\n",
       "      <td>1</td>\n",
       "      <td>1</td>\n",
       "    </tr>\n",
       "    <tr>\n",
       "      <th>show_personalize</th>\n",
       "      <th>data</th>\n",
       "      <th>user_profile_content_update</th>\n",
       "      <td>1</td>\n",
       "      <td>1</td>\n",
       "    </tr>\n",
       "    <tr>\n",
       "      <th>update</th>\n",
       "      <th>submit</th>\n",
       "      <th>update_user_profile</th>\n",
       "      <td>1</td>\n",
       "      <td>1</td>\n",
       "    </tr>\n",
       "    <tr>\n",
       "      <th>webcam_upload</th>\n",
       "      <th>-unknown-</th>\n",
       "      <th>-unknown-</th>\n",
       "      <td>1</td>\n",
       "      <td>1</td>\n",
       "    </tr>\n",
       "    <tr>\n",
       "      <th rowspan=\"15\" valign=\"top\">d1mm9tcy42</th>\n",
       "      <th>active</th>\n",
       "      <th>-unknown-</th>\n",
       "      <th>-unknown-</th>\n",
       "      <td>1</td>\n",
       "      <td>1</td>\n",
       "    </tr>\n",
       "    <tr>\n",
       "      <th>ajax_refresh_subtotal</th>\n",
       "      <th>click</th>\n",
       "      <th>change_trip_characteristics</th>\n",
       "      <td>8</td>\n",
       "      <td>8</td>\n",
       "    </tr>\n",
       "    <tr>\n",
       "      <th>ask_question</th>\n",
       "      <th>submit</th>\n",
       "      <th>contact_host</th>\n",
       "      <td>1</td>\n",
       "      <td>1</td>\n",
       "    </tr>\n",
       "    <tr>\n",
       "      <th>decision_tree</th>\n",
       "      <th>-unknown-</th>\n",
       "      <th>-unknown-</th>\n",
       "      <td>1</td>\n",
       "      <td>1</td>\n",
       "    </tr>\n",
       "    <tr>\n",
       "      <th>faq_experiment_ids</th>\n",
       "      <th>-unknown-</th>\n",
       "      <th>-unknown-</th>\n",
       "      <td>1</td>\n",
       "      <td>1</td>\n",
       "    </tr>\n",
       "    <tr>\n",
       "      <th>header_userpic</th>\n",
       "      <th>data</th>\n",
       "      <th>header_userpic</th>\n",
       "      <td>1</td>\n",
       "      <td>1</td>\n",
       "    </tr>\n",
       "    <tr>\n",
       "      <th>hosting_social_proof</th>\n",
       "      <th>-unknown-</th>\n",
       "      <th>-unknown-</th>\n",
       "      <td>2</td>\n",
       "      <td>2</td>\n",
       "    </tr>\n",
       "    <tr>\n",
       "      <th>index</th>\n",
       "      <th>view</th>\n",
       "      <th>view_search_results</th>\n",
       "      <td>11</td>\n",
       "      <td>11</td>\n",
       "    </tr>\n",
       "    <tr>\n",
       "      <th>multi</th>\n",
       "      <th>-unknown-</th>\n",
       "      <th>-unknown-</th>\n",
       "      <td>1</td>\n",
       "      <td>1</td>\n",
       "    </tr>\n",
       "    <tr>\n",
       "      <th>other_hosting_reviews_first</th>\n",
       "      <th>-unknown-</th>\n",
       "      <th>-unknown-</th>\n",
       "      <td>1</td>\n",
       "      <td>1</td>\n",
       "    </tr>\n",
       "    <tr>\n",
       "      <th>personalize</th>\n",
       "      <th>data</th>\n",
       "      <th>wishlist_content_update</th>\n",
       "      <td>25</td>\n",
       "      <td>25</td>\n",
       "    </tr>\n",
       "    <tr>\n",
       "      <th>recent_reservations</th>\n",
       "      <th>-unknown-</th>\n",
       "      <th>-unknown-</th>\n",
       "      <td>1</td>\n",
       "      <td>1</td>\n",
       "    </tr>\n",
       "    <tr>\n",
       "      <th>search_results</th>\n",
       "      <th>click</th>\n",
       "      <th>view_search_results</th>\n",
       "      <td>12</td>\n",
       "      <td>12</td>\n",
       "    </tr>\n",
       "    <tr>\n",
       "      <th>show</th>\n",
       "      <th>view</th>\n",
       "      <th>p3</th>\n",
       "      <td>14</td>\n",
       "      <td>14</td>\n",
       "    </tr>\n",
       "    <tr>\n",
       "      <th>similar_listings</th>\n",
       "      <th>data</th>\n",
       "      <th>similar_listings</th>\n",
       "      <td>9</td>\n",
       "      <td>9</td>\n",
       "    </tr>\n",
       "  </tbody>\n",
       "</table>\n",
       "</div>"
      ],
      "text/plain": [
       "                                                                                     device_type  \\\n",
       "user_id    action                      action_type      action_detail                              \n",
       "9uqfg8txu3 active                      -unknown-        -unknown-                              2   \n",
       "           callback                    partner_callback oauth_response                         1   \n",
       "           create                      submit           create_phone_numbers                   2   \n",
       "           dashboard                   view             dashboard                              1   \n",
       "           edit                        view             edit_profile                           4   \n",
       "           header_userpic              data             header_userpic                         1   \n",
       "           languages_multiselect       -unknown-        -unknown-                              1   \n",
       "           show                        view             user_profile                           1   \n",
       "           show_personalize            data             user_profile_content_update            1   \n",
       "           update                      submit           update_user_profile                    1   \n",
       "           webcam_upload               -unknown-        -unknown-                              1   \n",
       "d1mm9tcy42 active                      -unknown-        -unknown-                              1   \n",
       "           ajax_refresh_subtotal       click            change_trip_characteristics            8   \n",
       "           ask_question                submit           contact_host                           1   \n",
       "           decision_tree               -unknown-        -unknown-                              1   \n",
       "           faq_experiment_ids          -unknown-        -unknown-                              1   \n",
       "           header_userpic              data             header_userpic                         1   \n",
       "           hosting_social_proof        -unknown-        -unknown-                              2   \n",
       "           index                       view             view_search_results                   11   \n",
       "           multi                       -unknown-        -unknown-                              1   \n",
       "           other_hosting_reviews_first -unknown-        -unknown-                              1   \n",
       "           personalize                 data             wishlist_content_update               25   \n",
       "           recent_reservations         -unknown-        -unknown-                              1   \n",
       "           search_results              click            view_search_results                   12   \n",
       "           show                        view             p3                                    14   \n",
       "           similar_listings            data             similar_listings                       9   \n",
       "\n",
       "                                                                                     secs_elapsed  \n",
       "user_id    action                      action_type      action_detail                              \n",
       "9uqfg8txu3 active                      -unknown-        -unknown-                               2  \n",
       "           callback                    partner_callback oauth_response                          0  \n",
       "           create                      submit           create_phone_numbers                    2  \n",
       "           dashboard                   view             dashboard                               1  \n",
       "           edit                        view             edit_profile                            4  \n",
       "           header_userpic              data             header_userpic                          1  \n",
       "           languages_multiselect       -unknown-        -unknown-                               1  \n",
       "           show                        view             user_profile                            1  \n",
       "           show_personalize            data             user_profile_content_update             1  \n",
       "           update                      submit           update_user_profile                     1  \n",
       "           webcam_upload               -unknown-        -unknown-                               1  \n",
       "d1mm9tcy42 active                      -unknown-        -unknown-                               1  \n",
       "           ajax_refresh_subtotal       click            change_trip_characteristics             8  \n",
       "           ask_question                submit           contact_host                            1  \n",
       "           decision_tree               -unknown-        -unknown-                               1  \n",
       "           faq_experiment_ids          -unknown-        -unknown-                               1  \n",
       "           header_userpic              data             header_userpic                          1  \n",
       "           hosting_social_proof        -unknown-        -unknown-                               2  \n",
       "           index                       view             view_search_results                    11  \n",
       "           multi                       -unknown-        -unknown-                               1  \n",
       "           other_hosting_reviews_first -unknown-        -unknown-                               1  \n",
       "           personalize                 data             wishlist_content_update                25  \n",
       "           recent_reservations         -unknown-        -unknown-                               1  \n",
       "           search_results              click            view_search_results                    12  \n",
       "           show                        view             p3                                     14  \n",
       "           similar_listings            data             similar_listings                        9  "
      ]
     },
     "execution_count": 7,
     "metadata": {},
     "output_type": "execute_result"
    }
   ],
   "source": [
    "top_tail = user_sessions[user_sessions.user_id.isin(['d1mm9tcy42','9uqfg8txu3'])].sort_values('action')\n",
    "top_tail.groupby(['user_id','action','action_type','action_detail']).count()"
   ]
  },
  {
   "cell_type": "code",
   "execution_count": 8,
   "metadata": {
    "collapsed": false
   },
   "outputs": [
    {
     "name": "stdout",
     "output_type": "stream",
     "text": [
      "Number  of rows with missing values\n",
      "-------------------------------------\n",
      "action_type      2157374\n",
      "action_detail    2157345\n",
      "device_type       211279\n",
      "secs_elapsed      136031\n",
      "action             79626\n",
      "user_id            34496\n",
      "dtype: int64\n",
      "% of rows with missing values\n",
      "-------------------------------------\n",
      "action_type      20.414721\n",
      "action_detail    20.414446\n",
      "device_type       1.999283\n",
      "secs_elapsed      1.287229\n",
      "action            0.753482\n",
      "user_id           0.326428\n",
      "dtype: float64\n"
     ]
    }
   ],
   "source": [
    "sessions_nan = user_sessions.replace('-unknown-', np.nan)\n",
    "sessions_nan_counts = sessions_nan.isnull().sum().sort_values(ascending=False)\n",
    "sessions_nan_summary = (sessions_nan_counts / sessions_nan.shape[0]) * 100\n",
    "\n",
    "print('Number  of rows with missing values')\n",
    "print('-------------------------------------')\n",
    "print(sessions_nan_counts)\n",
    "\n",
    "print('% of rows with missing values')\n",
    "print('-------------------------------------')\n",
    "print(sessions_nan_summary)"
   ]
  },
  {
   "cell_type": "markdown",
   "metadata": {},
   "source": [
    "The session data seems to hold a rich variety of metrics, but the aren't really well populated for action type and action detail. And it would seems like unknowns in action type would also mean unknwons in actiona detail. But do I care about these fields?"
   ]
  },
  {
   "cell_type": "code",
   "execution_count": 9,
   "metadata": {
    "collapsed": false
   },
   "outputs": [
    {
     "data": {
      "text/plain": [
       "view                33.695975\n",
       "data                19.907479\n",
       "click               18.889408\n",
       "-unknown-            9.757718\n",
       "submit               5.898680\n",
       "message_post         0.824235\n",
       "partner_callback     0.181042\n",
       "booking_request      0.177644\n",
       "modify               0.010778\n",
       "booking_response     0.000038\n",
       "Name: action_type, dtype: float64"
      ]
     },
     "execution_count": 9,
     "metadata": {},
     "output_type": "execute_result"
    }
   ],
   "source": [
    "# What values do action types tend to hold?\n",
    "sessions_action_types = (user_sessions.action_type.value_counts() / user_sessions.shape[0]) * 100 \n",
    "sessions_action_types"
   ]
  },
  {
   "cell_type": "code",
   "execution_count": 10,
   "metadata": {
    "collapsed": false
   },
   "outputs": [
    {
     "data": {
      "text/plain": [
       "view_search_results            16.814243\n",
       "p3                             13.025968\n",
       "-unknown-                       9.757444\n",
       "wishlist_content_update         6.688509\n",
       "user_profile                    6.215512\n",
       "change_trip_characteristics     4.615406\n",
       "similar_listings                3.450351\n",
       "user_social_connections         3.187049\n",
       "update_listing                  2.552855\n",
       "listing_reviews                 2.545682\n",
       "dashboard                       1.447349\n",
       "user_wishlists                  1.444699\n",
       "header_userpic                  1.342104\n",
       "message_thread                  1.252823\n",
       "edit_profile                    1.028470\n",
       "message_post                    0.824235\n",
       "contact_host                    0.766872\n",
       "unavailable_dates               0.736156\n",
       "confirm_email_link              0.552834\n",
       "create_user                     0.519298\n",
       "Name: action_detail, dtype: float64"
      ]
     },
     "execution_count": 10,
     "metadata": {},
     "output_type": "execute_result"
    }
   ],
   "source": [
    "# top 20 action details\n",
    "sessions_action_details = (user_sessions.action_detail.value_counts() / user_sessions.shape[0]) * 100 \n",
    "sessions_action_details.head(20)"
   ]
  },
  {
   "cell_type": "markdown",
   "metadata": {},
   "source": [
    "As the name suggests, there is more detail under the Action Detail field about the action performed but very little other than the occurance of reservation as a description pops out as relevant. Action Type looks like it should be the most promising of the 3 action related fields, because of the direct mention of booking request and booking response. So let's take a closer look."
   ]
  },
  {
   "cell_type": "code",
   "execution_count": 11,
   "metadata": {
    "collapsed": false
   },
   "outputs": [
    {
     "data": {
      "text/html": [
       "<div>\n",
       "<table border=\"1\" class=\"dataframe\">\n",
       "  <thead>\n",
       "    <tr style=\"text-align: right;\">\n",
       "      <th></th>\n",
       "      <th></th>\n",
       "      <th></th>\n",
       "      <th>user_id</th>\n",
       "      <th>device_type</th>\n",
       "      <th>secs_elapsed</th>\n",
       "    </tr>\n",
       "    <tr>\n",
       "      <th>action_type</th>\n",
       "      <th>action</th>\n",
       "      <th>action_detail</th>\n",
       "      <th></th>\n",
       "      <th></th>\n",
       "      <th></th>\n",
       "    </tr>\n",
       "  </thead>\n",
       "  <tbody>\n",
       "    <tr>\n",
       "      <th rowspan=\"2\" valign=\"top\">booking_request</th>\n",
       "      <th>at_checkpoint</th>\n",
       "      <th>at_checkpoint</th>\n",
       "      <td>5166</td>\n",
       "      <td>5170</td>\n",
       "      <td>5128</td>\n",
       "    </tr>\n",
       "    <tr>\n",
       "      <th>pending</th>\n",
       "      <th>pending</th>\n",
       "      <td>13596</td>\n",
       "      <td>13603</td>\n",
       "      <td>13521</td>\n",
       "    </tr>\n",
       "    <tr>\n",
       "      <th>booking_response</th>\n",
       "      <th>booking</th>\n",
       "      <th>booking</th>\n",
       "      <td>4</td>\n",
       "      <td>4</td>\n",
       "      <td>4</td>\n",
       "    </tr>\n",
       "  </tbody>\n",
       "</table>\n",
       "</div>"
      ],
      "text/plain": [
       "                                              user_id  device_type  \\\n",
       "action_type      action        action_detail                         \n",
       "booking_request  at_checkpoint at_checkpoint     5166         5170   \n",
       "                 pending       pending          13596        13603   \n",
       "booking_response booking       booking              4            4   \n",
       "\n",
       "                                              secs_elapsed  \n",
       "action_type      action        action_detail                \n",
       "booking_request  at_checkpoint at_checkpoint          5128  \n",
       "                 pending       pending               13521  \n",
       "booking_response booking       booking                   4  "
      ]
     },
     "execution_count": 11,
     "metadata": {},
     "output_type": "execute_result"
    }
   ],
   "source": [
    "user_sessions[user_sessions.action_type.isin(['booking_request','booking_response'])] \\\n",
    ".groupby(['action_type','action','action_detail']).count()"
   ]
  },
  {
   "cell_type": "markdown",
   "metadata": {},
   "source": [
    "It seems action and action details both hold the same information for these two booking related action types. When I looked at whether I can used the occurance of checkpoint, pending and booking as field values in the relatively complete action field (0.75% missing records), in the hopes of filling in action type and action detail statuses I came up short unfortunately as 2,391 is only a drop in the bucket compared to the total unknown values of 2,157,374 (please see below)."
   ]
  },
  {
   "cell_type": "code",
   "execution_count": 12,
   "metadata": {
    "collapsed": false
   },
   "outputs": [
    {
     "data": {
      "text/html": [
       "<div>\n",
       "<table border=\"1\" class=\"dataframe\">\n",
       "  <thead>\n",
       "    <tr style=\"text-align: right;\">\n",
       "      <th></th>\n",
       "      <th></th>\n",
       "      <th></th>\n",
       "      <th>user_id</th>\n",
       "      <th>device_type</th>\n",
       "      <th>secs_elapsed</th>\n",
       "    </tr>\n",
       "    <tr>\n",
       "      <th>action_type</th>\n",
       "      <th>action</th>\n",
       "      <th>action_detail</th>\n",
       "      <th></th>\n",
       "      <th></th>\n",
       "      <th></th>\n",
       "    </tr>\n",
       "  </thead>\n",
       "  <tbody>\n",
       "    <tr>\n",
       "      <th>-unknown-</th>\n",
       "      <th>pending</th>\n",
       "      <th>-unknown-</th>\n",
       "      <td>2391</td>\n",
       "      <td>2397</td>\n",
       "      <td>2397</td>\n",
       "    </tr>\n",
       "    <tr>\n",
       "      <th rowspan=\"2\" valign=\"top\">booking_request</th>\n",
       "      <th>at_checkpoint</th>\n",
       "      <th>at_checkpoint</th>\n",
       "      <td>5166</td>\n",
       "      <td>5170</td>\n",
       "      <td>5128</td>\n",
       "    </tr>\n",
       "    <tr>\n",
       "      <th>pending</th>\n",
       "      <th>pending</th>\n",
       "      <td>13596</td>\n",
       "      <td>13603</td>\n",
       "      <td>13521</td>\n",
       "    </tr>\n",
       "    <tr>\n",
       "      <th>booking_response</th>\n",
       "      <th>booking</th>\n",
       "      <th>booking</th>\n",
       "      <td>4</td>\n",
       "      <td>4</td>\n",
       "      <td>4</td>\n",
       "    </tr>\n",
       "  </tbody>\n",
       "</table>\n",
       "</div>"
      ],
      "text/plain": [
       "                                              user_id  device_type  \\\n",
       "action_type      action        action_detail                         \n",
       "-unknown-        pending       -unknown-         2391         2397   \n",
       "booking_request  at_checkpoint at_checkpoint     5166         5170   \n",
       "                 pending       pending          13596        13603   \n",
       "booking_response booking       booking              4            4   \n",
       "\n",
       "                                              secs_elapsed  \n",
       "action_type      action        action_detail                \n",
       "-unknown-        pending       -unknown-              2397  \n",
       "booking_request  at_checkpoint at_checkpoint          5128  \n",
       "                 pending       pending               13521  \n",
       "booking_response booking       booking                   4  "
      ]
     },
     "execution_count": 12,
     "metadata": {},
     "output_type": "execute_result"
    }
   ],
   "source": [
    "user_sessions[user_sessions.action.isin(['at_checkpoint','pending','booking'])] \\\n",
    ".groupby(['action_type','action','action_detail']).count()"
   ]
  },
  {
   "cell_type": "markdown",
   "metadata": {},
   "source": [
    "I feature that is populated quite well is the type of device that was used to interact with the airbnb platform, and shows that the majority, 59.43% of users tended to use their desktop. "
   ]
  },
  {
   "cell_type": "code",
   "execution_count": 13,
   "metadata": {
    "collapsed": false
   },
   "outputs": [
    {
     "data": {
      "text/plain": [
       "device_type\n",
       "Mac Desktop                         34.011880\n",
       "Windows Desktop                     25.157127\n",
       "iPhone                              19.919411\n",
       "Android Phone                        7.945287\n",
       "iPad Tablet                          6.466985\n",
       "Android App Unknown Phone/Tablet     2.589504\n",
       "-unknown-                            1.999283\n",
       "Tablet                               1.323708\n",
       "Linux Desktop                        0.268487\n",
       "Chromebook                           0.211474\n",
       "iPodtouch                            0.077576\n",
       "Windows Phone                        0.019370\n",
       "Blackberry                           0.009264\n",
       "Opera Phone                          0.000643\n",
       "dtype: float64"
      ]
     },
     "execution_count": 13,
     "metadata": {},
     "output_type": "execute_result"
    }
   ],
   "source": [
    "user_sessions.groupby('device_type').size().sort_values(ascending=False) / user_sessions.shape[0] *100"
   ]
  },
  {
   "cell_type": "code",
   "execution_count": 14,
   "metadata": {
    "collapsed": false
   },
   "outputs": [
    {
     "data": {
      "text/html": [
       "<div>\n",
       "<table border=\"1\" class=\"dataframe\">\n",
       "  <thead>\n",
       "    <tr style=\"text-align: right;\">\n",
       "      <th></th>\n",
       "      <th>min</th>\n",
       "      <th>mean</th>\n",
       "      <th>median</th>\n",
       "      <th>max</th>\n",
       "    </tr>\n",
       "    <tr>\n",
       "      <th>device_type</th>\n",
       "      <th></th>\n",
       "      <th></th>\n",
       "      <th></th>\n",
       "      <th></th>\n",
       "    </tr>\n",
       "  </thead>\n",
       "  <tbody>\n",
       "    <tr>\n",
       "      <th>Blackberry</th>\n",
       "      <td>0.000000</td>\n",
       "      <td>897.149771</td>\n",
       "      <td>69.658333</td>\n",
       "      <td>28251.233333</td>\n",
       "    </tr>\n",
       "    <tr>\n",
       "      <th>Windows Phone</th>\n",
       "      <td>0.000000</td>\n",
       "      <td>700.293252</td>\n",
       "      <td>64.583333</td>\n",
       "      <td>28407.400000</td>\n",
       "    </tr>\n",
       "    <tr>\n",
       "      <th>-unknown-</th>\n",
       "      <td>0.000000</td>\n",
       "      <td>426.720023</td>\n",
       "      <td>64.433333</td>\n",
       "      <td>29875.583333</td>\n",
       "    </tr>\n",
       "    <tr>\n",
       "      <th>iPad Tablet</th>\n",
       "      <td>0.000000</td>\n",
       "      <td>351.012478</td>\n",
       "      <td>30.133333</td>\n",
       "      <td>29986.500000</td>\n",
       "    </tr>\n",
       "    <tr>\n",
       "      <th>Chromebook</th>\n",
       "      <td>0.000000</td>\n",
       "      <td>393.214455</td>\n",
       "      <td>29.633333</td>\n",
       "      <td>29916.816667</td>\n",
       "    </tr>\n",
       "    <tr>\n",
       "      <th>Linux Desktop</th>\n",
       "      <td>0.000000</td>\n",
       "      <td>420.764027</td>\n",
       "      <td>27.391667</td>\n",
       "      <td>29579.366667</td>\n",
       "    </tr>\n",
       "    <tr>\n",
       "      <th>Windows Desktop</th>\n",
       "      <td>0.000000</td>\n",
       "      <td>367.968227</td>\n",
       "      <td>21.933333</td>\n",
       "      <td>29990.800000</td>\n",
       "    </tr>\n",
       "    <tr>\n",
       "      <th>Tablet</th>\n",
       "      <td>0.000000</td>\n",
       "      <td>274.878099</td>\n",
       "      <td>21.750000</td>\n",
       "      <td>29881.400000</td>\n",
       "    </tr>\n",
       "    <tr>\n",
       "      <th>Mac Desktop</th>\n",
       "      <td>0.000000</td>\n",
       "      <td>331.945146</td>\n",
       "      <td>19.883333</td>\n",
       "      <td>29999.616667</td>\n",
       "    </tr>\n",
       "    <tr>\n",
       "      <th>Android Phone</th>\n",
       "      <td>0.000000</td>\n",
       "      <td>207.257217</td>\n",
       "      <td>17.383333</td>\n",
       "      <td>29974.466667</td>\n",
       "    </tr>\n",
       "    <tr>\n",
       "      <th>Android App Unknown Phone/Tablet</th>\n",
       "      <td>0.000000</td>\n",
       "      <td>222.375241</td>\n",
       "      <td>15.350000</td>\n",
       "      <td>29988.766667</td>\n",
       "    </tr>\n",
       "    <tr>\n",
       "      <th>iPodtouch</th>\n",
       "      <td>0.000000</td>\n",
       "      <td>241.095130</td>\n",
       "      <td>12.975000</td>\n",
       "      <td>29813.033333</td>\n",
       "    </tr>\n",
       "    <tr>\n",
       "      <th>iPhone</th>\n",
       "      <td>0.000000</td>\n",
       "      <td>294.031331</td>\n",
       "      <td>9.733333</td>\n",
       "      <td>29999.150000</td>\n",
       "    </tr>\n",
       "    <tr>\n",
       "      <th>Opera Phone</th>\n",
       "      <td>0.066667</td>\n",
       "      <td>250.648485</td>\n",
       "      <td>9.083333</td>\n",
       "      <td>4764.733333</td>\n",
       "    </tr>\n",
       "  </tbody>\n",
       "</table>\n",
       "</div>"
      ],
      "text/plain": [
       "                                       min        mean     median  \\\n",
       "device_type                                                         \n",
       "Blackberry                        0.000000  897.149771  69.658333   \n",
       "Windows Phone                     0.000000  700.293252  64.583333   \n",
       "-unknown-                         0.000000  426.720023  64.433333   \n",
       "iPad Tablet                       0.000000  351.012478  30.133333   \n",
       "Chromebook                        0.000000  393.214455  29.633333   \n",
       "Linux Desktop                     0.000000  420.764027  27.391667   \n",
       "Windows Desktop                   0.000000  367.968227  21.933333   \n",
       "Tablet                            0.000000  274.878099  21.750000   \n",
       "Mac Desktop                       0.000000  331.945146  19.883333   \n",
       "Android Phone                     0.000000  207.257217  17.383333   \n",
       "Android App Unknown Phone/Tablet  0.000000  222.375241  15.350000   \n",
       "iPodtouch                         0.000000  241.095130  12.975000   \n",
       "iPhone                            0.000000  294.031331   9.733333   \n",
       "Opera Phone                       0.066667  250.648485   9.083333   \n",
       "\n",
       "                                           max  \n",
       "device_type                                     \n",
       "Blackberry                        28251.233333  \n",
       "Windows Phone                     28407.400000  \n",
       "-unknown-                         29875.583333  \n",
       "iPad Tablet                       29986.500000  \n",
       "Chromebook                        29916.816667  \n",
       "Linux Desktop                     29579.366667  \n",
       "Windows Desktop                   29990.800000  \n",
       "Tablet                            29881.400000  \n",
       "Mac Desktop                       29999.616667  \n",
       "Android Phone                     29974.466667  \n",
       "Android App Unknown Phone/Tablet  29988.766667  \n",
       "iPodtouch                         29813.033333  \n",
       "iPhone                            29999.150000  \n",
       "Opera Phone                        4764.733333  "
      ]
     },
     "execution_count": 14,
     "metadata": {},
     "output_type": "execute_result"
    }
   ],
   "source": [
    "user_sessions.groupby('device_type')['secs_elapsed'].agg(['min','mean','median','max'])\\\n",
    ".sort_values('median',ascending=False) / 60"
   ]
  },
  {
   "cell_type": "code",
   "execution_count": null,
   "metadata": {
    "collapsed": true
   },
   "outputs": [],
   "source": []
  },
  {
   "cell_type": "code",
   "execution_count": null,
   "metadata": {
    "collapsed": true
   },
   "outputs": [],
   "source": []
  },
  {
   "cell_type": "code",
   "execution_count": null,
   "metadata": {
    "collapsed": true
   },
   "outputs": [],
   "source": []
  },
  {
   "cell_type": "code",
   "execution_count": null,
   "metadata": {
    "collapsed": true
   },
   "outputs": [],
   "source": []
  },
  {
   "cell_type": "code",
   "execution_count": null,
   "metadata": {
    "collapsed": true
   },
   "outputs": [],
   "source": []
  },
  {
   "cell_type": "code",
   "execution_count": null,
   "metadata": {
    "collapsed": true
   },
   "outputs": [],
   "source": []
  },
  {
   "cell_type": "code",
   "execution_count": null,
   "metadata": {
    "collapsed": true
   },
   "outputs": [],
   "source": []
  },
  {
   "cell_type": "code",
   "execution_count": null,
   "metadata": {
    "collapsed": true
   },
   "outputs": [],
   "source": []
  },
  {
   "cell_type": "markdown",
   "metadata": {
    "collapsed": true
   },
   "source": [
    "# Recommendations\n",
    "A final paper explaining the problem, your approach and your findings in complete technical detail. Include ideas for further research, as well as up to 3 concrete recommendations for your client on how to use your findings."
   ]
  },
  {
   "cell_type": "markdown",
   "metadata": {
    "collapsed": true
   },
   "source": [
    "# Further Research\n",
    "\n",
    "Include ideas for further research, as well as up to 3 concrete recommendations for your client on how to use your findings."
   ]
  },
  {
   "cell_type": "code",
   "execution_count": 15,
   "metadata": {
    "collapsed": false
   },
   "outputs": [
    {
     "data": {
      "application/json": {
       "Software versions": [
        {
         "module": "Python",
         "version": "2.7.11 64bit [MSC v.1500 64 bit (AMD64)]"
        },
        {
         "module": "IPython",
         "version": "4.0.2"
        },
        {
         "module": "OS",
         "version": "Windows 7 6.1.7601 SP1"
        },
        {
         "module": "numpy",
         "version": "1.10.1"
        },
        {
         "module": "scipy",
         "version": "0.16.0"
        },
        {
         "module": "matplotlib",
         "version": "1.5.1"
        }
       ]
      },
      "text/html": [
       "<table><tr><th>Software</th><th>Version</th></tr><tr><td>Python</td><td>2.7.11 64bit [MSC v.1500 64 bit (AMD64)]</td></tr><tr><td>IPython</td><td>4.0.2</td></tr><tr><td>OS</td><td>Windows 7 6.1.7601 SP1</td></tr><tr><td>numpy</td><td>1.10.1</td></tr><tr><td>scipy</td><td>0.16.0</td></tr><tr><td>matplotlib</td><td>1.5.1</td></tr><tr><td colspan='2'>Tue Feb 02 19:03:16 2016 South Africa Standard Time</td></tr></table>"
      ],
      "text/latex": [
       "\\begin{tabular}{|l|l|}\\hline\n",
       "{\\bf Software} & {\\bf Version} \\\\ \\hline\\hline\n",
       "Python & 2.7.11 64bit [MSC v.1500 64 bit (AMD64)] \\\\ \\hline\n",
       "IPython & 4.0.2 \\\\ \\hline\n",
       "OS & Windows 7 6.1.7601 SP1 \\\\ \\hline\n",
       "numpy & 1.10.1 \\\\ \\hline\n",
       "scipy & 0.16.0 \\\\ \\hline\n",
       "matplotlib & 1.5.1 \\\\ \\hline\n",
       "\\hline \\multicolumn{2}{|l|}{Tue Feb 02 19:03:16 2016 South Africa Standard Time} \\\\ \\hline\n",
       "\\end{tabular}\n"
      ],
      "text/plain": [
       "Software versions\n",
       "Python 2.7.11 64bit [MSC v.1500 64 bit (AMD64)]\n",
       "IPython 4.0.2\n",
       "OS Windows 7 6.1.7601 SP1\n",
       "numpy 1.10.1\n",
       "scipy 0.16.0\n",
       "matplotlib 1.5.1\n",
       "Tue Feb 02 19:03:16 2016 South Africa Standard Time"
      ]
     },
     "execution_count": 15,
     "metadata": {},
     "output_type": "execute_result"
    }
   ],
   "source": [
    "#%install_ext http://raw.github.com/jrjohansson/version_information/master/version_information.py\n",
    "# you need to run the line above only once\n",
    "%load_ext version_information\n",
    "#%reload_ext version_information\n",
    "\n",
    "%version_information numpy, scipy, matplotlib"
   ]
  },
  {
   "cell_type": "markdown",
   "metadata": {
    "collapsed": true
   },
   "source": [
    "# Acknowledgements\n",
    "I have learnt a lot from the work of my fellow Kagglers, and would like to acknowlegde their influence on my work:\n",
    "* David Gasquez's https://www.kaggle.com/davidgasquez/airbnb-recruiting-new-user-bookings/user-data-exploration/notebook\n",
    "* Kevin Wu https://www.kaggle.com/kevinwu06/airbnb-recruiting-new-user-bookings/airbnb-exploratory-analysis/notebook"
   ]
  }
 ],
 "metadata": {
  "kernelspec": {
   "display_name": "Python 2",
   "language": "python",
   "name": "python2"
  },
  "language_info": {
   "codemirror_mode": {
    "name": "ipython",
    "version": 2
   },
   "file_extension": ".py",
   "mimetype": "text/x-python",
   "name": "python",
   "nbconvert_exporter": "python",
   "pygments_lexer": "ipython2",
   "version": "2.7.11"
  }
 },
 "nbformat": 4,
 "nbformat_minor": 0
}
