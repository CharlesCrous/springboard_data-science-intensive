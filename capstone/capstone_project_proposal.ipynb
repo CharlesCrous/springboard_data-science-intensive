{
 "cells": [
  {
   "cell_type": "markdown",
   "metadata": {},
   "source": [
    "<img src=https://kaggle2.blob.core.windows.net/competitions/kaggle/4651/logos/front_page.png alt=\"airbnb logo\">"
   ]
  },
  {
   "cell_type": "markdown",
   "metadata": {
    "collapsed": true
   },
   "source": [
    "# Airbnb New User Bookings [Kaggle competition]\n",
    "## Where will a new guest book their first travel experience?"
   ]
  },
  {
   "cell_type": "markdown",
   "metadata": {},
   "source": [
    "***\n",
    "### What is the problem you want to solve"
   ]
  },
  {
   "cell_type": "markdown",
   "metadata": {
    "collapsed": true
   },
   "source": [
    "Airbnb challenges you to predict in which country$^1$ a new user from the USA will make his or her first booking.\n",
    "\n",
    "$^1$There are 12 possible outcomes of the destination country: 'US', 'FR', 'CA', 'GB', 'ES', 'IT', 'PT', 'NL','DE', 'AU', 'NDF' (no destination found), and 'other'. "
   ]
  },
  {
   "cell_type": "markdown",
   "metadata": {},
   "source": [
    "***\n",
    "### Who is your client and why do they care about this problem? In other words, what will your client DO or DECIDE based on your analysis that they wouldn’t have otherwise?"
   ]
  },
  {
   "cell_type": "markdown",
   "metadata": {
    "collapsed": true
   },
   "source": [
    "New users on Airbnb can book a place to stay in 34,000+ cities across 190+ countries. By accurately predicting where a new user will book their first travel experience, Airbnb can share more personalized content with their community, decrease the average time to first booking, and better forecast demand."
   ]
  },
  {
   "cell_type": "markdown",
   "metadata": {},
   "source": [
    "***\n",
    "### What data are you going to use for this? How will you acquire this data?"
   ]
  },
  {
   "cell_type": "markdown",
   "metadata": {
    "collapsed": true
   },
   "source": [
    "The data has been provided by airbnb and downloaded from Kaggle. And the data contains a rich set of demographics, web session records, and some summary statistics data on about 275,562 (train + test) users from the USA.\n",
    "\n",
    "#### File Descriptions\n",
    "* __train_users.csv__ - the training set of users __(.zip; 4.07 mb)__\n",
    "* __test_users.csv__ - the test set of users __(.zip; 1.05 mb)__\n",
    "  * id: user id\n",
    "  * date_account_created: the date of account creation\n",
    "  * timestamp_first_active: timestamp of the first activity, note that it can be earlier than date_account_created or    date_first_booking because a user can search before signing up\n",
    "  * date_first_booking: date of first booking\n",
    "  * gender\n",
    "  * age\n",
    "  * signup_method\n",
    "  * signup_flow: the page a user came to signup up from\n",
    "  * language: international language preference\n",
    "  * affiliate_channel: what kind of paid marketing\n",
    "  * affiliate_provider: where the marketing is e.g. google, craigslist, other\n",
    "  * first_affiliate_tracked: whats the first marketing the user interacted with before the signing up\n",
    "  * signup_app\n",
    "  * first_device_type\n",
    "  * first_browser\n",
    "  * country_destination: this is the target variable you are to predict\n",
    "* __sessions.csv__ - web sessions log for users __(.zip; 59.14 mb)__\n",
    "  * user_id: to be joined with the column 'id' in users table\n",
    "  * action\n",
    "  * action_type\n",
    "  * action_detail\n",
    "  * device_type\n",
    "  * secs_elapsed\n",
    "* __countries.csv__ - summary statistics of destination countries in this dataset and their locations __(.zip; 546 b)__\n",
    "* __age_gender_bkts.csv__ - summary statistics of users' age group, gender, country of destination __(.zip; 2.46 kb)__\n",
    "* __sample_submission.csv__ - correct format for submitting your predictions __(.zip; 478.27 kb)__\n",
    "\n",
    "\n",
    "source: https://www.kaggle.com/c/airbnb-recruiting-new-user-bookings/data"
   ]
  },
  {
   "cell_type": "markdown",
   "metadata": {},
   "source": [
    "***\n",
    "### In brief, outline your approach to solving this problem (knowing that this might change later)."
   ]
  },
  {
   "cell_type": "markdown",
   "metadata": {
    "collapsed": true
   },
   "source": [
    "1. Load the data\n",
    "2. Explore the data using summary statistics and visual inspection\n",
    "3. Form a hypotheses\n",
    "4. Test different supervised learning techniques and tweak parameters so that I get a score of >0.88075 (placing me in the current top 20)"
   ]
  },
  {
   "cell_type": "markdown",
   "metadata": {},
   "source": [
    "***\n",
    "### What are your deliverables? Typically, this would include code, along with a paper and/or a slide deck."
   ]
  },
  {
   "cell_type": "markdown",
   "metadata": {
    "collapsed": true
   },
   "source": [
    "As per Springboard's requirements for the Capstone project, the following will be delivered:\n",
    "1. Code for your project, well-documented on github.\n",
    "2. A final paper explaining the problem, your approach and your findings in complete technical detail. Include ideas for further research, as well as up to 3 concrete recommendations for your client on how to use your findings.\n",
    "3. A slide deck or a blog post which presents your analysis to your clients (e.g. non-technical and business teams) in an easy to understand, but compelling way. "
   ]
  }
 ],
 "metadata": {
  "kernelspec": {
   "display_name": "Python 2",
   "language": "python",
   "name": "python2"
  },
  "language_info": {
   "codemirror_mode": {
    "name": "ipython",
    "version": 2
   },
   "file_extension": ".py",
   "mimetype": "text/x-python",
   "name": "python",
   "nbconvert_exporter": "python",
   "pygments_lexer": "ipython2",
   "version": "2.7.11"
  }
 },
 "nbformat": 4,
 "nbformat_minor": 0
}
