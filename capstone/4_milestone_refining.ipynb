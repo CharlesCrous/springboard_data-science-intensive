{
 "cells": [
  {
   "cell_type": "markdown",
   "metadata": {},
   "source": [
    "# Which country will first-time airbnb users choose?\n",
    "\n",
    "***\n",
    "### Brief\n",
    "New users on Airbnb can book a place to stay in 34,000+ cities across 190+ countries. By accurately predicting where a new user will book their first travel experience, Airbnb can share more personalized content with their community, decrease the average time to first booking, and better forecast demand.\n",
    "\n",
    "Airbnb wants to predict in which destination country a new user from the USA will make his or her first booking:\n",
    "1. United States of America\n",
    "2. France\n",
    "3. Canada\n",
    "4. Great Britain\n",
    "5. Estonia\n",
    "6. Italy\n",
    "7. Portugal\n",
    "8. Netherlands\n",
    "9. Germany\n",
    "10. Australia  \n",
    "11. No Destination Found (NDF) \n",
    "12. Other\n",
    "\n",
    "Please note that since I'm doing this project after the Kaggle competition was closed, I'm focussing solely focusing on the training data provided as their test data did not have the destination country label and so makes it impossible for me to test the \"accuracy\" of my predictions. The analysis and exploration of the test data is kept within this document for comparison purposes with the work completed by others.\n",
    "\n",
    "\n",
    "### The Data\n",
    "The data has been provided by airbnb and downloaded from Kaggle. And the [data](https://www.kaggle.com/c/airbnb-recruiting-new-user-bookings/data) contains a rich set of demographics, web session records, and some summary statistics data on about 275,562 (train + test) users from the USA. For context, I've also explored the [international](http://travel.trade.gov/view/m-2015-O-001/index.html) and [domestic](http://www.statista.com/statistics/207103/forecasted-number-of-domestic-trips-in-the-us/) travel data for US Citizens for 2015.\n",
    "\n",
    "\n",
    "### Evaluation Metric\n",
    "\n",
    "Most classification algorithms use accuracy (the percentage of observations correctly classified) as their evaluation metric. But with an imbalanced dataset the results are skwed towards the majority class. ____ in order to optimise for ____(accuracy/recall/?). Evaluation based on chi square, but why?\n",
    "\n",
    "\n",
    "### Limitations\n",
    "1. before early 2013 users could make bookings without creating an account\n",
    "2. where date_first_booking is populated with \"NAN\" (Not A Number) the destination country is also given as NDF\n",
    "3. the test data set does not have date_first_booking or country destination populated\n",
    "4. training data covers January 2010 to June 2014 while the testing data covers July 2014 onward. \n",
    "5. session data only ties back to users starting from 2014 onward.\n",
    "6. missing data or data munging that need to be done?\n",
    "7. outliers?\n",
    "8. unbalanced dataset, skewed to NDF (±60%) and the US (±30%) \n",
    "9. What are the similarities/differences in the destination countries?\n",
    "10. Demographic differences that could point to preferences?\n",
    "11. Investigate the impact that user interaction with the website has on destination selection."
   ]
  },
  {
   "cell_type": "markdown",
   "metadata": {},
   "source": [
    "***\n",
    "# Data Exploration\n",
    "\n",
    "Going in, *my hunch* is that the majority of first time US airbnb users will choose destinations within the USA and then tend to favour Canada and European countries to Australia. \n",
    "\n",
    "This is based on data for [international travel](http://travel.trade.gov/view/m-2015-O-001/index.html) by U.S. citizens for the first 10 months of 2015, where all of Europe saw 11,067,879 U.S. citizens (18% of 61,322,698), just above the Canadian figure (11,008,848 citizens; 18%), but still half of number going to Mexico (22,641,533; 36.9% of total). Oceania (used as proxy for Australia in this example) saw 0.8% (511,563) of U.S. citizens visit their shores. In terms of [domestic travel](http://www.statista.com/statistics/207103/forecasted-number-of-domestic-trips-in-the-us/), U.S. citizens took 458.3 million business trips and 1,692.8 million leisure trips in 2015.\n",
    "\n",
    "What I will be exploring:\n",
    "* data integrity:\n",
    "  * the level of missing data \n",
    "  * impact of outliers \n",
    "  * the amount of data cleaning that will be required before anlaysis can be done\n",
    "\n",
    "\n",
    "* testing feature characteristics that could point to country preferences:\n",
    "  * demographic (age, language, gender)\n",
    "  * how the user come to the website initially (affiliate_channel, affiliate_provider, first_affiliate_tracked)\n",
    "  * how the user interacts with the website (first_browser,first_device_type)\n",
    "  * impact of signup process (signup_app, signup_flow, signup_method) on whether the person ends up making a booking or not.\n",
    "  * after creating an account (date_account_created), what is the delay in searching for places to stay (timestamp_first_active)? And post account creation, how long does it take to finalize the booking (date_first_booking)? And what kind of prediction accuracy do these indicators have?\n",
    "  \n",
    "\n",
    "* external influencers about the destination countries themselves that could be attractive to certain users:\n",
    " * the distance to the destination (distance_km)\n",
    " * how big the country is could potentially point to there being more to explore (destination_km2)\n",
    " * foreign, but familiar. Whether english is widely-spoken in the destination country has an impact on it's desirability (destination_language, language_levenshtein_distance)\n",
    " "
   ]
  },
  {
   "cell_type": "code",
   "execution_count": 85,
   "metadata": {
    "collapsed": false
   },
   "outputs": [],
   "source": [
    "# load and transform\n",
    "from time import time\n",
    "import zipfile\n",
    "from datetime import datetime\n",
    "import numpy as np\n",
    "import pandas as pd\n",
    "\n",
    "# stats\n",
    "import scipy.stats as stats\n",
    "\n",
    "# ml\n",
    "from sklearn.preprocessing import MinMaxScaler, LabelEncoder\n",
    "from sklearn.cross_validation import train_test_split, cross_val_score\n",
    "from sklearn import metrics, feature_selection\n",
    "from rank_metrics import ndcg_at_k\n",
    "from sklearn.dummy import DummyClassifier\n",
    "from sklearn.linear_model import LogisticRegressionCV\n",
    "from sklearn.feature_selection import SelectKBest\n",
    "from sklearn import tree\n",
    "from sklearn.ensemble import RandomForestClassifier\n",
    "#from sklearn.grid_search import GridSearchCV, RandomizedSearchCV\n",
    "\n",
    "# graphics\n",
    "%matplotlib inline\n",
    "import matplotlib.pyplot as plt\n",
    "from mpl_toolkits.basemap import Basemap\n",
    "import seaborn as sns\n",
    "\n",
    "# make figures better:\n",
    "font = {'weight':'normal','size':20}\n",
    "plt.rc('font', **font)\n",
    "plt.rc('figure', figsize=(9.0, 6.0))\n",
    "plt.rc('xtick.major', pad=10) # xticks too close to border!\n",
    "plt.style.use('ggplot')\n",
    "\n",
    "#print(plt.style.available)"
   ]
  },
  {
   "cell_type": "code",
   "execution_count": 55,
   "metadata": {
    "collapsed": false
   },
   "outputs": [
    {
     "name": "stdout",
     "output_type": "stream",
     "text": [
      "df_countries => rows: 10; columns: 7\n",
      "df_country_demographics => rows: 420; columns: 5\n",
      "df_user_sessions => rows: 10567737; columns: 6\n",
      "df_train => rows: 213451; columns: 16\n",
      "df_test => rows: 62096; columns: 15\n",
      "df_users => rows: 275547; columns: 16\n"
     ]
    }
   ],
   "source": [
    "# unzip and read data\n",
    "%run load.py"
   ]
  },
  {
   "cell_type": "markdown",
   "metadata": {
    "collapsed": true
   },
   "source": [
    "***\n",
    "## Who are these first-time users?\n",
    "\n",
    "I've combined the train and test data to get a better handle on the overall completeness of the sample since an algorthim that performs well on the training data will only do well if the test data is as rich as the training data."
   ]
  },
  {
   "cell_type": "code",
   "execution_count": 56,
   "metadata": {
    "collapsed": false
   },
   "outputs": [
    {
     "name": "stdout",
     "output_type": "stream",
     "text": [
      "Number of users in the training set: 213451\n",
      "Number of users in the test set: 62096\n",
      "Full Set Rows: 275547\n",
      "Full Set Columns: 16\n"
     ]
    }
   ],
   "source": [
    "print(\"Number of users in the training set: %0.0f\\n\\\n",
    "Number of users in the test set: %0.0f\" % (np.shape(df_train)[0], np.shape(df_test)[0]))\n",
    "print(\"Full Set Rows: %0.0f\\n\\\n",
    "Full Set Columns: %0.0f\" % np.shape(df_users))"
   ]
  },
  {
   "cell_type": "markdown",
   "metadata": {},
   "source": [
    "The training data represents just over three-quarters of the total sample, but it seems like both data sets have the same poorly populated fields. Except that the test set has no values for 'date_first_booking ' and 'country_destination'."
   ]
  },
  {
   "cell_type": "code",
   "execution_count": 57,
   "metadata": {
    "collapsed": false
   },
   "outputs": [
    {
     "name": "stdout",
     "output_type": "stream",
     "text": [
      "% of rows with missing values\n",
      "--------------------------------------------------\n",
      "date_first_booking         67.733998\n",
      "gender                     46.990169\n",
      "age                        42.412365\n",
      "country_destination        22.535538\n",
      "first_browser              16.111226\n",
      "first_affiliate_tracked     2.208335\n",
      "language                    0.000363\n",
      "dtype: float64\n"
     ]
    }
   ],
   "source": [
    "users_nan = df_users.replace('-unknown-', np.nan)\n",
    "users_nan_counts = users_nan.isnull().sum().sort_values(ascending=False)\n",
    "users_nan_summary = (users_nan_counts / users_nan.shape[0]) * 100\n",
    "users_nan_notzero = users_nan_summary[users_nan_summary > 0]\n",
    "\n",
    "print('% of rows with missing values')\n",
    "print('--------------------------------------------------')\n",
    "print(users_nan_notzero)"
   ]
  },
  {
   "cell_type": "code",
   "execution_count": 58,
   "metadata": {
    "collapsed": false
   },
   "outputs": [
    {
     "data": {
      "image/png": "[encoded data removed]",
      "text/plain": [
       "<matplotlib.figure.Figure at 0x2ae25438>"
      ]
     },
     "metadata": {},
     "output_type": "display_data"
    }
   ],
   "source": [
    "train_nan = df_train.replace('-unknown-', np.nan)\n",
    "train_nan_counts = train_nan.isnull().sum().sort_values(ascending=False)\n",
    "train_nan_summary = (train_nan_counts / train_nan.shape[0]) * 100\n",
    "train_nan_notzero = train_nan_summary[train_nan_summary > 0]\n",
    "\n",
    "test_nan = df_test.replace('-unknown-', np.nan)\n",
    "test_nan['country_destination'] = np.nan #the test set doesn't have this field\n",
    "test_nan_counts = test_nan.isnull().sum().sort_values(ascending=False)\n",
    "test_nan_summary = (test_nan_counts / test_nan.shape[0]) * 100\n",
    "test_nan_notzero = test_nan_summary[test_nan_summary > 0]\n",
    "\n",
    "nan_comparison = pd.concat([train_nan_notzero,test_nan_notzero], axis=1) \n",
    "nan_comparison.columns = ['train','test']\n",
    "nan_comparison.sort_values('test', ascending=True).plot(kind='barh')\n",
    "plt.title('% unpopulated for fields with missing values', fontsize=20)\n",
    "plt.legend(loc='lower right');"
   ]
  },
  {
   "cell_type": "markdown",
   "metadata": {},
   "source": [
    "From the chart above I glean that I can't use *date_first_booking* for prediction. It's not held in the test set so even if I get a good fit based on the training data there is no way of fitting it to the test data. That leaves me with *date_account_created* and *timestamp_first_active*. The session data might hold the key to tying some booking info back to the test dataset.\n",
    "\n",
    "Also, taking a closer look at the content of the different fields, it becomes clear that age is not only poorly populated, but there also seems to be a lack of field validation being applied."
   ]
  },
  {
   "cell_type": "code",
   "execution_count": 59,
   "metadata": {
    "collapsed": false
   },
   "outputs": [
    {
     "name": "stdout",
     "output_type": "stream",
     "text": [
      "(['id'], array(['gxn3p5htnn', '820tgsjxq7', '4ft3gnwmtx', ..., '6o3arsjbb4',\n",
      "       'jh95kwisub', 'nw9fwlyb5f'], dtype=object))\n",
      "(['date_account_created'], array(['2010-06-28', '2011-05-25', '2010-09-28', ..., '2014-06-27',\n",
      "       '2014-06-29', '2014-06-30'], dtype=object))\n",
      "(['timestamp_first_active'], array([20090319043255, 20090523174809, 20090609231247, ..., 20140630235754,\n",
      "       20140630235822, 20140630235824], dtype=int64))\n",
      "(['date_first_booking'], array([nan, '2010-08-02', '2012-09-08', ..., '2015-06-25', '2015-06-29',\n",
      "       '2015-06-28'], dtype=object))\n",
      "(['gender'], array(['-unknown-', 'MALE', 'FEMALE', 'OTHER'], dtype=object))\n",
      "(['age'], array([             nan,   3.80000000e+01,   5.60000000e+01,\n",
      "         4.20000000e+01,   4.10000000e+01,   4.60000000e+01,\n",
      "         4.70000000e+01,   5.00000000e+01,   3.60000000e+01,\n",
      "         3.70000000e+01,   3.30000000e+01,   3.10000000e+01,\n",
      "         2.90000000e+01,   3.00000000e+01,   4.00000000e+01,\n",
      "         2.60000000e+01,   3.20000000e+01,   3.50000000e+01,\n",
      "         5.90000000e+01,   4.90000000e+01,   4.40000000e+01,\n",
      "         3.40000000e+01,   2.80000000e+01,   1.90000000e+01,\n",
      "         5.30000000e+01,   5.20000000e+01,   3.90000000e+01,\n",
      "         5.70000000e+01,   2.50000000e+01,   5.40000000e+01,\n",
      "         6.90000000e+01,   6.30000000e+01,   4.30000000e+01,\n",
      "         5.50000000e+01,   6.50000000e+01,   5.80000000e+01,\n",
      "         6.10000000e+01,   1.80000000e+01,   5.00000000e+00,\n",
      "         2.70000000e+01,   4.50000000e+01,   6.00000000e+01,\n",
      "         4.80000000e+01,   5.10000000e+01,   6.40000000e+01,\n",
      "         7.20000000e+01,   7.00000000e+01,   6.70000000e+01,\n",
      "         7.30000000e+01,   2.01400000e+03,   1.04000000e+02,\n",
      "         6.60000000e+01,   1.05000000e+02,   6.80000000e+01,\n",
      "         9.50000000e+01,   2.40000000e+01,   9.40000000e+01,\n",
      "         7.50000000e+01,   7.90000000e+01,   6.20000000e+01,\n",
      "         2.01300000e+03,   1.60000000e+01,   4.00000000e+00,\n",
      "         2.30000000e+01,   1.01000000e+02,   9.80000000e+01,\n",
      "         7.60000000e+01,   7.40000000e+01,   8.70000000e+01,\n",
      "         9.20000000e+01,   1.15000000e+02,   7.10000000e+01,\n",
      "         8.40000000e+01,   1.07000000e+02,   7.80000000e+01,\n",
      "         9.90000000e+01,   1.10000000e+02,   1.02000000e+02,\n",
      "         8.20000000e+01,   7.70000000e+01,   2.20000000e+01,\n",
      "         8.90000000e+01,   2.10000000e+01,   1.50000000e+01,\n",
      "         2.00000000e+01,   1.03000000e+02,   2.00000000e+00,\n",
      "         1.70000000e+01,   8.60000000e+01,   9.70000000e+01,\n",
      "         8.10000000e+01,   9.00000000e+01,   8.80000000e+01,\n",
      "         8.00000000e+01,   1.00000000e+02,   9.10000000e+01,\n",
      "         1.06000000e+02,   8.30000000e+01,   8.50000000e+01,\n",
      "         1.08000000e+02,   1.13000000e+02,   1.09000000e+02,\n",
      "         9.30000000e+01,   9.60000000e+01,   1.94900000e+03,\n",
      "         1.11000000e+02,   1.93100000e+03,   1.93200000e+03,\n",
      "         1.12000000e+02,   1.92800000e+03,   1.00000000e+00,\n",
      "         1.93600000e+03,   1.93300000e+03,   1.93500000e+03,\n",
      "         1.92500000e+03,   1.95200000e+03,   1.50000000e+02,\n",
      "         1.92700000e+03,   1.32000000e+02,   1.95300000e+03,\n",
      "         1.94200000e+03,   1.99500000e+03,   2.00800000e+03,\n",
      "         1.92400000e+03,   1.92900000e+03,   1.94700000e+03,\n",
      "         1.93800000e+03,   1.92600000e+03]))\n",
      "(['signup_method'], array(['facebook', 'basic', 'google'], dtype=object))\n",
      "(['signup_flow'], array([ 0,  3,  2,  1, 24,  8,  6,  5, 10, 25, 12,  4, 16, 15, 20, 21, 23], dtype=int64))\n",
      "(['language'], array(['en', 'fr', 'de', 'es', 'it', 'pt', 'zh', 'ko', 'ja', 'ru', 'pl',\n",
      "       'el', 'sv', 'nl', 'hu', 'da', 'id', 'fi', 'no', 'tr', 'th', 'cs',\n",
      "       'hr', 'ca', 'is'], dtype=object))\n",
      "(['affiliate_channel'], array(['direct', 'seo', 'other', 'sem-non-brand', 'content', 'sem-brand',\n",
      "       'remarketing', 'api'], dtype=object))\n",
      "(['affiliate_provider'], array(['direct', 'google', 'other', 'craigslist', 'facebook', 'vast',\n",
      "       'bing', 'meetup', 'facebook-open-graph', 'email-marketing', 'yahoo',\n",
      "       'padmapper', 'gsp', 'wayn', 'naver', 'baidu', 'yandex', 'daum'], dtype=object))\n",
      "(['first_affiliate_tracked'], array(['untracked', 'omg', nan, 'linked', 'tracked-other', 'product',\n",
      "       'marketing', 'local ops'], dtype=object))\n",
      "(['signup_app'], array(['Web', 'Moweb', 'iOS', 'Android'], dtype=object))\n",
      "(['first_device_type'], array(['Mac Desktop', 'Windows Desktop', 'iPhone', 'Other/Unknown',\n",
      "       'Desktop (Other)', 'Android Tablet', 'iPad', 'Android Phone',\n",
      "       'SmartPhone (Other)'], dtype=object))\n",
      "(['first_browser'], array(['Chrome', 'IE', 'Firefox', 'Safari', '-unknown-', 'Mobile Safari',\n",
      "       'Chrome Mobile', 'RockMelt', 'Chromium', 'Android Browser',\n",
      "       'AOL Explorer', 'Palm Pre web browser', 'Mobile Firefox', 'Opera',\n",
      "       'TenFourFox', 'IE Mobile', 'Apple Mail', 'Silk', 'Camino', 'Arora',\n",
      "       'BlackBerry Browser', 'SeaMonkey', 'Iron', 'Sogou Explorer',\n",
      "       'IceWeasel', 'Opera Mini', 'SiteKiosk', 'Maxthon', 'Kindle Browser',\n",
      "       'CoolNovo', 'Conkeror', 'wOSBrowser', 'Google Earth',\n",
      "       'Crazy Browser', 'Mozilla', 'OmniWeb', 'PS Vita browser',\n",
      "       'NetNewsWire', 'CometBird', 'Comodo Dragon', 'Flock', 'Pale Moon',\n",
      "       'Avant Browser', 'Opera Mobile', 'Yandex.Browser',\n",
      "       'TheWorld Browser', 'SlimBrowser', 'Epic', 'Stainless', 'Googlebot',\n",
      "       'Outlook 2007', 'IceDragon'], dtype=object))\n",
      "(['country_destination'], array(['NDF', 'US', 'other', 'FR', 'CA', 'GB', 'ES', 'IT', 'PT', 'NL',\n",
      "       'DE', 'AU'], dtype=object))\n"
     ]
    }
   ],
   "source": [
    "# check what the fields are populated with for the train data set\n",
    "for column in df_train:\n",
    "    print([column], df_train[column].unique())"
   ]
  },
  {
   "cell_type": "code",
   "execution_count": 60,
   "metadata": {
    "collapsed": false
   },
   "outputs": [
    {
     "name": "stdout",
     "output_type": "stream",
     "text": [
      "count    125461.000000\n",
      "mean         49.668335\n",
      "std         155.666612\n",
      "min           1.000000\n",
      "25%          28.000000\n",
      "50%          34.000000\n",
      "75%          43.000000\n",
      "max        2014.000000\n",
      "Name: age, dtype: float64\n",
      "\n",
      ">100: 2345 (1.87%)\n",
      "<18: 158\n"
     ]
    }
   ],
   "source": [
    "print(df_train.age.describe())\n",
    "print(\"\")\n",
    "print(\">100: %3.0f (%3.2f%%)\" % (sum(df_train.age>100), float(sum(df_train.age>100))/float(sum(df_train.age>0))*100))\n",
    "print(\"<18: %3.0f (%3.2f%%)\" % (sum(df_train.age<18), float(sum(df_train.age<18))/float(sum(df_train.age>0))*100))"
   ]
  },
  {
   "cell_type": "code",
   "execution_count": 61,
   "metadata": {
    "collapsed": false
   },
   "outputs": [
    {
     "data": {
      "image/png": "[encoded data removed]",
      "text/plain": [
       "<matplotlib.figure.Figure at 0x2ae35780>"
      ]
     },
     "metadata": {},
     "output_type": "display_data"
    }
   ],
   "source": [
    "# plot age distributions\n",
    "fig, axes = plt.subplots(nrows=1, ncols=4, figsize=(17,3))\n",
    "df_train[(df_train.age<18)].age.plot(kind='hist', title='Users under 18', bins=20, ax=axes[0])\n",
    "df_train[(df_train.age>18) & (df_train.age<100)].age.plot(kind='hist', title='Users 18 to 100', bins=20, ax=axes[1])\n",
    "df_train[(df_train.age>100) & (df_train.age<200)].age.plot(kind='hist', title='Users between 100 and 150', bins=20, ax=axes[2]);\n",
    "df_train[(df_train.age>200)].age.plot(kind='hist', title='Users entering their birth year', bins=20, ax=axes[3]);"
   ]
  },
  {
   "cell_type": "markdown",
   "metadata": {},
   "source": [
    "So around 42% of the age data is incomplete, bit it seems the remaing +/- 58% needs same cleaning.\n",
    "\n",
    "I've got some 1-6 year olds signing up and some teens. And on the other isde of the spectrum I have a strong contigent of people over a houndred. 1-6 year olds are unlikely to be creating profiles of any sort online. And centenatians numbar about 55,000 and make up about 0.02% of the US population ([source](http://www.census.gov/prod/2014pubs/acsbr12-18.pdf?eml=gd&utm_medium=email&utm_source=govdelivery)) so centenarians are either over represented in Airbnb's sample (by 100 times) or the data is incorrectly captured. My money is on incorrrectly captured. There is another section of the age data that seems to require correction with birth years having been entred instead of their age."
   ]
  },
  {
   "cell_type": "code",
   "execution_count": 62,
   "metadata": {
    "collapsed": false
   },
   "outputs": [],
   "source": [
    "# fix incorrectly populated ages.\n",
    "av = df_train.age.values\n",
    "# fix those with year of birth as age\n",
    "df_train['age'] = np.where(np.logical_and(av>1900, av<2015), 2015-av, av)\n",
    "# set all ages deemed unlikely as null\n",
    "df_train['age'] = np.where(np.logical_or(av<14, av>100), np.nan, av)"
   ]
  },
  {
   "cell_type": "markdown",
   "metadata": {},
   "source": [
    "After fixing incorrect ages, the right-skewed nature of the ages remained after this correction, but the mean (36 years) and median (33) are much closer now (a difference of 3 years instead of the initial 14)."
   ]
  },
  {
   "cell_type": "code",
   "execution_count": 63,
   "metadata": {
    "collapsed": false
   },
   "outputs": [
    {
     "data": {
      "text/plain": [
       "count    123088.000000\n",
       "mean         36.568837\n",
       "std          11.708014\n",
       "min          15.000000\n",
       "25%          28.000000\n",
       "50%          34.000000\n",
       "75%          42.000000\n",
       "max         100.000000\n",
       "Name: age, dtype: float64"
      ]
     },
     "execution_count": 63,
     "metadata": {},
     "output_type": "execute_result"
    }
   ],
   "source": [
    "df_train.age.describe()"
   ]
  },
  {
   "cell_type": "code",
   "execution_count": 64,
   "metadata": {
    "collapsed": false
   },
   "outputs": [
    {
     "data": {
      "image/png": "[encoded data removed]",
      "text/plain": [
       "<matplotlib.figure.Figure at 0x2ae1f630>"
      ]
     },
     "metadata": {},
     "output_type": "display_data"
    }
   ],
   "source": [
    "# Country break-down on the training set\n",
    "fig, axes = plt.subplots(nrows=1, ncols=2, figsize=(17,3))\n",
    "fig1 = df_train.country_destination.value_counts().plot(kind='bar', \n",
    "    title='Destination country count for training set', ax=axes[0])\n",
    "fig2 = df_train[df_train.age.isnull()].country_destination.value_counts().plot(kind='bar', \n",
    "    title='Destination country count for training set with with ages', ax=axes[1])"
   ]
  },
  {
   "cell_type": "markdown",
   "metadata": {},
   "source": [
    "It would also seem like removing the records without age data populated would leave the rank order in tack, but it looks like the distribution would be even more rightr skewed, with NDF and US counts being most dramatically affected."
   ]
  },
  {
   "cell_type": "code",
   "execution_count": 65,
   "metadata": {
    "collapsed": false
   },
   "outputs": [
    {
     "data": {
      "image/png": "[encoded data removed]",
      "text/plain": [
       "<matplotlib.figure.Figure at 0x2ae45128>"
      ]
     },
     "metadata": {},
     "output_type": "display_data"
    }
   ],
   "source": [
    "# Country break-down on the training set\n",
    "fig, axes = plt.subplots(nrows=1, ncols=3, figsize=(17,3))\n",
    "# destination count\n",
    "country_counts = df_train.country_destination.value_counts()\n",
    "fig1 = country_counts.plot(kind='bar', title='Country Destination Count', ax=axes[0])\n",
    "fig1.set_yticklabels(['{:5,.0f}K'.format(x/1000) for x in fig1.get_yticks()]);\n",
    "# destination %\n",
    "fig2 = country_counts.div(country_counts.sum()).plot(kind='bar', title='Country Destination %', ax=axes[1])\n",
    "fig2.set_yticklabels(['{:3.0f}%'.format(x*100) for x in fig2.get_yticks()])\n",
    "# % excl NDF\n",
    "booked_count = df_train[df_train.country_destination != 'NDF'].country_destination.value_counts()\n",
    "fig3 = booked_count.div(booked_count.sum()).plot(kind='bar', title='Country Destination % excl NDF', ax=axes[2])\n",
    "fig3.set_yticklabels(['{:3.0f}%'.format(x*100) for x in fig3.get_yticks()]);"
   ]
  },
  {
   "cell_type": "markdown",
   "metadata": {},
   "source": [
    "The fact that NDF makes up about ±60% of the data and the US another ±30% indicates that we're dealing with an __imbalanced__ dataset. And with about ±60% of users not making a booking and if thsoe that do, ±70% select the US. The fact that the majority of travel for US citizens occurs within the US is very much in-line with the US travel statistics. However, I would have expected Cananda (CA) to be 18% mark and if we assume that Mexico has been rolled into the 'other' group, then is about a third of what would be expected for this group (>38%).\n",
    "\n",
    "Options in order to deal with imbalanced datasets:\n",
    "1. Undersampling\n",
    "2. Oversampling\n",
    "3. Synthetic Data Generation (SMOTE)\n",
    "4. Cost Sensitive Learning (CSL)\n",
    "\n",
    "Since there are about 125,461 observations within the provided training set alone, I might try undersampling the over-represented NDF class first and see what type of results I get."
   ]
  },
  {
   "cell_type": "code",
   "execution_count": 66,
   "metadata": {
    "collapsed": false
   },
   "outputs": [
    {
     "data": {
      "image/png": "[encoded data removed]",
      "text/plain": [
       "<matplotlib.figure.Figure at 0xcb8e710>"
      ]
     },
     "metadata": {},
     "output_type": "display_data"
    },
    {
     "data": {
      "image/png": "[encoded data removed]",
      "text/plain": [
       "<matplotlib.figure.Figure at 0x438ae0f0>"
      ]
     },
     "metadata": {},
     "output_type": "display_data"
    }
   ],
   "source": [
    "# populate the metrics by country\n",
    "bar_order = ['NDF','US','other','FR','IT','GB','ES','CA','DE','NL','AU','PT']\n",
    "cat_vars = ['gender', 'signup_app', 'signup_method', 'signup_flow', \n",
    "            'affiliate_channel', 'affiliate_provider', 'first_affiliate_tracked', 'first_device_type', \n",
    "            'first_browser', \n",
    "            'language']\n",
    "\n",
    "fig, ax4 = plt.subplots(nrows=2, ncols=4, figsize=(16, 8))\n",
    "def pltCatVar(var,axis,ax_num):\n",
    "    ctab = pd.crosstab([df_train[var]], df_train.country_destination).apply(lambda x: x/x.sum(), axis=1)\n",
    "    ctab[bar_order].plot(kind='bar', stacked=True, ax=axis.reshape(-1)[ax_num], legend=False, colormap='terrain')\n",
    "    \n",
    "for i,var in enumerate(cat_vars[:8]):\n",
    "    pltCatVar(var,ax4,i)\n",
    "plt.tight_layout()\n",
    "\n",
    "fig, ax5 = plt.subplots(nrows=2, ncols=1, figsize=(16, 8), sharey=True)\n",
    "for i,var in enumerate(cat_vars[8:]):\n",
    "    pltCatVar(var,ax5,i)\n",
    "    \n",
    "box = ax5[0].get_position()\n",
    "ax5[0].set_position([box.x0, box.y0 + box.height * 0.4, box.width, box.height * 0.6])\n",
    "ax5[1].legend(loc='upper center', bbox_to_anchor=(0.5, -0.25), ncol=6);"
   ]
  },
  {
   "cell_type": "markdown",
   "metadata": {},
   "source": [
    "The following seesms to pop-up from the charts above:\n",
    "* Those that self identify as either male or female tends to have the same pattern in leading to either NDF or US as outcome.\n",
    "* Users signing up using a desktop computer tend choose a more diverse selection of destinations.\n",
    "* Users with the 'google' signup_method book less frequently than 'basic' or 'facebook'\n",
    "* Users with signup_flow 3 book more frequently than any other category while about 9 have a greater than average (60%) outcome that is 'NDF'\n",
    "* Users with 'content' as affiliate_channel book less frequently than other channels\n",
    "* Users with 'craigslist', 'direct', and 'google' as affiliate_provider book more frequently than other providers\n",
    "* Users with first_affiliate_tracked 'local ops' book less frequently than the rest\n",
    "* Users with first_device_type 'Desktop (Other)' 'Mac_Desktop' booked the most frequently, while those with 'Android Phone' and 'Other/Unknown' booked the least\n",
    "* I'm not quite sure what to make from the 'first_browser' break-down.\n",
    "* The chart on language is somewhat surprising given that all the users are said to be US citizens. From my interpretation of the shortened language names, I think it's telling me that if you have English, Finish or Norwegian as a language preference then you are more likely to book. "
   ]
  },
  {
   "cell_type": "markdown",
   "metadata": {},
   "source": [
    "***\n",
    "## What does user engagement on the airbnb website look like?\n",
    "\n",
    "The definition of 'secs_elapsed' is a bit unclear to me. But I think it could abpple to either the recorded time between two actions or the total time the browsing sessions is open."
   ]
  },
  {
   "cell_type": "code",
   "execution_count": 68,
   "metadata": {
    "collapsed": false
   },
   "outputs": [
    {
     "name": "stdout",
     "output_type": "stream",
     "text": [
      "Rows: 10567737; Columns: 6\n"
     ]
    },
    {
     "data": {
      "text/html": [
       "<div>\n",
       "<table border=\"1\" class=\"dataframe\">\n",
       "  <thead>\n",
       "    <tr style=\"text-align: right;\">\n",
       "      <th></th>\n",
       "      <th>user_id</th>\n",
       "      <th>action</th>\n",
       "      <th>action_type</th>\n",
       "      <th>action_detail</th>\n",
       "      <th>device_type</th>\n",
       "      <th>secs_elapsed</th>\n",
       "    </tr>\n",
       "  </thead>\n",
       "  <tbody>\n",
       "    <tr>\n",
       "      <th>10567732</th>\n",
       "      <td>9uqfg8txu3</td>\n",
       "      <td>dashboard</td>\n",
       "      <td>view</td>\n",
       "      <td>dashboard</td>\n",
       "      <td>Windows Desktop</td>\n",
       "      <td>556.0</td>\n",
       "    </tr>\n",
       "    <tr>\n",
       "      <th>10567733</th>\n",
       "      <td>9uqfg8txu3</td>\n",
       "      <td>edit</td>\n",
       "      <td>view</td>\n",
       "      <td>edit_profile</td>\n",
       "      <td>Windows Desktop</td>\n",
       "      <td>6624.0</td>\n",
       "    </tr>\n",
       "    <tr>\n",
       "      <th>10567734</th>\n",
       "      <td>9uqfg8txu3</td>\n",
       "      <td>webcam_upload</td>\n",
       "      <td>-unknown-</td>\n",
       "      <td>-unknown-</td>\n",
       "      <td>Windows Desktop</td>\n",
       "      <td>200125.0</td>\n",
       "    </tr>\n",
       "    <tr>\n",
       "      <th>10567735</th>\n",
       "      <td>9uqfg8txu3</td>\n",
       "      <td>active</td>\n",
       "      <td>-unknown-</td>\n",
       "      <td>-unknown-</td>\n",
       "      <td>-unknown-</td>\n",
       "      <td>17624.0</td>\n",
       "    </tr>\n",
       "    <tr>\n",
       "      <th>10567736</th>\n",
       "      <td>9uqfg8txu3</td>\n",
       "      <td>show_personalize</td>\n",
       "      <td>data</td>\n",
       "      <td>user_profile_content_update</td>\n",
       "      <td>Windows Desktop</td>\n",
       "      <td>1221.0</td>\n",
       "    </tr>\n",
       "  </tbody>\n",
       "</table>\n",
       "</div>"
      ],
      "text/plain": [
       "             user_id            action action_type  \\\n",
       "10567732  9uqfg8txu3         dashboard        view   \n",
       "10567733  9uqfg8txu3              edit        view   \n",
       "10567734  9uqfg8txu3     webcam_upload   -unknown-   \n",
       "10567735  9uqfg8txu3            active   -unknown-   \n",
       "10567736  9uqfg8txu3  show_personalize        data   \n",
       "\n",
       "                        action_detail      device_type  secs_elapsed  \n",
       "10567732                    dashboard  Windows Desktop         556.0  \n",
       "10567733                 edit_profile  Windows Desktop        6624.0  \n",
       "10567734                    -unknown-  Windows Desktop      200125.0  \n",
       "10567735                    -unknown-        -unknown-       17624.0  \n",
       "10567736  user_profile_content_update  Windows Desktop        1221.0  "
      ]
     },
     "execution_count": 68,
     "metadata": {},
     "output_type": "execute_result"
    }
   ],
   "source": [
    "print(\"Rows: %0.0f; Columns: %0.0f\" % np.shape(df_user_sessions))\n",
    "df_user_sessions.tail()"
   ]
  },
  {
   "cell_type": "code",
   "execution_count": 69,
   "metadata": {
    "collapsed": false
   },
   "outputs": [
    {
     "data": {
      "text/html": [
       "<div>\n",
       "<table border=\"1\" class=\"dataframe\">\n",
       "  <thead>\n",
       "    <tr style=\"text-align: right;\">\n",
       "      <th></th>\n",
       "      <th></th>\n",
       "      <th></th>\n",
       "      <th></th>\n",
       "      <th>device_type</th>\n",
       "      <th>secs_elapsed</th>\n",
       "    </tr>\n",
       "    <tr>\n",
       "      <th>user_id</th>\n",
       "      <th>action</th>\n",
       "      <th>action_type</th>\n",
       "      <th>action_detail</th>\n",
       "      <th></th>\n",
       "      <th></th>\n",
       "    </tr>\n",
       "  </thead>\n",
       "  <tbody>\n",
       "    <tr>\n",
       "      <th rowspan=\"11\" valign=\"top\">9uqfg8txu3</th>\n",
       "      <th>active</th>\n",
       "      <th>-unknown-</th>\n",
       "      <th>-unknown-</th>\n",
       "      <td>2</td>\n",
       "      <td>2</td>\n",
       "    </tr>\n",
       "    <tr>\n",
       "      <th>callback</th>\n",
       "      <th>partner_callback</th>\n",
       "      <th>oauth_response</th>\n",
       "      <td>1</td>\n",
       "      <td>0</td>\n",
       "    </tr>\n",
       "    <tr>\n",
       "      <th>create</th>\n",
       "      <th>submit</th>\n",
       "      <th>create_phone_numbers</th>\n",
       "      <td>2</td>\n",
       "      <td>2</td>\n",
       "    </tr>\n",
       "    <tr>\n",
       "      <th>dashboard</th>\n",
       "      <th>view</th>\n",
       "      <th>dashboard</th>\n",
       "      <td>1</td>\n",
       "      <td>1</td>\n",
       "    </tr>\n",
       "    <tr>\n",
       "      <th>edit</th>\n",
       "      <th>view</th>\n",
       "      <th>edit_profile</th>\n",
       "      <td>4</td>\n",
       "      <td>4</td>\n",
       "    </tr>\n",
       "    <tr>\n",
       "      <th>header_userpic</th>\n",
       "      <th>data</th>\n",
       "      <th>header_userpic</th>\n",
       "      <td>1</td>\n",
       "      <td>1</td>\n",
       "    </tr>\n",
       "    <tr>\n",
       "      <th>languages_multiselect</th>\n",
       "      <th>-unknown-</th>\n",
       "      <th>-unknown-</th>\n",
       "      <td>1</td>\n",
       "      <td>1</td>\n",
       "    </tr>\n",
       "    <tr>\n",
       "      <th>show</th>\n",
       "      <th>view</th>\n",
       "      <th>user_profile</th>\n",
       "      <td>1</td>\n",
       "      <td>1</td>\n",
       "    </tr>\n",
       "    <tr>\n",
       "      <th>show_personalize</th>\n",
       "      <th>data</th>\n",
       "      <th>user_profile_content_update</th>\n",
       "      <td>1</td>\n",
       "      <td>1</td>\n",
       "    </tr>\n",
       "    <tr>\n",
       "      <th>update</th>\n",
       "      <th>submit</th>\n",
       "      <th>update_user_profile</th>\n",
       "      <td>1</td>\n",
       "      <td>1</td>\n",
       "    </tr>\n",
       "    <tr>\n",
       "      <th>webcam_upload</th>\n",
       "      <th>-unknown-</th>\n",
       "      <th>-unknown-</th>\n",
       "      <td>1</td>\n",
       "      <td>1</td>\n",
       "    </tr>\n",
       "    <tr>\n",
       "      <th rowspan=\"15\" valign=\"top\">d1mm9tcy42</th>\n",
       "      <th>active</th>\n",
       "      <th>-unknown-</th>\n",
       "      <th>-unknown-</th>\n",
       "      <td>1</td>\n",
       "      <td>1</td>\n",
       "    </tr>\n",
       "    <tr>\n",
       "      <th>ajax_refresh_subtotal</th>\n",
       "      <th>click</th>\n",
       "      <th>change_trip_characteristics</th>\n",
       "      <td>8</td>\n",
       "      <td>8</td>\n",
       "    </tr>\n",
       "    <tr>\n",
       "      <th>ask_question</th>\n",
       "      <th>submit</th>\n",
       "      <th>contact_host</th>\n",
       "      <td>1</td>\n",
       "      <td>1</td>\n",
       "    </tr>\n",
       "    <tr>\n",
       "      <th>decision_tree</th>\n",
       "      <th>-unknown-</th>\n",
       "      <th>-unknown-</th>\n",
       "      <td>1</td>\n",
       "      <td>1</td>\n",
       "    </tr>\n",
       "    <tr>\n",
       "      <th>faq_experiment_ids</th>\n",
       "      <th>-unknown-</th>\n",
       "      <th>-unknown-</th>\n",
       "      <td>1</td>\n",
       "      <td>1</td>\n",
       "    </tr>\n",
       "    <tr>\n",
       "      <th>header_userpic</th>\n",
       "      <th>data</th>\n",
       "      <th>header_userpic</th>\n",
       "      <td>1</td>\n",
       "      <td>1</td>\n",
       "    </tr>\n",
       "    <tr>\n",
       "      <th>hosting_social_proof</th>\n",
       "      <th>-unknown-</th>\n",
       "      <th>-unknown-</th>\n",
       "      <td>2</td>\n",
       "      <td>2</td>\n",
       "    </tr>\n",
       "    <tr>\n",
       "      <th>index</th>\n",
       "      <th>view</th>\n",
       "      <th>view_search_results</th>\n",
       "      <td>11</td>\n",
       "      <td>11</td>\n",
       "    </tr>\n",
       "    <tr>\n",
       "      <th>multi</th>\n",
       "      <th>-unknown-</th>\n",
       "      <th>-unknown-</th>\n",
       "      <td>1</td>\n",
       "      <td>1</td>\n",
       "    </tr>\n",
       "    <tr>\n",
       "      <th>other_hosting_reviews_first</th>\n",
       "      <th>-unknown-</th>\n",
       "      <th>-unknown-</th>\n",
       "      <td>1</td>\n",
       "      <td>1</td>\n",
       "    </tr>\n",
       "    <tr>\n",
       "      <th>personalize</th>\n",
       "      <th>data</th>\n",
       "      <th>wishlist_content_update</th>\n",
       "      <td>25</td>\n",
       "      <td>25</td>\n",
       "    </tr>\n",
       "    <tr>\n",
       "      <th>recent_reservations</th>\n",
       "      <th>-unknown-</th>\n",
       "      <th>-unknown-</th>\n",
       "      <td>1</td>\n",
       "      <td>1</td>\n",
       "    </tr>\n",
       "    <tr>\n",
       "      <th>search_results</th>\n",
       "      <th>click</th>\n",
       "      <th>view_search_results</th>\n",
       "      <td>12</td>\n",
       "      <td>12</td>\n",
       "    </tr>\n",
       "    <tr>\n",
       "      <th>show</th>\n",
       "      <th>view</th>\n",
       "      <th>p3</th>\n",
       "      <td>14</td>\n",
       "      <td>14</td>\n",
       "    </tr>\n",
       "    <tr>\n",
       "      <th>similar_listings</th>\n",
       "      <th>data</th>\n",
       "      <th>similar_listings</th>\n",
       "      <td>9</td>\n",
       "      <td>9</td>\n",
       "    </tr>\n",
       "  </tbody>\n",
       "</table>\n",
       "</div>"
      ],
      "text/plain": [
       "                                                                                     device_type  \\\n",
       "user_id    action                      action_type      action_detail                              \n",
       "9uqfg8txu3 active                      -unknown-        -unknown-                              2   \n",
       "           callback                    partner_callback oauth_response                         1   \n",
       "           create                      submit           create_phone_numbers                   2   \n",
       "           dashboard                   view             dashboard                              1   \n",
       "           edit                        view             edit_profile                           4   \n",
       "           header_userpic              data             header_userpic                         1   \n",
       "           languages_multiselect       -unknown-        -unknown-                              1   \n",
       "           show                        view             user_profile                           1   \n",
       "           show_personalize            data             user_profile_content_update            1   \n",
       "           update                      submit           update_user_profile                    1   \n",
       "           webcam_upload               -unknown-        -unknown-                              1   \n",
       "d1mm9tcy42 active                      -unknown-        -unknown-                              1   \n",
       "           ajax_refresh_subtotal       click            change_trip_characteristics            8   \n",
       "           ask_question                submit           contact_host                           1   \n",
       "           decision_tree               -unknown-        -unknown-                              1   \n",
       "           faq_experiment_ids          -unknown-        -unknown-                              1   \n",
       "           header_userpic              data             header_userpic                         1   \n",
       "           hosting_social_proof        -unknown-        -unknown-                              2   \n",
       "           index                       view             view_search_results                   11   \n",
       "           multi                       -unknown-        -unknown-                              1   \n",
       "           other_hosting_reviews_first -unknown-        -unknown-                              1   \n",
       "           personalize                 data             wishlist_content_update               25   \n",
       "           recent_reservations         -unknown-        -unknown-                              1   \n",
       "           search_results              click            view_search_results                   12   \n",
       "           show                        view             p3                                    14   \n",
       "           similar_listings            data             similar_listings                       9   \n",
       "\n",
       "                                                                                     secs_elapsed  \n",
       "user_id    action                      action_type      action_detail                              \n",
       "9uqfg8txu3 active                      -unknown-        -unknown-                               2  \n",
       "           callback                    partner_callback oauth_response                          0  \n",
       "           create                      submit           create_phone_numbers                    2  \n",
       "           dashboard                   view             dashboard                               1  \n",
       "           edit                        view             edit_profile                            4  \n",
       "           header_userpic              data             header_userpic                          1  \n",
       "           languages_multiselect       -unknown-        -unknown-                               1  \n",
       "           show                        view             user_profile                            1  \n",
       "           show_personalize            data             user_profile_content_update             1  \n",
       "           update                      submit           update_user_profile                     1  \n",
       "           webcam_upload               -unknown-        -unknown-                               1  \n",
       "d1mm9tcy42 active                      -unknown-        -unknown-                               1  \n",
       "           ajax_refresh_subtotal       click            change_trip_characteristics             8  \n",
       "           ask_question                submit           contact_host                            1  \n",
       "           decision_tree               -unknown-        -unknown-                               1  \n",
       "           faq_experiment_ids          -unknown-        -unknown-                               1  \n",
       "           header_userpic              data             header_userpic                          1  \n",
       "           hosting_social_proof        -unknown-        -unknown-                               2  \n",
       "           index                       view             view_search_results                    11  \n",
       "           multi                       -unknown-        -unknown-                               1  \n",
       "           other_hosting_reviews_first -unknown-        -unknown-                               1  \n",
       "           personalize                 data             wishlist_content_update                25  \n",
       "           recent_reservations         -unknown-        -unknown-                               1  \n",
       "           search_results              click            view_search_results                    12  \n",
       "           show                        view             p3                                     14  \n",
       "           similar_listings            data             similar_listings                        9  "
      ]
     },
     "execution_count": 69,
     "metadata": {},
     "output_type": "execute_result"
    }
   ],
   "source": [
    "top_tail = df_user_sessions[df_user_sessions.user_id.isin(['d1mm9tcy42','9uqfg8txu3'])].sort_values('action')\n",
    "top_tail.groupby(['user_id','action','action_type','action_detail']).count()"
   ]
  },
  {
   "cell_type": "code",
   "execution_count": 70,
   "metadata": {
    "collapsed": false
   },
   "outputs": [
    {
     "name": "stdout",
     "output_type": "stream",
     "text": [
      "Number  of rows with missing values\n",
      "-------------------------------------\n",
      "action_type      2157374\n",
      "action_detail    2157345\n",
      "device_type       211279\n",
      "secs_elapsed      136031\n",
      "action             79626\n",
      "user_id            34496\n",
      "dtype: int64\n",
      "% of rows with missing values\n",
      "-------------------------------------\n",
      "action_type      20.414721\n",
      "action_detail    20.414446\n",
      "device_type       1.999283\n",
      "secs_elapsed      1.287229\n",
      "action            0.753482\n",
      "user_id           0.326428\n",
      "dtype: float64\n"
     ]
    }
   ],
   "source": [
    "sessions_nan = df_user_sessions.replace('-unknown-', np.nan)\n",
    "sessions_nan_counts = sessions_nan.isnull().sum().sort_values(ascending=False)\n",
    "sessions_nan_summary = (sessions_nan_counts / sessions_nan.shape[0]) * 100\n",
    "\n",
    "print('Number  of rows with missing values')\n",
    "print('-------------------------------------')\n",
    "print(sessions_nan_counts)\n",
    "\n",
    "print('% of rows with missing values')\n",
    "print('-------------------------------------')\n",
    "print(sessions_nan_summary)"
   ]
  },
  {
   "cell_type": "markdown",
   "metadata": {},
   "source": [
    "The session data seems to hold a rich variety of metrics, but the aren't really well populated for action type and action detail. And it would seems like unknowns in action type would also mean unknwons in actiona detail. But do I care about these fields?"
   ]
  },
  {
   "cell_type": "code",
   "execution_count": 71,
   "metadata": {
    "collapsed": false
   },
   "outputs": [
    {
     "data": {
      "text/plain": [
       "view                33.695975\n",
       "data                19.907479\n",
       "click               18.889408\n",
       "-unknown-            9.757718\n",
       "submit               5.898680\n",
       "message_post         0.824235\n",
       "partner_callback     0.181042\n",
       "booking_request      0.177644\n",
       "modify               0.010778\n",
       "booking_response     0.000038\n",
       "Name: action_type, dtype: float64"
      ]
     },
     "execution_count": 71,
     "metadata": {},
     "output_type": "execute_result"
    }
   ],
   "source": [
    "# What values do action types tend to hold?\n",
    "sessions_action_types = (df_user_sessions.action_type.value_counts() / df_user_sessions.shape[0]) * 100 \n",
    "sessions_action_types"
   ]
  },
  {
   "cell_type": "code",
   "execution_count": 72,
   "metadata": {
    "collapsed": false
   },
   "outputs": [
    {
     "data": {
      "text/plain": [
       "view_search_results            16.814243\n",
       "p3                             13.025968\n",
       "-unknown-                       9.757444\n",
       "wishlist_content_update         6.688509\n",
       "user_profile                    6.215512\n",
       "change_trip_characteristics     4.615406\n",
       "similar_listings                3.450351\n",
       "user_social_connections         3.187049\n",
       "update_listing                  2.552855\n",
       "listing_reviews                 2.545682\n",
       "dashboard                       1.447349\n",
       "user_wishlists                  1.444699\n",
       "header_userpic                  1.342104\n",
       "message_thread                  1.252823\n",
       "edit_profile                    1.028470\n",
       "message_post                    0.824235\n",
       "contact_host                    0.766872\n",
       "unavailable_dates               0.736156\n",
       "confirm_email_link              0.552834\n",
       "create_user                     0.519298\n",
       "Name: action_detail, dtype: float64"
      ]
     },
     "execution_count": 72,
     "metadata": {},
     "output_type": "execute_result"
    }
   ],
   "source": [
    "# top 20 action details\n",
    "sessions_action_details = (df_user_sessions.action_detail.value_counts() / df_user_sessions.shape[0]) * 100 \n",
    "sessions_action_details.head(20)"
   ]
  },
  {
   "cell_type": "markdown",
   "metadata": {},
   "source": [
    "As the name suggests, there is more detail under the Action Detail field about the action performed but very little other than the occurance of reservation as a description pops out as relevant. Action Type looks like it should be the most promising of the 3 action related fields, because of the direct mention of booking request and booking response. So let's take a closer look."
   ]
  },
  {
   "cell_type": "code",
   "execution_count": 75,
   "metadata": {
    "collapsed": false
   },
   "outputs": [
    {
     "data": {
      "text/html": [
       "<div>\n",
       "<table border=\"1\" class=\"dataframe\">\n",
       "  <thead>\n",
       "    <tr style=\"text-align: right;\">\n",
       "      <th></th>\n",
       "      <th></th>\n",
       "      <th></th>\n",
       "      <th>user_id</th>\n",
       "      <th>device_type</th>\n",
       "      <th>secs_elapsed</th>\n",
       "    </tr>\n",
       "    <tr>\n",
       "      <th>action_type</th>\n",
       "      <th>action</th>\n",
       "      <th>action_detail</th>\n",
       "      <th></th>\n",
       "      <th></th>\n",
       "      <th></th>\n",
       "    </tr>\n",
       "  </thead>\n",
       "  <tbody>\n",
       "    <tr>\n",
       "      <th rowspan=\"2\" valign=\"top\">booking_request</th>\n",
       "      <th>at_checkpoint</th>\n",
       "      <th>at_checkpoint</th>\n",
       "      <td>5166</td>\n",
       "      <td>5170</td>\n",
       "      <td>5128</td>\n",
       "    </tr>\n",
       "    <tr>\n",
       "      <th>pending</th>\n",
       "      <th>pending</th>\n",
       "      <td>13596</td>\n",
       "      <td>13603</td>\n",
       "      <td>13521</td>\n",
       "    </tr>\n",
       "    <tr>\n",
       "      <th>booking_response</th>\n",
       "      <th>booking</th>\n",
       "      <th>booking</th>\n",
       "      <td>4</td>\n",
       "      <td>4</td>\n",
       "      <td>4</td>\n",
       "    </tr>\n",
       "  </tbody>\n",
       "</table>\n",
       "</div>"
      ],
      "text/plain": [
       "                                              user_id  device_type  \\\n",
       "action_type      action        action_detail                         \n",
       "booking_request  at_checkpoint at_checkpoint     5166         5170   \n",
       "                 pending       pending          13596        13603   \n",
       "booking_response booking       booking              4            4   \n",
       "\n",
       "                                              secs_elapsed  \n",
       "action_type      action        action_detail                \n",
       "booking_request  at_checkpoint at_checkpoint          5128  \n",
       "                 pending       pending               13521  \n",
       "booking_response booking       booking                   4  "
      ]
     },
     "execution_count": 75,
     "metadata": {},
     "output_type": "execute_result"
    }
   ],
   "source": [
    "df_user_sessions[df_user_sessions.action_type.isin(['booking_request','booking_response'])] \\\n",
    ".groupby(['action_type','action','action_detail']).count()"
   ]
  },
  {
   "cell_type": "markdown",
   "metadata": {},
   "source": [
    "It seems action and action details both hold the same information for these two booking related action types. When I looked at whether I can used the occurance of checkpoint, pending and booking as field values in the relatively complete action field (0.75% missing records), in the hopes of filling in action type and action detail statuses I came up short unfortunately as 2,391 is only a drop in the bucket compared to the total unknown values of 2,157,374 (please see below)."
   ]
  },
  {
   "cell_type": "code",
   "execution_count": 76,
   "metadata": {
    "collapsed": false
   },
   "outputs": [
    {
     "data": {
      "text/html": [
       "<div>\n",
       "<table border=\"1\" class=\"dataframe\">\n",
       "  <thead>\n",
       "    <tr style=\"text-align: right;\">\n",
       "      <th></th>\n",
       "      <th></th>\n",
       "      <th></th>\n",
       "      <th>user_id</th>\n",
       "      <th>device_type</th>\n",
       "      <th>secs_elapsed</th>\n",
       "    </tr>\n",
       "    <tr>\n",
       "      <th>action_type</th>\n",
       "      <th>action</th>\n",
       "      <th>action_detail</th>\n",
       "      <th></th>\n",
       "      <th></th>\n",
       "      <th></th>\n",
       "    </tr>\n",
       "  </thead>\n",
       "  <tbody>\n",
       "    <tr>\n",
       "      <th>-unknown-</th>\n",
       "      <th>pending</th>\n",
       "      <th>-unknown-</th>\n",
       "      <td>2391</td>\n",
       "      <td>2397</td>\n",
       "      <td>2397</td>\n",
       "    </tr>\n",
       "    <tr>\n",
       "      <th rowspan=\"2\" valign=\"top\">booking_request</th>\n",
       "      <th>at_checkpoint</th>\n",
       "      <th>at_checkpoint</th>\n",
       "      <td>5166</td>\n",
       "      <td>5170</td>\n",
       "      <td>5128</td>\n",
       "    </tr>\n",
       "    <tr>\n",
       "      <th>pending</th>\n",
       "      <th>pending</th>\n",
       "      <td>13596</td>\n",
       "      <td>13603</td>\n",
       "      <td>13521</td>\n",
       "    </tr>\n",
       "    <tr>\n",
       "      <th>booking_response</th>\n",
       "      <th>booking</th>\n",
       "      <th>booking</th>\n",
       "      <td>4</td>\n",
       "      <td>4</td>\n",
       "      <td>4</td>\n",
       "    </tr>\n",
       "  </tbody>\n",
       "</table>\n",
       "</div>"
      ],
      "text/plain": [
       "                                              user_id  device_type  \\\n",
       "action_type      action        action_detail                         \n",
       "-unknown-        pending       -unknown-         2391         2397   \n",
       "booking_request  at_checkpoint at_checkpoint     5166         5170   \n",
       "                 pending       pending          13596        13603   \n",
       "booking_response booking       booking              4            4   \n",
       "\n",
       "                                              secs_elapsed  \n",
       "action_type      action        action_detail                \n",
       "-unknown-        pending       -unknown-              2397  \n",
       "booking_request  at_checkpoint at_checkpoint          5128  \n",
       "                 pending       pending               13521  \n",
       "booking_response booking       booking                   4  "
      ]
     },
     "execution_count": 76,
     "metadata": {},
     "output_type": "execute_result"
    }
   ],
   "source": [
    "df_user_sessions[df_user_sessions.action.isin(['at_checkpoint','pending','booking'])] \\\n",
    ".groupby(['action_type','action','action_detail']).count()"
   ]
  },
  {
   "cell_type": "markdown",
   "metadata": {},
   "source": [
    "I feature that is populated quite well is the type of device that was used to interact with the airbnb platform, and shows that the majority, 59.43% of users tended to use their desktop and a further 26.5% use a Apple mobile device."
   ]
  },
  {
   "cell_type": "code",
   "execution_count": 77,
   "metadata": {
    "collapsed": false
   },
   "outputs": [
    {
     "data": {
      "text/plain": [
       "device_type\n",
       "Mac Desktop                         34.011880\n",
       "Windows Desktop                     25.157127\n",
       "iPhone                              19.919411\n",
       "Android Phone                        7.945287\n",
       "iPad Tablet                          6.466985\n",
       "Android App Unknown Phone/Tablet     2.589504\n",
       "-unknown-                            1.999283\n",
       "Tablet                               1.323708\n",
       "Linux Desktop                        0.268487\n",
       "Chromebook                           0.211474\n",
       "iPodtouch                            0.077576\n",
       "Windows Phone                        0.019370\n",
       "Blackberry                           0.009264\n",
       "Opera Phone                          0.000643\n",
       "dtype: float64"
      ]
     },
     "execution_count": 77,
     "metadata": {},
     "output_type": "execute_result"
    }
   ],
   "source": [
    "df_user_sessions.groupby('device_type').size().sort_values(ascending=False) / df_user_sessions.shape[0] *100"
   ]
  },
  {
   "cell_type": "markdown",
   "metadata": {},
   "source": [
    "Looking at how long the user sessions are by device type, it looks like Blackbery and Windows Phone have the longest recorded time with median time of 70 and 65 minutes respectively. This might not be a good thing and actually point to usability issues for those that use phones that aren't Apple or Android. Android and Apple mobile devices have the lowest median session duration (between 9 and 17 minutes), while desktop and tablets see about twice the session length of mobile devices (excluding Blackberry- and Windows phones). This makes sense since the time required to plan a trip would envolve a lot of research and looking at images or videos and are better suited to tablets and desktops."
   ]
  },
  {
   "cell_type": "code",
   "execution_count": 84,
   "metadata": {
    "collapsed": false
   },
   "outputs": [
    {
     "data": {
      "text/html": [
       "<div>\n",
       "<table border=\"1\" class=\"dataframe\">\n",
       "  <thead>\n",
       "    <tr style=\"text-align: right;\">\n",
       "      <th></th>\n",
       "      <th>min</th>\n",
       "      <th>mean</th>\n",
       "      <th>median</th>\n",
       "      <th>max</th>\n",
       "    </tr>\n",
       "    <tr>\n",
       "      <th>device_type</th>\n",
       "      <th></th>\n",
       "      <th></th>\n",
       "      <th></th>\n",
       "      <th></th>\n",
       "    </tr>\n",
       "  </thead>\n",
       "  <tbody>\n",
       "    <tr>\n",
       "      <th>Blackberry</th>\n",
       "      <td>0.000000</td>\n",
       "      <td>897.149771</td>\n",
       "      <td>69.658333</td>\n",
       "      <td>28251.233333</td>\n",
       "    </tr>\n",
       "    <tr>\n",
       "      <th>Windows Phone</th>\n",
       "      <td>0.000000</td>\n",
       "      <td>700.293252</td>\n",
       "      <td>64.583333</td>\n",
       "      <td>28407.400000</td>\n",
       "    </tr>\n",
       "    <tr>\n",
       "      <th>-unknown-</th>\n",
       "      <td>0.000000</td>\n",
       "      <td>426.720023</td>\n",
       "      <td>64.433333</td>\n",
       "      <td>29875.583333</td>\n",
       "    </tr>\n",
       "    <tr>\n",
       "      <th>iPad Tablet</th>\n",
       "      <td>0.000000</td>\n",
       "      <td>351.012478</td>\n",
       "      <td>30.133333</td>\n",
       "      <td>29986.500000</td>\n",
       "    </tr>\n",
       "    <tr>\n",
       "      <th>Chromebook</th>\n",
       "      <td>0.000000</td>\n",
       "      <td>393.214455</td>\n",
       "      <td>29.633333</td>\n",
       "      <td>29916.816667</td>\n",
       "    </tr>\n",
       "    <tr>\n",
       "      <th>Linux Desktop</th>\n",
       "      <td>0.000000</td>\n",
       "      <td>420.764027</td>\n",
       "      <td>27.391667</td>\n",
       "      <td>29579.366667</td>\n",
       "    </tr>\n",
       "    <tr>\n",
       "      <th>Windows Desktop</th>\n",
       "      <td>0.000000</td>\n",
       "      <td>367.968227</td>\n",
       "      <td>21.933333</td>\n",
       "      <td>29990.800000</td>\n",
       "    </tr>\n",
       "    <tr>\n",
       "      <th>Tablet</th>\n",
       "      <td>0.000000</td>\n",
       "      <td>274.878099</td>\n",
       "      <td>21.750000</td>\n",
       "      <td>29881.400000</td>\n",
       "    </tr>\n",
       "    <tr>\n",
       "      <th>Mac Desktop</th>\n",
       "      <td>0.000000</td>\n",
       "      <td>331.945146</td>\n",
       "      <td>19.883333</td>\n",
       "      <td>29999.616667</td>\n",
       "    </tr>\n",
       "    <tr>\n",
       "      <th>Android Phone</th>\n",
       "      <td>0.000000</td>\n",
       "      <td>207.257217</td>\n",
       "      <td>17.383333</td>\n",
       "      <td>29974.466667</td>\n",
       "    </tr>\n",
       "    <tr>\n",
       "      <th>Android App Unknown Phone/Tablet</th>\n",
       "      <td>0.000000</td>\n",
       "      <td>222.375241</td>\n",
       "      <td>15.350000</td>\n",
       "      <td>29988.766667</td>\n",
       "    </tr>\n",
       "    <tr>\n",
       "      <th>iPodtouch</th>\n",
       "      <td>0.000000</td>\n",
       "      <td>241.095130</td>\n",
       "      <td>12.975000</td>\n",
       "      <td>29813.033333</td>\n",
       "    </tr>\n",
       "    <tr>\n",
       "      <th>iPhone</th>\n",
       "      <td>0.000000</td>\n",
       "      <td>294.031331</td>\n",
       "      <td>9.733333</td>\n",
       "      <td>29999.150000</td>\n",
       "    </tr>\n",
       "    <tr>\n",
       "      <th>Opera Phone</th>\n",
       "      <td>0.066667</td>\n",
       "      <td>250.648485</td>\n",
       "      <td>9.083333</td>\n",
       "      <td>4764.733333</td>\n",
       "    </tr>\n",
       "  </tbody>\n",
       "</table>\n",
       "</div>"
      ],
      "text/plain": [
       "                                       min        mean     median  \\\n",
       "device_type                                                         \n",
       "Blackberry                        0.000000  897.149771  69.658333   \n",
       "Windows Phone                     0.000000  700.293252  64.583333   \n",
       "-unknown-                         0.000000  426.720023  64.433333   \n",
       "iPad Tablet                       0.000000  351.012478  30.133333   \n",
       "Chromebook                        0.000000  393.214455  29.633333   \n",
       "Linux Desktop                     0.000000  420.764027  27.391667   \n",
       "Windows Desktop                   0.000000  367.968227  21.933333   \n",
       "Tablet                            0.000000  274.878099  21.750000   \n",
       "Mac Desktop                       0.000000  331.945146  19.883333   \n",
       "Android Phone                     0.000000  207.257217  17.383333   \n",
       "Android App Unknown Phone/Tablet  0.000000  222.375241  15.350000   \n",
       "iPodtouch                         0.000000  241.095130  12.975000   \n",
       "iPhone                            0.000000  294.031331   9.733333   \n",
       "Opera Phone                       0.066667  250.648485   9.083333   \n",
       "\n",
       "                                           max  \n",
       "device_type                                     \n",
       "Blackberry                        28251.233333  \n",
       "Windows Phone                     28407.400000  \n",
       "-unknown-                         29875.583333  \n",
       "iPad Tablet                       29986.500000  \n",
       "Chromebook                        29916.816667  \n",
       "Linux Desktop                     29579.366667  \n",
       "Windows Desktop                   29990.800000  \n",
       "Tablet                            29881.400000  \n",
       "Mac Desktop                       29999.616667  \n",
       "Android Phone                     29974.466667  \n",
       "Android App Unknown Phone/Tablet  29988.766667  \n",
       "iPodtouch                         29813.033333  \n",
       "iPhone                            29999.150000  \n",
       "Opera Phone                        4764.733333  "
      ]
     },
     "execution_count": 84,
     "metadata": {},
     "output_type": "execute_result"
    }
   ],
   "source": [
    "# minutes spent online [er device type\n",
    "df_user_sessions.groupby('device_type')['secs_elapsed'].agg(['min','mean','median','max'])\\\n",
    ".sort_values('median',ascending=False) / 60"
   ]
  },
  {
   "cell_type": "markdown",
   "metadata": {
    "collapsed": true
   },
   "source": [
    "# Preliminary Findings\n",
    "\n"
   ]
  },
  {
   "cell_type": "markdown",
   "metadata": {
    "collapsed": true
   },
   "source": [
    "# Test my Hyphotheses\n",
    "Any preliminary exploration you’ve performed and your initial findings. Test the hypotheses one at a time. Often, the data story emerges as a result of a sequence of testing hypothesis e.g. You first tested if X was true, and because it wasn't, you tried Y, which turned out to be true."
   ]
  },
  {
   "cell_type": "code",
   "execution_count": null,
   "metadata": {
    "collapsed": true
   },
   "outputs": [],
   "source": []
  },
  {
   "cell_type": "code",
   "execution_count": null,
   "metadata": {
    "collapsed": true
   },
   "outputs": [],
   "source": []
  },
  {
   "cell_type": "code",
   "execution_count": null,
   "metadata": {
    "collapsed": true
   },
   "outputs": [],
   "source": []
  },
  {
   "cell_type": "code",
   "execution_count": null,
   "metadata": {
    "collapsed": true
   },
   "outputs": [],
   "source": []
  },
  {
   "cell_type": "code",
   "execution_count": null,
   "metadata": {
    "collapsed": true
   },
   "outputs": [],
   "source": []
  },
  {
   "cell_type": "markdown",
   "metadata": {
    "collapsed": true
   },
   "source": [
    "# Course of Action\n",
    "Based on these findings, what approach are you going to take? How has your approach changed from what you initially proposed, if applicable?\n",
    "\n",
    "Since the data is skewed towards NDF, classification accuracy would not be a good evaluation metric. Instead, possible evalutation metrics could include:\n",
    "1. measure proportions of true postive, false positive, false negative, true negative\n",
    "2. precision/recall\n",
    "3. $F_1$-score\n",
    "\n",
    "Cross validation should be used to test the effectiveness ([source](https://www.youtube.com/watch?v=20dfmwVwK-8&list=PLZ9qNFMHZ-A4rycgrgOYma6zxF4BZGGPW&index=92)).\n",
    "\n",
    "A anomaly detection algorithm is more apporporiate when there are less than 20 postive examples. These positve example will be left for the testing and cross validation datasets and the negative exampels will then be used exclusively in the train dataset. If there are, however, a large number of both postive and negative examples, Supervised Learning could be considered.\n",
    "\n",
    "For non-gaussian features, transformation could be used to transform the ditribution into something that resembles a normal distribution, such as:\n",
    "* x_1 <- log(x_1)\n",
    "* x_2 <- log(x_2+1)\n",
    "* x_3 <- sqrt(x_3)\n",
    "* c_4 <- x_4^(1/3)\n",
    "\n",
    "Multivaraite Gaussain (normal) distrubution to alter calssification elipse shape.\n",
    "\n",
    "decreasin/increasing lambda (regularization parameter)\n",
    "\n",
    "adding polynomial features\n",
    "\n",
    "train (60%), cross validation set (20%), test set (20%)\n",
    "\n",
    "if nML algo not doing well, then this poiints to either a high bias problem or a high variance problem\n",
    "\n",
    "More training data won't help high bias\n"
   ]
  },
  {
   "cell_type": "code",
   "execution_count": 86,
   "metadata": {
    "collapsed": false
   },
   "outputs": [
    {
     "name": "stdout",
     "output_type": "stream",
     "text": [
      "df => observations: 213451; features: 161\n",
      "destination encoding:\n",
      "[('AU', 0), ('CA', 1), ('DE', 2), ('ES', 3), ('FR', 4), ('GB', 5), ('IT', 6), ('NDF', 7), ('NL', 8), ('PT', 9), ('US', 10), ('other', 11)]\n"
     ]
    }
   ],
   "source": [
    "df = df_train\n",
    "\n",
    "### transformations ###\n",
    "\n",
    "# incorrectly populated ages\n",
    "av = df.age.values\n",
    "df['age'] = np.where(np.logical_and(av>1900, av<2015), 2015-av, av) # fix those with year of birth as age\n",
    "df['age'] = np.where(np.logical_or(av<14, av>100), np.nan, av) # set all ages deemed unlikely as null\n",
    "mean_age = av.mean()\n",
    "df['age'].fillna(mean_age, inplace=True)\n",
    "\n",
    "# handling nulls \n",
    "df.replace(\"-unknown-\", np.nan, inplace=True)\n",
    "df.fillna(0, inplace=True)\n",
    "\n",
    "\n",
    "### feature engineering ###\n",
    "\n",
    "# date_account_created\n",
    "df['date_account_created'] = pd.to_datetime(df.date_account_created)\n",
    "df['year_account_created'] = df.date_account_created.dt.year\n",
    "df['month_account_created'] = df.date_account_created.dt.month\n",
    "df['week_account_created'] = df.date_account_created.dt.week\n",
    "df['weekday_account_created'] = df.date_account_created.dt.weekday\n",
    "df['day_account_created'] = df.date_account_created.dt.day\n",
    "\n",
    "# timestamp_first_active\n",
    "df['date_first_active'] = pd.to_datetime((df.timestamp_first_active // 1000000), format='%Y%m%d')\n",
    "df['year_first_active'] = df.date_first_active.dt.year\n",
    "df['month_first_active'] = df.date_first_active.dt.month\n",
    "df['week_first_active'] = df.date_first_active.dt.week\n",
    "df['weekday_first_active'] = df.date_first_active.dt.weekday\n",
    "df['day_first_active'] = df.date_first_active.dt.day\n",
    "\n",
    "# cleanup\n",
    "# date_first_booking isn't populated in the test set so this feature can't be used \n",
    "# and I'm done with the orignal date fields\n",
    "drop_list = ['date_account_created','timestamp_first_active','date_first_active','date_first_booking']\n",
    "df.drop(drop_list, axis=1, inplace=True)\n",
    "\n",
    "# One-hot-encoding features\n",
    "ohe_features = ['gender', 'signup_method', 'signup_flow', 'language', 'affiliate_channel', 'affiliate_provider', 'first_affiliate_tracked', 'signup_app', 'first_device_type', 'first_browser']\n",
    "for f in ohe_features:\n",
    "    df_encodings = pd.get_dummies(df[f], prefix=f)\n",
    "    df = df.drop([f], axis=1)\n",
    "    df = pd.concat((df, df_encodings), axis=1)\n",
    "    \n",
    "    \n",
    "### check impact of changes ###\n",
    "print(\"df => observations: %0.0f; features: %0.0f\" % np.shape(df))\n",
    "\n",
    "\n",
    "### setup ml structure ###\n",
    "le = LabelEncoder()\n",
    "labels = df['country_destination'].values\n",
    "y = le.fit_transform(labels).reshape(-1, 1)\n",
    "features = df.drop(['id','country_destination'], axis=1)\n",
    "\n",
    "print(\"destination encoding:\")\n",
    "print(list(zip(le.classes_,range(0,len(y)))))"
   ]
  },
  {
   "cell_type": "markdown",
   "metadata": {},
   "source": [
    "### balance the dataset\n",
    "Make use of undersampling to reduce the porportional imbalance of NDF and the US within the dataset"
   ]
  },
  {
   "cell_type": "code",
   "execution_count": null,
   "metadata": {
    "collapsed": true
   },
   "outputs": [],
   "source": []
  },
  {
   "cell_type": "markdown",
   "metadata": {},
   "source": [
    "### test/train split\n",
    "After the transformations and feature engineering has been performed on the combination of the training and the test set, these two data sets are split out once more"
   ]
  },
  {
   "cell_type": "code",
   "execution_count": 87,
   "metadata": {
    "collapsed": false
   },
   "outputs": [],
   "source": [
    "# split train and test\n",
    "X_train, X_test, y_train, y_test = train_test_split(\n",
    "        features, y, test_size=0.3, random_state=0)"
   ]
  },
  {
   "cell_type": "markdown",
   "metadata": {},
   "source": [
    "### Measuring Performance\n"
   ]
  },
  {
   "cell_type": "code",
   "execution_count": 88,
   "metadata": {
    "collapsed": true
   },
   "outputs": [],
   "source": [
    "def measure_performance(X, y, clf, show_accuracy=True, show_classification_true=True, show_confussion_matric=True):\n",
    "    y_pred = clf.predict(X)\n",
    "    if show_accuracy:\n",
    "        print \"Accuracy:{0:.3f}\".format(metrics.accuracy_score(y, y_pred)),\"\\n\"\n",
    "    if show_classification_true:   \n",
    "        print \"Classification report\"\n",
    "        print metrics.classification_report(y, y_pred),\"\\n\"\n",
    "    if show_confussion_matric:    \n",
    "        print \"Confussion matrix\"\n",
    "        print metrics.confusion_matrix(y, y_pred),\"\\n\""
   ]
  },
  {
   "cell_type": "markdown",
   "metadata": {},
   "source": [
    "# Decision Tree"
   ]
  },
  {
   "cell_type": "code",
   "execution_count": 89,
   "metadata": {
    "collapsed": false
   },
   "outputs": [
    {
     "name": "stdout",
     "output_type": "stream",
     "text": [
      "done in 4.717s\n",
      "Accuracy:0.954 \n",
      "\n",
      "Classification report\n",
      "             precision    recall  f1-score   support\n",
      "\n",
      "          0       0.96      0.94      0.95       381\n",
      "          1       0.93      0.92      0.92      1031\n",
      "          2       0.94      0.95      0.95       746\n",
      "          3       0.93      0.92      0.93      1556\n",
      "          4       0.93      0.93      0.93      3562\n",
      "          5       0.93      0.93      0.93      1628\n",
      "          6       0.94      0.91      0.92      2029\n",
      "          7       0.94      0.99      0.96     87102\n",
      "          8       0.98      0.90      0.93       539\n",
      "          9       0.99      0.87      0.93       151\n",
      "         10       0.99      0.90      0.94     43678\n",
      "         11       1.00      0.86      0.92      7012\n",
      "\n",
      "avg / total       0.96      0.95      0.95    149415\n",
      "\n",
      "\n",
      "Confussion matrix\n",
      "[[  359     0     0     0     0     0     0    22     0     0     0     0]\n",
      " [    0   949     0     0     0     0     0    77     0     0     4     1]\n",
      " [    0     1   712     0     0     0     0    32     0     0     1     0]\n",
      " [    0     2     0  1439     0     0     0   110     0     0     5     0]\n",
      " [    3     2     0     2  3313     0     0   231     0     0    11     0]\n",
      " [    0     2     1     0     4  1506     0   112     0     0     3     0]\n",
      " [    0     2     0     1     4     5  1845   162     0     0    10     0]\n",
      " [    6    38    23    58   160    66    82 86468     0     0   194     7]\n",
      " [    0     1     0     0     3     0     1    49   483     0     2     0]\n",
      " [    0     0     0     0     0     1     0    18     0   132     0     0]\n",
      " [    7    20    14    34    76    39    36  4063     9     1 39374     5]\n",
      " [    0     8     6     6    17     3     9   835     3     1   108  6016]] \n",
      "\n"
     ]
    }
   ],
   "source": [
    "dt = tree.DecisionTreeClassifier(criterion='entropy')\n",
    "t0 = time()\n",
    "dt = dt.fit(X_train, y_train)\n",
    "print \"done in %0.3fs\" % (time() - t0)\n",
    "measure_performance(X_train, y_train, dt, show_accuracy=True, show_classification_true=True, show_confussion_matric=True)"
   ]
  },
  {
   "cell_type": "code",
   "execution_count": 91,
   "metadata": {
    "collapsed": false
   },
   "outputs": [
    {
     "name": "stdout",
     "output_type": "stream",
     "text": [
      "done in 0.108s\n",
      "Accuracy:0.511 \n",
      "\n",
      "             precision    recall  f1-score   support\n",
      "\n",
      "          0       0.00      0.00      0.00       158\n",
      "          1       0.01      0.02      0.01       397\n",
      "          2       0.01      0.01      0.01       315\n",
      "          3       0.01      0.01      0.01       693\n",
      "          4       0.04      0.05      0.04      1461\n",
      "          5       0.02      0.02      0.02       696\n",
      "          6       0.03      0.04      0.03       806\n",
      "          7       0.67      0.69      0.68     37441\n",
      "          8       0.00      0.00      0.00       223\n",
      "          9       0.00      0.00      0.00        66\n",
      "         10       0.39      0.35      0.37     18698\n",
      "         11       0.06      0.06      0.06      3082\n",
      "\n",
      "avg / total       0.51      0.51      0.51     64036\n",
      "\n",
      "[[    0     1     0     2     4     2     3    71     1     1    66     7]\n",
      " [    2     6     1     9    19     2     9   194     3     0   125    27]\n",
      " [    1     5     3     3    11     8     7   148     0     0   117    12]\n",
      " [    1     8     9     9    24    12    11   328    10     0   233    48]\n",
      " [    5    10     9    18    66    27    46   661     7     1   520    91]\n",
      " [    3     9     8     7    39    15     9   320     5     2   246    33]\n",
      " [    4     8    12    11    26    11    29   386     5     0   267    47]\n",
      " [   96   221   169   344   801   391   478 25806   121    35  7668  1311]\n",
      " [    2     3     4     5    10     7     6   100     1     1    73    11]\n",
      " [    0     1     1     1     1     3     2    28     0     0    20     9]\n",
      " [   82   198   133   263   610   339   355  8862   101    35  6578  1142]\n",
      " [   14    38    20    44   103    55    51  1505    28     3  1038   183]]\n"
     ]
    }
   ],
   "source": [
    "t0 = time()\n",
    "y_pred = dt.predict(X_test)\n",
    "print \"done in %0.3fs\" % (time() - t0)\n",
    "print \"Accuracy:{0:.3f}\".format(metrics.accuracy_score(y_test, y_pred)), \"\\n\"\n",
    "print metrics.classification_report(y_test, y_pred)\n",
    "print metrics.confusion_matrix(y_test, y_pred)"
   ]
  },
  {
   "cell_type": "markdown",
   "metadata": {},
   "source": [
    "### Feature Selection\n",
    "Try smaller number of features to avoid over fitting. Select only the top 20% most important features using chi${^2}$ test. "
   ]
  },
  {
   "cell_type": "code",
   "execution_count": 94,
   "metadata": {
    "collapsed": false
   },
   "outputs": [
    {
     "name": "stderr",
     "output_type": "stream",
     "text": [
      "C:\\Miniconda\\lib\\site-packages\\sklearn\\utils\\validation.py:515: DataConversionWarning: A column-vector y was passed when a 1d array was expected. Please change the shape of y to (n_samples, ), for example using ravel().\n",
      "  y = column_or_1d(y, warn=True)\n"
     ]
    },
    {
     "name": "stdout",
     "output_type": "stream",
     "text": [
      "(149415, 159)\n",
      "(149415L, 32L)\n"
     ]
    },
    {
     "data": {
      "image/png": "[encoded data removed]",
      "text/plain": [
       "<matplotlib.figure.Figure at 0x347a550>"
      ]
     },
     "metadata": {},
     "output_type": "display_data"
    }
   ],
   "source": [
    "fs = feature_selection.SelectPercentile(feature_selection.chi2, percentile=20)\n",
    "X_train_fs = fs.fit_transform(X_train, y_train)\n",
    "#FeatureScores = pd.Series(index=X_train_fs.columns,data=X_train_fs.scores_).sort_values(ascending=False)\n",
    "print X_train.shape\n",
    "print X_train_fs.shape\n",
    "FeatureScores = pd.Series(index=features.columns, data=fs.scores_).sort_values(ascending=True)\n",
    "FeatureScores[:10].plot.barh();"
   ]
  },
  {
   "cell_type": "markdown",
   "metadata": {},
   "source": [
    "### Impact of Feature Selection"
   ]
  },
  {
   "cell_type": "code",
   "execution_count": 95,
   "metadata": {
    "collapsed": false
   },
   "outputs": [
    {
     "name": "stdout",
     "output_type": "stream",
     "text": [
      "done in 1.324s\n",
      "Accuracy:0.819 \n",
      "\n",
      "Classification report\n",
      "             precision    recall  f1-score   support\n",
      "\n",
      "          0       0.68      0.65      0.66       381\n",
      "          1       0.69      0.63      0.66      1031\n",
      "          2       0.72      0.66      0.69       746\n",
      "          3       0.67      0.61      0.64      1556\n",
      "          4       0.72      0.63      0.67      3562\n",
      "          5       0.74      0.61      0.67      1628\n",
      "          6       0.72      0.58      0.64      2029\n",
      "          7       0.81      0.96      0.88     87102\n",
      "          8       0.87      0.52      0.65       539\n",
      "          9       0.92      0.46      0.61       151\n",
      "         10       0.87      0.66      0.75     43678\n",
      "         11       0.97      0.44      0.61      7012\n",
      "\n",
      "avg / total       0.83      0.82      0.81    149415\n",
      "\n",
      "\n",
      "Confussion matrix\n",
      "[[  248     0     0     0     0     0     0    97     0     0    34     2]\n",
      " [    1   646     0     0     1     0     1   301     0     0    79     2]\n",
      " [    2     5   492     0     0     0     0   171     0     0    76     0]\n",
      " [    7     6     8   944     1     0     1   452     0     0   133     4]\n",
      " [    7    15    11    23  2234     1     4  1009     0     0   254     4]\n",
      " [    4    10     2    15    15   993     1   461     0     0   125     2]\n",
      " [    5    10     2    17    27    15  1170   626     0     0   155     2]\n",
      " [   41   108    74   186   420   150   211 83424     0     0  2444    44]\n",
      " [    1     1     5     4     2     1     6   191   278     0    50     0]\n",
      " [    0     1     0     1     2     0     3    63     0    69    12     0]\n",
      " [   43   107    74   169   347   150   183 13765    38     5 28767    30]\n",
      " [    8    21    18    44    73    28    44  2746     4     1   936  3089]] \n",
      "\n"
     ]
    }
   ],
   "source": [
    "t0 = time()\n",
    "dt.fit(X_train_fs, y_train)\n",
    "X_test_fs = fs.transform(X_test)\n",
    "print \"done in %0.3fs\" % (time() - t0)\n",
    "measure_performance(X_train_fs, y_train, dt, show_accuracy=True, show_classification_true=True, show_confussion_matric=True)"
   ]
  },
  {
   "cell_type": "code",
   "execution_count": 96,
   "metadata": {
    "collapsed": false
   },
   "outputs": [
    {
     "name": "stdout",
     "output_type": "stream",
     "text": [
      "done in 0.038s\n",
      "Accuracy:0.536 \n",
      "\n",
      "             precision    recall  f1-score   support\n",
      "\n",
      "          0       0.00      0.00      0.00       158\n",
      "          1       0.00      0.01      0.00       397\n",
      "          2       0.00      0.00      0.00       315\n",
      "          3       0.02      0.02      0.02       693\n",
      "          4       0.02      0.03      0.03      1461\n",
      "          5       0.02      0.02      0.02       696\n",
      "          6       0.02      0.02      0.02       806\n",
      "          7       0.65      0.76      0.70     37441\n",
      "          8       0.01      0.00      0.01       223\n",
      "          9       0.00      0.00      0.00        66\n",
      "         10       0.41      0.30      0.35     18698\n",
      "         11       0.07      0.04      0.05      3082\n",
      "\n",
      "avg / total       0.51      0.54      0.52     64036\n",
      "\n",
      "[[    0     4     2     2    10     3     3    80     3     0    49     2]\n",
      " [    3     2     3     6    14     4     4   246     2     0    95    18]\n",
      " [    1     5     1    11    14     5     3   182     1     0    85     7]\n",
      " [    6     8     4    12    21    11    12   402     3     0   176    38]\n",
      " [    8    13    10    20    37    29    30   810     2     5   448    49]\n",
      " [    4    11    11    11    23    12    10   395     2     1   188    28]\n",
      " [    5     6     8    14    33     5    14   469     4     1   218    29]\n",
      " [   90   216   173   327   671   306   378 28454    72    11  6026   717]\n",
      " [    0     3     2     5     9     1     6   124     1     1    69     2]\n",
      " [    0     2     0     1     2     0     1    43     0     0    13     4]\n",
      " [   75   179   133   268   563   236   298 10568    75    19  5648   636]\n",
      " [    9    23    24    42    86    44    45  1794     6     3   892   114]]\n"
     ]
    }
   ],
   "source": [
    "t0 = time()\n",
    "y_pred_fs = dt.predict(X_test_fs)\n",
    "print \"done in %0.3fs\" % (time() - t0)\n",
    "print \"Accuracy:{0:.3f}\".format(metrics.accuracy_score(y_test, y_pred_fs)), \"\\n\"\n",
    "print metrics.classification_report(y_test, y_pred_fs)\n",
    "print metrics.confusion_matrix(y_test, y_pred_fs)"
   ]
  },
  {
   "cell_type": "markdown",
   "metadata": {},
   "source": [
    "# Random Forest\n",
    "\n",
    "Characteristics:\n",
    "* low bias\n",
    "* high variance\n",
    "* prone to overfitting\n",
    "\n",
    "Tuning Parameters:\n",
    "* number of trees\n",
    "* number of features to consider at each split\n",
    "* depth of trees"
   ]
  },
  {
   "cell_type": "code",
   "execution_count": null,
   "metadata": {
    "collapsed": true
   },
   "outputs": [],
   "source": []
  },
  {
   "cell_type": "code",
   "execution_count": null,
   "metadata": {
    "collapsed": true
   },
   "outputs": [],
   "source": []
  },
  {
   "cell_type": "code",
   "execution_count": null,
   "metadata": {
    "collapsed": true
   },
   "outputs": [],
   "source": []
  },
  {
   "cell_type": "markdown",
   "metadata": {},
   "source": [
    "### Gridsearch"
   ]
  },
  {
   "cell_type": "code",
   "execution_count": null,
   "metadata": {
    "collapsed": true
   },
   "outputs": [],
   "source": []
  },
  {
   "cell_type": "code",
   "execution_count": null,
   "metadata": {
    "collapsed": true
   },
   "outputs": [],
   "source": []
  },
  {
   "cell_type": "code",
   "execution_count": null,
   "metadata": {
    "collapsed": true
   },
   "outputs": [],
   "source": []
  },
  {
   "cell_type": "code",
   "execution_count": null,
   "metadata": {
    "collapsed": true
   },
   "outputs": [],
   "source": []
  },
  {
   "cell_type": "code",
   "execution_count": null,
   "metadata": {
    "collapsed": true
   },
   "outputs": [],
   "source": []
  },
  {
   "cell_type": "markdown",
   "metadata": {
    "collapsed": true
   },
   "source": [
    "# Source Additional Data\n",
    "Some additional data that has been made available, but which I chose not to include in the analysis were User Sessions data. This dataset might hold important metrics to improve the performance of destination predictions, but the session data only has a small overlap with users in the training dataset that atarted with Airbnb in the first 6 months of 2014.\n",
    "\n",
    "The supplied Demographics and Countries data files did not seem to hols any value other than providing context."
   ]
  },
  {
   "cell_type": "markdown",
   "metadata": {
    "collapsed": true
   },
   "source": [
    "# Recommendations\n",
    "A final paper explaining the problem, your approach and your findings in complete technical detail. Include ideas for further research, as well as up to 3 concrete recommendations for your client on how to use your findings."
   ]
  },
  {
   "cell_type": "markdown",
   "metadata": {
    "collapsed": true
   },
   "source": [
    "# Further Research\n",
    "\n",
    "Other avenues worth exploring include the use of additional techniques to work with imbalanced classes, such as generating synthetic samples (e.g. Synthetic Minority Over-Sampling Techniques, SMOTE). \n",
    "\n",
    "From what I've [read](http://machinelearningmastery.com/tactics-to-combat-imbalanced-classes-in-your-machine-learning-dataset/), decision tree algorithms like C4.5, C5.0, CART, and Random Forest often perform well on imbalanced data sets.\n",
    "\n",
    "In addition, penalised models using something like a CostSensitiveClassifier might help. As well as brining in additional peformance metrics like Cohen's kappa which is said to normalise the imbalance within the dataset. "
   ]
  },
  {
   "cell_type": "code",
   "execution_count": null,
   "metadata": {
    "collapsed": false
   },
   "outputs": [],
   "source": [
    "#%install_ext http://raw.github.com/jrjohansson/version_information/master/version_information.py\n",
    "# you need to run the line above only once\n",
    "%load_ext version_information\n",
    "#%reload_ext version_information\n",
    "\n",
    "%version_information numpy, scipy, matplotlib"
   ]
  },
  {
   "cell_type": "markdown",
   "metadata": {
    "collapsed": true
   },
   "source": [
    "# Acknowledgements\n",
    "I have learnt a lot from the work of the following influencers:\n",
    "* David Gasquez's https://www.kaggle.com/davidgasquez/airbnb-recruiting-new-user-bookings/user-data-exploration/notebook\n",
    "* Kevin Wu's https://www.kaggle.com/kevinwu06/airbnb-recruiting-new-user-bookings/airbnb-exploratory-analysis/notebook\n",
    "* Aissa EL OUAFI's https://github.com/aissaelouafi/Airbnb-First-Booking/blob/master/Airbnb_first_booking_destination.ipynb\n",
    "* Analytics Vidhya blog: http://www.analyticsvidhya.com/blog/2016/03/practical-guide-deal-imbalanced-classification-problems/\n",
    "* http://machinelearningmastery.com/tactics-to-combat-imbalanced-classes-in-your-machine-learning-dataset/\n",
    "* https://www.packtpub.com/big-data-and-business-intelligence/learning-scikit-learn-machine-learning-python"
   ]
  }
 ],
 "metadata": {
  "kernelspec": {
   "display_name": "Python 2",
   "language": "python",
   "name": "python2"
  },
  "language_info": {
   "codemirror_mode": {
    "name": "ipython",
    "version": 2
   },
   "file_extension": ".py",
   "mimetype": "text/x-python",
   "name": "python",
   "nbconvert_exporter": "python",
   "pygments_lexer": "ipython2",
   "version": "2.7.11"
  }
 },
 "nbformat": 4,
 "nbformat_minor": 0
}
