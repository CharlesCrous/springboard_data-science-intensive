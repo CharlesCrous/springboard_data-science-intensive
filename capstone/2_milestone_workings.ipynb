{
 "cells": [
  {
   "cell_type": "markdown",
   "metadata": {},
   "source": [
    "# How first-time airbnb users decide where to travel\n",
    "***\n",
    "\n",
    "New users on Airbnb can book a place to stay in 34,000+ cities across 190+ countries. By accurately predicting where a new user will book their first travel experience, Airbnb can share more personalized content with their community, decrease the average time to first booking, and better forecast demand.\n",
    "\n",
    "Airbnb challenges you to predict in which destination country a new user from the USA will make his or her first booking:\n",
    "1. United States of America\n",
    "2. France\n",
    "3. Canada\n",
    "4. Great Britain\n",
    "5. Estonia\n",
    "6. Italy\n",
    "7. Portugal\n",
    "8. Netherlands\n",
    "9. Germany\n",
    "10. Australia  \n",
    "11. No Destination Found (NDF) \n",
    "12. Other\n",
    "\n",
    "\n",
    "Questions that I would like to explore using the summary data provided are:\n",
    "1. Are there missing data or data munging that need to be done?\n",
    "2. Are there any outliers?\n",
    "3. What are the similarities/differences in the destination countries?\n",
    "4. Demographic differences that could point to preferences?\n",
    "5. Investigate the impact that user interaction with the website has on destination selection.\n",
    "\n",
    "\n",
    "## Known Issues\n",
    "1. before early 2013 users could make bookings without creating an account\n",
    "2. where date_fisrt_booking is populated with nana the destination country is also given as NDF\n",
    "\n",
    "\n",
    "## Evaluation\n",
    "\n",
    "The evaluation metric for this competition is [NDCG (Normalized discounted cumulative gain)](https://www.kaggle.com/wiki/NormalizedDiscountedCumulativeGain) @k where k=5. NDCG is calculated as:\n",
    "\n",
    "$$DCG_k=\\sum_{i=1}^k\\frac{2^{rel_i}-1}{\\log_2{\\left(i+1\\right)}},$$\n",
    "\n",
    "$IDCG_k$ is the maximum possible (ideal) $DCG$ for a given set of queries, documents, and relevances. All NDCG calculations are relative values on the interval 0.0 to 1.0.\n",
    "\n",
    "$$nDCG_k=\\frac{DCG_k}{IDCG_k},$$\n",
    "\n",
    "For each new user, you are to make a maximum of 5 predictions on the country of the first booking. The ground truth country is marked with relevance = 1, while the rest have relevance = 0.\n",
    "\n",
    "For example, if for a particular user the destination is FR, then the predictions become:\n",
    "\n",
    "[ FR ]  gives a $NDCG=\\frac{2^{1}-1}{log_{2}(1+1)}=1.0$\n",
    "\n",
    "[ US, FR ] gives a $DCG=\\frac{2^{0}-1}{log_{2}(1+1)}+\\frac{2^{1}-1}{log_{2}(2+1)}=\\frac{1}{1.58496}=0.6309$"
   ]
  },
  {
   "cell_type": "markdown",
   "metadata": {},
   "source": [
    "## Act II: Confrontation\n",
    "There is a singificant difference between the expected visit pattterns of the USA Citizen and that of airbnb. Further, there looks to be another difference in the sample given for training to that of the airbnb 2015 userbase."
   ]
  },
  {
   "cell_type": "markdown",
   "metadata": {},
   "source": [
    "## Act III: Resolution\n",
    "\n"
   ]
  },
  {
   "cell_type": "markdown",
   "metadata": {},
   "source": [
    "***\n",
    "***\n",
    "## Data Exploration\n",
    "\n",
    "Questions that I would like to explore using the summary data provided are:\n",
    "1. Are there missing data or dat munging that need to be done?\n",
    "2. Are there any outliers?\n",
    "3. What are the similarities/differences in the destination countries?\n",
    "4. Demographic differences that could point to preferences?\n",
    "5. Investigate the link with how/ and for how long a user interacts with the website has on destination selection."
   ]
  },
  {
   "cell_type": "code",
   "execution_count": 2,
   "metadata": {
    "collapsed": false
   },
   "outputs": [
    {
     "name": "stderr",
     "output_type": "stream",
     "text": [
      "C:\\Miniconda\\lib\\site-packages\\matplotlib\\__init__.py:872: UserWarning: axes.color_cycle is deprecated and replaced with axes.prop_cycle; please use the latter.\n",
      "  warnings.warn(self.msg_depr % (key, alt_key))\n"
     ]
    }
   ],
   "source": [
    "# load libraries that will be used\n",
    "%matplotlib inline\n",
    "\n",
    "import zipfile\n",
    "import numpy as np\n",
    "import pandas as pd\n",
    "import matplotlib.pyplot as plt\n",
    "import scipy.stats as stats\n",
    "import seaborn as sns\n",
    "\n",
    "from mpl_toolkits.basemap import Basemap\n",
    "\n",
    "# make figures better:\n",
    "font = {'weight':'normal','size':20}\n",
    "plt.rc('font', **font)\n",
    "plt.rc('figure', figsize=(9.0, 6.0))\n",
    "plt.rc('xtick.major', pad=10) # xticks too close to border!\n",
    "plt.style.use('ggplot')\n",
    "#print(plt.style.available)"
   ]
  },
  {
   "cell_type": "code",
   "execution_count": 3,
   "metadata": {
    "collapsed": true
   },
   "outputs": [],
   "source": [
    "# unzip and read data\n",
    "\n",
    "# Dataset #1: Countries to visit\n",
    "zf = zipfile.ZipFile('data/countries.csv.zip')\n",
    "countries = pd.read_csv(zf.open('countries.csv'))\n",
    "\n",
    "# Dataset #2: Compare demographic distributions within destination countries\n",
    "zf = zipfile.ZipFile('data/age_gender_bkts.csv.zip')\n",
    "country_demographics = pd.read_csv(zf.open('age_gender_bkts.csv'))\n",
    "\n",
    "# Dataset #3: User interactions on airbnb website\n",
    "zf = zipfile.ZipFile('data/sessions.csv.zip')\n",
    "user_sessions = pd.read_csv(zf.open('sessions.csv'))\n",
    "\n",
    "# Dataset #4: Comparing test and training data to what has been provided as user data for 2015\n",
    "# train\n",
    "zf = zipfile.ZipFile('data/train_users_2.csv.zip')\n",
    "train = pd.read_csv(zf.open('train_users_2.csv'))\n",
    "\n",
    "# test\n",
    "zf = zipfile.ZipFile('data/test_users.csv.zip')\n",
    "test = pd.read_csv(zf.open('test_users.csv'))\n",
    "\n",
    "# concatenate train- and test users together for total sample\n",
    "users = pd.concat((train, test), axis=0, ignore_index=True)"
   ]
  },
  {
   "cell_type": "markdown",
   "metadata": {},
   "source": [
    "### Dataset #1: Nine Potential Countries to Visits "
   ]
  },
  {
   "cell_type": "code",
   "execution_count": 4,
   "metadata": {
    "collapsed": false
   },
   "outputs": [
    {
     "name": "stdout",
     "output_type": "stream",
     "text": [
      "Rows: 10; Columns: 7\n"
     ]
    },
    {
     "data": {
      "text/html": [
       "<div>\n",
       "<table border=\"1\" class=\"dataframe\">\n",
       "  <thead>\n",
       "    <tr style=\"text-align: right;\">\n",
       "      <th></th>\n",
       "      <th>country_destination</th>\n",
       "      <th>lat_destination</th>\n",
       "      <th>lng_destination</th>\n",
       "      <th>distance_km</th>\n",
       "      <th>destination_km2</th>\n",
       "      <th>destination_language</th>\n",
       "      <th>language_levenshtein_distance</th>\n",
       "    </tr>\n",
       "  </thead>\n",
       "  <tbody>\n",
       "    <tr>\n",
       "      <th>0</th>\n",
       "      <td>AU</td>\n",
       "      <td>-26.853388</td>\n",
       "      <td>133.275160</td>\n",
       "      <td>15297.7440</td>\n",
       "      <td>7741220</td>\n",
       "      <td>eng</td>\n",
       "      <td>0.00</td>\n",
       "    </tr>\n",
       "    <tr>\n",
       "      <th>1</th>\n",
       "      <td>CA</td>\n",
       "      <td>62.393303</td>\n",
       "      <td>-96.818146</td>\n",
       "      <td>2828.1333</td>\n",
       "      <td>9984670</td>\n",
       "      <td>eng</td>\n",
       "      <td>0.00</td>\n",
       "    </tr>\n",
       "    <tr>\n",
       "      <th>2</th>\n",
       "      <td>DE</td>\n",
       "      <td>51.165707</td>\n",
       "      <td>10.452764</td>\n",
       "      <td>7879.5680</td>\n",
       "      <td>357022</td>\n",
       "      <td>deu</td>\n",
       "      <td>72.61</td>\n",
       "    </tr>\n",
       "    <tr>\n",
       "      <th>3</th>\n",
       "      <td>ES</td>\n",
       "      <td>39.896027</td>\n",
       "      <td>-2.487694</td>\n",
       "      <td>7730.7240</td>\n",
       "      <td>505370</td>\n",
       "      <td>spa</td>\n",
       "      <td>92.25</td>\n",
       "    </tr>\n",
       "    <tr>\n",
       "      <th>4</th>\n",
       "      <td>FR</td>\n",
       "      <td>46.232193</td>\n",
       "      <td>2.209667</td>\n",
       "      <td>7682.9450</td>\n",
       "      <td>643801</td>\n",
       "      <td>fra</td>\n",
       "      <td>92.06</td>\n",
       "    </tr>\n",
       "    <tr>\n",
       "      <th>5</th>\n",
       "      <td>GB</td>\n",
       "      <td>54.633220</td>\n",
       "      <td>-3.432277</td>\n",
       "      <td>6883.6590</td>\n",
       "      <td>243610</td>\n",
       "      <td>eng</td>\n",
       "      <td>0.00</td>\n",
       "    </tr>\n",
       "    <tr>\n",
       "      <th>6</th>\n",
       "      <td>IT</td>\n",
       "      <td>41.873990</td>\n",
       "      <td>12.564167</td>\n",
       "      <td>8636.6310</td>\n",
       "      <td>301340</td>\n",
       "      <td>ita</td>\n",
       "      <td>89.40</td>\n",
       "    </tr>\n",
       "    <tr>\n",
       "      <th>7</th>\n",
       "      <td>NL</td>\n",
       "      <td>52.133057</td>\n",
       "      <td>5.295250</td>\n",
       "      <td>7524.3203</td>\n",
       "      <td>41543</td>\n",
       "      <td>nld</td>\n",
       "      <td>63.22</td>\n",
       "    </tr>\n",
       "    <tr>\n",
       "      <th>8</th>\n",
       "      <td>PT</td>\n",
       "      <td>39.553444</td>\n",
       "      <td>-7.839319</td>\n",
       "      <td>7355.2534</td>\n",
       "      <td>92090</td>\n",
       "      <td>por</td>\n",
       "      <td>95.45</td>\n",
       "    </tr>\n",
       "    <tr>\n",
       "      <th>9</th>\n",
       "      <td>US</td>\n",
       "      <td>36.966427</td>\n",
       "      <td>-95.844030</td>\n",
       "      <td>0.0000</td>\n",
       "      <td>9826675</td>\n",
       "      <td>eng</td>\n",
       "      <td>0.00</td>\n",
       "    </tr>\n",
       "  </tbody>\n",
       "</table>\n",
       "</div>"
      ],
      "text/plain": [
       "  country_destination  lat_destination  lng_destination  distance_km  \\\n",
       "0                  AU       -26.853388       133.275160   15297.7440   \n",
       "1                  CA        62.393303       -96.818146    2828.1333   \n",
       "2                  DE        51.165707        10.452764    7879.5680   \n",
       "3                  ES        39.896027        -2.487694    7730.7240   \n",
       "4                  FR        46.232193         2.209667    7682.9450   \n",
       "5                  GB        54.633220        -3.432277    6883.6590   \n",
       "6                  IT        41.873990        12.564167    8636.6310   \n",
       "7                  NL        52.133057         5.295250    7524.3203   \n",
       "8                  PT        39.553444        -7.839319    7355.2534   \n",
       "9                  US        36.966427       -95.844030       0.0000   \n",
       "\n",
       "   destination_km2 destination_language   language_levenshtein_distance  \n",
       "0          7741220                   eng                           0.00  \n",
       "1          9984670                   eng                           0.00  \n",
       "2           357022                   deu                          72.61  \n",
       "3           505370                   spa                          92.25  \n",
       "4           643801                   fra                          92.06  \n",
       "5           243610                   eng                           0.00  \n",
       "6           301340                   ita                          89.40  \n",
       "7            41543                   nld                          63.22  \n",
       "8            92090                   por                          95.45  \n",
       "9          9826675                   eng                           0.00  "
      ]
     },
     "execution_count": 4,
     "metadata": {},
     "output_type": "execute_result"
    }
   ],
   "source": [
    "print(\"Rows: %0.0f; Columns: %0.0f\" % np.shape(countries))\n",
    "countries.head(10)"
   ]
  },
  {
   "cell_type": "markdown",
   "metadata": {},
   "source": [
    "***\n",
    "### Dataset #2: Compare demographic distributions within destination countries "
   ]
  },
  {
   "cell_type": "code",
   "execution_count": 5,
   "metadata": {
    "collapsed": false
   },
   "outputs": [],
   "source": [
    "# unzip and read user age and gender data\n",
    "zf = zipfile.ZipFile('data/age_gender_bkts.csv.zip')\n",
    "demographics = pd.read_csv(zf.open('age_gender_bkts.csv'))"
   ]
  },
  {
   "cell_type": "code",
   "execution_count": 6,
   "metadata": {
    "collapsed": false
   },
   "outputs": [
    {
     "name": "stdout",
     "output_type": "stream",
     "text": [
      "Rows: 420; Columns: 5\n"
     ]
    },
    {
     "data": {
      "text/html": [
       "<div>\n",
       "<table border=\"1\" class=\"dataframe\">\n",
       "  <thead>\n",
       "    <tr style=\"text-align: right;\">\n",
       "      <th></th>\n",
       "      <th>age_bucket</th>\n",
       "      <th>country_destination</th>\n",
       "      <th>gender</th>\n",
       "      <th>population_in_thousands</th>\n",
       "      <th>year</th>\n",
       "    </tr>\n",
       "  </thead>\n",
       "  <tbody>\n",
       "    <tr>\n",
       "      <th>0</th>\n",
       "      <td>100+</td>\n",
       "      <td>AU</td>\n",
       "      <td>male</td>\n",
       "      <td>1</td>\n",
       "      <td>2015</td>\n",
       "    </tr>\n",
       "    <tr>\n",
       "      <th>1</th>\n",
       "      <td>95-99</td>\n",
       "      <td>AU</td>\n",
       "      <td>male</td>\n",
       "      <td>9</td>\n",
       "      <td>2015</td>\n",
       "    </tr>\n",
       "    <tr>\n",
       "      <th>2</th>\n",
       "      <td>90-94</td>\n",
       "      <td>AU</td>\n",
       "      <td>male</td>\n",
       "      <td>47</td>\n",
       "      <td>2015</td>\n",
       "    </tr>\n",
       "    <tr>\n",
       "      <th>3</th>\n",
       "      <td>85-89</td>\n",
       "      <td>AU</td>\n",
       "      <td>male</td>\n",
       "      <td>118</td>\n",
       "      <td>2015</td>\n",
       "    </tr>\n",
       "    <tr>\n",
       "      <th>4</th>\n",
       "      <td>80-84</td>\n",
       "      <td>AU</td>\n",
       "      <td>male</td>\n",
       "      <td>199</td>\n",
       "      <td>2015</td>\n",
       "    </tr>\n",
       "  </tbody>\n",
       "</table>\n",
       "</div>"
      ],
      "text/plain": [
       "  age_bucket country_destination gender  population_in_thousands  year\n",
       "0       100+                  AU   male                        1  2015\n",
       "1      95-99                  AU   male                        9  2015\n",
       "2      90-94                  AU   male                       47  2015\n",
       "3      85-89                  AU   male                      118  2015\n",
       "4      80-84                  AU   male                      199  2015"
      ]
     },
     "execution_count": 6,
     "metadata": {},
     "output_type": "execute_result"
    }
   ],
   "source": [
    "print(\"Rows: %0.0f; Columns: %0.0f\" % np.shape(demographics))\n",
    "demographics.head()"
   ]
  },
  {
   "cell_type": "code",
   "execution_count": 7,
   "metadata": {
    "collapsed": false
   },
   "outputs": [
    {
     "name": "stdout",
     "output_type": "stream",
     "text": [
      "['100+' '95-99' '90-94' '85-89' '80-84' '75-79' '70-74' '65-69' '60-64'\n",
      " '55-59' '50-54' '45-49' '40-44' '35-39' '30-34' '25-29' '20-24' '15-19'\n",
      " '10-14' '5-9' '0-4']\n",
      "['AU' 'CA' 'DE' 'ES' 'FR' 'GB' 'IT' 'NL' 'PT' 'US']\n",
      "['male' 'female']\n",
      "[ 2015.]\n"
     ]
    }
   ],
   "source": [
    "#get a better feel for the underlying values:\n",
    "for column in demographics[['age_bucket','country_destination','gender','year']]:\n",
    "    print(demographics[column].unique())"
   ]
  },
  {
   "cell_type": "markdown",
   "metadata": {},
   "source": [
    "So it looks like this dataset is a summary of gender and age band per country of users for 1 year, 2015.\n",
    "\n",
    "But what else can it tell us?"
   ]
  },
  {
   "cell_type": "code",
   "execution_count": 8,
   "metadata": {
    "collapsed": false
   },
   "outputs": [
    {
     "name": "stderr",
     "output_type": "stream",
     "text": [
      "C:\\Miniconda\\lib\\site-packages\\matplotlib\\__init__.py:892: UserWarning: axes.color_cycle is deprecated and replaced with axes.prop_cycle; please use the latter.\n",
      "  warnings.warn(self.msg_depr % (key, alt_key))\n"
     ]
    },
    {
     "data": {
      "image/png": "[encoded data removed]",
      "text/plain": [
       "<matplotlib.figure.Figure at 0x1df34588>"
      ]
     },
     "metadata": {},
     "output_type": "display_data"
    }
   ],
   "source": [
    "country_demographics['age_num'] = country_demographics['age_bucket'].map(lambda x: int(x[:str.find(x,'-')]))\n",
    "\n",
    "g = sns.FacetGrid(country_demographics, col=\"country_destination\", hue=\"gender\", \n",
    "                    col_wrap=5, xlim=[0,100] ,sharey=False)\n",
    "g = g.map(plt.scatter, \"age_num\", \"population_in_thousands\")\n",
    "g.add_legend();"
   ]
  },
  {
   "cell_type": "markdown",
   "metadata": {},
   "source": [
    "### Dataset #3: User Sessions "
   ]
  },
  {
   "cell_type": "code",
   "execution_count": 9,
   "metadata": {
    "collapsed": false
   },
   "outputs": [
    {
     "name": "stdout",
     "output_type": "stream",
     "text": [
      "Rows: 10567737; Columns: 6\n"
     ]
    },
    {
     "data": {
      "text/html": [
       "<div>\n",
       "<table border=\"1\" class=\"dataframe\">\n",
       "  <thead>\n",
       "    <tr style=\"text-align: right;\">\n",
       "      <th></th>\n",
       "      <th>user_id</th>\n",
       "      <th>action</th>\n",
       "      <th>action_type</th>\n",
       "      <th>action_detail</th>\n",
       "      <th>device_type</th>\n",
       "      <th>secs_elapsed</th>\n",
       "    </tr>\n",
       "  </thead>\n",
       "  <tbody>\n",
       "    <tr>\n",
       "      <th>10567732</th>\n",
       "      <td>9uqfg8txu3</td>\n",
       "      <td>dashboard</td>\n",
       "      <td>view</td>\n",
       "      <td>dashboard</td>\n",
       "      <td>Windows Desktop</td>\n",
       "      <td>556</td>\n",
       "    </tr>\n",
       "    <tr>\n",
       "      <th>10567733</th>\n",
       "      <td>9uqfg8txu3</td>\n",
       "      <td>edit</td>\n",
       "      <td>view</td>\n",
       "      <td>edit_profile</td>\n",
       "      <td>Windows Desktop</td>\n",
       "      <td>6624</td>\n",
       "    </tr>\n",
       "    <tr>\n",
       "      <th>10567734</th>\n",
       "      <td>9uqfg8txu3</td>\n",
       "      <td>webcam_upload</td>\n",
       "      <td>-unknown-</td>\n",
       "      <td>-unknown-</td>\n",
       "      <td>Windows Desktop</td>\n",
       "      <td>200125</td>\n",
       "    </tr>\n",
       "    <tr>\n",
       "      <th>10567735</th>\n",
       "      <td>9uqfg8txu3</td>\n",
       "      <td>active</td>\n",
       "      <td>-unknown-</td>\n",
       "      <td>-unknown-</td>\n",
       "      <td>-unknown-</td>\n",
       "      <td>17624</td>\n",
       "    </tr>\n",
       "    <tr>\n",
       "      <th>10567736</th>\n",
       "      <td>9uqfg8txu3</td>\n",
       "      <td>show_personalize</td>\n",
       "      <td>data</td>\n",
       "      <td>user_profile_content_update</td>\n",
       "      <td>Windows Desktop</td>\n",
       "      <td>1221</td>\n",
       "    </tr>\n",
       "  </tbody>\n",
       "</table>\n",
       "</div>"
      ],
      "text/plain": [
       "             user_id            action action_type  \\\n",
       "10567732  9uqfg8txu3         dashboard        view   \n",
       "10567733  9uqfg8txu3              edit        view   \n",
       "10567734  9uqfg8txu3     webcam_upload   -unknown-   \n",
       "10567735  9uqfg8txu3            active   -unknown-   \n",
       "10567736  9uqfg8txu3  show_personalize        data   \n",
       "\n",
       "                        action_detail      device_type  secs_elapsed  \n",
       "10567732                    dashboard  Windows Desktop           556  \n",
       "10567733                 edit_profile  Windows Desktop          6624  \n",
       "10567734                    -unknown-  Windows Desktop        200125  \n",
       "10567735                    -unknown-        -unknown-         17624  \n",
       "10567736  user_profile_content_update  Windows Desktop          1221  "
      ]
     },
     "execution_count": 9,
     "metadata": {},
     "output_type": "execute_result"
    }
   ],
   "source": [
    "print(\"Rows: %0.0f; Columns: %0.0f\" % np.shape(user_sessions))\n",
    "user_sessions.tail()"
   ]
  },
  {
   "cell_type": "code",
   "execution_count": 10,
   "metadata": {
    "collapsed": false
   },
   "outputs": [
    {
     "data": {
      "text/html": [
       "<div>\n",
       "<table border=\"1\" class=\"dataframe\">\n",
       "  <thead>\n",
       "    <tr style=\"text-align: right;\">\n",
       "      <th></th>\n",
       "      <th></th>\n",
       "      <th></th>\n",
       "      <th></th>\n",
       "      <th>device_type</th>\n",
       "      <th>secs_elapsed</th>\n",
       "    </tr>\n",
       "    <tr>\n",
       "      <th>user_id</th>\n",
       "      <th>action</th>\n",
       "      <th>action_type</th>\n",
       "      <th>action_detail</th>\n",
       "      <th></th>\n",
       "      <th></th>\n",
       "    </tr>\n",
       "  </thead>\n",
       "  <tbody>\n",
       "    <tr>\n",
       "      <th rowspan=\"11\" valign=\"top\">9uqfg8txu3</th>\n",
       "      <th>active</th>\n",
       "      <th>-unknown-</th>\n",
       "      <th>-unknown-</th>\n",
       "      <td>2</td>\n",
       "      <td>2</td>\n",
       "    </tr>\n",
       "    <tr>\n",
       "      <th>callback</th>\n",
       "      <th>partner_callback</th>\n",
       "      <th>oauth_response</th>\n",
       "      <td>1</td>\n",
       "      <td>0</td>\n",
       "    </tr>\n",
       "    <tr>\n",
       "      <th>create</th>\n",
       "      <th>submit</th>\n",
       "      <th>create_phone_numbers</th>\n",
       "      <td>2</td>\n",
       "      <td>2</td>\n",
       "    </tr>\n",
       "    <tr>\n",
       "      <th>dashboard</th>\n",
       "      <th>view</th>\n",
       "      <th>dashboard</th>\n",
       "      <td>1</td>\n",
       "      <td>1</td>\n",
       "    </tr>\n",
       "    <tr>\n",
       "      <th>edit</th>\n",
       "      <th>view</th>\n",
       "      <th>edit_profile</th>\n",
       "      <td>4</td>\n",
       "      <td>4</td>\n",
       "    </tr>\n",
       "    <tr>\n",
       "      <th>header_userpic</th>\n",
       "      <th>data</th>\n",
       "      <th>header_userpic</th>\n",
       "      <td>1</td>\n",
       "      <td>1</td>\n",
       "    </tr>\n",
       "    <tr>\n",
       "      <th>languages_multiselect</th>\n",
       "      <th>-unknown-</th>\n",
       "      <th>-unknown-</th>\n",
       "      <td>1</td>\n",
       "      <td>1</td>\n",
       "    </tr>\n",
       "    <tr>\n",
       "      <th>show</th>\n",
       "      <th>view</th>\n",
       "      <th>user_profile</th>\n",
       "      <td>1</td>\n",
       "      <td>1</td>\n",
       "    </tr>\n",
       "    <tr>\n",
       "      <th>show_personalize</th>\n",
       "      <th>data</th>\n",
       "      <th>user_profile_content_update</th>\n",
       "      <td>1</td>\n",
       "      <td>1</td>\n",
       "    </tr>\n",
       "    <tr>\n",
       "      <th>update</th>\n",
       "      <th>submit</th>\n",
       "      <th>update_user_profile</th>\n",
       "      <td>1</td>\n",
       "      <td>1</td>\n",
       "    </tr>\n",
       "    <tr>\n",
       "      <th>webcam_upload</th>\n",
       "      <th>-unknown-</th>\n",
       "      <th>-unknown-</th>\n",
       "      <td>1</td>\n",
       "      <td>1</td>\n",
       "    </tr>\n",
       "    <tr>\n",
       "      <th rowspan=\"15\" valign=\"top\">d1mm9tcy42</th>\n",
       "      <th>active</th>\n",
       "      <th>-unknown-</th>\n",
       "      <th>-unknown-</th>\n",
       "      <td>1</td>\n",
       "      <td>1</td>\n",
       "    </tr>\n",
       "    <tr>\n",
       "      <th>ajax_refresh_subtotal</th>\n",
       "      <th>click</th>\n",
       "      <th>change_trip_characteristics</th>\n",
       "      <td>8</td>\n",
       "      <td>8</td>\n",
       "    </tr>\n",
       "    <tr>\n",
       "      <th>ask_question</th>\n",
       "      <th>submit</th>\n",
       "      <th>contact_host</th>\n",
       "      <td>1</td>\n",
       "      <td>1</td>\n",
       "    </tr>\n",
       "    <tr>\n",
       "      <th>decision_tree</th>\n",
       "      <th>-unknown-</th>\n",
       "      <th>-unknown-</th>\n",
       "      <td>1</td>\n",
       "      <td>1</td>\n",
       "    </tr>\n",
       "    <tr>\n",
       "      <th>faq_experiment_ids</th>\n",
       "      <th>-unknown-</th>\n",
       "      <th>-unknown-</th>\n",
       "      <td>1</td>\n",
       "      <td>1</td>\n",
       "    </tr>\n",
       "    <tr>\n",
       "      <th>header_userpic</th>\n",
       "      <th>data</th>\n",
       "      <th>header_userpic</th>\n",
       "      <td>1</td>\n",
       "      <td>1</td>\n",
       "    </tr>\n",
       "    <tr>\n",
       "      <th>hosting_social_proof</th>\n",
       "      <th>-unknown-</th>\n",
       "      <th>-unknown-</th>\n",
       "      <td>2</td>\n",
       "      <td>2</td>\n",
       "    </tr>\n",
       "    <tr>\n",
       "      <th>index</th>\n",
       "      <th>view</th>\n",
       "      <th>view_search_results</th>\n",
       "      <td>11</td>\n",
       "      <td>11</td>\n",
       "    </tr>\n",
       "    <tr>\n",
       "      <th>multi</th>\n",
       "      <th>-unknown-</th>\n",
       "      <th>-unknown-</th>\n",
       "      <td>1</td>\n",
       "      <td>1</td>\n",
       "    </tr>\n",
       "    <tr>\n",
       "      <th>other_hosting_reviews_first</th>\n",
       "      <th>-unknown-</th>\n",
       "      <th>-unknown-</th>\n",
       "      <td>1</td>\n",
       "      <td>1</td>\n",
       "    </tr>\n",
       "    <tr>\n",
       "      <th>personalize</th>\n",
       "      <th>data</th>\n",
       "      <th>wishlist_content_update</th>\n",
       "      <td>25</td>\n",
       "      <td>25</td>\n",
       "    </tr>\n",
       "    <tr>\n",
       "      <th>recent_reservations</th>\n",
       "      <th>-unknown-</th>\n",
       "      <th>-unknown-</th>\n",
       "      <td>1</td>\n",
       "      <td>1</td>\n",
       "    </tr>\n",
       "    <tr>\n",
       "      <th>search_results</th>\n",
       "      <th>click</th>\n",
       "      <th>view_search_results</th>\n",
       "      <td>12</td>\n",
       "      <td>12</td>\n",
       "    </tr>\n",
       "    <tr>\n",
       "      <th>show</th>\n",
       "      <th>view</th>\n",
       "      <th>p3</th>\n",
       "      <td>14</td>\n",
       "      <td>14</td>\n",
       "    </tr>\n",
       "    <tr>\n",
       "      <th>similar_listings</th>\n",
       "      <th>data</th>\n",
       "      <th>similar_listings</th>\n",
       "      <td>9</td>\n",
       "      <td>9</td>\n",
       "    </tr>\n",
       "  </tbody>\n",
       "</table>\n",
       "</div>"
      ],
      "text/plain": [
       "                                                                                     device_type  \\\n",
       "user_id    action                      action_type      action_detail                              \n",
       "9uqfg8txu3 active                      -unknown-        -unknown-                              2   \n",
       "           callback                    partner_callback oauth_response                         1   \n",
       "           create                      submit           create_phone_numbers                   2   \n",
       "           dashboard                   view             dashboard                              1   \n",
       "           edit                        view             edit_profile                           4   \n",
       "           header_userpic              data             header_userpic                         1   \n",
       "           languages_multiselect       -unknown-        -unknown-                              1   \n",
       "           show                        view             user_profile                           1   \n",
       "           show_personalize            data             user_profile_content_update            1   \n",
       "           update                      submit           update_user_profile                    1   \n",
       "           webcam_upload               -unknown-        -unknown-                              1   \n",
       "d1mm9tcy42 active                      -unknown-        -unknown-                              1   \n",
       "           ajax_refresh_subtotal       click            change_trip_characteristics            8   \n",
       "           ask_question                submit           contact_host                           1   \n",
       "           decision_tree               -unknown-        -unknown-                              1   \n",
       "           faq_experiment_ids          -unknown-        -unknown-                              1   \n",
       "           header_userpic              data             header_userpic                         1   \n",
       "           hosting_social_proof        -unknown-        -unknown-                              2   \n",
       "           index                       view             view_search_results                   11   \n",
       "           multi                       -unknown-        -unknown-                              1   \n",
       "           other_hosting_reviews_first -unknown-        -unknown-                              1   \n",
       "           personalize                 data             wishlist_content_update               25   \n",
       "           recent_reservations         -unknown-        -unknown-                              1   \n",
       "           search_results              click            view_search_results                   12   \n",
       "           show                        view             p3                                    14   \n",
       "           similar_listings            data             similar_listings                       9   \n",
       "\n",
       "                                                                                     secs_elapsed  \n",
       "user_id    action                      action_type      action_detail                              \n",
       "9uqfg8txu3 active                      -unknown-        -unknown-                               2  \n",
       "           callback                    partner_callback oauth_response                          0  \n",
       "           create                      submit           create_phone_numbers                    2  \n",
       "           dashboard                   view             dashboard                               1  \n",
       "           edit                        view             edit_profile                            4  \n",
       "           header_userpic              data             header_userpic                          1  \n",
       "           languages_multiselect       -unknown-        -unknown-                               1  \n",
       "           show                        view             user_profile                            1  \n",
       "           show_personalize            data             user_profile_content_update             1  \n",
       "           update                      submit           update_user_profile                     1  \n",
       "           webcam_upload               -unknown-        -unknown-                               1  \n",
       "d1mm9tcy42 active                      -unknown-        -unknown-                               1  \n",
       "           ajax_refresh_subtotal       click            change_trip_characteristics             8  \n",
       "           ask_question                submit           contact_host                            1  \n",
       "           decision_tree               -unknown-        -unknown-                               1  \n",
       "           faq_experiment_ids          -unknown-        -unknown-                               1  \n",
       "           header_userpic              data             header_userpic                          1  \n",
       "           hosting_social_proof        -unknown-        -unknown-                               2  \n",
       "           index                       view             view_search_results                    11  \n",
       "           multi                       -unknown-        -unknown-                               1  \n",
       "           other_hosting_reviews_first -unknown-        -unknown-                               1  \n",
       "           personalize                 data             wishlist_content_update                25  \n",
       "           recent_reservations         -unknown-        -unknown-                               1  \n",
       "           search_results              click            view_search_results                    12  \n",
       "           show                        view             p3                                     14  \n",
       "           similar_listings            data             similar_listings                        9  "
      ]
     },
     "execution_count": 10,
     "metadata": {},
     "output_type": "execute_result"
    }
   ],
   "source": [
    "top_tail = user_sessions[user_sessions.user_id.isin(['d1mm9tcy42','9uqfg8txu3'])].sort_values('action')\n",
    "top_tail.groupby(['user_id','action','action_type','action_detail']).count()"
   ]
  },
  {
   "cell_type": "code",
   "execution_count": 11,
   "metadata": {
    "collapsed": false
   },
   "outputs": [
    {
     "name": "stdout",
     "output_type": "stream",
     "text": [
      "Number  of rows with missing values\n",
      "-------------------------------------\n",
      "action_type      2157374\n",
      "action_detail    2157345\n",
      "device_type       211279\n",
      "secs_elapsed      136031\n",
      "action             79626\n",
      "user_id            34496\n",
      "dtype: int64\n",
      "% of rows with missing values\n",
      "-------------------------------------\n",
      "action_type      20.414721\n",
      "action_detail    20.414446\n",
      "device_type       1.999283\n",
      "secs_elapsed      1.287229\n",
      "action            0.753482\n",
      "user_id           0.326428\n",
      "dtype: float64\n"
     ]
    }
   ],
   "source": [
    "sessions_nan = user_sessions.replace('-unknown-', np.nan)\n",
    "sessions_nan_counts = sessions_nan.isnull().sum().sort_values(ascending=False)\n",
    "sessions_nan_summary = (sessions_nan_counts / sessions_nan.shape[0]) * 100\n",
    "\n",
    "print('Number  of rows with missing values')\n",
    "print('-------------------------------------')\n",
    "print(sessions_nan_counts)\n",
    "\n",
    "print('% of rows with missing values')\n",
    "print('-------------------------------------')\n",
    "print(sessions_nan_summary)"
   ]
  },
  {
   "cell_type": "markdown",
   "metadata": {},
   "source": [
    "The session data seems to hold a rich variety of metrics, but the aren't really well populated for action type and action detail. And it would seems like unknowns in action type would also mean unknwons in actiona detail. But do I care about these fields?"
   ]
  },
  {
   "cell_type": "code",
   "execution_count": 12,
   "metadata": {
    "collapsed": false
   },
   "outputs": [
    {
     "data": {
      "text/plain": [
       "view                33.695975\n",
       "data                19.907479\n",
       "click               18.889408\n",
       "-unknown-            9.757718\n",
       "submit               5.898680\n",
       "message_post         0.824235\n",
       "partner_callback     0.181042\n",
       "booking_request      0.177644\n",
       "modify               0.010778\n",
       "booking_response     0.000038\n",
       "Name: action_type, dtype: float64"
      ]
     },
     "execution_count": 12,
     "metadata": {},
     "output_type": "execute_result"
    }
   ],
   "source": [
    "# What values do action types tend to hold?\n",
    "sessions_action_types = (user_sessions.action_type.value_counts() / user_sessions.shape[0]) * 100 \n",
    "sessions_action_types"
   ]
  },
  {
   "cell_type": "code",
   "execution_count": 13,
   "metadata": {
    "collapsed": false
   },
   "outputs": [
    {
     "data": {
      "text/plain": [
       "view_search_results            16.814243\n",
       "p3                             13.025968\n",
       "-unknown-                       9.757444\n",
       "wishlist_content_update         6.688509\n",
       "user_profile                    6.215512\n",
       "change_trip_characteristics     4.615406\n",
       "similar_listings                3.450351\n",
       "user_social_connections         3.187049\n",
       "update_listing                  2.552855\n",
       "listing_reviews                 2.545682\n",
       "dashboard                       1.447349\n",
       "user_wishlists                  1.444699\n",
       "header_userpic                  1.342104\n",
       "message_thread                  1.252823\n",
       "edit_profile                    1.028470\n",
       "message_post                    0.824235\n",
       "contact_host                    0.766872\n",
       "unavailable_dates               0.736156\n",
       "confirm_email_link              0.552834\n",
       "create_user                     0.519298\n",
       "Name: action_detail, dtype: float64"
      ]
     },
     "execution_count": 13,
     "metadata": {},
     "output_type": "execute_result"
    }
   ],
   "source": [
    "# top 20 action details\n",
    "sessions_action_details = (user_sessions.action_detail.value_counts() / user_sessions.shape[0]) * 100 \n",
    "sessions_action_details.head(20)"
   ]
  },
  {
   "cell_type": "markdown",
   "metadata": {},
   "source": [
    "As the name suggests, there is more detail under the Action Detail field about the action performed but very little other than the occurance of reservation as a description pops out as relevant. Action Type looks like it should be the most promising of the 3 action related fields, because of the direct mention of booking request and booking response. So let's take a closer look."
   ]
  },
  {
   "cell_type": "code",
   "execution_count": 14,
   "metadata": {
    "collapsed": false
   },
   "outputs": [
    {
     "data": {
      "text/html": [
       "<div>\n",
       "<table border=\"1\" class=\"dataframe\">\n",
       "  <thead>\n",
       "    <tr style=\"text-align: right;\">\n",
       "      <th></th>\n",
       "      <th></th>\n",
       "      <th></th>\n",
       "      <th>user_id</th>\n",
       "      <th>device_type</th>\n",
       "      <th>secs_elapsed</th>\n",
       "    </tr>\n",
       "    <tr>\n",
       "      <th>action_type</th>\n",
       "      <th>action</th>\n",
       "      <th>action_detail</th>\n",
       "      <th></th>\n",
       "      <th></th>\n",
       "      <th></th>\n",
       "    </tr>\n",
       "  </thead>\n",
       "  <tbody>\n",
       "    <tr>\n",
       "      <th rowspan=\"2\" valign=\"top\">booking_request</th>\n",
       "      <th>at_checkpoint</th>\n",
       "      <th>at_checkpoint</th>\n",
       "      <td>5166</td>\n",
       "      <td>5170</td>\n",
       "      <td>5128</td>\n",
       "    </tr>\n",
       "    <tr>\n",
       "      <th>pending</th>\n",
       "      <th>pending</th>\n",
       "      <td>13596</td>\n",
       "      <td>13603</td>\n",
       "      <td>13521</td>\n",
       "    </tr>\n",
       "    <tr>\n",
       "      <th>booking_response</th>\n",
       "      <th>booking</th>\n",
       "      <th>booking</th>\n",
       "      <td>4</td>\n",
       "      <td>4</td>\n",
       "      <td>4</td>\n",
       "    </tr>\n",
       "  </tbody>\n",
       "</table>\n",
       "</div>"
      ],
      "text/plain": [
       "                                              user_id  device_type  \\\n",
       "action_type      action        action_detail                         \n",
       "booking_request  at_checkpoint at_checkpoint     5166         5170   \n",
       "                 pending       pending          13596        13603   \n",
       "booking_response booking       booking              4            4   \n",
       "\n",
       "                                              secs_elapsed  \n",
       "action_type      action        action_detail                \n",
       "booking_request  at_checkpoint at_checkpoint          5128  \n",
       "                 pending       pending               13521  \n",
       "booking_response booking       booking                   4  "
      ]
     },
     "execution_count": 14,
     "metadata": {},
     "output_type": "execute_result"
    }
   ],
   "source": [
    "user_sessions[user_sessions.action_type.isin(['booking_request','booking_response'])] \\\n",
    ".groupby(['action_type','action','action_detail']).count()"
   ]
  },
  {
   "cell_type": "markdown",
   "metadata": {},
   "source": [
    "It seems action and action details both hold the same information for these two booking related action types. When I looked at whether I can used the occurance of checkpoint, pending and booking as field values in the relatively complete action field (0.75% missing records), in the hopes of filling in action type and action detail statuses I came up short unfortunately as 2,391 is only a drop in the bucket compared to the total unknown values of 2,157,374 (please see below)."
   ]
  },
  {
   "cell_type": "code",
   "execution_count": 15,
   "metadata": {
    "collapsed": false
   },
   "outputs": [
    {
     "data": {
      "text/html": [
       "<div>\n",
       "<table border=\"1\" class=\"dataframe\">\n",
       "  <thead>\n",
       "    <tr style=\"text-align: right;\">\n",
       "      <th></th>\n",
       "      <th></th>\n",
       "      <th></th>\n",
       "      <th>user_id</th>\n",
       "      <th>device_type</th>\n",
       "      <th>secs_elapsed</th>\n",
       "    </tr>\n",
       "    <tr>\n",
       "      <th>action_type</th>\n",
       "      <th>action</th>\n",
       "      <th>action_detail</th>\n",
       "      <th></th>\n",
       "      <th></th>\n",
       "      <th></th>\n",
       "    </tr>\n",
       "  </thead>\n",
       "  <tbody>\n",
       "    <tr>\n",
       "      <th>-unknown-</th>\n",
       "      <th>pending</th>\n",
       "      <th>-unknown-</th>\n",
       "      <td>2391</td>\n",
       "      <td>2397</td>\n",
       "      <td>2397</td>\n",
       "    </tr>\n",
       "    <tr>\n",
       "      <th rowspan=\"2\" valign=\"top\">booking_request</th>\n",
       "      <th>at_checkpoint</th>\n",
       "      <th>at_checkpoint</th>\n",
       "      <td>5166</td>\n",
       "      <td>5170</td>\n",
       "      <td>5128</td>\n",
       "    </tr>\n",
       "    <tr>\n",
       "      <th>pending</th>\n",
       "      <th>pending</th>\n",
       "      <td>13596</td>\n",
       "      <td>13603</td>\n",
       "      <td>13521</td>\n",
       "    </tr>\n",
       "    <tr>\n",
       "      <th>booking_response</th>\n",
       "      <th>booking</th>\n",
       "      <th>booking</th>\n",
       "      <td>4</td>\n",
       "      <td>4</td>\n",
       "      <td>4</td>\n",
       "    </tr>\n",
       "  </tbody>\n",
       "</table>\n",
       "</div>"
      ],
      "text/plain": [
       "                                              user_id  device_type  \\\n",
       "action_type      action        action_detail                         \n",
       "-unknown-        pending       -unknown-         2391         2397   \n",
       "booking_request  at_checkpoint at_checkpoint     5166         5170   \n",
       "                 pending       pending          13596        13603   \n",
       "booking_response booking       booking              4            4   \n",
       "\n",
       "                                              secs_elapsed  \n",
       "action_type      action        action_detail                \n",
       "-unknown-        pending       -unknown-              2397  \n",
       "booking_request  at_checkpoint at_checkpoint          5128  \n",
       "                 pending       pending               13521  \n",
       "booking_response booking       booking                   4  "
      ]
     },
     "execution_count": 15,
     "metadata": {},
     "output_type": "execute_result"
    }
   ],
   "source": [
    "user_sessions[user_sessions.action.isin(['at_checkpoint','pending','booking'])] \\\n",
    ".groupby(['action_type','action','action_detail']).count()"
   ]
  },
  {
   "cell_type": "markdown",
   "metadata": {},
   "source": [
    "I feature that is populated quite well is the type of device that was used to interact with the airbnb platform, and shows that the majority, 59.43% of users tended to use their desktop. "
   ]
  },
  {
   "cell_type": "code",
   "execution_count": 16,
   "metadata": {
    "collapsed": false
   },
   "outputs": [
    {
     "data": {
      "text/plain": [
       "device_type\n",
       "Mac Desktop                         34.011880\n",
       "Windows Desktop                     25.157127\n",
       "iPhone                              19.919411\n",
       "Android Phone                        7.945287\n",
       "iPad Tablet                          6.466985\n",
       "Android App Unknown Phone/Tablet     2.589504\n",
       "-unknown-                            1.999283\n",
       "Tablet                               1.323708\n",
       "Linux Desktop                        0.268487\n",
       "Chromebook                           0.211474\n",
       "iPodtouch                            0.077576\n",
       "Windows Phone                        0.019370\n",
       "Blackberry                           0.009264\n",
       "Opera Phone                          0.000643\n",
       "dtype: float64"
      ]
     },
     "execution_count": 16,
     "metadata": {},
     "output_type": "execute_result"
    }
   ],
   "source": [
    "user_sessions.groupby('device_type').size().sort_values(ascending=False) / user_sessions.shape[0] *100"
   ]
  },
  {
   "cell_type": "code",
   "execution_count": 17,
   "metadata": {
    "collapsed": false
   },
   "outputs": [
    {
     "data": {
      "text/html": [
       "<div>\n",
       "<table border=\"1\" class=\"dataframe\">\n",
       "  <thead>\n",
       "    <tr style=\"text-align: right;\">\n",
       "      <th></th>\n",
       "      <th>min</th>\n",
       "      <th>mean</th>\n",
       "      <th>median</th>\n",
       "      <th>max</th>\n",
       "    </tr>\n",
       "    <tr>\n",
       "      <th>device_type</th>\n",
       "      <th></th>\n",
       "      <th></th>\n",
       "      <th></th>\n",
       "      <th></th>\n",
       "    </tr>\n",
       "  </thead>\n",
       "  <tbody>\n",
       "    <tr>\n",
       "      <th>Blackberry</th>\n",
       "      <td>0.000000</td>\n",
       "      <td>897.149771</td>\n",
       "      <td>69.658333</td>\n",
       "      <td>28251.233333</td>\n",
       "    </tr>\n",
       "    <tr>\n",
       "      <th>Windows Phone</th>\n",
       "      <td>0.000000</td>\n",
       "      <td>700.293252</td>\n",
       "      <td>64.583333</td>\n",
       "      <td>28407.400000</td>\n",
       "    </tr>\n",
       "    <tr>\n",
       "      <th>-unknown-</th>\n",
       "      <td>0.000000</td>\n",
       "      <td>426.720023</td>\n",
       "      <td>64.433333</td>\n",
       "      <td>29875.583333</td>\n",
       "    </tr>\n",
       "    <tr>\n",
       "      <th>iPad Tablet</th>\n",
       "      <td>0.000000</td>\n",
       "      <td>351.012478</td>\n",
       "      <td>30.133333</td>\n",
       "      <td>29986.500000</td>\n",
       "    </tr>\n",
       "    <tr>\n",
       "      <th>Chromebook</th>\n",
       "      <td>0.000000</td>\n",
       "      <td>393.214455</td>\n",
       "      <td>29.633333</td>\n",
       "      <td>29916.816667</td>\n",
       "    </tr>\n",
       "    <tr>\n",
       "      <th>Linux Desktop</th>\n",
       "      <td>0.000000</td>\n",
       "      <td>420.764027</td>\n",
       "      <td>27.391667</td>\n",
       "      <td>29579.366667</td>\n",
       "    </tr>\n",
       "    <tr>\n",
       "      <th>Windows Desktop</th>\n",
       "      <td>0.000000</td>\n",
       "      <td>367.968227</td>\n",
       "      <td>21.933333</td>\n",
       "      <td>29990.800000</td>\n",
       "    </tr>\n",
       "    <tr>\n",
       "      <th>Tablet</th>\n",
       "      <td>0.000000</td>\n",
       "      <td>274.878099</td>\n",
       "      <td>21.750000</td>\n",
       "      <td>29881.400000</td>\n",
       "    </tr>\n",
       "    <tr>\n",
       "      <th>Mac Desktop</th>\n",
       "      <td>0.000000</td>\n",
       "      <td>331.945146</td>\n",
       "      <td>19.883333</td>\n",
       "      <td>29999.616667</td>\n",
       "    </tr>\n",
       "    <tr>\n",
       "      <th>Android Phone</th>\n",
       "      <td>0.000000</td>\n",
       "      <td>207.257217</td>\n",
       "      <td>17.383333</td>\n",
       "      <td>29974.466667</td>\n",
       "    </tr>\n",
       "    <tr>\n",
       "      <th>Android App Unknown Phone/Tablet</th>\n",
       "      <td>0.000000</td>\n",
       "      <td>222.375241</td>\n",
       "      <td>15.350000</td>\n",
       "      <td>29988.766667</td>\n",
       "    </tr>\n",
       "    <tr>\n",
       "      <th>iPodtouch</th>\n",
       "      <td>0.000000</td>\n",
       "      <td>241.095130</td>\n",
       "      <td>12.975000</td>\n",
       "      <td>29813.033333</td>\n",
       "    </tr>\n",
       "    <tr>\n",
       "      <th>iPhone</th>\n",
       "      <td>0.000000</td>\n",
       "      <td>294.031331</td>\n",
       "      <td>9.733333</td>\n",
       "      <td>29999.150000</td>\n",
       "    </tr>\n",
       "    <tr>\n",
       "      <th>Opera Phone</th>\n",
       "      <td>0.066667</td>\n",
       "      <td>250.648485</td>\n",
       "      <td>9.083333</td>\n",
       "      <td>4764.733333</td>\n",
       "    </tr>\n",
       "  </tbody>\n",
       "</table>\n",
       "</div>"
      ],
      "text/plain": [
       "                                       min        mean     median  \\\n",
       "device_type                                                         \n",
       "Blackberry                        0.000000  897.149771  69.658333   \n",
       "Windows Phone                     0.000000  700.293252  64.583333   \n",
       "-unknown-                         0.000000  426.720023  64.433333   \n",
       "iPad Tablet                       0.000000  351.012478  30.133333   \n",
       "Chromebook                        0.000000  393.214455  29.633333   \n",
       "Linux Desktop                     0.000000  420.764027  27.391667   \n",
       "Windows Desktop                   0.000000  367.968227  21.933333   \n",
       "Tablet                            0.000000  274.878099  21.750000   \n",
       "Mac Desktop                       0.000000  331.945146  19.883333   \n",
       "Android Phone                     0.000000  207.257217  17.383333   \n",
       "Android App Unknown Phone/Tablet  0.000000  222.375241  15.350000   \n",
       "iPodtouch                         0.000000  241.095130  12.975000   \n",
       "iPhone                            0.000000  294.031331   9.733333   \n",
       "Opera Phone                       0.066667  250.648485   9.083333   \n",
       "\n",
       "                                           max  \n",
       "device_type                                     \n",
       "Blackberry                        28251.233333  \n",
       "Windows Phone                     28407.400000  \n",
       "-unknown-                         29875.583333  \n",
       "iPad Tablet                       29986.500000  \n",
       "Chromebook                        29916.816667  \n",
       "Linux Desktop                     29579.366667  \n",
       "Windows Desktop                   29990.800000  \n",
       "Tablet                            29881.400000  \n",
       "Mac Desktop                       29999.616667  \n",
       "Android Phone                     29974.466667  \n",
       "Android App Unknown Phone/Tablet  29988.766667  \n",
       "iPodtouch                         29813.033333  \n",
       "iPhone                            29999.150000  \n",
       "Opera Phone                        4764.733333  "
      ]
     },
     "execution_count": 17,
     "metadata": {},
     "output_type": "execute_result"
    }
   ],
   "source": [
    "user_sessions.groupby('device_type')['secs_elapsed'].agg(['min','mean','median','max'])\\\n",
    ".sort_values('median',ascending=False) / 60"
   ]
  },
  {
   "cell_type": "markdown",
   "metadata": {
    "collapsed": true
   },
   "source": [
    "Know that we had a look at the whole population of airbnb user data for 2015, who does this picture differ from that of the sample data? Let's find out.\n",
    "\n",
    "### Dataset #4: Sample data provided for training a model and then testing it"
   ]
  },
  {
   "cell_type": "code",
   "execution_count": 18,
   "metadata": {
    "collapsed": false
   },
   "outputs": [
    {
     "name": "stdout",
     "output_type": "stream",
     "text": [
      "Number of users in the training set: 213451; Number of users in the test set: 62096\n",
      "Full Set Rows: 275547; -Columns: 16\n"
     ]
    },
    {
     "data": {
      "text/html": [
       "<div>\n",
       "<table border=\"1\" class=\"dataframe\">\n",
       "  <thead>\n",
       "    <tr style=\"text-align: right;\">\n",
       "      <th></th>\n",
       "      <th>affiliate_channel</th>\n",
       "      <th>affiliate_provider</th>\n",
       "      <th>age</th>\n",
       "      <th>country_destination</th>\n",
       "      <th>date_account_created</th>\n",
       "      <th>date_first_booking</th>\n",
       "      <th>first_affiliate_tracked</th>\n",
       "      <th>first_browser</th>\n",
       "      <th>first_device_type</th>\n",
       "      <th>gender</th>\n",
       "      <th>id</th>\n",
       "      <th>language</th>\n",
       "      <th>signup_app</th>\n",
       "      <th>signup_flow</th>\n",
       "      <th>signup_method</th>\n",
       "      <th>timestamp_first_active</th>\n",
       "    </tr>\n",
       "  </thead>\n",
       "  <tbody>\n",
       "    <tr>\n",
       "      <th>0</th>\n",
       "      <td>direct</td>\n",
       "      <td>direct</td>\n",
       "      <td>NaN</td>\n",
       "      <td>NDF</td>\n",
       "      <td>2010-06-28</td>\n",
       "      <td>NaN</td>\n",
       "      <td>untracked</td>\n",
       "      <td>Chrome</td>\n",
       "      <td>Mac Desktop</td>\n",
       "      <td>-unknown-</td>\n",
       "      <td>gxn3p5htnn</td>\n",
       "      <td>en</td>\n",
       "      <td>Web</td>\n",
       "      <td>0</td>\n",
       "      <td>facebook</td>\n",
       "      <td>20090319043255</td>\n",
       "    </tr>\n",
       "    <tr>\n",
       "      <th>1</th>\n",
       "      <td>seo</td>\n",
       "      <td>google</td>\n",
       "      <td>38</td>\n",
       "      <td>NDF</td>\n",
       "      <td>2011-05-25</td>\n",
       "      <td>NaN</td>\n",
       "      <td>untracked</td>\n",
       "      <td>Chrome</td>\n",
       "      <td>Mac Desktop</td>\n",
       "      <td>MALE</td>\n",
       "      <td>820tgsjxq7</td>\n",
       "      <td>en</td>\n",
       "      <td>Web</td>\n",
       "      <td>0</td>\n",
       "      <td>facebook</td>\n",
       "      <td>20090523174809</td>\n",
       "    </tr>\n",
       "    <tr>\n",
       "      <th>2</th>\n",
       "      <td>direct</td>\n",
       "      <td>direct</td>\n",
       "      <td>56</td>\n",
       "      <td>US</td>\n",
       "      <td>2010-09-28</td>\n",
       "      <td>2010-08-02</td>\n",
       "      <td>untracked</td>\n",
       "      <td>IE</td>\n",
       "      <td>Windows Desktop</td>\n",
       "      <td>FEMALE</td>\n",
       "      <td>4ft3gnwmtx</td>\n",
       "      <td>en</td>\n",
       "      <td>Web</td>\n",
       "      <td>3</td>\n",
       "      <td>basic</td>\n",
       "      <td>20090609231247</td>\n",
       "    </tr>\n",
       "    <tr>\n",
       "      <th>3</th>\n",
       "      <td>direct</td>\n",
       "      <td>direct</td>\n",
       "      <td>42</td>\n",
       "      <td>other</td>\n",
       "      <td>2011-12-05</td>\n",
       "      <td>2012-09-08</td>\n",
       "      <td>untracked</td>\n",
       "      <td>Firefox</td>\n",
       "      <td>Mac Desktop</td>\n",
       "      <td>FEMALE</td>\n",
       "      <td>bjjt8pjhuk</td>\n",
       "      <td>en</td>\n",
       "      <td>Web</td>\n",
       "      <td>0</td>\n",
       "      <td>facebook</td>\n",
       "      <td>20091031060129</td>\n",
       "    </tr>\n",
       "    <tr>\n",
       "      <th>4</th>\n",
       "      <td>direct</td>\n",
       "      <td>direct</td>\n",
       "      <td>41</td>\n",
       "      <td>US</td>\n",
       "      <td>2010-09-14</td>\n",
       "      <td>2010-02-18</td>\n",
       "      <td>untracked</td>\n",
       "      <td>Chrome</td>\n",
       "      <td>Mac Desktop</td>\n",
       "      <td>-unknown-</td>\n",
       "      <td>87mebub9p4</td>\n",
       "      <td>en</td>\n",
       "      <td>Web</td>\n",
       "      <td>0</td>\n",
       "      <td>basic</td>\n",
       "      <td>20091208061105</td>\n",
       "    </tr>\n",
       "    <tr>\n",
       "      <th>5</th>\n",
       "      <td>other</td>\n",
       "      <td>other</td>\n",
       "      <td>NaN</td>\n",
       "      <td>US</td>\n",
       "      <td>2010-01-01</td>\n",
       "      <td>2010-01-02</td>\n",
       "      <td>omg</td>\n",
       "      <td>Chrome</td>\n",
       "      <td>Mac Desktop</td>\n",
       "      <td>-unknown-</td>\n",
       "      <td>osr2jwljor</td>\n",
       "      <td>en</td>\n",
       "      <td>Web</td>\n",
       "      <td>0</td>\n",
       "      <td>basic</td>\n",
       "      <td>20100101215619</td>\n",
       "    </tr>\n",
       "    <tr>\n",
       "      <th>6</th>\n",
       "      <td>other</td>\n",
       "      <td>craigslist</td>\n",
       "      <td>46</td>\n",
       "      <td>US</td>\n",
       "      <td>2010-01-02</td>\n",
       "      <td>2010-01-05</td>\n",
       "      <td>untracked</td>\n",
       "      <td>Safari</td>\n",
       "      <td>Mac Desktop</td>\n",
       "      <td>FEMALE</td>\n",
       "      <td>lsw9q7uk0j</td>\n",
       "      <td>en</td>\n",
       "      <td>Web</td>\n",
       "      <td>0</td>\n",
       "      <td>basic</td>\n",
       "      <td>20100102012558</td>\n",
       "    </tr>\n",
       "    <tr>\n",
       "      <th>7</th>\n",
       "      <td>direct</td>\n",
       "      <td>direct</td>\n",
       "      <td>47</td>\n",
       "      <td>US</td>\n",
       "      <td>2010-01-03</td>\n",
       "      <td>2010-01-13</td>\n",
       "      <td>omg</td>\n",
       "      <td>Safari</td>\n",
       "      <td>Mac Desktop</td>\n",
       "      <td>FEMALE</td>\n",
       "      <td>0d01nltbrs</td>\n",
       "      <td>en</td>\n",
       "      <td>Web</td>\n",
       "      <td>0</td>\n",
       "      <td>basic</td>\n",
       "      <td>20100103191905</td>\n",
       "    </tr>\n",
       "    <tr>\n",
       "      <th>8</th>\n",
       "      <td>other</td>\n",
       "      <td>craigslist</td>\n",
       "      <td>50</td>\n",
       "      <td>US</td>\n",
       "      <td>2010-01-04</td>\n",
       "      <td>2010-07-29</td>\n",
       "      <td>untracked</td>\n",
       "      <td>Safari</td>\n",
       "      <td>Mac Desktop</td>\n",
       "      <td>FEMALE</td>\n",
       "      <td>a1vcnhxeij</td>\n",
       "      <td>en</td>\n",
       "      <td>Web</td>\n",
       "      <td>0</td>\n",
       "      <td>basic</td>\n",
       "      <td>20100104004211</td>\n",
       "    </tr>\n",
       "    <tr>\n",
       "      <th>9</th>\n",
       "      <td>other</td>\n",
       "      <td>craigslist</td>\n",
       "      <td>46</td>\n",
       "      <td>US</td>\n",
       "      <td>2010-01-04</td>\n",
       "      <td>2010-01-04</td>\n",
       "      <td>omg</td>\n",
       "      <td>Firefox</td>\n",
       "      <td>Mac Desktop</td>\n",
       "      <td>-unknown-</td>\n",
       "      <td>6uh8zyj2gn</td>\n",
       "      <td>en</td>\n",
       "      <td>Web</td>\n",
       "      <td>0</td>\n",
       "      <td>basic</td>\n",
       "      <td>20100104023758</td>\n",
       "    </tr>\n",
       "  </tbody>\n",
       "</table>\n",
       "</div>"
      ],
      "text/plain": [
       "  affiliate_channel affiliate_provider  age country_destination  \\\n",
       "0            direct             direct  NaN                 NDF   \n",
       "1               seo             google   38                 NDF   \n",
       "2            direct             direct   56                  US   \n",
       "3            direct             direct   42               other   \n",
       "4            direct             direct   41                  US   \n",
       "5             other              other  NaN                  US   \n",
       "6             other         craigslist   46                  US   \n",
       "7            direct             direct   47                  US   \n",
       "8             other         craigslist   50                  US   \n",
       "9             other         craigslist   46                  US   \n",
       "\n",
       "  date_account_created date_first_booking first_affiliate_tracked  \\\n",
       "0           2010-06-28                NaN               untracked   \n",
       "1           2011-05-25                NaN               untracked   \n",
       "2           2010-09-28         2010-08-02               untracked   \n",
       "3           2011-12-05         2012-09-08               untracked   \n",
       "4           2010-09-14         2010-02-18               untracked   \n",
       "5           2010-01-01         2010-01-02                     omg   \n",
       "6           2010-01-02         2010-01-05               untracked   \n",
       "7           2010-01-03         2010-01-13                     omg   \n",
       "8           2010-01-04         2010-07-29               untracked   \n",
       "9           2010-01-04         2010-01-04                     omg   \n",
       "\n",
       "  first_browser first_device_type     gender          id language signup_app  \\\n",
       "0        Chrome       Mac Desktop  -unknown-  gxn3p5htnn       en        Web   \n",
       "1        Chrome       Mac Desktop       MALE  820tgsjxq7       en        Web   \n",
       "2            IE   Windows Desktop     FEMALE  4ft3gnwmtx       en        Web   \n",
       "3       Firefox       Mac Desktop     FEMALE  bjjt8pjhuk       en        Web   \n",
       "4        Chrome       Mac Desktop  -unknown-  87mebub9p4       en        Web   \n",
       "5        Chrome       Mac Desktop  -unknown-  osr2jwljor       en        Web   \n",
       "6        Safari       Mac Desktop     FEMALE  lsw9q7uk0j       en        Web   \n",
       "7        Safari       Mac Desktop     FEMALE  0d01nltbrs       en        Web   \n",
       "8        Safari       Mac Desktop     FEMALE  a1vcnhxeij       en        Web   \n",
       "9       Firefox       Mac Desktop  -unknown-  6uh8zyj2gn       en        Web   \n",
       "\n",
       "   signup_flow signup_method  timestamp_first_active  \n",
       "0            0      facebook          20090319043255  \n",
       "1            0      facebook          20090523174809  \n",
       "2            3         basic          20090609231247  \n",
       "3            0      facebook          20091031060129  \n",
       "4            0         basic          20091208061105  \n",
       "5            0         basic          20100101215619  \n",
       "6            0         basic          20100102012558  \n",
       "7            0         basic          20100103191905  \n",
       "8            0         basic          20100104004211  \n",
       "9            0         basic          20100104023758  "
      ]
     },
     "execution_count": 18,
     "metadata": {},
     "output_type": "execute_result"
    }
   ],
   "source": [
    "print(\"Number of users in the training set: %0.0f; \\\n",
    "Number of users in the test set: %0.0f\" % (np.shape(train)[0], np.shape(test)[0]))\n",
    "print(\"Full Set Rows: %0.0f; -Columns: %0.0f\" % np.shape(users))\n",
    "users.head(10)"
   ]
  },
  {
   "cell_type": "code",
   "execution_count": 19,
   "metadata": {
    "collapsed": false
   },
   "outputs": [
    {
     "name": "stdout",
     "output_type": "stream",
     "text": [
      "(['affiliate_channel'], array(['direct', 'seo', 'other', 'sem-non-brand', 'content', 'sem-brand',\n",
      "       'remarketing', 'api'], dtype=object))\n",
      "(['affiliate_provider'], array(['direct', 'google', 'other', 'craigslist', 'facebook', 'vast',\n",
      "       'bing', 'meetup', 'facebook-open-graph', 'email-marketing', 'yahoo',\n",
      "       'padmapper', 'gsp', 'wayn', 'naver', 'baidu', 'yandex', 'daum'], dtype=object))\n",
      "(['age'], array([             nan,   3.80000000e+01,   5.60000000e+01,\n",
      "         4.20000000e+01,   4.10000000e+01,   4.60000000e+01,\n",
      "         4.70000000e+01,   5.00000000e+01,   3.60000000e+01,\n",
      "         3.70000000e+01,   3.30000000e+01,   3.10000000e+01,\n",
      "         2.90000000e+01,   3.00000000e+01,   4.00000000e+01,\n",
      "         2.60000000e+01,   3.20000000e+01,   3.50000000e+01,\n",
      "         5.90000000e+01,   4.90000000e+01,   4.40000000e+01,\n",
      "         3.40000000e+01,   2.80000000e+01,   1.90000000e+01,\n",
      "         5.30000000e+01,   5.20000000e+01,   3.90000000e+01,\n",
      "         5.70000000e+01,   2.50000000e+01,   5.40000000e+01,\n",
      "         6.90000000e+01,   6.30000000e+01,   4.30000000e+01,\n",
      "         5.50000000e+01,   6.50000000e+01,   5.80000000e+01,\n",
      "         6.10000000e+01,   1.80000000e+01,   5.00000000e+00,\n",
      "         2.70000000e+01,   4.50000000e+01,   6.00000000e+01,\n",
      "         4.80000000e+01,   5.10000000e+01,   6.40000000e+01,\n",
      "         7.20000000e+01,   7.00000000e+01,   6.70000000e+01,\n",
      "         7.30000000e+01,   2.01400000e+03,   1.04000000e+02,\n",
      "         6.60000000e+01,   1.05000000e+02,   6.80000000e+01,\n",
      "         9.50000000e+01,   2.40000000e+01,   9.40000000e+01,\n",
      "         7.50000000e+01,   7.90000000e+01,   6.20000000e+01,\n",
      "         2.01300000e+03,   1.60000000e+01,   4.00000000e+00,\n",
      "         2.30000000e+01,   1.01000000e+02,   9.80000000e+01,\n",
      "         7.60000000e+01,   7.40000000e+01,   8.70000000e+01,\n",
      "         9.20000000e+01,   1.15000000e+02,   7.10000000e+01,\n",
      "         8.40000000e+01,   1.07000000e+02,   7.80000000e+01,\n",
      "         9.90000000e+01,   1.10000000e+02,   1.02000000e+02,\n",
      "         8.20000000e+01,   7.70000000e+01,   2.20000000e+01,\n",
      "         8.90000000e+01,   2.10000000e+01,   1.50000000e+01,\n",
      "         2.00000000e+01,   1.03000000e+02,   2.00000000e+00,\n",
      "         1.70000000e+01,   8.60000000e+01,   9.70000000e+01,\n",
      "         8.10000000e+01,   9.00000000e+01,   8.80000000e+01,\n",
      "         8.00000000e+01,   1.00000000e+02,   9.10000000e+01,\n",
      "         1.06000000e+02,   8.30000000e+01,   8.50000000e+01,\n",
      "         1.08000000e+02,   1.13000000e+02,   1.09000000e+02,\n",
      "         9.30000000e+01,   9.60000000e+01,   1.94900000e+03,\n",
      "         1.11000000e+02,   1.93100000e+03,   1.93200000e+03,\n",
      "         1.12000000e+02,   1.92800000e+03,   1.00000000e+00,\n",
      "         1.93600000e+03,   1.93300000e+03,   1.93500000e+03,\n",
      "         1.92500000e+03,   1.95200000e+03,   1.50000000e+02,\n",
      "         1.92700000e+03,   1.32000000e+02,   1.95300000e+03,\n",
      "         1.94200000e+03,   1.99500000e+03,   2.00800000e+03,\n",
      "         1.92400000e+03,   1.92900000e+03,   1.94700000e+03,\n",
      "         1.93800000e+03,   1.92600000e+03,   1.93700000e+03,\n",
      "         1.93400000e+03,   1.92200000e+03,   1.94400000e+03,\n",
      "         1.95400000e+03,   1.94000000e+03,   1.94500000e+03,\n",
      "         2.00000000e+03,   2.00100000e+03,   1.93000000e+03,\n",
      "         1.96800000e+03,   1.93900000e+03,   1.95100000e+03,\n",
      "         1.92000000e+03,   1.92300000e+03,   1.94800000e+03,\n",
      "         2.00200000e+03,   1.94100000e+03]))\n",
      "(['country_destination'], array(['NDF', 'US', 'other', 'FR', 'CA', 'GB', 'ES', 'IT', 'PT', 'NL',\n",
      "       'DE', 'AU', nan], dtype=object))\n",
      "(['date_account_created'], array(['2010-06-28', '2011-05-25', '2010-09-28', ..., '2014-09-28',\n",
      "       '2014-09-29', '2014-09-30'], dtype=object))\n",
      "(['date_first_booking'], array([nan, '2010-08-02', '2012-09-08', ..., '2015-06-25', '2015-06-29',\n",
      "       '2015-06-28'], dtype=object))\n",
      "(['first_affiliate_tracked'], array(['untracked', 'omg', nan, 'linked', 'tracked-other', 'product',\n",
      "       'marketing', 'local ops'], dtype=object))\n",
      "(['first_browser'], array(['Chrome', 'IE', 'Firefox', 'Safari', '-unknown-', 'Mobile Safari',\n",
      "       'Chrome Mobile', 'RockMelt', 'Chromium', 'Android Browser',\n",
      "       'AOL Explorer', 'Palm Pre web browser', 'Mobile Firefox', 'Opera',\n",
      "       'TenFourFox', 'IE Mobile', 'Apple Mail', 'Silk', 'Camino', 'Arora',\n",
      "       'BlackBerry Browser', 'SeaMonkey', 'Iron', 'Sogou Explorer',\n",
      "       'IceWeasel', 'Opera Mini', 'SiteKiosk', 'Maxthon', 'Kindle Browser',\n",
      "       'CoolNovo', 'Conkeror', 'wOSBrowser', 'Google Earth',\n",
      "       'Crazy Browser', 'Mozilla', 'OmniWeb', 'PS Vita browser',\n",
      "       'NetNewsWire', 'CometBird', 'Comodo Dragon', 'Flock', 'Pale Moon',\n",
      "       'Avant Browser', 'Opera Mobile', 'Yandex.Browser',\n",
      "       'TheWorld Browser', 'SlimBrowser', 'Epic', 'Stainless', 'Googlebot',\n",
      "       'Outlook 2007', 'IceDragon', 'IBrowse', 'Nintendo Browser',\n",
      "       'UC Browser'], dtype=object))\n",
      "(['first_device_type'], array(['Mac Desktop', 'Windows Desktop', 'iPhone', 'Other/Unknown',\n",
      "       'Desktop (Other)', 'Android Tablet', 'iPad', 'Android Phone',\n",
      "       'SmartPhone (Other)'], dtype=object))\n",
      "(['gender'], array(['-unknown-', 'MALE', 'FEMALE', 'OTHER'], dtype=object))\n",
      "(['id'], array(['gxn3p5htnn', '820tgsjxq7', '4ft3gnwmtx', ..., 'fa6260ziny',\n",
      "       '87k0fy4ugm', '9uqfg8txu3'], dtype=object))\n",
      "(['language'], array(['en', 'fr', 'de', 'es', 'it', 'pt', 'zh', 'ko', 'ja', 'ru', 'pl',\n",
      "       'el', 'sv', 'nl', 'hu', 'da', 'id', 'fi', 'no', 'tr', 'th', 'cs',\n",
      "       'hr', 'ca', 'is', '-unknown-'], dtype=object))\n",
      "(['signup_app'], array(['Web', 'Moweb', 'iOS', 'Android'], dtype=object))\n",
      "(['signup_flow'], array([ 0,  3,  2,  1, 24,  8,  6,  5, 10, 25, 12,  4, 16, 15, 20, 21, 23,\n",
      "       14], dtype=int64))\n",
      "(['signup_method'], array(['facebook', 'basic', 'google', 'weibo'], dtype=object))\n",
      "(['timestamp_first_active'], array([20090319043255, 20090523174809, 20090609231247, ..., 20140930235408,\n",
      "       20140930235430, 20140930235901], dtype=int64))\n"
     ]
    }
   ],
   "source": [
    "# get a better feel for the underlying values within the users files\n",
    "for column in users:\n",
    "    print([column], users[column].unique())"
   ]
  },
  {
   "cell_type": "code",
   "execution_count": 20,
   "metadata": {
    "collapsed": false
   },
   "outputs": [
    {
     "name": "stdout",
     "output_type": "stream",
     "text": [
      "% of rows with missing values\n",
      "-----------------------------\n",
      "date_first_booking         67.733998\n",
      "gender                     46.990169\n",
      "age                        42.412365\n",
      "first_browser              16.111226\n",
      "first_affiliate_tracked     2.208335\n",
      "language                    0.000363\n",
      "dtype: float64\n"
     ]
    }
   ],
   "source": [
    "users_nan = users.replace('-unknown-', np.nan)\n",
    "users_nan_counts = users_nan.isnull().sum().sort_values(ascending=False)\n",
    "users_nan_summary = (users_nan_counts / users_nan.shape[0]) * 100\n",
    "users_nan_notzero = users_nan_summary[users_nan_summary > 0].drop('country_destination')\n",
    "\n",
    "print('% of rows with missing values')\n",
    "print('-----------------------------')\n",
    "print(users_nan_notzero)"
   ]
  },
  {
   "cell_type": "code",
   "execution_count": 21,
   "metadata": {
    "collapsed": false
   },
   "outputs": [
    {
     "name": "stdout",
     "output_type": "stream",
     "text": [
      "% of rows with missing values for the test data\n",
      "-----------------------------------------------\n",
      "date_first_booking         58.347349\n",
      "gender                     44.829024\n",
      "age                        41.222576\n",
      "first_browser              12.773892\n",
      "first_affiliate_tracked     2.841402\n",
      "dtype: float64\n"
     ]
    }
   ],
   "source": [
    "# compare the condition of missing values between training and testing data sets\n",
    "train_nan = train.replace('-unknown-', np.nan)\n",
    "train_nan_counts = train_nan.isnull().sum().sort_values(ascending=False)\n",
    "train_nan_summary = (train_nan_counts / train_nan.shape[0]) * 100\n",
    "train_nan_notzero = train_nan_summary[train_nan_summary > 0] #.drop('country_destination')\n",
    "\n",
    "print('% of rows with missing values for the test data')\n",
    "print('-----------------------------------------------')\n",
    "print(train_nan_notzero)"
   ]
  },
  {
   "cell_type": "code",
   "execution_count": 45,
   "metadata": {
    "collapsed": false
   },
   "outputs": [
    {
     "name": "stdout",
     "output_type": "stream",
     "text": [
      "count    158681.000000\n",
      "mean         47.145310\n",
      "std         142.629468\n",
      "min           1.000000\n",
      "25%          28.000000\n",
      "50%          33.000000\n",
      "75%          42.000000\n",
      "max        2014.000000\n",
      "Name: age, dtype: float64\n",
      "\n",
      ">100: 2,690\n",
      "<18: 188\n"
     ]
    },
    {
     "data": {
      "image/png": "[encoded data removed]",
      "text/plain": [
       "<matplotlib.figure.Figure at 0x30849a90>"
      ]
     },
     "metadata": {},
     "output_type": "display_data"
    }
   ],
   "source": [
    "print(users.age.describe())\n",
    "print(\"\")\n",
    "print('>100: {:3,.0f}'.format(sum(users.age>100)))\n",
    "print('<18: {:3,.0f}'.format(sum(users.age<18)))\n",
    "\n",
    "fig, axes = plt.subplots(nrows=1, ncols=3, figsize=(17,3))\n",
    "users[(users.age<18)].age.plot(kind='hist', title='Users under 18', bins=20, ax=axes[0])\n",
    "users[(users.age>18) & (users.age<100)].age.plot(kind='hist', title='Users 18 to 100', bins=20, ax=axes[1])\n",
    "users[(users.age>100)].age.plot(kind='hist', title='Users', bins=20, ax=axes[2]);"
   ]
  },
  {
   "cell_type": "code",
   "execution_count": 46,
   "metadata": {
    "collapsed": false
   },
   "outputs": [
    {
     "data": {
      "text/plain": [
       "<matplotlib.axes._subplots.AxesSubplot at 0x343c3240>"
      ]
     },
     "execution_count": 46,
     "metadata": {},
     "output_type": "execute_result"
    },
    {
     "data": {
      "image/png": "[encoded data removed]",
      "text/plain": [
       "<matplotlib.figure.Figure at 0x343adda0>"
      ]
     },
     "metadata": {},
     "output_type": "display_data"
    }
   ],
   "source": [
    "country_pref_all_users = users.country_destination.value_counts()\n",
    "country_pref_missing_age = users[users.age.isnull()].country_destination.value_counts()\n",
    "country_pref_comparison = pd.concat([country_pref_all_users,country_pref_missing_age], axis=1)\n",
    "country_pref_comparison.columns = ['all','no-age']\n",
    "\n",
    "#country_pref_comparison.corr()\n",
    "\n",
    "country_pref_comparison.sort_values('all', ascending=True).plot(kind='barh')"
   ]
  },
  {
   "cell_type": "code",
   "execution_count": null,
   "metadata": {
    "collapsed": true
   },
   "outputs": [],
   "source": []
  },
  {
   "cell_type": "code",
   "execution_count": 22,
   "metadata": {
    "collapsed": false
   },
   "outputs": [
    {
     "name": "stdout",
     "output_type": "stream",
     "text": [
      "<class 'pandas.core.frame.DataFrame'>\n",
      "Int64Index: 213451 entries, 0 to 213450\n",
      "Data columns (total 16 columns):\n",
      "id                         213451 non-null object\n",
      "date_account_created       213451 non-null object\n",
      "timestamp_first_active     213451 non-null int64\n",
      "date_first_booking         88908 non-null object\n",
      "gender                     213451 non-null object\n",
      "age                        125461 non-null float64\n",
      "signup_method              213451 non-null object\n",
      "signup_flow                213451 non-null int64\n",
      "language                   213451 non-null object\n",
      "affiliate_channel          213451 non-null object\n",
      "affiliate_provider         213451 non-null object\n",
      "first_affiliate_tracked    207386 non-null object\n",
      "signup_app                 213451 non-null object\n",
      "first_device_type          213451 non-null object\n",
      "first_browser              213451 non-null object\n",
      "country_destination        213451 non-null object\n",
      "dtypes: float64(1), int64(2), object(13)\n",
      "memory usage: 27.7+ MB\n"
     ]
    }
   ],
   "source": [
    "train.info()"
   ]
  },
  {
   "cell_type": "code",
   "execution_count": 23,
   "metadata": {
    "collapsed": false
   },
   "outputs": [
    {
     "name": "stdout",
     "output_type": "stream",
     "text": [
      "<class 'pandas.core.frame.DataFrame'>\n",
      "Int64Index: 62096 entries, 0 to 62095\n",
      "Data columns (total 15 columns):\n",
      "id                         62096 non-null object\n",
      "date_account_created       62096 non-null object\n",
      "timestamp_first_active     62096 non-null int64\n",
      "date_first_booking         0 non-null float64\n",
      "gender                     62096 non-null object\n",
      "age                        33220 non-null float64\n",
      "signup_method              62096 non-null object\n",
      "signup_flow                62096 non-null int64\n",
      "language                   62096 non-null object\n",
      "affiliate_channel          62096 non-null object\n",
      "affiliate_provider         62096 non-null object\n",
      "first_affiliate_tracked    62076 non-null object\n",
      "signup_app                 62096 non-null object\n",
      "first_device_type          62096 non-null object\n",
      "first_browser              62096 non-null object\n",
      "dtypes: float64(2), int64(2), object(11)\n",
      "memory usage: 7.6+ MB\n"
     ]
    }
   ],
   "source": [
    "test.info()"
   ]
  },
  {
   "cell_type": "code",
   "execution_count": 24,
   "metadata": {
    "collapsed": true
   },
   "outputs": [],
   "source": [
    "users['date_account_created'] = pd.to_datetime(users['date_account_created'])\n",
    "users['date_first_booking'] = pd.to_datetime(users['date_first_booking'])\n",
    "users['date_first_active'] = pd.to_datetime((users.timestamp_first_active // 1000000), format='%Y%m%d')"
   ]
  },
  {
   "cell_type": "code",
   "execution_count": 27,
   "metadata": {
    "collapsed": true
   },
   "outputs": [],
   "source": [
    "train['date_account_created'] = pd.to_datetime(train.date_account_created)\n",
    "train['date_first_booking'] = pd.to_datetime(train.date_first_booking)\n",
    "train['date_first_active'] = pd.to_datetime((train.timestamp_first_active // 1000000), format='%Y%m%d')"
   ]
  },
  {
   "cell_type": "code",
   "execution_count": 28,
   "metadata": {
    "collapsed": false
   },
   "outputs": [
    {
     "data": {
      "text/plain": [
       "count                  213451\n",
       "unique                   1634\n",
       "top       2014-05-13 00:00:00\n",
       "freq                      674\n",
       "first     2010-01-01 00:00:00\n",
       "last      2014-06-30 00:00:00\n",
       "Name: date_account_created, dtype: object"
      ]
     },
     "execution_count": 28,
     "metadata": {},
     "output_type": "execute_result"
    }
   ],
   "source": [
    "train.date_account_created.describe()"
   ]
  },
  {
   "cell_type": "code",
   "execution_count": 29,
   "metadata": {
    "collapsed": false
   },
   "outputs": [
    {
     "data": {
      "text/plain": [
       "count                  213451\n",
       "unique                   1639\n",
       "top       2014-05-13 00:00:00\n",
       "freq                      673\n",
       "first     2009-03-19 00:00:00\n",
       "last      2014-06-30 00:00:00\n",
       "Name: date_first_active, dtype: object"
      ]
     },
     "execution_count": 29,
     "metadata": {},
     "output_type": "execute_result"
    }
   ],
   "source": [
    "train.date_first_active.describe()"
   ]
  },
  {
   "cell_type": "code",
   "execution_count": 30,
   "metadata": {
    "collapsed": false
   },
   "outputs": [
    {
     "data": {
      "text/plain": [
       "count                   88908\n",
       "unique                   1976\n",
       "top       2014-05-22 00:00:00\n",
       "freq                      248\n",
       "first     2010-01-02 00:00:00\n",
       "last      2015-06-29 00:00:00\n",
       "Name: date_first_booking, dtype: object"
      ]
     },
     "execution_count": 30,
     "metadata": {},
     "output_type": "execute_result"
    }
   ],
   "source": [
    "train.date_first_booking.describe()"
   ]
  },
  {
   "cell_type": "code",
   "execution_count": 31,
   "metadata": {
    "collapsed": false
   },
   "outputs": [
    {
     "data": {
      "image/png": "[encoded data removed]",
      "text/plain": [
       "<matplotlib.figure.Figure at 0x2278f9b0>"
      ]
     },
     "metadata": {},
     "output_type": "display_data"
    }
   ],
   "source": [
    "fig, axes = plt.subplots(nrows=1, ncols=3, figsize=(20,5))\n",
    "colours = ['g', 'r', 'b']\n",
    "vars = ['date_account_created', 'date_first_active', 'date_first_booking']\n",
    "titles = ['account creation', 'first activity', 'first booking']\n",
    "for i, var in enumerate(vars):\n",
    "    users[var].value_counts().plot(ax=axes[i], alpha=0.5, legend=False, lw=1, c=colours[i], xlim=['2010-01-01','2014-09-30'])\n",
    "    axes[i].set_title('Fluctions over time in %s\\n' % titles[i])"
   ]
  },
  {
   "cell_type": "code",
   "execution_count": 32,
   "metadata": {
    "collapsed": false
   },
   "outputs": [
    {
     "data": {
      "image/png": "[encoded data removed]",
      "text/plain": [
       "<matplotlib.figure.Figure at 0x30f24b38>"
      ]
     },
     "metadata": {},
     "output_type": "display_data"
    }
   ],
   "source": [
    "fig, axes = plt.subplots(nrows=1, ncols=3, figsize=(20,5))\n",
    "colours = ['b', 'r', 'g']\n",
    "vars = ['date_account_created', 'date_first_active', 'date_first_booking']\n",
    "titles = ['date_account_created', 'date_first_active', 'date_first_booking']\n",
    "for i, var in enumerate(vars):\n",
    "    train[var].value_counts().plot(ax=axes[i], alpha=0.5, legend=False, lw=1, c=colours[i])\n",
    "    axes[i].set_title('Evolution of %s\\n' % titles[i])"
   ]
  },
  {
   "cell_type": "code",
   "execution_count": 33,
   "metadata": {
    "collapsed": false
   },
   "outputs": [
    {
     "data": {
      "text/html": [
       "<div>\n",
       "<table border=\"1\" class=\"dataframe\">\n",
       "  <thead>\n",
       "    <tr style=\"text-align: right;\">\n",
       "      <th></th>\n",
       "      <th>num_account_created</th>\n",
       "      <th>num_first_active</th>\n",
       "    </tr>\n",
       "  </thead>\n",
       "  <tbody>\n",
       "    <tr>\n",
       "      <th>num_account_created</th>\n",
       "      <td>1.000000</td>\n",
       "      <td>0.999479</td>\n",
       "    </tr>\n",
       "    <tr>\n",
       "      <th>num_first_active</th>\n",
       "      <td>0.999479</td>\n",
       "      <td>1.000000</td>\n",
       "    </tr>\n",
       "  </tbody>\n",
       "</table>\n",
       "</div>"
      ],
      "text/plain": [
       "                     num_account_created  num_first_active\n",
       "num_account_created             1.000000          0.999479\n",
       "num_first_active                0.999479          1.000000"
      ]
     },
     "execution_count": 33,
     "metadata": {},
     "output_type": "execute_result"
    }
   ],
   "source": [
    "users['num_account_created'] = pd.to_numeric(users.date_account_created)\n",
    "users['num_first_active'] = pd.to_numeric(users.date_first_active)\n",
    "users[['num_account_created', 'num_first_active']].corr()"
   ]
  },
  {
   "cell_type": "code",
   "execution_count": 34,
   "metadata": {
    "collapsed": false
   },
   "outputs": [
    {
     "name": "stdout",
     "output_type": "stream",
     "text": [
      "                     num_account_created  num_first_active\n",
      "num_account_created             1.000000          0.999479\n",
      "num_first_active                0.999479          1.000000\n",
      "\n",
      "                     num_account_created  num_first_booking\n",
      "num_account_created             1.000000           0.968063\n",
      "num_first_booking               0.968063           1.000000\n"
     ]
    }
   ],
   "source": [
    "users['num_account_created'] = pd.to_numeric(users.date_account_created)\n",
    "users['num_first_active'] = pd.to_numeric(users.date_first_active)\n",
    "users['num_first_booking'] = pd.to_numeric(users.date_first_booking)\n",
    "\n",
    "print users[['num_account_created', 'num_first_active']].corr()\n",
    "print\n",
    "print users[['num_account_created', 'num_first_booking']].corr()"
   ]
  },
  {
   "cell_type": "code",
   "execution_count": 35,
   "metadata": {
    "collapsed": false
   },
   "outputs": [
    {
     "data": {
      "text/html": [
       "<div>\n",
       "<table border=\"1\" class=\"dataframe\">\n",
       "  <thead>\n",
       "    <tr style=\"text-align: right;\">\n",
       "      <th></th>\n",
       "      <th>affiliate_channel</th>\n",
       "      <th>affiliate_provider</th>\n",
       "      <th>age</th>\n",
       "      <th>country_destination</th>\n",
       "      <th>date_account_created</th>\n",
       "      <th>date_first_booking</th>\n",
       "      <th>first_affiliate_tracked</th>\n",
       "      <th>first_browser</th>\n",
       "      <th>first_device_type</th>\n",
       "      <th>gender</th>\n",
       "      <th>id</th>\n",
       "      <th>language</th>\n",
       "      <th>signup_app</th>\n",
       "      <th>signup_flow</th>\n",
       "      <th>signup_method</th>\n",
       "      <th>timestamp_first_active</th>\n",
       "      <th>date_first_active</th>\n",
       "      <th>num_account_created</th>\n",
       "      <th>num_first_active</th>\n",
       "      <th>num_first_booking</th>\n",
       "    </tr>\n",
       "  </thead>\n",
       "  <tbody>\n",
       "    <tr>\n",
       "      <th>0</th>\n",
       "      <td>direct</td>\n",
       "      <td>direct</td>\n",
       "      <td>NaN</td>\n",
       "      <td>NDF</td>\n",
       "      <td>2010-06-28</td>\n",
       "      <td>NaT</td>\n",
       "      <td>untracked</td>\n",
       "      <td>Chrome</td>\n",
       "      <td>Mac Desktop</td>\n",
       "      <td>-unknown-</td>\n",
       "      <td>gxn3p5htnn</td>\n",
       "      <td>en</td>\n",
       "      <td>Web</td>\n",
       "      <td>0</td>\n",
       "      <td>facebook</td>\n",
       "      <td>20090319043255</td>\n",
       "      <td>2009-03-19</td>\n",
       "      <td>1277683200000000000</td>\n",
       "      <td>1237420800000000000</td>\n",
       "      <td>NaN</td>\n",
       "    </tr>\n",
       "    <tr>\n",
       "      <th>1</th>\n",
       "      <td>seo</td>\n",
       "      <td>google</td>\n",
       "      <td>38</td>\n",
       "      <td>NDF</td>\n",
       "      <td>2011-05-25</td>\n",
       "      <td>NaT</td>\n",
       "      <td>untracked</td>\n",
       "      <td>Chrome</td>\n",
       "      <td>Mac Desktop</td>\n",
       "      <td>MALE</td>\n",
       "      <td>820tgsjxq7</td>\n",
       "      <td>en</td>\n",
       "      <td>Web</td>\n",
       "      <td>0</td>\n",
       "      <td>facebook</td>\n",
       "      <td>20090523174809</td>\n",
       "      <td>2009-05-23</td>\n",
       "      <td>1306281600000000000</td>\n",
       "      <td>1243036800000000000</td>\n",
       "      <td>NaN</td>\n",
       "    </tr>\n",
       "    <tr>\n",
       "      <th>2</th>\n",
       "      <td>direct</td>\n",
       "      <td>direct</td>\n",
       "      <td>56</td>\n",
       "      <td>US</td>\n",
       "      <td>2010-09-28</td>\n",
       "      <td>2010-08-02</td>\n",
       "      <td>untracked</td>\n",
       "      <td>IE</td>\n",
       "      <td>Windows Desktop</td>\n",
       "      <td>FEMALE</td>\n",
       "      <td>4ft3gnwmtx</td>\n",
       "      <td>en</td>\n",
       "      <td>Web</td>\n",
       "      <td>3</td>\n",
       "      <td>basic</td>\n",
       "      <td>20090609231247</td>\n",
       "      <td>2009-06-09</td>\n",
       "      <td>1285632000000000000</td>\n",
       "      <td>1244505600000000000</td>\n",
       "      <td>1.280707e+18</td>\n",
       "    </tr>\n",
       "    <tr>\n",
       "      <th>3</th>\n",
       "      <td>direct</td>\n",
       "      <td>direct</td>\n",
       "      <td>42</td>\n",
       "      <td>other</td>\n",
       "      <td>2011-12-05</td>\n",
       "      <td>2012-09-08</td>\n",
       "      <td>untracked</td>\n",
       "      <td>Firefox</td>\n",
       "      <td>Mac Desktop</td>\n",
       "      <td>FEMALE</td>\n",
       "      <td>bjjt8pjhuk</td>\n",
       "      <td>en</td>\n",
       "      <td>Web</td>\n",
       "      <td>0</td>\n",
       "      <td>facebook</td>\n",
       "      <td>20091031060129</td>\n",
       "      <td>2009-10-31</td>\n",
       "      <td>1323043200000000000</td>\n",
       "      <td>1256947200000000000</td>\n",
       "      <td>1.347062e+18</td>\n",
       "    </tr>\n",
       "    <tr>\n",
       "      <th>4</th>\n",
       "      <td>direct</td>\n",
       "      <td>direct</td>\n",
       "      <td>41</td>\n",
       "      <td>US</td>\n",
       "      <td>2010-09-14</td>\n",
       "      <td>2010-02-18</td>\n",
       "      <td>untracked</td>\n",
       "      <td>Chrome</td>\n",
       "      <td>Mac Desktop</td>\n",
       "      <td>-unknown-</td>\n",
       "      <td>87mebub9p4</td>\n",
       "      <td>en</td>\n",
       "      <td>Web</td>\n",
       "      <td>0</td>\n",
       "      <td>basic</td>\n",
       "      <td>20091208061105</td>\n",
       "      <td>2009-12-08</td>\n",
       "      <td>1284422400000000000</td>\n",
       "      <td>1260230400000000000</td>\n",
       "      <td>1.266451e+18</td>\n",
       "    </tr>\n",
       "    <tr>\n",
       "      <th>5</th>\n",
       "      <td>other</td>\n",
       "      <td>other</td>\n",
       "      <td>NaN</td>\n",
       "      <td>US</td>\n",
       "      <td>2010-01-01</td>\n",
       "      <td>2010-01-02</td>\n",
       "      <td>omg</td>\n",
       "      <td>Chrome</td>\n",
       "      <td>Mac Desktop</td>\n",
       "      <td>-unknown-</td>\n",
       "      <td>osr2jwljor</td>\n",
       "      <td>en</td>\n",
       "      <td>Web</td>\n",
       "      <td>0</td>\n",
       "      <td>basic</td>\n",
       "      <td>20100101215619</td>\n",
       "      <td>2010-01-01</td>\n",
       "      <td>1262304000000000000</td>\n",
       "      <td>1262304000000000000</td>\n",
       "      <td>1.262390e+18</td>\n",
       "    </tr>\n",
       "    <tr>\n",
       "      <th>6</th>\n",
       "      <td>other</td>\n",
       "      <td>craigslist</td>\n",
       "      <td>46</td>\n",
       "      <td>US</td>\n",
       "      <td>2010-01-02</td>\n",
       "      <td>2010-01-05</td>\n",
       "      <td>untracked</td>\n",
       "      <td>Safari</td>\n",
       "      <td>Mac Desktop</td>\n",
       "      <td>FEMALE</td>\n",
       "      <td>lsw9q7uk0j</td>\n",
       "      <td>en</td>\n",
       "      <td>Web</td>\n",
       "      <td>0</td>\n",
       "      <td>basic</td>\n",
       "      <td>20100102012558</td>\n",
       "      <td>2010-01-02</td>\n",
       "      <td>1262390400000000000</td>\n",
       "      <td>1262390400000000000</td>\n",
       "      <td>1.262650e+18</td>\n",
       "    </tr>\n",
       "    <tr>\n",
       "      <th>7</th>\n",
       "      <td>direct</td>\n",
       "      <td>direct</td>\n",
       "      <td>47</td>\n",
       "      <td>US</td>\n",
       "      <td>2010-01-03</td>\n",
       "      <td>2010-01-13</td>\n",
       "      <td>omg</td>\n",
       "      <td>Safari</td>\n",
       "      <td>Mac Desktop</td>\n",
       "      <td>FEMALE</td>\n",
       "      <td>0d01nltbrs</td>\n",
       "      <td>en</td>\n",
       "      <td>Web</td>\n",
       "      <td>0</td>\n",
       "      <td>basic</td>\n",
       "      <td>20100103191905</td>\n",
       "      <td>2010-01-03</td>\n",
       "      <td>1262476800000000000</td>\n",
       "      <td>1262476800000000000</td>\n",
       "      <td>1.263341e+18</td>\n",
       "    </tr>\n",
       "    <tr>\n",
       "      <th>8</th>\n",
       "      <td>other</td>\n",
       "      <td>craigslist</td>\n",
       "      <td>50</td>\n",
       "      <td>US</td>\n",
       "      <td>2010-01-04</td>\n",
       "      <td>2010-07-29</td>\n",
       "      <td>untracked</td>\n",
       "      <td>Safari</td>\n",
       "      <td>Mac Desktop</td>\n",
       "      <td>FEMALE</td>\n",
       "      <td>a1vcnhxeij</td>\n",
       "      <td>en</td>\n",
       "      <td>Web</td>\n",
       "      <td>0</td>\n",
       "      <td>basic</td>\n",
       "      <td>20100104004211</td>\n",
       "      <td>2010-01-04</td>\n",
       "      <td>1262563200000000000</td>\n",
       "      <td>1262563200000000000</td>\n",
       "      <td>1.280362e+18</td>\n",
       "    </tr>\n",
       "    <tr>\n",
       "      <th>9</th>\n",
       "      <td>other</td>\n",
       "      <td>craigslist</td>\n",
       "      <td>46</td>\n",
       "      <td>US</td>\n",
       "      <td>2010-01-04</td>\n",
       "      <td>2010-01-04</td>\n",
       "      <td>omg</td>\n",
       "      <td>Firefox</td>\n",
       "      <td>Mac Desktop</td>\n",
       "      <td>-unknown-</td>\n",
       "      <td>6uh8zyj2gn</td>\n",
       "      <td>en</td>\n",
       "      <td>Web</td>\n",
       "      <td>0</td>\n",
       "      <td>basic</td>\n",
       "      <td>20100104023758</td>\n",
       "      <td>2010-01-04</td>\n",
       "      <td>1262563200000000000</td>\n",
       "      <td>1262563200000000000</td>\n",
       "      <td>1.262563e+18</td>\n",
       "    </tr>\n",
       "    <tr>\n",
       "      <th>10</th>\n",
       "      <td>other</td>\n",
       "      <td>craigslist</td>\n",
       "      <td>36</td>\n",
       "      <td>US</td>\n",
       "      <td>2010-01-04</td>\n",
       "      <td>2010-01-06</td>\n",
       "      <td>untracked</td>\n",
       "      <td>Firefox</td>\n",
       "      <td>Mac Desktop</td>\n",
       "      <td>FEMALE</td>\n",
       "      <td>yuuqmid2rp</td>\n",
       "      <td>en</td>\n",
       "      <td>Web</td>\n",
       "      <td>0</td>\n",
       "      <td>basic</td>\n",
       "      <td>20100104194251</td>\n",
       "      <td>2010-01-04</td>\n",
       "      <td>1262563200000000000</td>\n",
       "      <td>1262563200000000000</td>\n",
       "      <td>1.262736e+18</td>\n",
       "    </tr>\n",
       "    <tr>\n",
       "      <th>11</th>\n",
       "      <td>other</td>\n",
       "      <td>craigslist</td>\n",
       "      <td>47</td>\n",
       "      <td>NDF</td>\n",
       "      <td>2010-01-05</td>\n",
       "      <td>NaT</td>\n",
       "      <td>untracked</td>\n",
       "      <td>-unknown-</td>\n",
       "      <td>iPhone</td>\n",
       "      <td>FEMALE</td>\n",
       "      <td>om1ss59ys8</td>\n",
       "      <td>en</td>\n",
       "      <td>Web</td>\n",
       "      <td>0</td>\n",
       "      <td>basic</td>\n",
       "      <td>20100105051812</td>\n",
       "      <td>2010-01-05</td>\n",
       "      <td>1262649600000000000</td>\n",
       "      <td>1262649600000000000</td>\n",
       "      <td>NaN</td>\n",
       "    </tr>\n",
       "    <tr>\n",
       "      <th>12</th>\n",
       "      <td>direct</td>\n",
       "      <td>direct</td>\n",
       "      <td>NaN</td>\n",
       "      <td>FR</td>\n",
       "      <td>2010-01-05</td>\n",
       "      <td>2010-01-18</td>\n",
       "      <td>NaN</td>\n",
       "      <td>-unknown-</td>\n",
       "      <td>Other/Unknown</td>\n",
       "      <td>-unknown-</td>\n",
       "      <td>k6np330cm1</td>\n",
       "      <td>en</td>\n",
       "      <td>Web</td>\n",
       "      <td>0</td>\n",
       "      <td>basic</td>\n",
       "      <td>20100105060859</td>\n",
       "      <td>2010-01-05</td>\n",
       "      <td>1262649600000000000</td>\n",
       "      <td>1262649600000000000</td>\n",
       "      <td>1.263773e+18</td>\n",
       "    </tr>\n",
       "    <tr>\n",
       "      <th>13</th>\n",
       "      <td>other</td>\n",
       "      <td>craigslist</td>\n",
       "      <td>37</td>\n",
       "      <td>NDF</td>\n",
       "      <td>2010-01-05</td>\n",
       "      <td>NaT</td>\n",
       "      <td>linked</td>\n",
       "      <td>Firefox</td>\n",
       "      <td>Mac Desktop</td>\n",
       "      <td>FEMALE</td>\n",
       "      <td>dy3rgx56cu</td>\n",
       "      <td>en</td>\n",
       "      <td>Web</td>\n",
       "      <td>0</td>\n",
       "      <td>basic</td>\n",
       "      <td>20100105083259</td>\n",
       "      <td>2010-01-05</td>\n",
       "      <td>1262649600000000000</td>\n",
       "      <td>1262649600000000000</td>\n",
       "      <td>NaN</td>\n",
       "    </tr>\n",
       "    <tr>\n",
       "      <th>14</th>\n",
       "      <td>other</td>\n",
       "      <td>craigslist</td>\n",
       "      <td>36</td>\n",
       "      <td>NDF</td>\n",
       "      <td>2010-01-07</td>\n",
       "      <td>NaT</td>\n",
       "      <td>untracked</td>\n",
       "      <td>Mobile Safari</td>\n",
       "      <td>iPhone</td>\n",
       "      <td>FEMALE</td>\n",
       "      <td>ju3h98ch3w</td>\n",
       "      <td>en</td>\n",
       "      <td>Web</td>\n",
       "      <td>0</td>\n",
       "      <td>basic</td>\n",
       "      <td>20100107055820</td>\n",
       "      <td>2010-01-07</td>\n",
       "      <td>1262822400000000000</td>\n",
       "      <td>1262822400000000000</td>\n",
       "      <td>NaN</td>\n",
       "    </tr>\n",
       "    <tr>\n",
       "      <th>15</th>\n",
       "      <td>direct</td>\n",
       "      <td>direct</td>\n",
       "      <td>33</td>\n",
       "      <td>CA</td>\n",
       "      <td>2010-01-07</td>\n",
       "      <td>2010-01-08</td>\n",
       "      <td>untracked</td>\n",
       "      <td>Chrome</td>\n",
       "      <td>Windows Desktop</td>\n",
       "      <td>FEMALE</td>\n",
       "      <td>v4d5rl22px</td>\n",
       "      <td>en</td>\n",
       "      <td>Web</td>\n",
       "      <td>0</td>\n",
       "      <td>basic</td>\n",
       "      <td>20100107204555</td>\n",
       "      <td>2010-01-07</td>\n",
       "      <td>1262822400000000000</td>\n",
       "      <td>1262822400000000000</td>\n",
       "      <td>1.262909e+18</td>\n",
       "    </tr>\n",
       "    <tr>\n",
       "      <th>16</th>\n",
       "      <td>other</td>\n",
       "      <td>craigslist</td>\n",
       "      <td>NaN</td>\n",
       "      <td>NDF</td>\n",
       "      <td>2010-01-07</td>\n",
       "      <td>NaT</td>\n",
       "      <td>NaN</td>\n",
       "      <td>-unknown-</td>\n",
       "      <td>Other/Unknown</td>\n",
       "      <td>-unknown-</td>\n",
       "      <td>2dwbwkx056</td>\n",
       "      <td>en</td>\n",
       "      <td>Web</td>\n",
       "      <td>0</td>\n",
       "      <td>basic</td>\n",
       "      <td>20100107215125</td>\n",
       "      <td>2010-01-07</td>\n",
       "      <td>1262822400000000000</td>\n",
       "      <td>1262822400000000000</td>\n",
       "      <td>NaN</td>\n",
       "    </tr>\n",
       "    <tr>\n",
       "      <th>17</th>\n",
       "      <td>other</td>\n",
       "      <td>craigslist</td>\n",
       "      <td>31</td>\n",
       "      <td>US</td>\n",
       "      <td>2010-01-07</td>\n",
       "      <td>2010-01-09</td>\n",
       "      <td>NaN</td>\n",
       "      <td>-unknown-</td>\n",
       "      <td>Other/Unknown</td>\n",
       "      <td>-unknown-</td>\n",
       "      <td>frhre329au</td>\n",
       "      <td>en</td>\n",
       "      <td>Web</td>\n",
       "      <td>0</td>\n",
       "      <td>basic</td>\n",
       "      <td>20100107224625</td>\n",
       "      <td>2010-01-07</td>\n",
       "      <td>1262822400000000000</td>\n",
       "      <td>1262822400000000000</td>\n",
       "      <td>1.262995e+18</td>\n",
       "    </tr>\n",
       "    <tr>\n",
       "      <th>18</th>\n",
       "      <td>seo</td>\n",
       "      <td>facebook</td>\n",
       "      <td>NaN</td>\n",
       "      <td>NDF</td>\n",
       "      <td>2010-01-08</td>\n",
       "      <td>NaT</td>\n",
       "      <td>NaN</td>\n",
       "      <td>-unknown-</td>\n",
       "      <td>Other/Unknown</td>\n",
       "      <td>-unknown-</td>\n",
       "      <td>cxlg85pg1r</td>\n",
       "      <td>en</td>\n",
       "      <td>Web</td>\n",
       "      <td>0</td>\n",
       "      <td>basic</td>\n",
       "      <td>20100108015641</td>\n",
       "      <td>2010-01-08</td>\n",
       "      <td>1262908800000000000</td>\n",
       "      <td>1262908800000000000</td>\n",
       "      <td>NaN</td>\n",
       "    </tr>\n",
       "    <tr>\n",
       "      <th>19</th>\n",
       "      <td>direct</td>\n",
       "      <td>direct</td>\n",
       "      <td>29</td>\n",
       "      <td>FR</td>\n",
       "      <td>2010-01-10</td>\n",
       "      <td>2010-01-10</td>\n",
       "      <td>untracked</td>\n",
       "      <td>Chrome</td>\n",
       "      <td>Mac Desktop</td>\n",
       "      <td>FEMALE</td>\n",
       "      <td>gdka1q5ktd</td>\n",
       "      <td>en</td>\n",
       "      <td>Web</td>\n",
       "      <td>0</td>\n",
       "      <td>basic</td>\n",
       "      <td>20100110010817</td>\n",
       "      <td>2010-01-10</td>\n",
       "      <td>1263081600000000000</td>\n",
       "      <td>1263081600000000000</td>\n",
       "      <td>1.263082e+18</td>\n",
       "    </tr>\n",
       "  </tbody>\n",
       "</table>\n",
       "</div>"
      ],
      "text/plain": [
       "   affiliate_channel affiliate_provider  age country_destination  \\\n",
       "0             direct             direct  NaN                 NDF   \n",
       "1                seo             google   38                 NDF   \n",
       "2             direct             direct   56                  US   \n",
       "3             direct             direct   42               other   \n",
       "4             direct             direct   41                  US   \n",
       "5              other              other  NaN                  US   \n",
       "6              other         craigslist   46                  US   \n",
       "7             direct             direct   47                  US   \n",
       "8              other         craigslist   50                  US   \n",
       "9              other         craigslist   46                  US   \n",
       "10             other         craigslist   36                  US   \n",
       "11             other         craigslist   47                 NDF   \n",
       "12            direct             direct  NaN                  FR   \n",
       "13             other         craigslist   37                 NDF   \n",
       "14             other         craigslist   36                 NDF   \n",
       "15            direct             direct   33                  CA   \n",
       "16             other         craigslist  NaN                 NDF   \n",
       "17             other         craigslist   31                  US   \n",
       "18               seo           facebook  NaN                 NDF   \n",
       "19            direct             direct   29                  FR   \n",
       "\n",
       "   date_account_created date_first_booking first_affiliate_tracked  \\\n",
       "0            2010-06-28                NaT               untracked   \n",
       "1            2011-05-25                NaT               untracked   \n",
       "2            2010-09-28         2010-08-02               untracked   \n",
       "3            2011-12-05         2012-09-08               untracked   \n",
       "4            2010-09-14         2010-02-18               untracked   \n",
       "5            2010-01-01         2010-01-02                     omg   \n",
       "6            2010-01-02         2010-01-05               untracked   \n",
       "7            2010-01-03         2010-01-13                     omg   \n",
       "8            2010-01-04         2010-07-29               untracked   \n",
       "9            2010-01-04         2010-01-04                     omg   \n",
       "10           2010-01-04         2010-01-06               untracked   \n",
       "11           2010-01-05                NaT               untracked   \n",
       "12           2010-01-05         2010-01-18                     NaN   \n",
       "13           2010-01-05                NaT                  linked   \n",
       "14           2010-01-07                NaT               untracked   \n",
       "15           2010-01-07         2010-01-08               untracked   \n",
       "16           2010-01-07                NaT                     NaN   \n",
       "17           2010-01-07         2010-01-09                     NaN   \n",
       "18           2010-01-08                NaT                     NaN   \n",
       "19           2010-01-10         2010-01-10               untracked   \n",
       "\n",
       "    first_browser first_device_type     gender          id language  \\\n",
       "0          Chrome       Mac Desktop  -unknown-  gxn3p5htnn       en   \n",
       "1          Chrome       Mac Desktop       MALE  820tgsjxq7       en   \n",
       "2              IE   Windows Desktop     FEMALE  4ft3gnwmtx       en   \n",
       "3         Firefox       Mac Desktop     FEMALE  bjjt8pjhuk       en   \n",
       "4          Chrome       Mac Desktop  -unknown-  87mebub9p4       en   \n",
       "5          Chrome       Mac Desktop  -unknown-  osr2jwljor       en   \n",
       "6          Safari       Mac Desktop     FEMALE  lsw9q7uk0j       en   \n",
       "7          Safari       Mac Desktop     FEMALE  0d01nltbrs       en   \n",
       "8          Safari       Mac Desktop     FEMALE  a1vcnhxeij       en   \n",
       "9         Firefox       Mac Desktop  -unknown-  6uh8zyj2gn       en   \n",
       "10        Firefox       Mac Desktop     FEMALE  yuuqmid2rp       en   \n",
       "11      -unknown-            iPhone     FEMALE  om1ss59ys8       en   \n",
       "12      -unknown-     Other/Unknown  -unknown-  k6np330cm1       en   \n",
       "13        Firefox       Mac Desktop     FEMALE  dy3rgx56cu       en   \n",
       "14  Mobile Safari            iPhone     FEMALE  ju3h98ch3w       en   \n",
       "15         Chrome   Windows Desktop     FEMALE  v4d5rl22px       en   \n",
       "16      -unknown-     Other/Unknown  -unknown-  2dwbwkx056       en   \n",
       "17      -unknown-     Other/Unknown  -unknown-  frhre329au       en   \n",
       "18      -unknown-     Other/Unknown  -unknown-  cxlg85pg1r       en   \n",
       "19         Chrome       Mac Desktop     FEMALE  gdka1q5ktd       en   \n",
       "\n",
       "   signup_app  signup_flow signup_method  timestamp_first_active  \\\n",
       "0         Web            0      facebook          20090319043255   \n",
       "1         Web            0      facebook          20090523174809   \n",
       "2         Web            3         basic          20090609231247   \n",
       "3         Web            0      facebook          20091031060129   \n",
       "4         Web            0         basic          20091208061105   \n",
       "5         Web            0         basic          20100101215619   \n",
       "6         Web            0         basic          20100102012558   \n",
       "7         Web            0         basic          20100103191905   \n",
       "8         Web            0         basic          20100104004211   \n",
       "9         Web            0         basic          20100104023758   \n",
       "10        Web            0         basic          20100104194251   \n",
       "11        Web            0         basic          20100105051812   \n",
       "12        Web            0         basic          20100105060859   \n",
       "13        Web            0         basic          20100105083259   \n",
       "14        Web            0         basic          20100107055820   \n",
       "15        Web            0         basic          20100107204555   \n",
       "16        Web            0         basic          20100107215125   \n",
       "17        Web            0         basic          20100107224625   \n",
       "18        Web            0         basic          20100108015641   \n",
       "19        Web            0         basic          20100110010817   \n",
       "\n",
       "   date_first_active  num_account_created     num_first_active  \\\n",
       "0         2009-03-19  1277683200000000000  1237420800000000000   \n",
       "1         2009-05-23  1306281600000000000  1243036800000000000   \n",
       "2         2009-06-09  1285632000000000000  1244505600000000000   \n",
       "3         2009-10-31  1323043200000000000  1256947200000000000   \n",
       "4         2009-12-08  1284422400000000000  1260230400000000000   \n",
       "5         2010-01-01  1262304000000000000  1262304000000000000   \n",
       "6         2010-01-02  1262390400000000000  1262390400000000000   \n",
       "7         2010-01-03  1262476800000000000  1262476800000000000   \n",
       "8         2010-01-04  1262563200000000000  1262563200000000000   \n",
       "9         2010-01-04  1262563200000000000  1262563200000000000   \n",
       "10        2010-01-04  1262563200000000000  1262563200000000000   \n",
       "11        2010-01-05  1262649600000000000  1262649600000000000   \n",
       "12        2010-01-05  1262649600000000000  1262649600000000000   \n",
       "13        2010-01-05  1262649600000000000  1262649600000000000   \n",
       "14        2010-01-07  1262822400000000000  1262822400000000000   \n",
       "15        2010-01-07  1262822400000000000  1262822400000000000   \n",
       "16        2010-01-07  1262822400000000000  1262822400000000000   \n",
       "17        2010-01-07  1262822400000000000  1262822400000000000   \n",
       "18        2010-01-08  1262908800000000000  1262908800000000000   \n",
       "19        2010-01-10  1263081600000000000  1263081600000000000   \n",
       "\n",
       "    num_first_booking  \n",
       "0                 NaN  \n",
       "1                 NaN  \n",
       "2        1.280707e+18  \n",
       "3        1.347062e+18  \n",
       "4        1.266451e+18  \n",
       "5        1.262390e+18  \n",
       "6        1.262650e+18  \n",
       "7        1.263341e+18  \n",
       "8        1.280362e+18  \n",
       "9        1.262563e+18  \n",
       "10       1.262736e+18  \n",
       "11                NaN  \n",
       "12       1.263773e+18  \n",
       "13                NaN  \n",
       "14                NaN  \n",
       "15       1.262909e+18  \n",
       "16                NaN  \n",
       "17       1.262995e+18  \n",
       "18                NaN  \n",
       "19       1.263082e+18  "
      ]
     },
     "execution_count": 35,
     "metadata": {},
     "output_type": "execute_result"
    }
   ],
   "source": [
    "users.head(20)"
   ]
  },
  {
   "cell_type": "code",
   "execution_count": 36,
   "metadata": {
    "collapsed": false
   },
   "outputs": [
    {
     "name": "stderr",
     "output_type": "stream",
     "text": [
      "C:\\Miniconda\\lib\\site-packages\\ipykernel\\__main__.py:1: FutureWarning: \n",
      "The default value for 'return_type' will change to 'axes' in a future release.\n",
      " To use the future behavior now, set return_type='axes'.\n",
      " To keep the previous behavior and silence this warning, set return_type='dict'.\n",
      "  if __name__ == '__main__':\n"
     ]
    },
    {
     "data": {
      "text/plain": [
       "{'boxes': [<matplotlib.lines.Line2D at 0x312864e0>,\n",
       "  <matplotlib.lines.Line2D at 0x312a2860>,\n",
       "  <matplotlib.lines.Line2D at 0x312bdef0>],\n",
       " 'caps': [<matplotlib.lines.Line2D at 0x31295240>,\n",
       "  <matplotlib.lines.Line2D at 0x312957b8>,\n",
       "  <matplotlib.lines.Line2D at 0x312af8d0>,\n",
       "  <matplotlib.lines.Line2D at 0x312afe48>,\n",
       "  <matplotlib.lines.Line2D at 0x30f4cf60>,\n",
       "  <matplotlib.lines.Line2D at 0x30f59518>],\n",
       " 'fliers': [<matplotlib.lines.Line2D at 0x312a22e8>,\n",
       "  <matplotlib.lines.Line2D at 0x312bd978>,\n",
       "  <matplotlib.lines.Line2D at 0x333c69b0>],\n",
       " 'means': [],\n",
       " 'medians': [<matplotlib.lines.Line2D at 0x31295d30>,\n",
       "  <matplotlib.lines.Line2D at 0x312bd400>,\n",
       "  <matplotlib.lines.Line2D at 0x30f59a90>],\n",
       " 'whiskers': [<matplotlib.lines.Line2D at 0x312866a0>,\n",
       "  <matplotlib.lines.Line2D at 0x31286c88>,\n",
       "  <matplotlib.lines.Line2D at 0x312a2dd8>,\n",
       "  <matplotlib.lines.Line2D at 0x312af358>,\n",
       "  <matplotlib.lines.Line2D at 0x30f4c4a8>,\n",
       "  <matplotlib.lines.Line2D at 0x30f4c9e8>]}"
      ]
     },
     "execution_count": 36,
     "metadata": {},
     "output_type": "execute_result"
    },
    {
     "data": {
      "image/png": "[encoded data removed]",
      "text/plain": [
       "<matplotlib.figure.Figure at 0x2249a438>"
      ]
     },
     "metadata": {},
     "output_type": "display_data"
    }
   ],
   "source": [
    "train.boxplot()"
   ]
  },
  {
   "cell_type": "code",
   "execution_count": 37,
   "metadata": {
    "collapsed": false
   },
   "outputs": [
    {
     "data": {
      "text/plain": [
       "array([[<matplotlib.axes._subplots.AxesSubplot object at 0x0000000031056860>,\n",
       "        <matplotlib.axes._subplots.AxesSubplot object at 0x00000000308B54A8>],\n",
       "       [<matplotlib.axes._subplots.AxesSubplot object at 0x000000003096AC88>,\n",
       "        <matplotlib.axes._subplots.AxesSubplot object at 0x000000003055C4A8>],\n",
       "       [<matplotlib.axes._subplots.AxesSubplot object at 0x0000000030690E10>,\n",
       "        <matplotlib.axes._subplots.AxesSubplot object at 0x000000003033AA58>]], dtype=object)"
      ]
     },
     "execution_count": 37,
     "metadata": {},
     "output_type": "execute_result"
    },
    {
     "data": {
      "image/png": "[encoded data removed]",
      "text/plain": [
       "<matplotlib.figure.Figure at 0x30f74358>"
      ]
     },
     "metadata": {},
     "output_type": "display_data"
    }
   ],
   "source": [
    "users.hist()"
   ]
  },
  {
   "cell_type": "code",
   "execution_count": null,
   "metadata": {
    "collapsed": true
   },
   "outputs": [],
   "source": []
  },
  {
   "cell_type": "code",
   "execution_count": 44,
   "metadata": {
    "collapsed": false
   },
   "outputs": [
    {
     "data": {
      "image/png": "[encoded data removed]",
      "text/plain": [
       "<matplotlib.figure.Figure at 0x30bd8240>"
      ]
     },
     "metadata": {},
     "output_type": "display_data"
    }
   ],
   "source": [
    "country_counts = train.country_destination.value_counts()\n",
    "country_counts.plot(kind='bar',title='Country Destination Count');"
   ]
  },
  {
   "cell_type": "code",
   "execution_count": null,
   "metadata": {
    "collapsed": true
   },
   "outputs": [],
   "source": []
  },
  {
   "cell_type": "code",
   "execution_count": null,
   "metadata": {
    "collapsed": false
   },
   "outputs": [],
   "source": [
    "train.groupby(users.date_account_created.year).count()"
   ]
  },
  {
   "cell_type": "code",
   "execution_count": null,
   "metadata": {
    "collapsed": false
   },
   "outputs": [],
   "source": [
    "print users.age.describe()\n",
    "print\n",
    "print sum(users.age>100)\n",
    "print sum(users.age<18)"
   ]
  },
  {
   "cell_type": "code",
   "execution_count": null,
   "metadata": {
    "collapsed": true
   },
   "outputs": [],
   "source": [
    "test['timestamp_first_active'] = pd.to_datetime(test['timestamp_first_active'], format='%Y%m%d%H%M%S')\n",
    "pd.to_datetime(train_df.timestamp_first_active//1000000, format='%Y%m%d')"
   ]
  },
  {
   "cell_type": "code",
   "execution_count": null,
   "metadata": {
    "collapsed": true
   },
   "outputs": [],
   "source": []
  },
  {
   "cell_type": "code",
   "execution_count": null,
   "metadata": {
    "collapsed": true
   },
   "outputs": [],
   "source": []
  },
  {
   "cell_type": "code",
   "execution_count": null,
   "metadata": {
    "collapsed": false
   },
   "outputs": [],
   "source": [
    "g = sns.FacetGrid(students, hue=\"gender\", palette=\"Set1\", size=6)\n",
    "g.map(plt.scatter, \"gpa\", \"computer\", s=250, linewidth=0.65,\n",
    "  edgecolor=\"white\")\n"
   ]
  },
  {
   "cell_type": "code",
   "execution_count": null,
   "metadata": {
    "collapsed": true
   },
   "outputs": [],
   "source": [
    ".astype('category').cat.codes\n",
    "g = sns.FacetGrid(users, hue=\"gender\", palette=\"Set1\", size=6)\n",
    "g.map(plt.scatter, \"age\", \"affiliate_provider\", s=250, linewidth=0.65, edgecolor=\"white\")\n",
    "g.add_legend()"
   ]
  },
  {
   "cell_type": "code",
   "execution_count": null,
   "metadata": {
    "collapsed": true
   },
   "outputs": [],
   "source": []
  },
  {
   "cell_type": "code",
   "execution_count": null,
   "metadata": {
    "collapsed": true
   },
   "outputs": [],
   "source": []
  },
  {
   "cell_type": "code",
   "execution_count": null,
   "metadata": {
    "collapsed": true
   },
   "outputs": [],
   "source": []
  },
  {
   "cell_type": "code",
   "execution_count": null,
   "metadata": {
    "collapsed": true
   },
   "outputs": [],
   "source": []
  },
  {
   "cell_type": "code",
   "execution_count": null,
   "metadata": {
    "collapsed": true
   },
   "outputs": [],
   "source": []
  },
  {
   "cell_type": "code",
   "execution_count": null,
   "metadata": {
    "collapsed": true
   },
   "outputs": [],
   "source": []
  },
  {
   "cell_type": "code",
   "execution_count": null,
   "metadata": {
    "collapsed": true
   },
   "outputs": [],
   "source": []
  },
  {
   "cell_type": "code",
   "execution_count": null,
   "metadata": {
    "collapsed": true
   },
   "outputs": [],
   "source": []
  },
  {
   "cell_type": "code",
   "execution_count": null,
   "metadata": {
    "collapsed": true
   },
   "outputs": [],
   "source": []
  },
  {
   "cell_type": "code",
   "execution_count": null,
   "metadata": {
    "collapsed": true
   },
   "outputs": [],
   "source": []
  },
  {
   "cell_type": "code",
   "execution_count": null,
   "metadata": {
    "collapsed": true
   },
   "outputs": [],
   "source": []
  },
  {
   "cell_type": "code",
   "execution_count": null,
   "metadata": {
    "collapsed": true
   },
   "outputs": [],
   "source": []
  },
  {
   "cell_type": "code",
   "execution_count": null,
   "metadata": {
    "collapsed": true
   },
   "outputs": [],
   "source": []
  },
  {
   "cell_type": "code",
   "execution_count": null,
   "metadata": {
    "collapsed": true
   },
   "outputs": [],
   "source": []
  },
  {
   "cell_type": "code",
   "execution_count": null,
   "metadata": {
    "collapsed": true
   },
   "outputs": [],
   "source": []
  },
  {
   "cell_type": "markdown",
   "metadata": {
    "collapsed": true
   },
   "source": [
    "***\n",
    "# Scratch Pad"
   ]
  },
  {
   "cell_type": "code",
   "execution_count": null,
   "metadata": {
    "collapsed": true
   },
   "outputs": [],
   "source": [
    "sdfgsdfg"
   ]
  },
  {
   "cell_type": "code",
   "execution_count": null,
   "metadata": {
    "collapsed": true
   },
   "outputs": [],
   "source": [
    "# categorical training data by country\n",
    "bar_order = ['NDF','US','other','FR','IT','GB','ES','CA','DE','NL','AU','PT']\n",
    "cat_vars = ['gender','first_device_type']\n",
    "\n",
    "ctab = pd.crosstab([train[var]], train.country_destination).apply(lambda x: x/x.sum(), axis=1)\n",
    "ctab"
   ]
  },
  {
   "cell_type": "code",
   "execution_count": null,
   "metadata": {
    "collapsed": true
   },
   "outputs": [],
   "source": []
  },
  {
   "cell_type": "code",
   "execution_count": null,
   "metadata": {
    "collapsed": true
   },
   "outputs": [],
   "source": []
  },
  {
   "cell_type": "code",
   "execution_count": null,
   "metadata": {
    "collapsed": true
   },
   "outputs": [],
   "source": []
  },
  {
   "cell_type": "code",
   "execution_count": null,
   "metadata": {
    "collapsed": true
   },
   "outputs": [],
   "source": []
  },
  {
   "cell_type": "code",
   "execution_count": null,
   "metadata": {
    "collapsed": true
   },
   "outputs": [],
   "source": [
    "gender = demographics[['country_destination','gender','population_in_thousands']].groupby(['country_destination','gender']).sum().unstack()\n",
    "gender.reset_index(inplace=True)\n",
    "gender.columns = ['country_destination', 'female', 'male']\n",
    "gender['pop_in_thousands'] = gender['female'] + gender['male']\n",
    "gender['pop_proportion'] = gender['pop_in_thousands'] / gender['pop_in_thousands'].sum()\n",
    "gender.sort_values('pop_proportion', ascending=False)"
   ]
  },
  {
   "cell_type": "code",
   "execution_count": null,
   "metadata": {
    "collapsed": true
   },
   "outputs": [],
   "source": [
    "country_visits = pd.merge(gender, countries, how='left', on='country_destination')\n",
    "country_visits.drop(['female','male','pop_proportion','lat_destination','lng_destination'], axis=1, inplace=True)\n",
    "g = sns.PairGrid(country_visits)\n",
    "g.map(plt.scatter);"
   ]
  },
  {
   "cell_type": "code",
   "execution_count": null,
   "metadata": {
    "collapsed": true
   },
   "outputs": [],
   "source": [
    "#age['age_num'] = age['age_bucket'].map(lambda x: int(x[:str.find(x,'-')]))\n",
    "#country_demographics['gender_num'] = country_demographics['gender'].astype('category').cat.codes\n",
    "#age['age_group'] = pd.cut(age['age_num'], 4, labels=[\"quarter-life\",\"mid-life\",\"3-quarter-life\",\"full-life\"])\n",
    "sort_order = ['100+','95-99','90-94','85-89','80-84','75-79','70-74','65-69','60-64','55-59','50-54','45-49','40-44','35-39','30-34','25-29','20-24','15-19','10-14','5-9','0-4']\n",
    "\n",
    "#age.drop(['age_bucket'], axis=1, inplace=True)\n",
    "#age = age.groupby(['country_destination','age_group']).sum().reset_index()\n",
    "#age = age.pivot(index='country_destination', columns='age_group', values='population_in_thousands').reset_index()"
   ]
  },
  {
   "cell_type": "code",
   "execution_count": null,
   "metadata": {
    "collapsed": false
   },
   "outputs": [],
   "source": [
    "# compare gender distributions within destination countries\n",
    "# it's too hard to make out all 10 countries with this graphic, so I'm splitting them in two.\n",
    "\n",
    "# 6 European Union Countries\n",
    "list_eu = ['FR', 'ES', 'IT', 'PT', 'NL','DE']\n",
    "dest_eu = demographics[demographics['country_destination'].isin(list_eu)]\n",
    "g = sns.FacetGrid(dest_eu, col=\"country_destination\", row=\"gender\", sharex=False) \n",
    "g = g.map(plt.hist, \"population_in_thousands\")\n",
    "\n",
    "# 4 Countries outside of the European Union\n",
    "list_rest = ['US', 'CA', 'GB', 'AU']\n",
    "dest_rest = demographics[demographics['country_destination'].isin(list_rest)]\n",
    "\n",
    "g = sns.FacetGrid(dest_rest, col=\"country_destination\", row=\"gender\", size=3, aspect=1, sharex=False) \n",
    "g = g.map(plt.hist, \"population_in_thousands\")"
   ]
  },
  {
   "cell_type": "code",
   "execution_count": null,
   "metadata": {
    "collapsed": false
   },
   "outputs": [],
   "source": [
    "#demographics['age_num'] = demographics['age_bucket'].map(lambda x: int(x[:str.find(x,'-')]))\n",
    "list_nonus = ['FR', 'CA', 'GB', 'ES', 'IT', 'PT', 'NL','DE', 'AU']\n",
    "dest_nonus = demographics[demographics['country_destination'].isin(list_nonus)]\n",
    "\n",
    "sns.violinplot(x='country_destination', y='population_in_thousands', hue='gender', data=dest_nonus,\n",
    "               split=True, inner='stick', palette='Set3');"
   ]
  }
 ],
 "metadata": {
  "kernelspec": {
   "display_name": "Python 2",
   "language": "python",
   "name": "python2"
  },
  "language_info": {
   "codemirror_mode": {
    "name": "ipython",
    "version": 2
   },
   "file_extension": ".py",
   "mimetype": "text/x-python",
   "name": "python",
   "nbconvert_exporter": "python",
   "pygments_lexer": "ipython2",
   "version": "2.7.11"
  }
 },
 "nbformat": 4,
 "nbformat_minor": 0
}
