{
 "cells": [
  {
   "cell_type": "markdown",
   "metadata": {},
   "source": [
    "# Machine Learning Pipeline & Testing"
   ]
  },
  {
   "cell_type": "markdown",
   "metadata": {
    "collapsed": true
   },
   "source": [
    "### load libraries that will be used"
   ]
  },
  {
   "cell_type": "code",
   "execution_count": 95,
   "metadata": {
    "collapsed": false
   },
   "outputs": [],
   "source": [
    "# load and transform\n",
    "from time import time\n",
    "import zipfile\n",
    "from datetime import datetime\n",
    "import numpy as np\n",
    "import pandas as pd\n",
    "\n",
    "# ml\n",
    "from sklearn.preprocessing import MinMaxScaler, LabelEncoder\n",
    "from sklearn.cross_validation import train_test_split, cross_val_score\n",
    "from sklearn import metrics, feature_selection\n",
    "from rank_metrics import ndcg_at_k\n",
    "from sklearn.dummy import DummyClassifier\n",
    "from sklearn.linear_model import LogisticRegressionCV\n",
    "from sklearn.feature_selection import SelectKBest\n",
    "from sklearn import tree\n",
    "from sklearn.ensemble import RandomForestClassifier\n",
    "#from sklearn.grid_search import GridSearchCV, RandomizedSearchCV\n",
    "\n",
    "# graphics\n",
    "%matplotlib inline\n",
    "import matplotlib.pyplot as plt\n",
    "from mpl_toolkits.basemap import Basemap\n",
    "\n",
    "# make figures better:\n",
    "font = {'weight':'normal','size':20}\n",
    "plt.rc('font', **font)\n",
    "plt.rc('figure', figsize=(9.0, 6.0))\n",
    "plt.rc('xtick.major', pad=10) # xticks too close to border!\n",
    "plt.style.use('ggplot')\n",
    "\n",
    "#print(plt.style.available)"
   ]
  },
  {
   "cell_type": "markdown",
   "metadata": {},
   "source": [
    "### unzip and load data into memory"
   ]
  },
  {
   "cell_type": "code",
   "execution_count": 2,
   "metadata": {
    "collapsed": false
   },
   "outputs": [
    {
     "name": "stdout",
     "output_type": "stream",
     "text": [
      "df_countries => rows: 10; columns: 7\n",
      "df_country_demographics => rows: 420; columns: 5\n",
      "df_user_sessions => rows: 10567737; columns: 6\n",
      "df_train => rows: 213451; columns: 16\n",
      "df_test => rows: 62096; columns: 15\n"
     ]
    }
   ],
   "source": [
    "# Dataset #1: Countries to visit\n",
    "zf = zipfile.ZipFile('data/countries.csv.zip')\n",
    "df_countries = pd.read_csv(zf.open('countries.csv'))\n",
    "print(\"df_countries => rows: %0.0f; columns: %0.0f\" % np.shape(df_countries))\n",
    "\n",
    "# Dataset #2: Compare demographic distributions within destination countries\n",
    "zf = zipfile.ZipFile('data/age_gender_bkts.csv.zip')\n",
    "df_country_demographics = pd.read_csv(zf.open('age_gender_bkts.csv'))\n",
    "print(\"df_country_demographics => rows: %0.0f; columns: %0.0f\" % np.shape(df_country_demographics))\n",
    "\n",
    "# Dataset #3: User interactions on airbnb website\n",
    "zf = zipfile.ZipFile('data/sessions.csv.zip')\n",
    "df_user_sessions = pd.read_csv(zf.open('sessions.csv'))\n",
    "print(\"df_user_sessions => rows: %0.0f; columns: %0.0f\" % np.shape(df_user_sessions ))\n",
    "\n",
    "# Dataset #4: Comparing test and training data to what has been provided as user data for 2015\n",
    "# train\n",
    "zf = zipfile.ZipFile('data/train_users_2.csv.zip')\n",
    "df_train = pd.read_csv(zf.open('train_users_2.csv'))\n",
    "print(\"df_train => rows: %0.0f; columns: %0.0f\" % np.shape(df_train))\n",
    "\n",
    "# test\n",
    "zf = zipfile.ZipFile('data/test_users.csv.zip')\n",
    "df_test = pd.read_csv(zf.open('test_users.csv'))\n",
    "print(\"df_test => rows: %0.0f; columns: %0.0f\" % np.shape(df_test))"
   ]
  },
  {
   "cell_type": "markdown",
   "metadata": {},
   "source": [
    "### combine, transform and engineer features"
   ]
  },
  {
   "cell_type": "code",
   "execution_count": 97,
   "metadata": {
    "collapsed": false
   },
   "outputs": [
    {
     "name": "stdout",
     "output_type": "stream",
     "text": [
      "df_users => rows: 275547; columns: 16\n"
     ]
    }
   ],
   "source": [
    "# concatenate train- and test users together in order to do all the changes on both datasets\n",
    "df_users = pd.concat((df_train, df_test), axis=0, ignore_index=True)\n",
    "print(\"df_users => rows: %0.0f; columns: %0.0f\" % np.shape(df_users))"
   ]
  },
  {
   "cell_type": "code",
   "execution_count": 98,
   "metadata": {
    "collapsed": false
   },
   "outputs": [],
   "source": [
    "# temporary -- use only a somple for testing purposes\n",
    "#sample = np.random.choice(df_users.index.values, 1000, replace=False)\n",
    "#df_users = df_users.ix[sample] \n",
    "#print(\"df_users => rows: %0.0f; columns: %0.0f\" % np.shape(df_users))"
   ]
  },
  {
   "cell_type": "code",
   "execution_count": 99,
   "metadata": {
    "collapsed": false
   },
   "outputs": [
    {
     "name": "stdout",
     "output_type": "stream",
     "text": [
      "df_users => observations: 275547; features: 167\n",
      "destination encoding:\n",
      "[(0, 0), ('AU', 1), ('CA', 2), ('DE', 3), ('ES', 4), ('FR', 5), ('GB', 6), ('IT', 7), ('NDF', 8), ('NL', 9), ('PT', 10), ('US', 11), ('other', 12)]\n"
     ]
    }
   ],
   "source": [
    "### transformations ###\n",
    "\n",
    "# incorrectly populated ages\n",
    "av = df_users.age.values\n",
    "df_users['age'] = np.where(np.logical_and(av>1900, av<2015), 2015-av, av) # fix those with year of birth as age\n",
    "df_users['age'] = np.where(np.logical_or(av<14, av>100), np.nan, av) # set all ages deemed unlikely as null\n",
    "mean_age = av.mean()\n",
    "df_users['age'].fillna(mean_age, inplace=True)\n",
    "\n",
    "# handling nulls \n",
    "df_users.replace(\"-unknown-\", np.nan, inplace=True)\n",
    "df_users.fillna(0, inplace=True)\n",
    "\n",
    "\n",
    "### feature engineering ###\n",
    "\n",
    "# date_account_created\n",
    "df_users['date_account_created'] = pd.to_datetime(df_users.date_account_created)\n",
    "df_users['year_account_created'] = df_users.date_account_created.dt.year\n",
    "df_users['month_account_created'] = df_users.date_account_created.dt.month\n",
    "df_users['week_account_created'] = df_users.date_account_created.dt.week\n",
    "df_users['weekday_account_created'] = df_users.date_account_created.dt.weekday\n",
    "df_users['day_account_created'] = df_users.date_account_created.dt.day\n",
    "\n",
    "# timestamp_first_active\n",
    "df_users['date_first_active'] = pd.to_datetime((df_users.timestamp_first_active // 1000000), format='%Y%m%d')\n",
    "df_users['year_first_active'] = df_users.date_first_active.dt.year\n",
    "df_users['month_first_active'] = df_users.date_first_active.dt.month\n",
    "df_users['week_first_active'] = df_users.date_first_active.dt.week\n",
    "df_users['weekday_first_active'] = df_users.date_first_active.dt.weekday\n",
    "df_users['day_first_active'] = df_users.date_first_active.dt.day\n",
    "\n",
    "# cleanup\n",
    "# date_first_booking isn't populated in the test set so this feature can't be used \n",
    "# and I'm done with the orignal date fields\n",
    "drop_list = ['date_account_created','timestamp_first_active','date_first_active','date_first_booking']\n",
    "df_users.drop(drop_list, axis=1, inplace=True)\n",
    "\n",
    "# One-hot-encoding features\n",
    "ohe_features = ['gender', 'signup_method', 'signup_flow', 'language', 'affiliate_channel', 'affiliate_provider', 'first_affiliate_tracked', 'signup_app', 'first_device_type', 'first_browser']\n",
    "for f in ohe_features:\n",
    "    df_encodings = pd.get_dummies(df_users[f], prefix=f)\n",
    "    df_users = df_users.drop([f], axis=1)\n",
    "    df_users = pd.concat((df_users, df_encodings), axis=1)\n",
    "    \n",
    "    \n",
    "### check impact of changes ###\n",
    "print(\"df_users => observations: %0.0f; features: %0.0f\" % np.shape(df_users))\n",
    "\n",
    "\n",
    "### setup ml structure ###\n",
    "le = LabelEncoder()\n",
    "labels = df_users['country_destination'].values\n",
    "y = le.fit_transform(labels) \n",
    "features = df_users.drop(['id','country_destination'], axis=1)\n",
    "\n",
    "print(\"destination encoding:\")\n",
    "print(list(zip(le.classes_,range(0,len(y)))))"
   ]
  },
  {
   "cell_type": "markdown",
   "metadata": {},
   "source": [
    "### create scorer"
   ]
  },
  {
   "cell_type": "code",
   "execution_count": 100,
   "metadata": {
    "collapsed": false
   },
   "outputs": [
    {
     "name": "stdout",
     "output_type": "stream",
     "text": [
      "Correct Destination in Position 1: NDGG = 1.000\n",
      "Correct Destination in Position 2: NDGG = 0.631\n",
      "Correct Destination in Position 3: NDGG = 0.500\n",
      "Correct Destination in Position 4: NDGG = 0.431\n",
      "Correct Destination in Position 5: NDGG = 0.387\n"
     ]
    }
   ],
   "source": [
    "# Simulate NDCG scorer used by Kaggle competition\n",
    "def ndcg_wrapper(y_true,y_pred_proba):\n",
    "    Y = np.fliplr(y_pred_proba.argsort())\n",
    "      \n",
    "    R = []\n",
    "    NDCG = []\n",
    "    for i in range(0,y_true.size):\n",
    "        r = (Y[i,:]==y_true[i]).astype(int)\n",
    "        R.append(r)\n",
    "        NDCG.append(ndcg_at_k(r,5,method=1))\n",
    "    return np.mean(NDCG)\n",
    "\n",
    "ndcg_scorer = metrics.make_scorer(ndcg_wrapper, greater_is_better=True, needs_proba=True)\n",
    "\n",
    "# output example\n",
    "for i in range(0,5):\n",
    "    print(\"Correct Destination in Position %d: NDGG = %.3f\" % (i+1,ndcg_at_k([0]*i+[1],5,1)))"
   ]
  },
  {
   "cell_type": "markdown",
   "metadata": {},
   "source": [
    "# Benchmark"
   ]
  },
  {
   "cell_type": "code",
   "execution_count": 101,
   "metadata": {
    "collapsed": false
   },
   "outputs": [
    {
     "name": "stdout",
     "output_type": "stream",
     "text": [
      "NDCG score for Dummy Estimator: 0.7303\n"
     ]
    }
   ],
   "source": [
    "# any of the algorithms built beyond this one should at the very least improve on this attempt \n",
    "Dummy = DummyClassifier(strategy='prior').fit(features, y)\n",
    "dummy_score = ndcg_scorer(Dummy, features, y)\n",
    "\n",
    "print('NDCG score for Dummy Estimator: {0:.4f}'.format(dummy_score))"
   ]
  },
  {
   "cell_type": "markdown",
   "metadata": {},
   "source": [
    "# Logistic Regression\n",
    "First attempt: reduce problem to a binary analysis\n",
    "* testing for NDF vs not-NDF gave me a lower score than the dummy classifier\n",
    "    * prediction on training data: 0.692\n",
    "    * prediction on test data: 0.693\n",
    "  \n",
    "| classification_report | precision | recall | f1-score | support\n",
    "| :- | -- | -- | -- | -- |\n",
    "| Non-NDF | 0.71 | 0.76 | 0.73 | 45490\n",
    "| NDF | 0.67 | 0.61 | 0.64 | 37175\n",
    "| avg / total | 0.69 | 0.69 | 0.69 | 82665\n",
    "\n",
    "| Confusion_matrix | \n",
    "| :- | -- \n",
    "| 34502 | 10988 \n",
    "| 14399 | 22776 \n",
    "\n",
    "* testing for US vs non-US actually improved the calssification performance\n",
    "    * prediction on training data: 0.776\n",
    "    * prediction on test data: 0.771\n",
    "  \n",
    "| classification_report | precision | recall | f1-score | support\n",
    "| :- | -- | -- | -- | -- |\n",
    "| Non-US | 0.78 | 0.99 | 0.87 | 63664\n",
    "| US | 0.52 | 0.04 | 0.08 | 19001\n",
    "| avg / total | 0.72 | 0.77 | 0.69 | 82665\n",
    "\n",
    "| Confusion_matrix | \n",
    "| :- | -- \n",
    "| 62933 | 731 \n",
    "| 18219 | 782"
   ]
  },
  {
   "cell_type": "code",
   "execution_count": 129,
   "metadata": {
    "collapsed": false
   },
   "outputs": [
    {
     "data": {
      "text/plain": [
       "(275547L,)"
      ]
     },
     "execution_count": 129,
     "metadata": {},
     "output_type": "execute_result"
    }
   ],
   "source": [
    "# where the country is indicated as 'NDF'==8, 'US'=11\n",
    "y_log  = np.where(y==11, 1, 0)\n",
    "y_log.shape"
   ]
  },
  {
   "cell_type": "markdown",
   "metadata": {},
   "source": [
    "### test/train split\n",
    "after the transfromations and feature engineering has been performed on the combination of the training and the test set, these two data sets are split out once more"
   ]
  },
  {
   "cell_type": "code",
   "execution_count": 130,
   "metadata": {
    "collapsed": false
   },
   "outputs": [],
   "source": [
    "# split train and test\n",
    "X_train, X_test, y_train, y_test = train_test_split(\n",
    "        features, y_log, test_size=0.3, random_state=0)"
   ]
  },
  {
   "cell_type": "markdown",
   "metadata": {},
   "source": [
    "### Feature Scaling\n",
    "\n",
    "Required by Logistic Regression\n",
    "\n",
    "$x' = x - x_{min} / x_{max} - x_{min}$"
   ]
  },
  {
   "cell_type": "code",
   "execution_count": 131,
   "metadata": {
    "collapsed": false
   },
   "outputs": [
    {
     "name": "stderr",
     "output_type": "stream",
     "text": [
      "C:\\Miniconda\\lib\\site-packages\\sklearn\\utils\\validation.py:420: DataConversionWarning: Data with input dtype int32 was converted to float64 by MinMaxScaler.\n",
      "  warnings.warn(msg, DataConversionWarning)\n",
      "C:\\Miniconda\\lib\\site-packages\\sklearn\\preprocessing\\data.py:324: DeprecationWarning: Passing 1d arrays as data is deprecated in 0.17 and will raise ValueError in 0.19. Reshape your data either using X.reshape(-1, 1) if your data has a single feature or X.reshape(1, -1) if it contains a single sample.\n",
      "  warnings.warn(DEPRECATION_MSG_1D, DeprecationWarning)\n",
      "C:\\Miniconda\\lib\\site-packages\\sklearn\\preprocessing\\data.py:359: DeprecationWarning: Passing 1d arrays as data is deprecated in 0.17 and will raise ValueError in 0.19. Reshape your data either using X.reshape(-1, 1) if your data has a single feature or X.reshape(1, -1) if it contains a single sample.\n",
      "  warnings.warn(DEPRECATION_MSG_1D, DeprecationWarning)\n"
     ]
    },
    {
     "name": "stdout",
     "output_type": "stream",
     "text": [
      "1.0 0.0 0.0954876538575 1.0 0.0 0.224878423077\n"
     ]
    },
    {
     "name": "stderr",
     "output_type": "stream",
     "text": [
      "C:\\Miniconda\\lib\\site-packages\\sklearn\\utils\\validation.py:420: DataConversionWarning: Data with input dtype int32 was converted to float64 by MinMaxScaler.\n",
      "  warnings.warn(msg, DataConversionWarning)\n",
      "C:\\Miniconda\\lib\\site-packages\\sklearn\\preprocessing\\data.py:324: DeprecationWarning: Passing 1d arrays as data is deprecated in 0.17 and will raise ValueError in 0.19. Reshape your data either using X.reshape(-1, 1) if your data has a single feature or X.reshape(1, -1) if it contains a single sample.\n",
      "  warnings.warn(DEPRECATION_MSG_1D, DeprecationWarning)\n",
      "C:\\Miniconda\\lib\\site-packages\\sklearn\\preprocessing\\data.py:359: DeprecationWarning: Passing 1d arrays as data is deprecated in 0.17 and will raise ValueError in 0.19. Reshape your data either using X.reshape(-1, 1) if your data has a single feature or X.reshape(1, -1) if it contains a single sample.\n",
      "  warnings.warn(DEPRECATION_MSG_1D, DeprecationWarning)\n"
     ]
    }
   ],
   "source": [
    "X_train = MinMaxScaler().fit_transform(X_train)\n",
    "y_train = MinMaxScaler().fit_transform(y_train)\n",
    "X_test = MinMaxScaler().fit_transform(X_test)\n",
    "y_test = MinMaxScaler().fit_transform(y_test)\n",
    "\n",
    "print np.max(X_train), np.min(X_train), np.mean(X_train), np.max(y_train), np.min(y_train), np.mean(y_train)"
   ]
  },
  {
   "cell_type": "code",
   "execution_count": 132,
   "metadata": {
    "collapsed": false
   },
   "outputs": [
    {
     "name": "stdout",
     "output_type": "stream",
     "text": [
      "training classifier\n",
      "done in 94.408s\n",
      "[[  7.46369048e-01  -6.66137154e-01  -1.99638199e-01  -2.05718392e-01\n",
      "   -9.33634112e-03  -1.59563979e-02  -5.34728381e-01  -1.99667241e-01\n",
      "   -2.06819392e-01  -9.19315308e-03  -1.65536566e-02  -4.22925743e-01\n",
      "    2.21830133e-01   1.93287128e-01   7.78662536e-03   2.86698511e-01\n",
      "   -2.31976449e-01  -5.36593432e-02  -1.08457469e-03  -1.08052207e-01\n",
      "   -1.18876333e-01   3.25684139e-02   2.09642033e-01  -2.03404153e-04\n",
      "   -6.05683329e-03  -2.92366622e-03  -2.02595803e-02   1.77077291e-04\n",
      "    1.12077960e-01  -1.79480170e-04  -7.95900371e-04  -2.25237037e-03\n",
      "   -1.89038485e-03  -2.94470175e-03  -8.96548009e-02   1.75787228e-01\n",
      "   -1.76184906e-01  -7.01860268e-05   5.90597179e-04  -1.84075927e-03\n",
      "    7.30574543e-04   2.44048775e-03  -2.33982923e-03   1.43743116e-01\n",
      "   -2.82723445e-02   1.02101976e-03  -2.70270058e-02  -2.66028582e-04\n",
      "   -9.21821931e-04  -1.58778402e-03   1.87339310e-04  -3.56703769e-02\n",
      "   -4.30031490e-03  -5.87147350e-03  -2.01457040e-03   2.35531990e-03\n",
      "   -4.89620613e-03  -1.09892458e-02  -1.71761274e-02  -6.61465314e-04\n",
      "   -1.40325367e-03  -2.09536505e-03  -3.68615238e-03   1.46828814e-01\n",
      "   -1.93688079e-01   4.89039628e-02   1.94022824e-02  -2.53917568e-02\n",
      "    5.90021334e-02  -5.19486840e-04  -5.45597262e-02  -4.15175266e-04\n",
      "   -5.47801824e-02   4.89700251e-02  -1.56755324e-04   5.18276290e-02\n",
      "   -1.22617775e-02  -1.01545694e-01  -2.30297563e-02  -2.47266834e-02\n",
      "   -2.39417547e-02  -1.62505622e-02   7.85490466e-04   1.62988032e-01\n",
      "    6.60896260e-03  -1.49752425e-02  -8.57082889e-04   2.30902614e-03\n",
      "   -5.70355935e-04  -2.27282465e-02   1.30304957e-02  -3.83511693e-03\n",
      "   -4.23757781e-03  -9.25652157e-02  -6.89106709e-02   2.29347001e-02\n",
      "    1.56289776e-01  -1.25187180e-01   6.04482830e-03   1.94223594e-01\n",
      "   -7.51030985e-02  -2.28410413e-01  -1.77465077e-02   2.36881648e-02\n",
      "    2.21989907e-01   8.33371612e-03  -5.44512392e-03   6.73056016e-02\n",
      "    4.91332824e-02  -1.18870484e-01  -1.66184518e-01  -1.12694181e-02\n",
      "   -1.65314554e-02   1.25386094e-03  -1.79240198e-04  -7.65187757e-04\n",
      "   -8.31058837e-04   1.69513319e-03   1.86825737e-01  -7.49871955e-02\n",
      "    6.31234534e-03  -6.25499748e-04  -3.59673800e-04   0.00000000e+00\n",
      "    7.36640040e-04  -3.22284284e-04  -7.71794844e-05   1.57490279e-01\n",
      "   -3.18372738e-04  -1.67980489e-04  -1.28536716e-04   0.00000000e+00\n",
      "   -3.35656786e-02  -5.43888895e-03  -8.86830799e-05   6.54371726e-04\n",
      "    6.06639471e-04  -2.49544465e-04   9.81807902e-04   2.22302104e-03\n",
      "   -4.68303287e-02   3.31762148e-06   0.00000000e+00   0.00000000e+00\n",
      "   -3.93527032e-04  -4.60886354e-03   7.08967768e-04  -2.04590031e-04\n",
      "    0.00000000e+00  -2.52826985e-04   2.64243825e-04  -4.43133485e-04\n",
      "   -1.01203362e-03   2.70075298e-03  -6.29032238e-04   4.79942146e-03\n",
      "    5.07649957e-05   6.24144469e-04  -8.77638955e-04   0.00000000e+00\n",
      "    6.88021658e-04   3.85690237e-04   0.00000000e+00  -1.82803231e-03\n",
      "    1.43385595e-04]]\n",
      "[-0.59448799]\n"
     ]
    }
   ],
   "source": [
    "# create the linear model classifier\n",
    "clf = LogisticRegressionCV()\n",
    "# fit (train) the classifier\n",
    "t0 = time()\n",
    "print(\"training classifier\")\n",
    "clf.fit(X_train, y_train)\n",
    "print \"done in %0.3fs\" % (time() - t0)\n",
    "# print learned coeficients\n",
    "print clf.coef_\n",
    "print clf.intercept_"
   ]
  },
  {
   "cell_type": "code",
   "execution_count": 133,
   "metadata": {
    "collapsed": false
   },
   "outputs": [
    {
     "name": "stdout",
     "output_type": "stream",
     "text": [
      "prediction...\n",
      "prediction on training data: 0.776\n",
      "done in 0.141s\n",
      "prediction...\n",
      "prediction on test data: 0.771\n",
      "done in 0.062s\n"
     ]
    }
   ],
   "source": [
    "print(\"prediction...\")\n",
    "t0 = time()\n",
    "y_train_pred = clf.predict(X_train)\n",
    "print(\"prediction on training data: %0.3f\" % clf.score(X_train, y_train))\n",
    "print \"done in %0.3fs\" % (time() - t0)\n",
    "\n",
    "print(\"prediction...\")\n",
    "t0 = time()\n",
    "y_pred = clf.predict(X_test)\n",
    "print(\"prediction on test data: %0.3f\" % clf.score(X_test, y_test))\n",
    "print \"done in %0.3fs\" % (time() - t0)"
   ]
  },
  {
   "cell_type": "code",
   "execution_count": 134,
   "metadata": {
    "collapsed": false
   },
   "outputs": [
    {
     "name": "stdout",
     "output_type": "stream",
     "text": [
      "             precision    recall  f1-score   support\n",
      "\n",
      "        0.0       0.78      0.99      0.87     63664\n",
      "        1.0       0.52      0.04      0.08     19001\n",
      "\n",
      "avg / total       0.72      0.77      0.69     82665\n",
      "\n",
      "[[62935   729]\n",
      " [18223   778]]\n"
     ]
    }
   ],
   "source": [
    "print metrics.classification_report(y_test, y_pred)\n",
    "print metrics.confusion_matrix(y_test, y_pred)"
   ]
  },
  {
   "cell_type": "markdown",
   "metadata": {
    "collapsed": false
   },
   "source": [
    "### Feature Selection\n",
    "Select only the top 20% most important features using chi${^2}$ test"
   ]
  },
  {
   "cell_type": "code",
   "execution_count": 135,
   "metadata": {
    "collapsed": false
   },
   "outputs": [
    {
     "name": "stdout",
     "output_type": "stream",
     "text": [
      "(192882L, 165L)\n",
      "(192882L, 33L)\n"
     ]
    },
    {
     "data": {
      "image/png": "[encoded data removed]",
      "text/plain": [
       "<matplotlib.figure.Figure at 0xd47eba8>"
      ]
     },
     "metadata": {},
     "output_type": "display_data"
    }
   ],
   "source": [
    "fs = feature_selection.SelectPercentile(feature_selection.chi2, percentile=20)\n",
    "X_train_fs = fs.fit_transform(X_train, y_train)\n",
    "#FeatureScores = pd.Series(index=X_train_fs.columns,data=X_train_fs.scores_).sort_values(ascending=False)\n",
    "print X_train.shape\n",
    "print X_train_fs.shape\n",
    "FeatureScores = pd.Series(index=features.columns, data=fs.scores_).sort_values(ascending=True)\n",
    "FeatureScores[:10].plot.barh();"
   ]
  },
  {
   "cell_type": "code",
   "execution_count": null,
   "metadata": {
    "collapsed": true
   },
   "outputs": [],
   "source": []
  },
  {
   "cell_type": "code",
   "execution_count": null,
   "metadata": {
    "collapsed": true
   },
   "outputs": [],
   "source": []
  },
  {
   "cell_type": "code",
   "execution_count": null,
   "metadata": {
    "collapsed": true
   },
   "outputs": [],
   "source": []
  },
  {
   "cell_type": "code",
   "execution_count": null,
   "metadata": {
    "collapsed": true
   },
   "outputs": [],
   "source": []
  },
  {
   "cell_type": "markdown",
   "metadata": {
    "collapsed": true
   },
   "source": [
    "# Random Forest\n",
    "\n",
    "Characteristics:\n",
    "* low bias\n",
    "* high variance\n",
    "* prone to overfitting\n",
    "\n",
    "Tuning Parameters:\n",
    "* number of trees\n",
    "* number of features to consider at each split\n",
    "* depth of trees"
   ]
  },
  {
   "cell_type": "markdown",
   "metadata": {},
   "source": [
    "### test/train split\n",
    "after the transfromations and feature engineering has been performed on the combination of the training and the test set, these two data sets are split out once more"
   ]
  },
  {
   "cell_type": "code",
   "execution_count": 136,
   "metadata": {
    "collapsed": false
   },
   "outputs": [],
   "source": [
    "# split train and test\n",
    "#cutt_off = df_train.shape[0]\n",
    "#X_train, X_test, y_train, y_test = features[:cutt_off], features[cutt_off:], np.array(y[:cutt_off]),  np.array(y[cutt_off:])\n",
    "X_train, X_test, y_train, y_test = train_test_split(\n",
    "        features, y.reshape(-1, 1), test_size=0.3, random_state=0)"
   ]
  },
  {
   "cell_type": "code",
   "execution_count": null,
   "metadata": {
    "collapsed": false
   },
   "outputs": [],
   "source": []
  },
  {
   "cell_type": "code",
   "execution_count": null,
   "metadata": {
    "collapsed": true
   },
   "outputs": [],
   "source": []
  },
  {
   "cell_type": "code",
   "execution_count": null,
   "metadata": {
    "collapsed": true
   },
   "outputs": [],
   "source": []
  },
  {
   "cell_type": "code",
   "execution_count": null,
   "metadata": {
    "collapsed": true
   },
   "outputs": [],
   "source": []
  },
  {
   "cell_type": "code",
   "execution_count": null,
   "metadata": {
    "collapsed": true
   },
   "outputs": [],
   "source": []
  },
  {
   "cell_type": "code",
   "execution_count": null,
   "metadata": {
    "collapsed": true
   },
   "outputs": [],
   "source": []
  },
  {
   "cell_type": "code",
   "execution_count": null,
   "metadata": {
    "collapsed": true
   },
   "outputs": [],
   "source": []
  },
  {
   "cell_type": "code",
   "execution_count": null,
   "metadata": {
    "collapsed": true
   },
   "outputs": [],
   "source": []
  },
  {
   "cell_type": "code",
   "execution_count": null,
   "metadata": {
    "collapsed": true
   },
   "outputs": [],
   "source": []
  },
  {
   "cell_type": "code",
   "execution_count": null,
   "metadata": {
    "collapsed": true
   },
   "outputs": [],
   "source": []
  },
  {
   "cell_type": "code",
   "execution_count": null,
   "metadata": {
    "collapsed": true
   },
   "outputs": [],
   "source": []
  },
  {
   "cell_type": "code",
   "execution_count": null,
   "metadata": {
    "collapsed": true
   },
   "outputs": [],
   "source": []
  },
  {
   "cell_type": "code",
   "execution_count": null,
   "metadata": {
    "collapsed": true
   },
   "outputs": [],
   "source": []
  },
  {
   "cell_type": "code",
   "execution_count": null,
   "metadata": {
    "collapsed": true
   },
   "outputs": [],
   "source": []
  },
  {
   "cell_type": "code",
   "execution_count": null,
   "metadata": {
    "collapsed": false
   },
   "outputs": [],
   "source": []
  },
  {
   "cell_type": "code",
   "execution_count": null,
   "metadata": {
    "collapsed": true
   },
   "outputs": [],
   "source": []
  },
  {
   "cell_type": "code",
   "execution_count": null,
   "metadata": {
    "collapsed": true
   },
   "outputs": [],
   "source": []
  },
  {
   "cell_type": "code",
   "execution_count": null,
   "metadata": {
    "collapsed": true
   },
   "outputs": [],
   "source": []
  },
  {
   "cell_type": "markdown",
   "metadata": {},
   "source": [
    "### Add more features \n",
    "In order to see whether adding session data makes a difference"
   ]
  },
  {
   "cell_type": "code",
   "execution_count": null,
   "metadata": {
    "collapsed": true
   },
   "outputs": [],
   "source": [
    "# sessions\n",
    "sessions.rename(columns = {'user_id': 'id'}, inplace=True)"
   ]
  }
 ],
 "metadata": {
  "kernelspec": {
   "display_name": "Python 2",
   "language": "python",
   "name": "python2"
  },
  "language_info": {
   "codemirror_mode": {
    "name": "ipython",
    "version": 2
   },
   "file_extension": ".py",
   "mimetype": "text/x-python",
   "name": "python",
   "nbconvert_exporter": "python",
   "pygments_lexer": "ipython2",
   "version": "2.7.11"
  }
 },
 "nbformat": 4,
 "nbformat_minor": 0
}
