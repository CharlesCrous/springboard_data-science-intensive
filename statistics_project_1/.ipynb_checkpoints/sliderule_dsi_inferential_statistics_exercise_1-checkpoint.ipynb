{
 "cells": [
  {
   "cell_type": "markdown",
   "metadata": {},
   "source": [
    "## What is the true normal human body temperature? \n",
    "\n",
    "#### Background\n",
    "\n",
    "The mean normal body temperature was held to be 37$^{\\circ}$C or 98.6$^{\\circ}$F for more than 120 years since it was first conceptualized and reported by Carl Wunderlich in a famous 1868 book. In 1992, this value was revised to 36.8$^{\\circ}$C or 98.2$^{\\circ}$F. \n",
    "\n",
    "#### Exercise\n",
    "In this exercise, you will analyze a dataset of human body temperatures and employ the concepts of hypothesis testing, confidence intervals, and statistical significance.\n",
    "\n",
    "Answer the following questions **in this notebook below and submit to your Github account**. \n",
    "\n",
    "1.  Is the distribution of body temperatures normal? \n",
    "    - Remember that this is a condition for the CLT, and hence the statistical tests we are using, to apply. \n",
    "2.  Is the true population mean really 98.6 degrees F?\n",
    "    - Bring out the one sample hypothesis test! In this situation, is it approriate to apply a z-test or a t-test? How will the result be different?\n",
    "3.  At what temperature should we consider someone's temperature to be \"abnormal\"?\n",
    "    - Start by computing the margin of error and confidence interval.\n",
    "4.  Is there a significant difference between males and females in normal temperature?\n",
    "    - Set up and solve for a two sample hypothesis testing.\n",
    "\n",
    "You can include written notes in notebook cells using Markdown: \n",
    "   - In the control panel at the top, choose Cell > Cell Type > Markdown\n",
    "   - Markdown syntax: http://nestacms.com/docs/creating-content/markdown-cheat-sheet\n",
    "\n",
    "#### Resources\n",
    "\n",
    "+ Information and data sources: http://www.amstat.org/publications/jse/datasets/normtemp.txt, http://www.amstat.org/publications/jse/jse_data_archive.htm\n",
    "+ Markdown syntax: http://nestacms.com/docs/creating-content/markdown-cheat-sheet\n",
    "\n",
    "****"
   ]
  },
  {
   "cell_type": "markdown",
   "metadata": {},
   "source": [
    "***\n",
    "## Setup and Explore"
   ]
  },
  {
   "cell_type": "code",
   "execution_count": 1,
   "metadata": {
    "collapsed": false
   },
   "outputs": [],
   "source": [
    "%matplotlib inline\n",
    "import matplotlib.pyplot as plt\n",
    "import scipy.stats as stats\n",
    "import statsmodels.api as sm\n",
    "import numpy as np\n",
    "import pandas as pd\n",
    "\n",
    "# make figures better:\n",
    "font = {'weight':'normal','size':20}\n",
    "plt.rc('font', **font)\n",
    "plt.rc('figure', figsize=(9.0, 6.0))\n",
    "plt.rc('xtick.major', pad=10) # xticks too close to border!\n",
    "plt.style.use('ggplot')\n",
    "#print(plt.style.available)"
   ]
  },
  {
   "cell_type": "code",
   "execution_count": 2,
   "metadata": {
    "collapsed": false
   },
   "outputs": [
    {
     "name": "stdout",
     "output_type": "stream",
     "text": [
      "[u'seaborn-darkgrid', u'seaborn-notebook', u'classic', u'seaborn-ticks', u'grayscale', u'bmh', u'seaborn-talk', u'dark_background', u'ggplot', u'fivethirtyeight', u'seaborn-colorblind', u'seaborn-deep', u'seaborn-whitegrid', u'seaborn-bright', u'seaborn-poster', u'seaborn-muted', u'seaborn-paper', u'seaborn-white', u'seaborn-pastel', u'seaborn-dark', u'seaborn-dark-palette']\n"
     ]
    }
   ],
   "source": [
    "print(plt.style.available)"
   ]
  },
  {
   "cell_type": "code",
   "execution_count": 3,
   "metadata": {
    "collapsed": false
   },
   "outputs": [],
   "source": [
    "df = pd.read_csv('data/human_body_temperature.csv')"
   ]
  },
  {
   "cell_type": "code",
   "execution_count": 4,
   "metadata": {
    "collapsed": false
   },
   "outputs": [
    {
     "data": {
      "text/html": [
       "<div>\n",
       "<table border=\"1\" class=\"dataframe\">\n",
       "  <thead>\n",
       "    <tr style=\"text-align: right;\">\n",
       "      <th></th>\n",
       "      <th>temperature</th>\n",
       "      <th>gender</th>\n",
       "      <th>heart_rate</th>\n",
       "    </tr>\n",
       "  </thead>\n",
       "  <tbody>\n",
       "    <tr>\n",
       "      <th>0</th>\n",
       "      <td>99.3</td>\n",
       "      <td>F</td>\n",
       "      <td>68</td>\n",
       "    </tr>\n",
       "    <tr>\n",
       "      <th>1</th>\n",
       "      <td>98.4</td>\n",
       "      <td>F</td>\n",
       "      <td>81</td>\n",
       "    </tr>\n",
       "    <tr>\n",
       "      <th>2</th>\n",
       "      <td>97.8</td>\n",
       "      <td>M</td>\n",
       "      <td>73</td>\n",
       "    </tr>\n",
       "    <tr>\n",
       "      <th>3</th>\n",
       "      <td>99.2</td>\n",
       "      <td>F</td>\n",
       "      <td>66</td>\n",
       "    </tr>\n",
       "    <tr>\n",
       "      <th>4</th>\n",
       "      <td>98.0</td>\n",
       "      <td>F</td>\n",
       "      <td>73</td>\n",
       "    </tr>\n",
       "  </tbody>\n",
       "</table>\n",
       "</div>"
      ],
      "text/plain": [
       "   temperature gender  heart_rate\n",
       "0         99.3      F          68\n",
       "1         98.4      F          81\n",
       "2         97.8      M          73\n",
       "3         99.2      F          66\n",
       "4         98.0      F          73"
      ]
     },
     "execution_count": 4,
     "metadata": {},
     "output_type": "execute_result"
    }
   ],
   "source": [
    "df.head()"
   ]
  },
  {
   "cell_type": "code",
   "execution_count": 5,
   "metadata": {
    "collapsed": false
   },
   "outputs": [
    {
     "name": "stdout",
     "output_type": "stream",
     "text": [
      "<class 'pandas.core.frame.DataFrame'>\n",
      "Int64Index: 130 entries, 0 to 129\n",
      "Data columns (total 3 columns):\n",
      "temperature    130 non-null float64\n",
      "gender         130 non-null object\n",
      "heart_rate     130 non-null float64\n",
      "dtypes: float64(2), object(1)\n",
      "memory usage: 4.1+ KB\n"
     ]
    }
   ],
   "source": [
    "df.info()"
   ]
  },
  {
   "cell_type": "code",
   "execution_count": 6,
   "metadata": {
    "collapsed": false
   },
   "outputs": [
    {
     "data": {
      "text/html": [
       "<div>\n",
       "<table border=\"1\" class=\"dataframe\">\n",
       "  <thead>\n",
       "    <tr style=\"text-align: right;\">\n",
       "      <th></th>\n",
       "      <th>temperature</th>\n",
       "      <th>heart_rate</th>\n",
       "    </tr>\n",
       "  </thead>\n",
       "  <tbody>\n",
       "    <tr>\n",
       "      <th>count</th>\n",
       "      <td>130.000000</td>\n",
       "      <td>130.000000</td>\n",
       "    </tr>\n",
       "    <tr>\n",
       "      <th>mean</th>\n",
       "      <td>98.249231</td>\n",
       "      <td>73.761538</td>\n",
       "    </tr>\n",
       "    <tr>\n",
       "      <th>std</th>\n",
       "      <td>0.733183</td>\n",
       "      <td>7.062077</td>\n",
       "    </tr>\n",
       "    <tr>\n",
       "      <th>min</th>\n",
       "      <td>96.300000</td>\n",
       "      <td>57.000000</td>\n",
       "    </tr>\n",
       "    <tr>\n",
       "      <th>25%</th>\n",
       "      <td>97.800000</td>\n",
       "      <td>69.000000</td>\n",
       "    </tr>\n",
       "    <tr>\n",
       "      <th>50%</th>\n",
       "      <td>98.300000</td>\n",
       "      <td>74.000000</td>\n",
       "    </tr>\n",
       "    <tr>\n",
       "      <th>75%</th>\n",
       "      <td>98.700000</td>\n",
       "      <td>79.000000</td>\n",
       "    </tr>\n",
       "    <tr>\n",
       "      <th>max</th>\n",
       "      <td>100.800000</td>\n",
       "      <td>89.000000</td>\n",
       "    </tr>\n",
       "  </tbody>\n",
       "</table>\n",
       "</div>"
      ],
      "text/plain": [
       "       temperature  heart_rate\n",
       "count   130.000000  130.000000\n",
       "mean     98.249231   73.761538\n",
       "std       0.733183    7.062077\n",
       "min      96.300000   57.000000\n",
       "25%      97.800000   69.000000\n",
       "50%      98.300000   74.000000\n",
       "75%      98.700000   79.000000\n",
       "max     100.800000   89.000000"
      ]
     },
     "execution_count": 6,
     "metadata": {},
     "output_type": "execute_result"
    }
   ],
   "source": [
    "df.describe()"
   ]
  },
  {
   "cell_type": "code",
   "execution_count": 7,
   "metadata": {
    "collapsed": true
   },
   "outputs": [],
   "source": [
    "temp = df['temperature']\n",
    "hrate = df['heart_rate']"
   ]
  },
  {
   "cell_type": "markdown",
   "metadata": {},
   "source": [
    "***\n",
    "Setup inferential statistic values that can be used for analysis later"
   ]
  },
  {
   "cell_type": "code",
   "execution_count": 8,
   "metadata": {
    "collapsed": false
   },
   "outputs": [],
   "source": [
    "n, x_bar, sigma, SE = np.zeros(4)\n",
    "\n",
    "def inferential_statistics(array, print_output):\n",
    "    ''' Generate statitics on given data set that can be used for inferential statistics.\n",
    "\n",
    "    Parameters\n",
    "    ==========\n",
    "    array: ndarray\n",
    "     object to generate statistics on\n",
    "    '''\n",
    "    infer = stats.describe(array)\n",
    "    \n",
    "    n = infer[0]\n",
    "    x_bar = infer[2]\n",
    "    sigma = np.sqrt(infer[3])\n",
    "    SE = sigma / np.sqrt(n)\n",
    "    \n",
    "    if print_output == 'print':\n",
    "        print \"%14s %15s\" % ('statistic', 'value')\n",
    "        print 30 * \"-\"\n",
    "        print \"%14s %15.0f\" % ('sample size', n)\n",
    "        print \"%14s %15.5f\" % ('skew', infer[4])\n",
    "        print \"%14s %15.5f\" % ('kurtosis', infer[5])    \n",
    "        print \"%14s %15.5f\" % ('mean', x_bar)\n",
    "        print \"%14s %15.5f\" % ('median', np.median(array))\n",
    "        print \"%14s %15.5f\" % ('std dev', sigma)\n",
    "        print \"%14s %15.5f\" % ('std error', SE)\n",
    "    \n",
    "    else:\n",
    "        return n, x_bar, sigma, SE     \n"
   ]
  },
  {
   "cell_type": "code",
   "execution_count": 9,
   "metadata": {
    "collapsed": false
   },
   "outputs": [
    {
     "name": "stdout",
     "output_type": "stream",
     "text": [
      "     statistic           value\n",
      "------------------------------\n",
      "   sample size             130\n",
      "          skew        -0.00437\n",
      "      kurtosis         0.70496\n",
      "          mean        98.24923\n",
      "        median        98.30000\n",
      "       std dev         0.73318\n",
      "     std error         0.06430\n"
     ]
    }
   ],
   "source": [
    "inferential_statistics(temp, 'print')"
   ]
  },
  {
   "cell_type": "code",
   "execution_count": null,
   "metadata": {
    "collapsed": false
   },
   "outputs": [],
   "source": [
    "def normality_tests(arr):\n",
    "    ''' Tests for normality distribution of given data set.\n",
    "\n",
    "    Parameters\n",
    "    ==========\n",
    "    array: ndarray object to generate statistics on\n",
    "    '''\n",
    "    print \"Skewness of data set  %14.3f\" % stats.skew(arr)\n",
    "    print \"Skewness test p-value %14.3f\" % stats.skewtest(arr)[1]\n",
    "    print \"Kurtosis of data set  %14.3f\" % stats.kurtosis(arr)\n",
    "    print \"Kurtosis test p-value %14.3f\" % stats.kurtosistest(arr)[1]\n",
    "    print \"Normal test p-value   %14.3f\" % stats.normaltest(arr)[1]"
   ]
  },
  {
   "cell_type": "markdown",
   "metadata": {},
   "source": [
    "***\n",
    "## Are body temperatures normally distributed?\n",
    "I need a better handle on the spread and shape of the distribution"
   ]
  },
  {
   "cell_type": "code",
   "execution_count": 11,
   "metadata": {
    "collapsed": false
   },
   "outputs": [
    {
     "data": {
      "image/png": "[encoded data removed]",
      "text/plain": [
       "<matplotlib.figure.Figure at 0x1e8bc2e8>"
      ]
     },
     "metadata": {},
     "output_type": "display_data"
    }
   ],
   "source": [
    "# hist\n",
    "plt.subplot(1, 2, 1)\n",
    "plt.hist(temp, normed=True)\n",
    "x = np.linspace(plt.axis()[0], plt.axis()[1])\n",
    "fit = stats.norm.pdf(x, loc=x_bar, scale=sigma)\n",
    "plt.plot(x, fit, lw=2.0, label='probability density function')\n",
    "plt.ylabel('Proportion')\n",
    "plt.xlabel('Temperature')\n",
    "plt.legend()\n",
    "\n",
    "#box-plot\n",
    "plt.subplot(1, 2, 2)\n",
    "temp.plot(kind='box');"
   ]
  },
  {
   "cell_type": "code",
   "execution_count": 12,
   "metadata": {
    "collapsed": false
   },
   "outputs": [
    {
     "data": {
      "image/png": "[encoded data removed]",
      "text/plain": [
       "<matplotlib.figure.Figure at 0x3af4b38>"
      ]
     },
     "metadata": {},
     "output_type": "display_data"
    }
   ],
   "source": [
    "sm.qqplot(temp, line='s')\n",
    "plt.grid(True)"
   ]
  },
  {
   "cell_type": "markdown",
   "metadata": {},
   "source": [
    "\n",
    "After a __visual inspection__ indicated that the shape of the distribution conforms with what would be expected of a normal distribution: bell shaped histrogram with view outlier in the boxplot and symmetry within the wiskers. Comparing the distribution of temperatures to that of what would be expected of a normal distribution (red line) further supports the argument that the temperature observcations are normally distributed (the noise at the tails are visible as + signs in the boxplot).\n",
    "\n",
    "I need to confirm what I see in the charts above by performing a view normality tests."
   ]
  },
  {
   "cell_type": "code",
   "execution_count": 13,
   "metadata": {
    "collapsed": false
   },
   "outputs": [
    {
     "name": "stdout",
     "output_type": "stream",
     "text": [
      "Skewness of data set          -0.004\n",
      "Skewness test p-value          0.983\n",
      "Kurtosis of data set           0.705\n",
      "Kurtosis test p-value          0.100\n",
      "Normal test p-value            0.259\n"
     ]
    }
   ],
   "source": [
    "normality_tests(temp)    "
   ]
  },
  {
   "cell_type": "markdown",
   "metadata": {},
   "source": [
    "The normality tests on the *shape* of distribution using Skewness and Kurtosis both indicate p-values above 0.05, and the 0.26 p-value for the Normal test (a combination of the skew and kurtosis tests) serve as very strong support in favour of the view that the sample has skew and kurtosis of the normal distribution. "
   ]
  },
  {
   "cell_type": "markdown",
   "metadata": {},
   "source": [
    "***\n",
    "## Test the Hypothesis\n",
    "\n",
    "* Ho (Null Hypothesis):        μ (mu) = 98.6F : The population mean body temperature is 98.6 degrees Fahrenheit\n",
    "* Ha (Alternative Hypothesis): μ (mu) ≠ 98.6F : The population mean body temperature is not 98.6 degrees Fahrenheit"
   ]
  },
  {
   "cell_type": "markdown",
   "metadata": {},
   "source": [
    "#### Set Hypothesis: "
   ]
  },
  {
   "cell_type": "code",
   "execution_count": 14,
   "metadata": {
    "collapsed": false
   },
   "outputs": [
    {
     "name": "stdout",
     "output_type": "stream",
     "text": [
      "H0: mu = 98.6 HA: mu != 98.6\n"
     ]
    }
   ],
   "source": [
    "mu = 98.6\n",
    "n, x_bar, sigma, SE = inferential_statistics(temp, 'return')\n",
    "\n",
    "print(\"H0: mu = \" + str(mu) + \" HA: mu != \" + str(mu))"
   ]
  },
  {
   "cell_type": "markdown",
   "metadata": {},
   "source": [
    "#### Calculate the point estimate:"
   ]
  },
  {
   "cell_type": "code",
   "execution_count": 15,
   "metadata": {
    "collapsed": false
   },
   "outputs": [
    {
     "name": "stdout",
     "output_type": "stream",
     "text": [
      "sample mean = 98.25\n"
     ]
    }
   ],
   "source": [
    "print(\"sample mean = %3.2f\" % x_bar)"
   ]
  },
  {
   "cell_type": "markdown",
   "metadata": {},
   "source": [
    "#### Check Adherence to Central Limit Theorem Conditions:\n",
    "\n",
    "1) indepedence: if sampling without replacement then n < 10% population"
   ]
  },
  {
   "cell_type": "code",
   "execution_count": 16,
   "metadata": {
    "collapsed": false
   },
   "outputs": [
    {
     "name": "stdout",
     "output_type": "stream",
     "text": [
      "the sample size is 130 people, so it is nowhere near the 10 percent of ± 7.4Bn human population at present\n"
     ]
    }
   ],
   "source": [
    "print(\"the sample size is %3.0f people, so it is nowhere near the 10 percent of ± 7.4Bn human population at present\" % (n))"
   ]
  },
  {
   "cell_type": "markdown",
   "metadata": {},
   "source": [
    "2) sample size / skewness: the population maust be either normally distributed or the sample size must be large."
   ]
  },
  {
   "cell_type": "markdown",
   "metadata": {},
   "source": [
    "tests performed in question 1 confirms that the distribution is normal and even if it wasn't the the sample size of 130 is still more than 4 times larger than the rule of thumb sample size of 30."
   ]
  },
  {
   "cell_type": "markdown",
   "metadata": {},
   "source": [
    "#### Draw sampling distribution, shade p-value, calculate test statistic:\n",
    "\n",
    "Deciding on a test statistic, according to http://www.statisticshowto.com/, is determined by whether you know the standard deviation of the population and your sample size is above 30. If these two creteria aren't met use the t-score, else the z-score. However, if your sample is 30 or above, you can estimate σ with the sample standard deviation, s(igma). "
   ]
  },
  {
   "cell_type": "markdown",
   "metadata": {},
   "source": [
    "<img src=http://www.statisticshowto.com/wp-content/uploads/2013/08/t-score-vs.-z-score-flowchart.jpg alt=\"When to know if you should use a t score vs. z score\">"
   ]
  },
  {
   "cell_type": "markdown",
   "metadata": {},
   "source": [
    "So both the t-score or the z-score should lead to similar results, as is evident in the results below."
   ]
  },
  {
   "cell_type": "code",
   "execution_count": 17,
   "metadata": {
    "collapsed": false
   },
   "outputs": [
    {
     "name": "stdout",
     "output_type": "stream",
     "text": [
      "t-statistic = -5.455 pvalue = 0.0000002411\n",
      "z-statistic = -5.455 pvalue = 0.0000000490\n"
     ]
    }
   ],
   "source": [
    "print('t-statistic = %6.3f pvalue = %6.10f' %  stats.ttest_1samp(temp, mu))\n",
    "print('z-statistic = %6.3f pvalue = %6.10f' %  sm.stats.ztest(temp, value=mu))"
   ]
  },
  {
   "cell_type": "markdown",
   "metadata": {},
   "source": [
    "## What's \"abnormal\"?\n",
    "\n",
    "#### Make a decision, and interpret it in context of the research question:\n",
    "In order to determine the **Confidence Interval** (CI), the range of expected values,  we have to check that the data adheres to the same rules regarding independance and sample size/skew, except for the fact that the sample size needs to be greater than or equal to 30. Given that the sample has been proven to be normally distributed with a sample size of 130, the criteria have been met. "
   ]
  },
  {
   "cell_type": "code",
   "execution_count": 18,
   "metadata": {
    "collapsed": false
   },
   "outputs": [
    {
     "name": "stdout",
     "output_type": "stream",
     "text": [
      "z-values of: 0.99, 1.96, 2.97\n"
     ]
    }
   ],
   "source": [
    "# popular areas under the normal distribution curve\n",
    "a1, a2, a3 = 0.68, 0.95, 0.997\n",
    "\n",
    "# find the critical values\n",
    "z1 = stats.norm.ppf(1 - ((1-a1)/2))\n",
    "z2 = stats.norm.ppf(1 - ((1-a2)/2))\n",
    "z3 = stats.norm.ppf(1 - ((1-a3)/2))\n",
    "\n",
    "print('z-values of: %1.2f, %1.2f, %1.2f' % (z1, z2, z3))"
   ]
  },
  {
   "cell_type": "markdown",
   "metadata": {},
   "source": [
    "Generate a list of confidence intervals (CIs) made up of population mean (x-bar) and the margin of error (ME) to see the potential impact of using the different intervals. "
   ]
  },
  {
   "cell_type": "code",
   "execution_count": 19,
   "metadata": {
    "collapsed": false
   },
   "outputs": [
    {
     "name": "stdout",
     "output_type": "stream",
     "text": [
      "68.0 Confidence Interval: 98.25 ± 0.06 F\n",
      "95.0 Confidence Interval: 98.25 ± 0.13 F\n",
      "99.7 Confidence Interval: 98.25 ± 0.19 F\n"
     ]
    }
   ],
   "source": [
    "print('%3.1f Confidence Interval: %3.2f ± %3.2f F' % (a1*100, x_bar, z1*SE))\n",
    "print('%3.1f Confidence Interval: %3.2f ± %3.2f F' % (a2*100, x_bar, z2*SE))\n",
    "print('%3.1f Confidence Interval: %3.2f ± %3.2f F' % (a3*100, x_bar, z3*SE))"
   ]
  },
  {
   "cell_type": "markdown",
   "metadata": {},
   "source": [
    "Above have is a list of possible intervals but deciding on the one that is most useful, we have to consider the [role of Type I and Type II errors](http://www.ncbi.nlm.nih.gov/pmc/articles/PMC2850991/):\n",
    "\n",
    "* Type I (alpha) error: false positive, rejecting a null hypothesis that is correct, e.g. declaring the person as having an abnormal temperature when they actually have a normal temperature\n",
    "\n",
    "* Type II (beta) error: a false negative, a failure to reject a null hypothesis that is false, e.g. declaring the person to have a body temperature within the normal range when in fact it is abnormal\n",
    "\n",
    "Given that there is a trade-off between Type I and Type II errors, I'll argue that it is more important to minimize the occurance of Type II errors as it could be potentially dangerous to have people suffering from a fever and not receiving treatment. I'm also argueing for a two-tailed comparison since it could also be dangerous for someone's body temperature to be too low. \n",
    "\n",
    "But I want a balance with these trade-offs and I'm defining abnoral as outside of two standard deviations on either side of the mean:"
   ]
  },
  {
   "cell_type": "code",
   "execution_count": 20,
   "metadata": {
    "collapsed": false
   },
   "outputs": [
    {
     "name": "stdout",
     "output_type": "stream",
     "text": [
      "Confidence Interval: 98.12 F to 98.38 F\n"
     ]
    }
   ],
   "source": [
    "print ('Confidence Interval: %3.2f F to %3.2f F' % stats.norm.interval(.95, loc=x_bar, scale=SE))"
   ]
  },
  {
   "cell_type": "markdown",
   "metadata": {
    "collapsed": true
   },
   "source": [
    "This means we can be 95% confident that the mean body temperatures in the population is 98.25 F plus or minus 0.13 F, since the margin of error is 0.13. This indicates that \"abnormal\" body temperatures would be less than 98.12 F or more than 98.38 F. This would amke the previous mean of 98.6 F abnormal as it is 0.22 F above the upper limit of 98.38 F. \n",
    "\n",
    "So this finding along with the extremely low **p-values** value of 0.0000002411 which is way below the minimum 0.05 p-value required to determine significance for a 95% confidence interval of a one-sample hypothesis test supports the **rejection of the null hypothesis (Ho)**, that the population mean body temperature is 98.6 degrees Fahrenheit"
   ]
  },
  {
   "cell_type": "markdown",
   "metadata": {},
   "source": [
    "### Significant difference between males and females in normal temperature?"
   ]
  },
  {
   "cell_type": "code",
   "execution_count": 21,
   "metadata": {
    "collapsed": false
   },
   "outputs": [
    {
     "name": "stdout",
     "output_type": "stream",
     "text": [
      "<class 'pandas.core.frame.DataFrame'>\n",
      "Int64Index: 130 entries, 0 to 129\n",
      "Data columns (total 3 columns):\n",
      "temperature    130 non-null float64\n",
      "gender         130 non-null object\n",
      "heart_rate     130 non-null float64\n",
      "dtypes: float64(2), object(1)\n",
      "memory usage: 4.1+ KB\n"
     ]
    }
   ],
   "source": [
    "# refresh on what the fields where again\n",
    "df.info()"
   ]
  },
  {
   "cell_type": "code",
   "execution_count": 22,
   "metadata": {
    "collapsed": false
   },
   "outputs": [
    {
     "data": {
      "text/plain": [
       "array(['F', 'M'], dtype=object)"
      ]
     },
     "execution_count": 22,
     "metadata": {},
     "output_type": "execute_result"
    }
   ],
   "source": [
    "# find out how male and female is encoded\n",
    "df.gender.unique()"
   ]
  },
  {
   "cell_type": "code",
   "execution_count": 23,
   "metadata": {
    "collapsed": false
   },
   "outputs": [
    {
     "data": {
      "text/plain": [
       "count    65.000000\n",
       "mean     98.104615\n",
       "std       0.698756\n",
       "min      96.300000\n",
       "25%      97.600000\n",
       "50%      98.100000\n",
       "75%      98.600000\n",
       "max      99.500000\n",
       "Name: temperature, dtype: float64"
      ]
     },
     "execution_count": 23,
     "metadata": {},
     "output_type": "execute_result"
    }
   ],
   "source": [
    "male = df[df.gender == 'M']['temperature']\n",
    "female = df[df.gender == 'F']['temperature']\n",
    "\n",
    "# get some details on the male distribution as a jump of point\n",
    "male.describe()"
   ]
  },
  {
   "cell_type": "code",
   "execution_count": 24,
   "metadata": {
    "collapsed": false
   },
   "outputs": [
    {
     "data": {
      "text/plain": [
       "count    0.000000\n",
       "mean    -0.289231\n",
       "std     -0.044732\n",
       "min     -0.100000\n",
       "25%     -0.400000\n",
       "50%     -0.300000\n",
       "75%     -0.200000\n",
       "max     -1.300000\n",
       "Name: temperature, dtype: float64"
      ]
     },
     "execution_count": 24,
     "metadata": {},
     "output_type": "execute_result"
    }
   ],
   "source": [
    "# determine how the two distributions differ from one another\n",
    "male.describe() - female.describe()"
   ]
  },
  {
   "cell_type": "code",
   "execution_count": 25,
   "metadata": {
    "collapsed": false
   },
   "outputs": [
    {
     "data": {
      "image/png": "[encoded data removed]",
      "text/plain": [
       "<matplotlib.figure.Figure at 0x1ef13b70>"
      ]
     },
     "metadata": {},
     "output_type": "display_data"
    }
   ],
   "source": [
    "# confirm differences with visual inspection\n",
    "df[['gender', 'temperature']].groupby('gender').boxplot(return_type='axes');"
   ]
  },
  {
   "cell_type": "markdown",
   "metadata": {},
   "source": [
    "Looking at the difference in summary measures of the male and female distributions, it is clear that their sample size is the same, 65, and that there is some variance in the distribution of temperatures between the sampled males and females, with females having both the lowest (96.2 F) and the highest(100.8) temperatures. Although these look to be outliers.\n",
    "\n",
    "But before going down this road to far, lets test the hypothesis that male- and female mean temperatures are the same.  "
   ]
  },
  {
   "cell_type": "markdown",
   "metadata": {
    "collapsed": true
   },
   "source": [
    "### Two sample hypothesis testing process:\n",
    "1. Set Hypothesis\n",
    "2. Calculate the point estimate\n",
    "3. Check Conditions \n",
    "  1. indepedence: \n",
    "    1. within groups: n < 10% of population \n",
    "    2. between groups: not-paired\n",
    "  2. sample size/skew: n >= 30\n",
    "4. Draw sampling distribution, shade p-value and calculate test statistic\n",
    "5. Make a decision, and interpret it in context of teh research question"
   ]
  },
  {
   "cell_type": "markdown",
   "metadata": {},
   "source": [
    "#### Set Hypothesis"
   ]
  },
  {
   "cell_type": "markdown",
   "metadata": {},
   "source": [
    "Setting null hypothesis to zero and since I'm not testing a specific direction this will be a two-sided test.\n",
    "   * Ho: μfemale−μmale = 0 \n",
    "   * Ha: μfemale−μmale != 0"
   ]
  },
  {
   "cell_type": "markdown",
   "metadata": {},
   "source": [
    "#### Calculate the point estimate"
   ]
  },
  {
   "cell_type": "code",
   "execution_count": 26,
   "metadata": {
    "collapsed": false
   },
   "outputs": [
    {
     "name": "stdout",
     "output_type": "stream",
     "text": [
      "sample mean difference = 0.29 F\n"
     ]
    }
   ],
   "source": [
    "x_bar_diff = female.mean() - male.mean()\n",
    "print(\"sample mean difference = %3.2f F\" % (x_bar_diff))"
   ]
  },
  {
   "cell_type": "markdown",
   "metadata": {},
   "source": [
    "#### Check Conditions"
   ]
  },
  {
   "cell_type": "code",
   "execution_count": 27,
   "metadata": {
    "collapsed": false
   },
   "outputs": [
    {
     "name": "stdout",
     "output_type": "stream",
     "text": [
      "Skewness of data set           0.096\n",
      "Skewness test p-value          0.731\n",
      "Kurtosis of data set           1.468\n",
      "Kurtosis test p-value          0.032\n",
      "Normal test p-value            0.094\n"
     ]
    }
   ],
   "source": [
    "normality_tests(female)   "
   ]
  },
  {
   "cell_type": "code",
   "execution_count": 28,
   "metadata": {
    "collapsed": false
   },
   "outputs": [
    {
     "name": "stdout",
     "output_type": "stream",
     "text": [
      "Skewness of data set          -0.208\n",
      "Skewness test p-value          0.457\n",
      "Kurtosis of data set          -0.434\n",
      "Kurtosis test p-value          0.561\n",
      "Normal test p-value            0.640\n"
     ]
    }
   ],
   "source": [
    "normality_tests(male)   "
   ]
  },
  {
   "cell_type": "markdown",
   "metadata": {},
   "source": [
    "Both conditions are met, since 65 people is nowhere close to the count of males or females on Earth today. And both distributions seem to be normally distributed (although the female sample scored poorly on the Kurtosis test) and sample size is more than double the minimum requirement for notmally distributed samples (n >= 30).\n"
   ]
  },
  {
   "cell_type": "markdown",
   "metadata": {},
   "source": [
    "#### Draw sampling distribution, shade p-value and calculate test statistic\n",
    "\n",
    "Since this is a two-sided test for the null hypothesis with 2 independent samples where the population mean is unknown, I'm going with the following t-test:"
   ]
  },
  {
   "cell_type": "code",
   "execution_count": 29,
   "metadata": {
    "collapsed": false
   },
   "outputs": [
    {
     "name": "stdout",
     "output_type": "stream",
     "text": [
      "t-statistic =  2.285 pvalue =  0.024\n"
     ]
    }
   ],
   "source": [
    "print('t-statistic = %6.3f pvalue = %6.3f' %  stats.ttest_ind(female, male))"
   ]
  },
  {
   "cell_type": "code",
   "execution_count": 30,
   "metadata": {
    "collapsed": false
   },
   "outputs": [
    {
     "name": "stdout",
     "output_type": "stream",
     "text": [
      "65 98.1046153846 0.698755762327 0.0866699855229 65 98.3938461538 0.743487752731 0.0922183060804\n"
     ]
    }
   ],
   "source": [
    "n_m, x_bar_m, sigma_m, SE_m = inferential_statistics(male, 'return')\n",
    "n_f, x_bar_f, sigma_f, SE_f = inferential_statistics(female, 'return')\n",
    "print n_m, x_bar_m, sigma_m, SE_m, n_f, x_bar_f, sigma_f, SE_f"
   ]
  },
  {
   "cell_type": "code",
   "execution_count": 31,
   "metadata": {
    "collapsed": false
   },
   "outputs": [
    {
     "name": "stdout",
     "output_type": "stream",
     "text": [
      "Critical z-score: 2.285 ; Standard Error: 0.127 ; Margin of Error: 0.289231\n"
     ]
    }
   ],
   "source": [
    "SE_diff = np.sqrt(((sigma_m * sigma_m) / n_m) + ((sigma_f * sigma_f) / n_f))\n",
    "z_diff = (x_bar_diff - 0) / SE_diff\n",
    "print('Critical z-score: %3.3f ; Standard Error: %3.3f ; Margin of Error: %3.6f' % (z_diff, SE_diff, z_diff*SE_diff))"
   ]
  },
  {
   "cell_type": "code",
   "execution_count": 32,
   "metadata": {
    "collapsed": false
   },
   "outputs": [
    {
     "name": "stdout",
     "output_type": "stream",
     "text": [
      "Confidence Interval: 0.289 ± 0.289 (0.000, 0.578)\n"
     ]
    }
   ],
   "source": [
    "print('Confidence Interval: %3.3f ± %3.3f (%3.3f, %3.3f)' % (x_bar_diff, z_diff*SE_diff, x_bar_diff - z_diff*SE_diff, x_bar_diff + z_diff*SE_diff))"
   ]
  },
  {
   "cell_type": "markdown",
   "metadata": {},
   "source": [
    "#### Make a decision, and interpret it in context of the research question"
   ]
  },
  {
   "cell_type": "markdown",
   "metadata": {
    "collapsed": true
   },
   "source": [
    "If there is no difference in the circumstances that the body temperature of both females and males were measured, then there is a 2.4% chance of obtaining random samples of 65 females and 65 males where the average difference between their body temperature is at least 0.29 degrees Fahrenheit.\n",
    "\n",
    "There seems to be an overlap in the confidence interval of the value of zero, so I *cannot reject the null hypothesis* on the strength of the p-value alone. So it would seem that there aren't any significant differences between the body temperatures of females and males."
   ]
  }
 ],
 "metadata": {
  "kernelspec": {
   "display_name": "Python 2",
   "language": "python",
   "name": "python2"
  },
  "language_info": {
   "codemirror_mode": {
    "name": "ipython",
    "version": 2
   },
   "file_extension": ".py",
   "mimetype": "text/x-python",
   "name": "python",
   "nbconvert_exporter": "python",
   "pygments_lexer": "ipython2",
   "version": "2.7.11"
  }
 },
 "nbformat": 4,
 "nbformat_minor": 0
}
