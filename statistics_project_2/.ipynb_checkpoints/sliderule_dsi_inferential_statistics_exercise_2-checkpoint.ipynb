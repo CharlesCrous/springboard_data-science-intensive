{
 "cells": [
  {
   "cell_type": "markdown",
   "metadata": {},
   "source": [
    "\n",
    "### Examining racial discrimination in the US job market\n",
    "\n",
    "#### Background\n",
    "Racial discrimination continues to be pervasive in cultures throughout the world. Researchers examined the level of racial discrimination in the United States labor market by randomly assigning identical résumés black-sounding or white-sounding names and observing the impact on requests for interviews from employers.\n",
    "\n",
    "#### Data\n",
    "In the dataset provided, each row represents a resume. The 'race' column has two values, 'b' and 'w', indicating black-sounding and white-sounding. The column 'call' has two values, 1 and 0, indicating whether the resume received a call from employers or not.\n",
    "\n",
    "Note that the 'b' and 'w' values in race are assigned randomly to the resumes.\n",
    "\n",
    "#### Exercise\n",
    "You will perform a statistical analysis to establish whether race has a significant impact on the rate of callbacks for resumes.\n",
    "\n",
    "Answer the following questions **in this notebook below and submit to your Github account**. \n",
    "\n",
    "   1. What test is appropriate for this problem? Does CLT apply?\n",
    "   2. What are the null and alternate hypotheses?\n",
    "   3. Compute margin of error, confidence interval, and p-value.\n",
    "   4. Discuss statistical significance.\n",
    "\n",
    "You can include written notes in notebook cells using Markdown: \n",
    "   - In the control panel at the top, choose Cell > Cell Type > Markdown\n",
    "   - Markdown syntax: http://nestacms.com/docs/creating-content/markdown-cheat-sheet\n",
    "\n",
    "\n",
    "#### Resources\n",
    "+ Experiment information and data source: http://www.povertyactionlab.org/evaluation/discrimination-job-market-united-states\n",
    "+ Scipy statistical methods: http://docs.scipy.org/doc/scipy/reference/stats.html \n",
    "+ Markdown syntax: http://nestacms.com/docs/creating-content/markdown-cheat-sheet\n",
    "\n",
    "****"
   ]
  },
  {
   "cell_type": "code",
   "execution_count": 1,
   "metadata": {
    "collapsed": true
   },
   "outputs": [],
   "source": [
    "%matplotlib inline\n",
    "import matplotlib.pyplot as plt\n",
    "import numpy as np\n",
    "import pandas as pd\n",
    "from scipy import stats\n",
    "import statsmodels.api as sm\n",
    "\n",
    "# make figures better:\n",
    "font = {'weight':'normal','size':20}\n",
    "plt.rc('font', **font)\n",
    "plt.rc('figure', figsize=(9.0, 6.0))\n",
    "plt.rc('xtick.major', pad=10) # xticks too close to border!\n",
    "plt.style.use('ggplot')\n",
    "#print(plt.style.available)"
   ]
  },
  {
   "cell_type": "code",
   "execution_count": 2,
   "metadata": {
    "collapsed": false
   },
   "outputs": [],
   "source": [
    "data = pd.io.stata.read_stata('data/us_job_market_discrimination.dta')"
   ]
  },
  {
   "cell_type": "markdown",
   "metadata": {},
   "source": [
    "***\n",
    "## Explore\n",
    "Explore the data in the context of: \"You will perform a statistical analysis to establish whether race has a significant impact on the rate of callbacks for resumes.\""
   ]
  },
  {
   "cell_type": "code",
   "execution_count": 3,
   "metadata": {
    "collapsed": false
   },
   "outputs": [
    {
     "data": {
      "text/plain": [
       "(4870, 65)"
      ]
     },
     "execution_count": 3,
     "metadata": {},
     "output_type": "execute_result"
    }
   ],
   "source": [
    "data.shape"
   ]
  },
  {
   "cell_type": "code",
   "execution_count": 4,
   "metadata": {
    "collapsed": false,
    "scrolled": true
   },
   "outputs": [
    {
     "name": "stdout",
     "output_type": "stream",
     "text": [
      "<class 'pandas.core.frame.DataFrame'>\n",
      "Int64Index: 4870 entries, 0 to 4869\n",
      "Data columns (total 65 columns):\n",
      "id                    4870 non-null object\n",
      "ad                    4870 non-null object\n",
      "education             4870 non-null int8\n",
      "ofjobs                4870 non-null int8\n",
      "yearsexp              4870 non-null int8\n",
      "honors                4870 non-null int8\n",
      "volunteer             4870 non-null int8\n",
      "military              4870 non-null int8\n",
      "empholes              4870 non-null int8\n",
      "occupspecific         4870 non-null int16\n",
      "occupbroad            4870 non-null int8\n",
      "workinschool          4870 non-null int8\n",
      "email                 4870 non-null int8\n",
      "computerskills        4870 non-null int8\n",
      "specialskills         4870 non-null int8\n",
      "firstname             4870 non-null object\n",
      "sex                   4870 non-null object\n",
      "race                  4870 non-null object\n",
      "h                     4870 non-null float32\n",
      "l                     4870 non-null float32\n",
      "call                  4870 non-null float32\n",
      "city                  4870 non-null object\n",
      "kind                  4870 non-null object\n",
      "adid                  4870 non-null float32\n",
      "fracblack             4784 non-null float32\n",
      "fracwhite             4784 non-null float32\n",
      "lmedhhinc             4784 non-null float32\n",
      "fracdropout           4784 non-null float32\n",
      "fraccolp              4784 non-null float32\n",
      "linc                  4784 non-null float32\n",
      "col                   4870 non-null float32\n",
      "expminreq             4870 non-null object\n",
      "schoolreq             4870 non-null object\n",
      "eoe                   4870 non-null float32\n",
      "parent_sales          1672 non-null float32\n",
      "parent_emp            1722 non-null float32\n",
      "branch_sales          608 non-null float32\n",
      "branch_emp            658 non-null float32\n",
      "fed                   3102 non-null float32\n",
      "fracblack_empzip      1918 non-null float32\n",
      "fracwhite_empzip      1918 non-null float32\n",
      "lmedhhinc_empzip      1908 non-null float32\n",
      "fracdropout_empzip    1918 non-null float32\n",
      "fraccolp_empzip       1918 non-null float32\n",
      "linc_empzip           1918 non-null float32\n",
      "manager               4870 non-null float32\n",
      "supervisor            4870 non-null float32\n",
      "secretary             4870 non-null float32\n",
      "offsupport            4870 non-null float32\n",
      "salesrep              4870 non-null float32\n",
      "retailsales           4870 non-null float32\n",
      "req                   4870 non-null float32\n",
      "expreq                4870 non-null float32\n",
      "comreq                4870 non-null float32\n",
      "educreq               4870 non-null float32\n",
      "compreq               4870 non-null float32\n",
      "orgreq                4870 non-null float32\n",
      "manuf                 4870 non-null float32\n",
      "transcom              4870 non-null float32\n",
      "bankreal              4870 non-null float32\n",
      "trade                 4870 non-null float32\n",
      "busservice            4870 non-null float32\n",
      "othservice            4870 non-null float32\n",
      "missind               4870 non-null float32\n",
      "ownership             4870 non-null object\n",
      "dtypes: float32(42), int16(1), int8(12), object(10)\n",
      "memory usage: 1.3+ MB\n"
     ]
    }
   ],
   "source": [
    "data.info()"
   ]
  },
  {
   "cell_type": "code",
   "execution_count": 5,
   "metadata": {
    "collapsed": false
   },
   "outputs": [
    {
     "data": {
      "text/plain": [
       "count     4870\n",
       "unique       2\n",
       "top          b\n",
       "freq      2435\n",
       "Name: race, dtype: object"
      ]
     },
     "execution_count": 5,
     "metadata": {},
     "output_type": "execute_result"
    }
   ],
   "source": [
    "data.race.describe()"
   ]
  },
  {
   "cell_type": "code",
   "execution_count": 6,
   "metadata": {
    "collapsed": false
   },
   "outputs": [
    {
     "name": "stdout",
     "output_type": "stream",
     "text": [
      " sample size: 4870 \n",
      " black sample size: 2435 (50%) \n",
      " white sample size: 2435 (50%)\n"
     ]
    }
   ],
   "source": [
    "n = float(data.race.count())\n",
    "n_b = float(data.race[data.race=='b'].count())\n",
    "n_w  = float(data.race[data.race=='w'].count())\n",
    "print(\" sample size: %3.0f \\n black sample size: %3.0f (%0.0f%%) \\n white sample size: %3.0f (%0.0f%%)\" % (n, n_b, n_b/n*100, n_w, n_w/n*100))"
   ]
  },
  {
   "cell_type": "code",
   "execution_count": 7,
   "metadata": {
    "collapsed": false
   },
   "outputs": [
    {
     "data": {
      "text/plain": [
       "call  race\n",
       "0     b       2278\n",
       "      w       2200\n",
       "1     b        157\n",
       "      w        235\n",
       "dtype: int64"
      ]
     },
     "execution_count": 7,
     "metadata": {},
     "output_type": "execute_result"
    }
   ],
   "source": [
    "# break-down by success status and race\n",
    "tbl = data.groupby(['call', 'race']).size()\n",
    "tbl"
   ]
  },
  {
   "cell_type": "code",
   "execution_count": 8,
   "metadata": {
    "collapsed": false
   },
   "outputs": [
    {
     "data": {
      "image/png": "[encoded data removed]",
      "text/plain": [
       "<matplotlib.figure.Figure at 0x39c7198>"
      ]
     },
     "metadata": {},
     "output_type": "display_data"
    }
   ],
   "source": [
    "# visual inspection\n",
    "tbl.unstack().plot(kind='bar');"
   ]
  },
  {
   "cell_type": "code",
   "execution_count": 9,
   "metadata": {
    "collapsed": false
   },
   "outputs": [
    {
     "name": "stdout",
     "output_type": "stream",
     "text": [
      "Black-sounding names received 157 callbacks (40.05% of 392 total callbacks) versus white-souding names that received a callback 59.95% (235) of the time.\n"
     ]
    }
   ],
   "source": [
    "# all callbacks\n",
    "callback = sum(data.call)\n",
    "\n",
    "# number of callbacks for black-sounding names\n",
    "callback_b = sum(data[data.race=='b'].call)\n",
    "p_callback_b = callback_b/callback\n",
    "\n",
    "# number of callbacks for white-sounding names\n",
    "callback_w = sum(data[data.race=='w'].call)\n",
    "p_callback_w = callback_w/callback\n",
    "\n",
    "print('Black-sounding names received %3.0f callbacks (%3.2f%% of %3.0f total callbacks) \\\n",
    "versus white-souding names that received a callback %3.2f%% (%3.0f) of the time.' \n",
    "      % (callback_b, p_callback_b*100, callback, p_callback_w*100, callback_w))"
   ]
  },
  {
   "cell_type": "code",
   "execution_count": 10,
   "metadata": {
    "collapsed": false
   },
   "outputs": [
    {
     "data": {
      "text/html": [
       "<div>\n",
       "<table border=\"1\" class=\"dataframe\">\n",
       "  <thead>\n",
       "    <tr style=\"text-align: right;\">\n",
       "      <th></th>\n",
       "      <th>race</th>\n",
       "      <th>call</th>\n",
       "    </tr>\n",
       "  </thead>\n",
       "  <tbody>\n",
       "    <tr>\n",
       "      <th>0</th>\n",
       "      <td>w</td>\n",
       "      <td>0</td>\n",
       "    </tr>\n",
       "    <tr>\n",
       "      <th>1</th>\n",
       "      <td>w</td>\n",
       "      <td>0</td>\n",
       "    </tr>\n",
       "    <tr>\n",
       "      <th>2</th>\n",
       "      <td>b</td>\n",
       "      <td>0</td>\n",
       "    </tr>\n",
       "    <tr>\n",
       "      <th>3</th>\n",
       "      <td>b</td>\n",
       "      <td>0</td>\n",
       "    </tr>\n",
       "    <tr>\n",
       "      <th>4</th>\n",
       "      <td>w</td>\n",
       "      <td>0</td>\n",
       "    </tr>\n",
       "  </tbody>\n",
       "</table>\n",
       "</div>"
      ],
      "text/plain": [
       "  race  call\n",
       "0    w     0\n",
       "1    w     0\n",
       "2    b     0\n",
       "3    b     0\n",
       "4    w     0"
      ]
     },
     "execution_count": 10,
     "metadata": {},
     "output_type": "execute_result"
    }
   ],
   "source": [
    "# create a subset of the data with the only the columns of interest.\n",
    "callbacks = data[['race', 'call']]\n",
    "callbacks.head()"
   ]
  },
  {
   "cell_type": "markdown",
   "metadata": {},
   "source": [
    "***\n",
    "## What test is appropriate for this problem? \n",
    "This looks to be a problem suited to __inference__ for __binary categorical variables__, given that callbacks are encoded as  yes (1) and no (0) and race has been encoded as 'w' and 'b'. Proportions of successful résumés for black- and -white sounding names will be anlaysed."
   ]
  },
  {
   "cell_type": "markdown",
   "metadata": {
    "collapsed": false
   },
   "source": [
    "### Parameter of Interest\n",
    "Difference between the proportions of **all** black-sounding names and **all** white-sounding names that receive callbacks in the US.\n"
   ]
  },
  {
   "cell_type": "markdown",
   "metadata": {
    "collapsed": true
   },
   "source": [
    "#### Set Hypothesis\n",
    "_Null Hypothesis:_ There is no difference between the success rate of applications with black-sounding names (__bsn__) and those with white-sounding names (__wsn__).\n",
    "_Alternative Hypothesis:_ There is a difference in the success rate.\n",
    "\n",
    "* $H_o:p_{bsn}-p_{wsn}=0$\n",
    "* $H_a:p_{bsn}-p_{wsn}\\neq0$"
   ]
  },
  {
   "cell_type": "code",
   "execution_count": 11,
   "metadata": {
    "collapsed": true
   },
   "outputs": [],
   "source": [
    "# Setting null hypothesis to zero and since I'm not testing a specific direction so this will be a two-sided test\n",
    "mu = 0"
   ]
  },
  {
   "cell_type": "markdown",
   "metadata": {
    "collapsed": false
   },
   "source": [
    "### Point Estimate\n",
    "Difference between the proportions of __sampled__ black-sounding names and __sampled__ white-sounding names that receive callbacks in the US.\n",
    "\n",
    "$\\hat{p}_{wsn}−\\hat{p}_{bsn}$"
   ]
  },
  {
   "cell_type": "markdown",
   "metadata": {
    "collapsed": true
   },
   "source": [
    "### Does CLT apply?\n",
    "\n",
    "Central Limit Theorem (CLT) for proportions (p):\n",
    "$\\hat{p}\\>\\tilde{}\\>N\\left(mean=p,\\>SE=\\sqrt{\\frac{\\hat{p}(1-\\hat{p})}{n}}\\right)$\n",
    "\n",
    "Check conditions for CLT to apply\n",
    "1. indepedence: \n",
    "  1. within groups:\n",
    "    1. random sample/assignment\n",
    "    2. if sampling without replacement, n < 10% of population \n",
    "  2. between groups: the two groups must be independent of each other (non-paired)  \n",
    "2. sample size/skew:\n",
    "  1. each sample should have at least 10 sucessess and 10 failures. \n",
    "    1. $n_{1}p_{1}\\geq10$ and $n_{1}(1-p_{1})\\geq10$\n",
    "    2. $n_{2}p_{2}\\geq10$ and $n_{2}(1-p_{2})\\geq10$.\n",
    "  2. If p is unknown then use p-hat."
   ]
  },
  {
   "cell_type": "markdown",
   "metadata": {
    "collapsed": true
   },
   "source": [
    "__Yes, CLT applies__ because __independence__ has been established based on:\n",
    "1. the sample has been generated by \"a randomized field experiment\".\n",
    "2. 2,435 black-sounding names and 2,435 white-sounding names represent much less than 10% of the respective race representation in the US.  \n",
    "3. The \"validity of the names’ 'blackness' or 'whiteness' was confirmed by surveys in public areas in Chicago\", so I think it is safe to assume the two groups are independent of each other and that some of hte names don't appear in both groups.\n",
    "\n",
    "While the __skew/size__ criteria was met with the use of $\\hat{p}$ since the population proportion (${p}$) is unknown. Both the black-sounding name and white-sounding name résumés that received callbacks (observed successes) where larger than 10 and the same went for those that did not receive a a callback (observed failures). Please see below.\n",
    "\n",
    "__So__, we can asumme that the sampling distribution of the difference between two proportions is nearly normal."
   ]
  },
  {
   "cell_type": "code",
   "execution_count": 12,
   "metadata": {
    "collapsed": false
   },
   "outputs": [
    {
     "name": "stdout",
     "output_type": "stream",
     "text": [
      "Number of black-sounding name successes: 157 v. failures: 2278\n",
      "Number of white-sounding name successes: 235 v. failures: 2200\n"
     ]
    }
   ],
   "source": [
    "p_hat_b = callback_b/n_b\n",
    "p_hat_w = callback_w/n_w\n",
    "\n",
    "# observed number of successess\n",
    "success_b = n_b*p_hat_b\n",
    "success_w = n_w*p_hat_w\n",
    "\n",
    "# observed number of failures\n",
    "failures_b = n_b*(1-p_hat_b)\n",
    "failures_w = n_w*(1-p_hat_w)\n",
    "\n",
    "print('Number of black-sounding name successes: %3.0f v. failures: %3.0f' % (success_b, failures_b))\n",
    "print('Number of white-sounding name successes: %3.0f v. failures: %3.0f' % (success_w, failures_w))\n"
   ]
  },
  {
   "cell_type": "markdown",
   "metadata": {
    "collapsed": false
   },
   "source": [
    "## Confidence Interval\n",
    "Since no confidence interval has been provided let's go with a confidence of 95% and so an ${\\alpha}$ of 0.05.\n",
    "\n",
    "$(\\hat{p_1}−\\hat{p_2}) \\pm z^{*}SE$\n",
    "\n",
    "$(\\hat{p_1}−\\hat{p_2}) \\pm z^{*}\\left(\\sqrt{\\frac{\\hat{p_1}(1-\\hat{p_1})}{n_1} + \\frac{\\hat{p_2}(1-\\hat{p_2})}{n_2}}\\right)$\n"
   ]
  },
  {
   "cell_type": "code",
   "execution_count": 13,
   "metadata": {
    "collapsed": false
   },
   "outputs": [
    {
     "name": "stdout",
     "output_type": "stream",
     "text": [
      "measurement             value\n",
      "----------------------------------------\n",
      "point estimate          -0.03203\n",
      "z-score                  1.95996\n",
      "Standard Error (SE)      0.00778\n",
      "Margin of Error (ME)     0.01526\n",
      "95% Confidence Interval -0.047 to -0.017\n"
     ]
    }
   ],
   "source": [
    "# differnce in proportions between the 2 groups\n",
    "p_hat = p_hat_b - p_hat_w\n",
    "\n",
    "# standard error of the two groups\n",
    "p_hat_SE_b = p_hat_b * (1 - p_hat_b) / n_b \n",
    "p_hat_SE_w = p_hat_w * (1 - p_hat_w) / n_w\n",
    "SE = np.sqrt(p_hat_SE_b + p_hat_SE_w)\n",
    "\n",
    "#Confidence interval\n",
    "CI = 0.95\n",
    "interval = stats.norm.interval(CI, loc=p_hat, scale=SE)\n",
    "\n",
    "# find the critical values\n",
    "z = stats.norm.ppf(1 - ((1 - CI) / 2))\n",
    "\n",
    "# margin of error\n",
    "ME = z*SE\n",
    "\n",
    "print \"%5s %17s\" % ('measurement', 'value')\n",
    "print 40 * \"-\"\n",
    "print('point estimate %17.5f' % p_hat)\n",
    "print \"%5s %24.5f\" % ('z-score', z)\n",
    "print \"%5s %12.5f\" % ('Standard Error (SE)', SE)\n",
    "print \"%5s %11.5f\" % ('Margin of Error (ME)', ME)\n",
    "print('95%% Confidence Interval %5.3f to %3.3f' % stats.norm.interval(CI, loc=p_hat, scale=SE))"
   ]
  },
  {
   "cell_type": "markdown",
   "metadata": {
    "collapsed": true
   },
   "source": [
    "***\n",
    "## Hypothesis test for comparing 2 proportions\n",
    "As stated earlier the null hypothesis the expectation is that there would be no difference in callbacks received for either black-sounding or whitesounding names, so it what ever the expected success rate of the white-soundings names are, we would expect that the blacks-sounding names would achieve the same success rate. But what would this expected rate be? In order to have a proportion to set the null hypothesis to, we make use of a best guess value calculated with the help of the pooled proportion ($\\hat{p}_{pool}$).\n",
    "\n",
    "$H_o:p_{bsn}=p_{wsn}=\\hat{p}_{pool}$\n",
    "\n",
    "$\\hat{p}_{pool}=\\frac{total\\>successes}{total\\>n}$"
   ]
  },
  {
   "cell_type": "code",
   "execution_count": 14,
   "metadata": {
    "collapsed": false
   },
   "outputs": [
    {
     "name": "stdout",
     "output_type": "stream",
     "text": [
      "p̂-pool as estimate of common proportion for the 2 groups = 0.08049\n"
     ]
    }
   ],
   "source": [
    "p_hat_pool = (success_b+success_w) / (n_b+n_w)\n",
    "print(\"p̂-pool as estimate of common proportion for the 2 groups = %3.5f\" % p_hat_pool)"
   ]
  },
  {
   "cell_type": "markdown",
   "metadata": {},
   "source": [
    "Need to check that the pooled proportion ($\\hat{p}_{pool}$) still has at least 10 sucessess and 10 failures.\n",
    "* $n_{1}\\hat{p}_{pool}\\geq10$ and $n_{1}(1-\\hat{p}_{pool})\\geq10$\n",
    "* $n_{2}\\hat{p}_{pool}\\geq10$ and $n_{2}(1-\\hat{p}_{pool})\\geq10$"
   ]
  },
  {
   "cell_type": "code",
   "execution_count": 15,
   "metadata": {
    "collapsed": false
   },
   "outputs": [
    {
     "name": "stdout",
     "output_type": "stream",
     "text": [
      "Number of black-sounding name successes: 196 v. failures: 2239\n",
      "Number of white-sounding name successes: 196 v. failures: 2239\n"
     ]
    }
   ],
   "source": [
    "# observed number of successess\n",
    "success_b_pool = n_b*p_hat_pool\n",
    "success_w_pool = n_w*p_hat_pool\n",
    "\n",
    "# observed number of failures\n",
    "failures_b_pool = n_b*(1-p_hat_pool)\n",
    "failures_w_pool = n_w*(1-p_hat_pool)\n",
    "\n",
    "print('Number of black-sounding name successes: %3.0f v. failures: %3.0f' % (success_b_pool, failures_b_pool))\n",
    "print('Number of white-sounding name successes: %3.0f v. failures: %3.0f' % (success_w_pool, failures_w_pool))"
   ]
  },
  {
   "cell_type": "markdown",
   "metadata": {},
   "source": [
    "The proportions of successes and failures are the exactly the same because the only difference in the calculation is the number of records for each and since the data is split 50/50 between black-sounding and white-sounding names, their expected porportions of success and failures are the same.\n",
    "\n",
    "And since the the successes and the failures for both groups are greater than 10, and all of the previous assumtion on independence reamin in place, we can continue on with the assumption that the sampling distribution of the difference between two proportions is nearly normal.\n",
    "\n",
    "Moving on to the standard error (SE).\n",
    "\n",
    "The expected standard error for a 2 proportion hypothesis can be calculated as:\n",
    "\n",
    "$SE=\\sqrt{\\frac{\\hat{p}_{pool}(1-\\hat{p}_{pool})}{n_1} + \\frac{\\hat{p}_{pool}(1-\\hat{p}_{pool})}{n_2}}$"
   ]
  },
  {
   "cell_type": "code",
   "execution_count": 16,
   "metadata": {
    "collapsed": false
   },
   "outputs": [
    {
     "name": "stdout",
     "output_type": "stream",
     "text": [
      "measurement             value\n",
      "----------------------------------------\n",
      "point estimate          -0.03203\n",
      "null hypothesis          0.00000\n",
      "z-score                 -4.10841\n",
      "Standard Error (SE)      0.00780\n",
      "Margin of Error (ME)    -0.03203\n",
      "p-value                  0.00004\n"
     ]
    }
   ],
   "source": [
    "#\n",
    "SE_b = p_hat_pool*(1 - p_hat_pool) / n_b \n",
    "SE_w = p_hat_pool*(1 - p_hat_pool) / n_w\n",
    "SE = np.sqrt(SE_w + SE_b)\n",
    "z = (p_hat-mu) / SE\n",
    "ME = z*SE\n",
    "p = (1-stats.norm.cdf(np.abs(z)))*2\n",
    "\n",
    "print \"%5s %17s\" % ('measurement', 'value')\n",
    "print 40 * \"-\"\n",
    "print('point estimate %17.5f' % p_hat)\n",
    "print('null hypothesis %16.5f' % mu)\n",
    "print \"%5s %24.5f\" % ('z-score', z)\n",
    "print \"%5s %12.5f\" % ('Standard Error (SE)', SE)\n",
    "print \"%5s %11.5f\" % ('Margin of Error (ME)', ME)\n",
    "print \"%5s %24.5f\" % ('p-value', p)"
   ]
  },
  {
   "cell_type": "markdown",
   "metadata": {
    "collapsed": true
   },
   "source": [
    "## Discuss statistical significance"
   ]
  },
  {
   "cell_type": "markdown",
   "metadata": {
    "collapsed": true
   },
   "source": [
    "Given that the p-value is significantly smaller than the required >0.05 threshold set for a confidence interval of 95%, so the null hypothesis is rejected. Holding all things else equal, having a black-sounding name seems to have disproportionate impact on whether you receive a callback or not. "
   ]
  }
 ],
 "metadata": {
  "kernelspec": {
   "display_name": "Python 2",
   "language": "python",
   "name": "python2"
  },
  "language_info": {
   "codemirror_mode": {
    "name": "ipython",
    "version": 2
   },
   "file_extension": ".py",
   "mimetype": "text/x-python",
   "name": "python",
   "nbconvert_exporter": "python",
   "pygments_lexer": "ipython2",
   "version": "2.7.11"
  }
 },
 "nbformat": 4,
 "nbformat_minor": 0
}
